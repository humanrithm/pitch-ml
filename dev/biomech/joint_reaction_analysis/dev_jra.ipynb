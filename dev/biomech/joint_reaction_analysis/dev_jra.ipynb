{
 "cells": [
  {
   "cell_type": "code",
   "execution_count": 1,
   "id": "8f2bd500",
   "metadata": {},
   "outputs": [],
   "source": [
    "import numpy as np\n",
    "import pandas as pd\n",
    "import opensim as osim\n",
    "from connections import AWS\n",
    "from biomech.algorithms import diff_three_point\n",
    "from biomech.opensim.inverse_kinematics import load_mot_file"
   ]
  },
  {
   "cell_type": "markdown",
   "id": "e0368137",
   "metadata": {},
   "source": [
    "$\\textbf{OpenSim: Joint Reaction Analysis (Development)}$"
   ]
  },
  {
   "cell_type": "code",
   "execution_count": 3,
   "id": "f596542e",
   "metadata": {},
   "outputs": [],
   "source": [
    "# update model motion (coords & bodies) for all time points\n",
    "def update_model_motion(\n",
    "        model: osim.Model,\n",
    "        state: osim.State,\n",
    "        throwing_hand: str,\n",
    "        q: pd.DataFrame,\n",
    "        modeled_angles: list[str] = [\n",
    "            'arm_flex', \n",
    "            'arm_add',\n",
    "            'arm_rot',\n",
    "            'elbow_flex',\n",
    "            'pro_sup',\n",
    "            'wrist_flex',\n",
    "            'wrist_dev'\n",
    "    ],\n",
    ") -> tuple[\n",
    "    osim.Model, dict[str, dict[str, dict[str, np.ndarray]]]\n",
    "]:\n",
    "    # get number of timepoints in trial\n",
    "    num_samples = len(q)\n",
    "\n",
    "    # compute q_dot (ignore time column)\n",
    "    q_dot = diff_three_point(q.iloc[:, 1:])\n",
    "\n",
    "    # update joint angle cols based on throwing hand\n",
    "    match throwing_hand:\n",
    "        case 'left':\n",
    "            modeled_angles = [col + '_l' for col in modeled_angles]\n",
    "        case 'right':\n",
    "            modeled_angles = [col + '_r' for col in modeled_angles]\n",
    "    \n",
    "    # iterate over samples\n",
    "    for k in range(num_samples):\n",
    "        \n",
    "        # iterate through model coordinates at each time point\n",
    "        for _, coord in enumerate(model.getCoordinateSet()):\n",
    "            # check if coordinate was saved in IK results\n",
    "            if coord.getName() in modeled_angles:\n",
    "\n",
    "                # get joint angle, velocity (in degrees)\n",
    "                q_val = q.loc[k, coord.getName()]\n",
    "                q_dot_val = q_dot.loc[k, 'diff_' + coord.getName()]\n",
    "\n",
    "                # save joint angle, velocity (in radians)\n",
    "                coord.setValue(state, q_val)\n",
    "                coord.setSpeedValue(state, q_dot_val)\n",
    "\n",
    "        # update model state\n",
    "            # moved outside loop\n",
    "            # also added acceleration, dynamics for CoM acceleration calcs\n",
    "        model.realizePosition(state)\n",
    "        model.realizeVelocity(state)\n",
    "\n",
    "    return model\n",
    "\n"
   ]
  },
  {
   "cell_type": "code",
   "execution_count": 4,
   "id": "ac8567c9",
   "metadata": {},
   "outputs": [
    {
     "name": "stdout",
     "output_type": "stream",
     "text": [
      "[info] Loaded model models_arm_right_scaled from file 2609_scaled_model.osim\n",
      "[warning] Couldn't find file 'humerus_rv.vtp'.\n",
      "[warning] Couldn't find file 'ulna_rv.vtp'.\n",
      "[warning] Couldn't find file 'radius_rv.vtp'.\n",
      "[warning] Couldn't find file 'pisiform_rvs.vtp'.\n",
      "[warning] Couldn't find file 'lunate_rvs.vtp'.\n",
      "[warning] Couldn't find file 'scaphoid_rvs.vtp'.\n",
      "[warning] Couldn't find file 'triquetrum_rvs.vtp'.\n",
      "[warning] Couldn't find file 'hamate_rvs.vtp'.\n",
      "[warning] Couldn't find file 'capitate_rvs.vtp'.\n",
      "[warning] Couldn't find file 'trapezoid_rvs.vtp'.\n",
      "[warning] Couldn't find file 'trapezium_rvs.vtp'.\n",
      "[warning] Couldn't find file 'metacarpal2_rvs.vtp'.\n",
      "[warning] Couldn't find file 'index_proximal_rvs.vtp'.\n",
      "[warning] Couldn't find file 'index_medial_rvs.vtp'.\n",
      "[warning] Couldn't find file 'index_distal_rvs.vtp'.\n",
      "[warning] Couldn't find file 'metacarpal3_rvs.vtp'.\n",
      "[warning] Couldn't find file 'middle_proximal_rvs.vtp'.\n",
      "[warning] Couldn't find file 'middle_medial_rvs.vtp'.\n",
      "[warning] Couldn't find file 'middle_distal_rvs.vtp'.\n",
      "[warning] Couldn't find file 'metacarpal4_rvs.vtp'.\n",
      "[warning] Couldn't find file 'ring_proximal_rvs.vtp'.\n",
      "[warning] Couldn't find file 'ring_medial_rvs.vtp'.\n",
      "[warning] Couldn't find file 'ring_distal_rvs.vtp'.\n",
      "[warning] Couldn't find file 'metacarpal5_rvs.vtp'.\n",
      "[warning] Couldn't find file 'little_proximal_rvs.vtp'.\n",
      "[warning] Couldn't find file 'little_medial_rvs.vtp'.\n",
      "[warning] Couldn't find file 'little_distal_rvs.vtp'.\n",
      "[warning] Couldn't find file 'metacarpal1_rvs.vtp'.\n",
      "[warning] Couldn't find file 'thumb_proximal_rvs.vtp'.\n",
      "[warning] Couldn't find file 'thumb_distal_rvs.vtp'.\n"
     ]
    },
    {
     "name": "stderr",
     "output_type": "stream",
     "text": [
      "/Users/cmoore/Library/Mobile Documents/com~apple~CloudDocs/Human RITHM/GitHub/pitch-ml/packages/biomech/opensim/inverse_kinematics.py:7: FutureWarning: The 'delim_whitespace' keyword in pd.read_csv is deprecated and will be removed in a future version. Use ``sep='\\s+'`` instead\n",
      "  return pd.read_csv(path, delim_whitespace=True, skiprows=10)\n"
     ]
    }
   ],
   "source": [
    "# load scaled model\n",
    "model = osim.Model('2609_scaled_model.osim')\n",
    "model.initSystem()\n",
    "\n",
    "# update model motion\n",
    "q = load_mot_file('2609_01_ik.mot')\n",
    "model_motion = update_model_motion(\n",
    "    model=model,\n",
    "    state=model.getWorkingState(),\n",
    "    throwing_hand='right',\n",
    "    q=q\n",
    ")"
   ]
  },
  {
   "cell_type": "code",
   "execution_count": 6,
   "id": "990ece94",
   "metadata": {},
   "outputs": [],
   "source": [
    "\"\"\" SETUP JOINT REACTION ANALYSIS \"\"\"\n",
    "# initialize analysis\n",
    "jra = osim.JointReaction()\n",
    "jra.setName(\"ElbowLoad\")\n",
    "\n",
    "# set joints and forces to report\n",
    "joint_names = osim.ArrayStr()\n",
    "joint_names.append(\"elbow_r\")           # NOTE: this depends on throwing hand\n",
    "jra.setJointNames(joint_names)\n",
    "\n",
    "# set body for analysis (child: ulna)\n",
    "    # TODO: check?\n",
    "on_body = osim.ArrayStr()\n",
    "on_body.append(\"child\")\n",
    "jra.setOnBody(on_body)\n",
    "\n",
    "# set frame for analysis (should be child)\n",
    "in_frame = osim.ArrayStr()\n",
    "in_frame.append(\"child\")\n",
    "jra.setInFrame(in_frame)\n",
    "\n",
    "# add analysis to model\n",
    "model_motion.addAnalysis(jra)"
   ]
  },
  {
   "cell_type": "code",
   "execution_count": 9,
   "id": "790cb854",
   "metadata": {},
   "outputs": [
    {
     "name": "stderr",
     "output_type": "stream",
     "text": [
      "/Users/cmoore/Library/Mobile Documents/com~apple~CloudDocs/Human RITHM/GitHub/pitch-ml/packages/biomech/opensim/inverse_kinematics.py:7: FutureWarning: The 'delim_whitespace' keyword in pd.read_csv is deprecated and will be removed in a future version. Use ``sep='\\s+'`` instead\n",
      "  return pd.read_csv(path, delim_whitespace=True, skiprows=10)\n"
     ]
    }
   ],
   "source": [
    "# Reinitialize model and state\n",
    "state = model.initSystem()\n",
    "model.realizeDynamics(state)\n",
    "\n",
    "# Load and prep kinematic data\n",
    "q = load_mot_file(\"2609_01_ik.mot\")\n",
    "q_dot = diff_three_point(q.iloc[:, 1:])\n",
    "\n",
    "# Add time column for export\n",
    "results = []\n",
    "\n",
    "# Loop through all time steps and evaluate manually\n",
    "for i, time in enumerate(q['time']):\n",
    "    state.setTime(time)\n",
    "\n",
    "    for coord in model.getCoordinateSet():\n",
    "        coord_name = coord.getName()\n",
    "        if coord_name in q.columns:\n",
    "            coord.setValue(state, q.loc[i, coord_name])\n",
    "            coord.setSpeedValue(state, q_dot.loc[i, 'diff_' + coord_name])\n",
    "\n",
    "    model.realizeVelocity(state)\n",
    "\n",
    "    # Manually evaluate JointReactionAnalysis at this state\n",
    "    jra.step(state, int(i))  # `int(i)` needed as step expects int\n"
   ]
  },
  {
   "cell_type": "code",
   "execution_count": 26,
   "id": "287b45a1",
   "metadata": {},
   "outputs": [
    {
     "name": "stderr",
     "output_type": "stream",
     "text": [
      "/Users/cmoore/Library/Mobile Documents/com~apple~CloudDocs/Human RITHM/GitHub/pitch-ml/packages/biomech/opensim/inverse_kinematics.py:7: FutureWarning: The 'delim_whitespace' keyword in pd.read_csv is deprecated and will be removed in a future version. Use ``sep='\\s+'`` instead\n",
      "  return pd.read_csv(path, delim_whitespace=True, skiprows=10)\n"
     ]
    }
   ],
   "source": [
    "\"\"\" SETUP ANALYSIS TOOL \"\"\"\n",
    "analyze_tool = osim.AnalyzeTool()\n",
    "analyze_tool.setName(\"ElbowLoad\")\n",
    "analyze_tool.setModel(model_motion)\n",
    "\n",
    "# set IK trial path\n",
    "analyze_tool.setStatesFileName(\"2609_01_ik.mot\")\n",
    "\n",
    "# set start/end time\n",
    "mot_data = load_mot_file(\"2609_01_ik.mot\")\n",
    "analyze_tool.setStartTime(mot_data['time'].values[0])\n",
    "analyze_tool.setFinalTime(mot_data['time'].values[-1])\n",
    "\n",
    "# optional: IK filtering\n",
    "    # NOTE: currently set to 18 to match marker filtering\n",
    "analyze_tool.setLowpassCutoffFrequency(18)\n"
   ]
  },
  {
   "cell_type": "code",
   "execution_count": 28,
   "id": "90056ab9",
   "metadata": {},
   "outputs": [
    {
     "name": "stdout",
     "output_type": "stream",
     "text": [
      "[info] No external loads will be applied (external loads file not specified).\n",
      "\n",
      "Exception:\n",
      "  analyzeTool.verifyControlsStates: ERROR- a storage object containing the\n",
      "  time histories of states was not specified.\n",
      "  file= /Users/ayman/miniconda3/conda-bld/opensim_1686262992860/work/OpenSim/Tools/AnalyzeTool.cpp\n",
      "  line= 478\n",
      "\n",
      "\n"
     ]
    },
    {
     "ename": "RuntimeError",
     "evalue": "std::exception in 'bool OpenSim::AnalyzeTool::run()': analyzeTool.verifyControlsStates: ERROR- a storage object containing the time histories of states was not specified.",
     "output_type": "error",
     "traceback": [
      "\u001b[0;31m---------------------------------------------------------------------------\u001b[0m",
      "\u001b[0;31mRuntimeError\u001b[0m                              Traceback (most recent call last)",
      "Cell \u001b[0;32mIn[28], line 1\u001b[0m\n\u001b[0;32m----> 1\u001b[0m analyze_tool\u001b[38;5;241m.\u001b[39mrun()\n",
      "File \u001b[0;32m/opt/miniconda3/envs/pitch_ml/lib/python3.11/site-packages/opensim/tools.py:3902\u001b[0m, in \u001b[0;36mAnalyzeTool.run\u001b[0;34m(self, *args)\u001b[0m\n\u001b[1;32m   3901\u001b[0m \u001b[38;5;28;01mdef\u001b[39;00m \u001b[38;5;21mrun\u001b[39m(\u001b[38;5;28mself\u001b[39m, \u001b[38;5;241m*\u001b[39margs) \u001b[38;5;241m-\u001b[39m\u001b[38;5;241m>\u001b[39m \u001b[38;5;124m\"\u001b[39m\u001b[38;5;124mbool\u001b[39m\u001b[38;5;124m\"\u001b[39m:\n\u001b[0;32m-> 3902\u001b[0m     \u001b[38;5;28;01mreturn\u001b[39;00m _tools\u001b[38;5;241m.\u001b[39mAnalyzeTool_run(\u001b[38;5;28mself\u001b[39m, \u001b[38;5;241m*\u001b[39margs)\n",
      "\u001b[0;31mRuntimeError\u001b[0m: std::exception in 'bool OpenSim::AnalyzeTool::run()': analyzeTool.verifyControlsStates: ERROR- a storage object containing the time histories of states was not specified."
     ]
    }
   ],
   "source": [
    "analyze_tool.run()"
   ]
  },
  {
   "cell_type": "code",
   "execution_count": null,
   "metadata": {},
   "outputs": [],
   "source": []
  }
 ],
 "metadata": {
  "kernelspec": {
   "display_name": "pitch_ml",
   "language": "python",
   "name": "python3"
  },
  "language_info": {
   "codemirror_mode": {
    "name": "ipython",
    "version": 3
   },
   "file_extension": ".py",
   "mimetype": "text/x-python",
   "name": "python",
   "nbconvert_exporter": "python",
   "pygments_lexer": "ipython3",
   "version": "3.11.10"
  }
 },
 "nbformat": 4,
 "nbformat_minor": 5
}
