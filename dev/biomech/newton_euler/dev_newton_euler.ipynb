{
 "cells": [
  {
   "cell_type": "code",
   "execution_count": 1,
   "id": "4cbf3ff6",
   "metadata": {},
   "outputs": [],
   "source": [
    "import os, io\n",
    "import numpy as np\n",
    "import pandas as pd\n",
    "from connections import AWS\n",
    "import xml.etree.ElementTree as ET\n",
    "from biomech.algorithms import NewtonEuler, diff_three_point, butter_lowpass_filter"
   ]
  },
  {
   "cell_type": "code",
   "execution_count": 2,
   "id": "50f29d00",
   "metadata": {},
   "outputs": [
    {
     "name": "stdout",
     "output_type": "stream",
     "text": [
      "[AWS]: Port 5433 is free.\n",
      "[AWS]: Connected to RDS endpoint.\n"
     ]
    }
   ],
   "source": [
    "\"\"\" CREATE AWS CONNECTION \"\"\"\n",
    "aws_connection = AWS()\n",
    "aws_connection.connect()"
   ]
  },
  {
   "cell_type": "markdown",
   "id": "cd6751f2",
   "metadata": {},
   "source": [
    "$\\textbf{Biomech: Newton Euler Algorithm (Development)}$\n",
    "\n",
    "Testing refined implementation of the Newton Euler algorithm following OpenSim modifications."
   ]
  },
  {
   "cell_type": "code",
   "execution_count": 3,
   "id": "efda843a",
   "metadata": {},
   "outputs": [],
   "source": [
    "from biomech.opensim import load_osim_model"
   ]
  },
  {
   "cell_type": "code",
   "execution_count": 4,
   "id": "9992e89e",
   "metadata": {},
   "outputs": [],
   "source": [
    "# update scaling tool XML for subject\n",
    "    # subject_id: subject to scale (info loaded from json)\n",
    "def update_model_hand_segment(\n",
    "    tree: ET.ElementTree,\n",
    "    throwing_hand: str,\n",
    "    ball_mass: float = 0.145,                                       # mass of ball\n",
    "    ball_radius: float = 0.0368,                                    # radius of ball\n",
    ") -> None:\n",
    "\n",
    "    root = tree.getroot()\n",
    "\n",
    "    # find the hand body\n",
    "    match throwing_hand:\n",
    "        case 'left':\n",
    "            hand_body = root.find(\".//Body[@name='hand_l']\")\n",
    "        case 'right':\n",
    "            hand_body = root.find(\".//Body[@name='hand_r']\")\n",
    "    \n",
    "    # update mass (+= 0.145)\n",
    "        # combined center of mass computed with mass weighted avg of two bodies\n",
    "    hand_mass = hand_body.find(\".//mass\")\n",
    "    hand_mass.text = str(float(hand_mass.text) + ball_mass)\n",
    "    \n",
    "    # update mass center using mass wtd avgs\n",
    "    com_new = compute_combined_com(float(hand_mass.text), ball_mass)\n",
    "    hand_com = hand_body.find(\".//mass_center\")\n",
    "    hand_com.text = ' '.join(map(str, com_new)) \n",
    "\n",
    "    # update inertia tensor as hand-ball segment\n",
    "        # uses updated mass, mass center\n",
    "        # tensor computed using parallel axis theorem\n",
    "    I_new = compute_combined_inertia(float(hand_mass.text), com_new, m_ball=ball_mass, r_ball=ball_radius)\n",
    "    hand_inertia = hand_body.find(\".//inertia\")\n",
    "    hand_inertia.text = ' '.join(map(str, [I_new[0, 0], I_new[1, 1], I_new[2, 2], 0, 0, 0]))\n",
    "\n",
    "    return tree\n",
    "\n",
    "# compute combined CoM using mass wtd avgs\n",
    "def compute_combined_com(\n",
    "        m_hand: float,\n",
    "        m_ball: float = 0.145           # mass of regulation ball in kg\n",
    ") -> np.ndarray:\n",
    "\n",
    "    # center of mass\n",
    "    com_hand = np.array([0, -0.068095, 0])  \n",
    "    com_ball = np.array([0.0368, -0.068095, 0])                                     # ball CoM shifted in x-direction\n",
    "    com_new = (m_hand * com_hand + m_ball * com_ball) / (m_hand + m_ball)           # combined CoM\n",
    "\n",
    "    return com_new\n",
    "\n",
    "# compute combined inertia tensor using parallel axis theorem\n",
    "def compute_combined_inertia(\n",
    "        m_hand: float,\n",
    "        com_combined: np.ndarray,\n",
    "        com_hand: np.ndarray = np.array([0, -0.068095, 0]),\n",
    "        com_ball: np.ndarray = np.array([0.0368, -0.068095, 0]),                    # ball CoM in hand frame shifted in x-direction by radius of ball\n",
    "        m_ball: float = 0.145,                                                      # mass of regulation ball in kg\n",
    "        r_ball: float = 0.0368,                                                     # radius of regulation ball in m\n",
    "):\n",
    "    # compute updated axes\n",
    "    com_hand_prime = com_hand - com_combined\n",
    "    com_ball_prime = com_ball - com_combined\n",
    "\n",
    "    # inertia tensors (original; hand from rajagopal model)\n",
    "    I_hand = np.diag([0.00093985399999999995, \n",
    "                    0.00057634600000000004, \n",
    "                    0.0014118900000000001])\n",
    "    I_ball = 2/5 * m_ball * r_ball**2 * np.eye(3)  # ball inertia tensor; uniform density sphere\n",
    "\n",
    "    # update inertia tensors through new axes -- parallel axis theorem\n",
    "    I_hand_prime = I_hand + m_hand * (skew(com_hand_prime) @ skew(com_hand_prime))\n",
    "    I_ball_prime = I_ball + m_ball * (skew(com_ball_prime) @ skew(com_ball_prime))\n",
    "\n",
    "    # combined inertia tensor\n",
    "    I_new = I_hand_prime + I_ball_prime\n",
    "\n",
    "    return I_new\n",
    "\n",
    "# create a skew symmetric matrix from a vector\n",
    "def skew(vector: np.ndarray) -> np.ndarray:\n",
    "    if len(vector) != 3:\n",
    "        raise ValueError(\"Input vector must have exactly 3 elements.\")\n",
    "\n",
    "    return np.array([\n",
    "        [0, -vector[2], vector[1]],\n",
    "        [vector[2], 0, -vector[0]],\n",
    "        [-vector[1], vector[0], 0]\n",
    "        ])"
   ]
  },
  {
   "cell_type": "code",
   "execution_count": 5,
   "id": "5c2864e5",
   "metadata": {},
   "outputs": [],
   "source": [
    "# load all subject info\n",
    "all_subject_info = aws_connection.load_subject_info()\n",
    "\n",
    "# get all .mot files, osim models\n",
    "s3_objects_all = aws_connection.list_s3_objects(prefix='subjects/')\n",
    "s3_mot_files = [obj for obj in s3_objects_all if obj.endswith('.mot')]\n",
    "s3_osim_models = [obj for obj in s3_objects_all if obj.endswith('.osim') and '_scaled' in obj]"
   ]
  },
  {
   "cell_type": "code",
   "execution_count": 19,
   "id": "58c22b19",
   "metadata": {},
   "outputs": [
    {
     "data": {
      "text/plain": [
       "['subjects/2609/mot_processed/2609_22_ik.mot']"
      ]
     },
     "execution_count": 19,
     "metadata": {},
     "output_type": "execute_result"
    }
   ],
   "source": [
    "s3_mot_files[18:19]"
   ]
  },
  {
   "cell_type": "code",
   "execution_count": null,
   "id": "f5054879",
   "metadata": {},
   "outputs": [
    {
     "name": "stdout",
     "output_type": "stream",
     "text": [
      "[info] Loaded model models_arm_right_scaled from file opensim_models/trial_model.osim\n"
     ]
    }
   ],
   "source": [
    "# iterate through .mot files\n",
    "for f in s3_mot_files[18:19]:\n",
    "\n",
    "    # get subject ID & info from file name\n",
    "    subject_id = f.split('/')[1]\n",
    "    subject_info = all_subject_info[all_subject_info['subject_id'] == int(subject_id)]\n",
    "\n",
    "    # open subject model XML from S3 --> write to local file\n",
    "    subject_model_path = [obj for obj in s3_osim_models if subject_id in obj][0]\n",
    "    subject_model_xml = aws_connection.load_xml_from_s3(subject_model_path)\n",
    "    subject_model_tree = ET.ElementTree(subject_model_xml)\n",
    "\n",
    "    # update hand ball segment properties\n",
    "    subject_model_tree_updated = update_model_hand_segment(\n",
    "        subject_model_tree,\n",
    "        throwing_hand=subject_info['throws'].values[0]\n",
    "    )\n",
    "\n",
    "    # write & load model\n",
    "    subject_model_tree_updated.write(f'opensim_models/trial_model.osim')\n",
    "    subject_model = load_osim_model(f'opensim_models/trial_model.osim')\n",
    "    \n",
    "    # get trial joint angles (q)\n",
    "    q_bytes = aws_connection.load_s3_object(f, return_info=False)\n",
    "    q = pd.read_csv(io.BytesIO(q_bytes), delim_whitespace=True, skiprows=10)\n",
    "\n",
    "    # convert angles to radians \n",
    "        # NOTE: don't apply to translational coords\n",
    "    non_angle_cols = ['time', 'humerus_r_tx', 'humerus_r_ty', 'humerus_r_tz']\n",
    "    q.loc[:, ~q.columns.isin(non_angle_cols)] = np.deg2rad(q.loc[:, ~q.columns.isin(non_angle_cols)])\n",
    "\n",
    "    # apply filter, then get joint velocities (q_dot)\n",
    "    q_filt = butter_lowpass_filter(\n",
    "        q, \n",
    "        [col for col in q.columns if col not in non_angle_cols], \n",
    "        cutoff=18, \n",
    "        fs=480, \n",
    "        order=2\n",
    "    )\n",
    "    q_dot = diff_three_point(q_filt.iloc[:, 1:])\n",
    "\n",
    "    # set up ID module and run\n",
    "    id = NewtonEuler(subject_model, subject_info['throws'].values[0], q, q_dot, top_down=True)\n",
    "    id.run()\n",
    "\n",
    "    break\n",
    "\n",
    "    # get elbow moments & rotation matrix\n",
    "        # TODO: this needs to be throwing arm specific\n",
    "    match subject_info['throws'].values[0]:\n",
    "        case 'left':\n",
    "            elbow_side = 'elbow_l'\n",
    "        case 'right':\n",
    "            elbow_side = 'elbow_r'\n",
    "    pitch_elbow_moments = id.motion['joint'][elbow_side]['intersegmental_moment'].T\n",
    "    pitch_Rj = id.motion['joint'][elbow_side]['rotation']\n",
    "    \n",
    "    # rotate at each time point\n",
    "    num_samples = pitch_elbow_moments.shape[0]\n",
    "    pitch_rotated_moments = np.zeros((num_samples, 3))            # initialize rotated array\n",
    "    for t in range(num_samples):\n",
    "        pitch_rotated_moments[t, :] = (pitch_Rj[:, :, t].T @ pitch_elbow_moments[t, :])\n",
    "\n",
    "    # create dataframe\n",
    "    pitch_elbow_moments_df = pd.DataFrame(\n",
    "        pitch_rotated_moments, \n",
    "        columns=['elbow_moment_x', 'elbow_moment_y', 'elbow_moment_z']\n",
    "    )\n",
    "    pitch_elbow_moments_df.insert(0, 'time', q['time'])                                 # add time column\n",
    "    pitch_elbow_moments_df.insert(0, 'study_id', f.split('/')[-1].split('_ik')[0])      # add study ID column\n"
   ]
  },
  {
   "cell_type": "code",
   "execution_count": 21,
   "id": "66b41cdd",
   "metadata": {},
   "outputs": [
    {
     "data": {
      "text/plain": [
       "<Axes: >"
      ]
     },
     "execution_count": 21,
     "metadata": {},
     "output_type": "execute_result"
    },
    {
     "data": {
      "image/png": "[encoded data removed]",
      "text/plain": [
       "<Figure size 640x480 with 1 Axes>"
      ]
     },
     "metadata": {},
     "output_type": "display_data"
    }
   ],
   "source": [
    "pitch_elbow_moments_df['elbow_moment_x'].plot()"
   ]
  },
  {
   "cell_type": "markdown",
   "id": "2f4adc20",
   "metadata": {},
   "source": [
    "$\\textbf{Sandbox}$"
   ]
  },
  {
   "cell_type": "code",
   "execution_count": 72,
   "id": "dae83b5f",
   "metadata": {},
   "outputs": [],
   "source": [
    "import matplotlib.pyplot as plt"
   ]
  },
  {
   "cell_type": "code",
   "execution_count": 109,
   "id": "e4071cb8",
   "metadata": {},
   "outputs": [],
   "source": [
    "# load test JRA file\n",
    "    # NOTE: filtering reduces amplitude \n",
    "test_jra = pd.read_csv('2609_01_JointReaction_ReactionLoads.sto', delim_whitespace=True, skiprows=11)\n",
    "test_jra_elbow = test_jra[['elbow_r_on_ulna_r_in_ulna_r_mx', 'elbow_r_on_ulna_r_in_ulna_r_my', 'elbow_r_on_ulna_r_in_ulna_r_mz']].values.T\n",
    "\n",
    "# define rotation matrix\n",
    "orientation = np.array([-0.0228627, 0.228018, 0.0051688999999999997])\n",
    "R = id.convert_euler(orientation, 'Z')\n",
    "\n",
    "# rotate test JRA elbow moments\n",
    "test_jra_elbow_rotated = R @ test_jra_elbow"
   ]
  },
  {
   "cell_type": "markdown",
   "id": "c80e78ae",
   "metadata": {},
   "source": [
    "$\\textbf{Close AWS Connection}$"
   ]
  },
  {
   "cell_type": "code",
   "execution_count": 11,
   "id": "00b183b0",
   "metadata": {},
   "outputs": [
    {
     "name": "stdout",
     "output_type": "stream",
     "text": [
      "[AWS]: Database connection closed.\n",
      "[AWS]: SSH tunnel stopped.\n"
     ]
    }
   ],
   "source": [
    "aws_connection.close()"
   ]
  },
  {
   "cell_type": "code",
   "execution_count": null,
   "id": "97ed494c",
   "metadata": {},
   "outputs": [],
   "source": []
  }
 ],
 "metadata": {
  "kernelspec": {
   "display_name": "pitch_ml",
   "language": "python",
   "name": "python3"
  },
  "language_info": {
   "codemirror_mode": {
    "name": "ipython",
    "version": 3
   },
   "file_extension": ".py",
   "mimetype": "text/x-python",
   "name": "python",
   "nbconvert_exporter": "python",
   "pygments_lexer": "ipython3",
   "version": "3.11.10"
  }
 },
 "nbformat": 4,
 "nbformat_minor": 5
}
