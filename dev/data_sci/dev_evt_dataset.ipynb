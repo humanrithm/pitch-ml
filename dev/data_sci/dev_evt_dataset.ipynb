{
 "cells": [
  {
   "cell_type": "code",
   "execution_count": 1,
   "id": "be58af02",
   "metadata": {},
   "outputs": [],
   "source": [
    "import io\n",
    "import numpy as np\n",
    "import pandas as pd\n",
    "from connections import AWS"
   ]
  },
  {
   "cell_type": "markdown",
   "id": "c16b6217",
   "metadata": {},
   "source": [
    "$\\textbf{Data Loading}$"
   ]
  },
  {
   "cell_type": "code",
   "execution_count": 2,
   "id": "30abb00f",
   "metadata": {},
   "outputs": [
    {
     "name": "stdout",
     "output_type": "stream",
     "text": [
      "[AWS]: Port 5433 is free.\n",
      "[AWS]: Connected to RDS endpoint.\n"
     ]
    }
   ],
   "source": [
    "\"\"\" INITIALIZE AWS CONNECTION \"\"\"\n",
    "aws_connection = AWS()\n",
    "aws_connection.connect()"
   ]
  },
  {
   "cell_type": "markdown",
   "id": "b9183f76",
   "metadata": {},
   "source": [
    "$\\textit{Outputs}$"
   ]
  },
  {
   "cell_type": "code",
   "execution_count": null,
   "id": "53a44d20",
   "metadata": {},
   "outputs": [],
   "source": [
    "# load all peaks (outcomes); reduce to metadata & peak value, remove outliers\n",
    "    # --> 3,304 pitches\n",
    "outcomes = aws_connection.load_s3_object(\n",
    "    'biomechanics/modeling_datasets/jra_peaks_all.csv',\n",
    "    as_dataframe=True\n",
    ")\n",
    "outcomes_final = outcomes[outcomes['outlier_flag'] == 0][['subject_id', 'study_id', 'peak_time', 'peak_value']].reset_index(drop=True)"
   ]
  },
  {
   "cell_type": "code",
   "execution_count": 112,
   "id": "60f10543",
   "metadata": {},
   "outputs": [
    {
     "data": {
      "text/html": [
       "<div>\n",
       "<style scoped>\n",
       "    .dataframe tbody tr th:only-of-type {\n",
       "        vertical-align: middle;\n",
       "    }\n",
       "\n",
       "    .dataframe tbody tr th {\n",
       "        vertical-align: top;\n",
       "    }\n",
       "\n",
       "    .dataframe thead th {\n",
       "        text-align: right;\n",
       "    }\n",
       "</style>\n",
       "<table border=\"1\" class=\"dataframe\">\n",
       "  <thead>\n",
       "    <tr style=\"text-align: right;\">\n",
       "      <th></th>\n",
       "      <th>subject_id</th>\n",
       "      <th>study_id</th>\n",
       "      <th>peak_time</th>\n",
       "      <th>peak_value</th>\n",
       "    </tr>\n",
       "  </thead>\n",
       "  <tbody>\n",
       "    <tr>\n",
       "      <th>0</th>\n",
       "      <td>2609</td>\n",
       "      <td>2609_01</td>\n",
       "      <td>1.0164</td>\n",
       "      <td>101.484332</td>\n",
       "    </tr>\n",
       "    <tr>\n",
       "      <th>1</th>\n",
       "      <td>2609</td>\n",
       "      <td>2609_03</td>\n",
       "      <td>1.0983</td>\n",
       "      <td>103.365228</td>\n",
       "    </tr>\n",
       "    <tr>\n",
       "      <th>2</th>\n",
       "      <td>2609</td>\n",
       "      <td>2609_04</td>\n",
       "      <td>1.0668</td>\n",
       "      <td>107.313274</td>\n",
       "    </tr>\n",
       "    <tr>\n",
       "      <th>3</th>\n",
       "      <td>2609</td>\n",
       "      <td>2609_05</td>\n",
       "      <td>1.1004</td>\n",
       "      <td>106.556224</td>\n",
       "    </tr>\n",
       "    <tr>\n",
       "      <th>4</th>\n",
       "      <td>2609</td>\n",
       "      <td>2609_06</td>\n",
       "      <td>1.0416</td>\n",
       "      <td>130.399054</td>\n",
       "    </tr>\n",
       "    <tr>\n",
       "      <th>...</th>\n",
       "      <td>...</td>\n",
       "      <td>...</td>\n",
       "      <td>...</td>\n",
       "      <td>...</td>\n",
       "    </tr>\n",
       "    <tr>\n",
       "      <th>3299</th>\n",
       "      <td>3055</td>\n",
       "      <td>3055_22</td>\n",
       "      <td>0.9807</td>\n",
       "      <td>161.702287</td>\n",
       "    </tr>\n",
       "    <tr>\n",
       "      <th>3300</th>\n",
       "      <td>3055</td>\n",
       "      <td>3055_23</td>\n",
       "      <td>0.9954</td>\n",
       "      <td>158.699661</td>\n",
       "    </tr>\n",
       "    <tr>\n",
       "      <th>3301</th>\n",
       "      <td>3055</td>\n",
       "      <td>3055_24</td>\n",
       "      <td>0.9303</td>\n",
       "      <td>164.004473</td>\n",
       "    </tr>\n",
       "    <tr>\n",
       "      <th>3302</th>\n",
       "      <td>3055</td>\n",
       "      <td>3055_25</td>\n",
       "      <td>0.9471</td>\n",
       "      <td>164.598229</td>\n",
       "    </tr>\n",
       "    <tr>\n",
       "      <th>3303</th>\n",
       "      <td>3055</td>\n",
       "      <td>3055_26</td>\n",
       "      <td>1.0458</td>\n",
       "      <td>163.756029</td>\n",
       "    </tr>\n",
       "  </tbody>\n",
       "</table>\n",
       "<p>3304 rows × 4 columns</p>\n",
       "</div>"
      ],
      "text/plain": [
       "      subject_id study_id  peak_time  peak_value\n",
       "0           2609  2609_01     1.0164  101.484332\n",
       "1           2609  2609_03     1.0983  103.365228\n",
       "2           2609  2609_04     1.0668  107.313274\n",
       "3           2609  2609_05     1.1004  106.556224\n",
       "4           2609  2609_06     1.0416  130.399054\n",
       "...          ...      ...        ...         ...\n",
       "3299        3055  3055_22     0.9807  161.702287\n",
       "3300        3055  3055_23     0.9954  158.699661\n",
       "3301        3055  3055_24     0.9303  164.004473\n",
       "3302        3055  3055_25     0.9471  164.598229\n",
       "3303        3055  3055_26     1.0458  163.756029\n",
       "\n",
       "[3304 rows x 4 columns]"
      ]
     },
     "execution_count": 112,
     "metadata": {},
     "output_type": "execute_result"
    }
   ],
   "source": [
    "outcomes_final"
   ]
  },
  {
   "cell_type": "markdown",
   "id": "e7bc0df7",
   "metadata": {},
   "source": [
    "$\\textit{Inputs}$\n",
    "\n",
    "Note that ball tracking data are in the RDS, not just S3."
   ]
  },
  {
   "cell_type": "code",
   "execution_count": null,
   "id": "fbbbf9b9",
   "metadata": {},
   "outputs": [],
   "source": [
    "\"\"\" BALL TRACKING DATA\"\"\"\n",
    "# setup queries for compatible columns\n",
    "trackman_query = \"\"\"\n",
    "    SELECT\n",
    "    \"study_id\"\n",
    "    , CASE \n",
    "        WHEN \"pitcherthrows\" = 'Right' THEN 1\n",
    "        ELSE 0\n",
    "    END AS pitcher_throws_rh\n",
    "    , \"taggedpitchtype\" AS pitch_type\n",
    "    , \"relspeed\" AS rel_speed\n",
    "    , \"vertrelangle\" AS vra\n",
    "    , \"horzrelangle\" AS hra\n",
    "    , \"spinrate\" AS spin_rate\n",
    "    , \"spinaxis\" AS spin_axis\n",
    "    , \"relheight\" AS rel_ht\n",
    "    , \"relside\" AS rel_side\n",
    "    , \"inducedvertbreak\" AS ivb\n",
    "    , \"horzbreak\" AS hb\n",
    "    , \"x0\"\n",
    "    , \"y0\"\n",
    "    , \"z0\"\n",
    "    , \"vx0\"\n",
    "    , \"vy0\"\n",
    "    , \"vz0\"\n",
    "    , \"ax0\"\n",
    "    , \"ay0\"\n",
    "    , \"az0\"\n",
    "    , 0 as from_rapsodo\n",
    "\n",
    "FROM\n",
    "    motus.ball.trackman\n",
    "\"\"\"\n",
    "rapsodo_query = \"\"\"\n",
    "    SELECT\n",
    "    \"study_id\"\n",
    "    , CASE \n",
    "        WHEN \"relside\" > 0 THEN 1\n",
    "        ELSE 0\n",
    "    END AS pitcher_throws_rh\n",
    "    , \"pitchtype\" AS pitch_type\n",
    "    , \"relspeed\" AS rel_speed\n",
    "    , \"vertrelangle\" AS vra\n",
    "    , \"horzrelangle\" AS hra\n",
    "    , \"spinrate\" AS spin_rate\n",
    "    , \"spinaxis\" AS spin_axis\n",
    "    , \"relheight\" AS rel_ht\n",
    "    , \"relside\" AS rel_side\n",
    "    , \"inducedvertbreak\" AS ivb\n",
    "    , \"horzbreak\" AS hb\n",
    "    , \"x0\"\n",
    "    , \"y0\"\n",
    "    , \"z0\"\n",
    "    , \"vx0\"\n",
    "    , \"vy0\"\n",
    "    , \"vz0\"\n",
    "    , \"ax0\"\n",
    "    , \"ay0\"\n",
    "    , \"az0\"\n",
    "    , 1 as from_rapsodo\n",
    "\n",
    "FROM\n",
    "    motus.ball.rapsodo\n",
    "\"\"\"\n",
    "\n",
    "# load all ball tracking data\n",
    "trackman = aws_connection.run_query(trackman_query)\n",
    "rapsodo = aws_connection.run_query(rapsodo_query)\n",
    "\n",
    "# concatenate ball tracking data together\n",
    "ball_tracking_data = pd.concat([trackman, rapsodo], axis=0).reset_index(drop=True)"
   ]
  },
  {
   "cell_type": "code",
   "execution_count": null,
   "id": "a2cf6e8c",
   "metadata": {},
   "outputs": [],
   "source": [
    "\"\"\" IK DATA \"\"\"\n",
    "# get ball release times (nec. for IK data)\n",
    "ball_release_times = aws_connection.load_s3_object(\n",
    "    'biomechanics/modeling_datasets/ball_release_times.csv',\n",
    "    as_dataframe=True\n",
    ")\n",
    "\n",
    "# load all IK file names\n",
    "subject_files = aws_connection.list_s3_objects(\n",
    "    prefix='biomechanics/subjects/'\n",
    ")\n",
    "ik_results_files = [f for f in subject_files if 'ik_results.csv' in f]"
   ]
  },
  {
   "cell_type": "code",
   "execution_count": 65,
   "id": "d8cbd723",
   "metadata": {},
   "outputs": [],
   "source": [
    "# preset general IK column names\n",
    "ik_columns = [\n",
    "    'time', 'arm_flex', 'arm_add', 'arm_rot', 'humerus_tx',\n",
    "    'humerus_ty', 'humerus_tz', 'elbow_flex', 'pro_sup',\n",
    "    'wrist_flex', 'wrist_dev'\n",
    "]\n",
    "\n",
    "# iterate through and load IK files\n",
    "ik_results = []\n",
    "ik_peak = []\n",
    "for file in ik_results_files:\n",
    "    # get study ID\n",
    "    study_id = file.split('/')[-1].split('_ik')[0]\n",
    "    if study_id not in outcomes_final['study_id'].unique():\n",
    "        continue\n",
    "    \n",
    "    # load and update columns\n",
    "    ik_data = aws_connection.load_s3_object(file, as_dataframe=True)\n",
    "    ik_data.columns = ik_columns\n",
    "    ik_data.insert(0, 'study_id', study_id)\n",
    "\n",
    "    # get ball release time for study ID\n",
    "        # NOTE: use time eps (e.g., 0.001 seconds) for approximately matching\n",
    "    trial_brt = ball_release_times[ball_release_times['study_id'] == study_id]['ball_release_time'].values[0]\n",
    "    ik_data_brt = ik_data[abs(ik_data['time'] - trial_brt) < 0.001]\n",
    "\n",
    "    # get IK data at peak EVT time\n",
    "    peak_time = outcomes_final[outcomes_final['study_id'] == study_id]['peak_time'].values[0]\n",
    "    ik_data_pt = ik_data[abs(ik_data['time'] - peak_time) < 0.001]\n",
    "\n",
    "    # append to results\n",
    "    ik_results.append(ik_data_brt)\n",
    "    ik_peak.append(ik_data_pt)\n",
    "\n",
    "# concatenate all IK data together\n",
    "ik_br_final = pd.concat(ik_results, axis=0).reset_index(drop=True)\n",
    "ik_peak_final = pd.concat(ik_peak, axis=0).reset_index(drop=True)\n",
    "    "
   ]
  },
  {
   "cell_type": "code",
   "execution_count": 79,
   "id": "779c2b87",
   "metadata": {},
   "outputs": [
    {
     "name": "stdout",
     "output_type": "stream",
     "text": [
      "[AWS]: Uploaded object to s3://pitch-ml/biomechanics/modeling_datasets/final_outcomes.csv\n",
      "[AWS]: Uploaded object to s3://pitch-ml/biomechanics/modeling_datasets/final_ball_tracking_data.csv\n",
      "[AWS]: Uploaded object to s3://pitch-ml/biomechanics/modeling_datasets/final_ik_ball_release.csv\n",
      "[AWS]: Uploaded object to s3://pitch-ml/biomechanics/modeling_datasets/final_ik_peak_evt.csv\n"
     ]
    }
   ],
   "source": [
    "\"\"\" SAVE TO S3 \"\"\"\n",
    "# outcomes_final\n",
    "aws_connection.upload_to_s3(\n",
    "    outcomes_final,\n",
    "    'biomechanics/modeling_datasets/final_outcomes.csv',\n",
    ")\n",
    "    \n",
    "# ball_tracking_data\n",
    "aws_connection.upload_to_s3(\n",
    "    ball_tracking_data,\n",
    "    'biomechanics/modeling_datasets/final_ball_tracking_data.csv'\n",
    ")\n",
    "\n",
    "# ik_br_final\n",
    "aws_connection.upload_to_s3(\n",
    "    ik_br_final,\n",
    "    'biomechanics/modeling_datasets/final_ik_ball_release.csv'\n",
    ")\n",
    "    \n",
    "# ik_peak_final\n",
    "aws_connection.upload_to_s3(\n",
    "    ik_peak_final,\n",
    "    'biomechanics/modeling_datasets/final_ik_peak_evt.csv'\n",
    ")\n"
   ]
  },
  {
   "cell_type": "code",
   "execution_count": 97,
   "id": "9cba9dcc",
   "metadata": {},
   "outputs": [
    {
     "name": "stdout",
     "output_type": "stream",
     "text": [
      "[AWS]: Uploaded object to s3://pitch-ml/biomechanics/modeling_datasets/model_dev_raw.csv\n"
     ]
    }
   ],
   "source": [
    "# merge all data together for model dev.\n",
    "    # then clean (e.g., drop na --> missing ball tracking data)\n",
    "model_dev_data = outcomes_final.merge(\n",
    "        ball_tracking_data,\n",
    "        on='study_id',\n",
    "        how='left'\n",
    "    ).merge(\n",
    "        ik_br_final,\n",
    "        on='study_id',\n",
    "        how='left'\n",
    ")\n",
    "model_dev_clean = model_dev_data.dropna().reset_index(drop=True)\n",
    "\n",
    "# upload to S3\n",
    "aws_connection.upload_to_s3(\n",
    "    model_dev_clean,\n",
    "    'biomechanics/modeling_datasets/model_dev_raw.csv'\n",
    ")\n"
   ]
  },
  {
   "cell_type": "markdown",
   "id": "b86a02f3",
   "metadata": {},
   "source": [
    "$\\textbf{Scale Data}$\n",
    "\n",
    "Final preprocessing step; handling here to condense model development notebook."
   ]
  },
  {
   "cell_type": "code",
   "execution_count": 95,
   "id": "52f65bd7",
   "metadata": {},
   "outputs": [],
   "source": [
    "from sklearn.preprocessing import StandardScaler"
   ]
  },
  {
   "cell_type": "code",
   "execution_count": 98,
   "id": "9a69145f",
   "metadata": {},
   "outputs": [
    {
     "name": "stdout",
     "output_type": "stream",
     "text": [
      "[AWS]: Uploaded object to s3://pitch-ml/biomechanics/modeling_datasets/model_dev_scaled.csv\n"
     ]
    }
   ],
   "source": [
    "# specify columns to scale\n",
    "    # ball tracking + ik data\n",
    "scale_cols = [\n",
    "    'rel_speed', 'vra', 'hra',\n",
    "    'spin_rate', 'spin_axis', 'rel_ht', \n",
    "    'rel_side', 'ivb', 'hb', \n",
    "    'x0', 'y0', 'z0', \n",
    "    'vx0', 'vy0', 'vz0', \n",
    "    'ax0', 'ay0', 'az0',\n",
    "    'elbow_flex', 'pro_sup', 'wrist_flex', 'wrist_dev'\n",
    "]\n",
    "\n",
    "# create & fit scaler\n",
    "scaler = StandardScaler()\n",
    "scaler.fit(model_dev_clean[scale_cols])\n",
    "\n",
    "# scale data\n",
    "model_dev_scaled = model_dev_clean.copy()\n",
    "model_dev_scaled[scale_cols] = scaler.transform(model_dev_clean[scale_cols])\n",
    "\n",
    "# upload scaled data to S3\n",
    "aws_connection.upload_to_s3(\n",
    "    model_dev_scaled,\n",
    "    'biomechanics/modeling_datasets/model_dev_scaled.csv'\n",
    ")"
   ]
  },
  {
   "cell_type": "markdown",
   "id": "5f89829f",
   "metadata": {},
   "source": [
    "$\\textbf{Close AWS Connection}$"
   ]
  },
  {
   "cell_type": "code",
   "execution_count": 108,
   "id": "fec23e58",
   "metadata": {},
   "outputs": [
    {
     "name": "stdout",
     "output_type": "stream",
     "text": [
      "[AWS]: Database connection closed.\n",
      "[AWS]: SSH tunnel stopped.\n"
     ]
    }
   ],
   "source": [
    "# close AWS connection\n",
    "aws_connection.close()"
   ]
  },
  {
   "cell_type": "code",
   "execution_count": null,
   "id": "fc625e20",
   "metadata": {},
   "outputs": [],
   "source": []
  }
 ],
 "metadata": {
  "kernelspec": {
   "display_name": "pitch_ml",
   "language": "python",
   "name": "python3"
  },
  "language_info": {
   "codemirror_mode": {
    "name": "ipython",
    "version": 3
   },
   "file_extension": ".py",
   "mimetype": "text/x-python",
   "name": "python",
   "nbconvert_exporter": "python",
   "pygments_lexer": "ipython3",
   "version": "3.11.10"
  }
 },
 "nbformat": 4,
 "nbformat_minor": 5
}
