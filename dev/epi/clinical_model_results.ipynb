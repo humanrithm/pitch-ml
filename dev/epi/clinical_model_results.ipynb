{
 "cells": [
  {
   "cell_type": "code",
   "execution_count": 227,
   "id": "af661e08",
   "metadata": {},
   "outputs": [],
   "source": [
    "import glob\n",
    "import pickle\n",
    "import numpy as np\n",
    "import pandas as pd"
   ]
  },
  {
   "cell_type": "markdown",
   "id": "f0ea5532",
   "metadata": {},
   "source": [
    "$\\textbf{Epidemiology: Clinical Model Results Aggregation}$\n",
    "\n",
    "Organize model results into a table:\n",
    "\n",
    "- __Window__ (i.e., max. number of days to use)\n",
    "- __Epochs Trained__ (prior to stopping)\n",
    "- __Validation Scores__ (Accuracy, F1, ROC AUC)"
   ]
  },
  {
   "cell_type": "code",
   "execution_count": 228,
   "id": "5218b88e",
   "metadata": {},
   "outputs": [],
   "source": [
    "# unpack model results dictionary\n",
    "def extract_model_results(\n",
    "        results: dict,\n",
    "        model_window: int = None,\n",
    ") -> tuple:\n",
    "    \"\"\"\n",
    "    Extracts model results from a dictionary and organizes them into two DataFrames:\n",
    "    one for results by epoch and another for overall results.\n",
    "    \n",
    "    Args:\n",
    "        results (dict): Dictionary containing model results.\n",
    "        \n",
    "    Returns:\n",
    "        tuple: Two DataFrames, one for results by epoch and one for overall results.\n",
    "    \"\"\"\n",
    "    # initialize dataframes\n",
    "    results_by_epoch = pd.DataFrame()\n",
    "    results_overall = pd.DataFrame()\n",
    "\n",
    "    # iterate through dictionary items\n",
    "    for key, value in results.items():\n",
    "        if isinstance(value, list):\n",
    "            results_by_epoch[key] = value\n",
    "        else:\n",
    "            results_overall[key] = [value]\n",
    "\n",
    "    # add 'epoch' column\n",
    "    results_by_epoch.insert(0, 'epoch', np.arange(len(results_by_epoch)))\n",
    "\n",
    "    # add pk (model_window) if given\n",
    "    if model_window is not None:\n",
    "        results_overall.insert(0, 'model_window', model_window)\n",
    "        results_by_epoch.insert(0, 'model_window', model_window)\n",
    "\n",
    "    return results_by_epoch, results_overall\n"
   ]
  },
  {
   "cell_type": "code",
   "execution_count": 229,
   "id": "e0404c64",
   "metadata": {},
   "outputs": [],
   "source": [
    "# get all model result files\n",
    "model_result_files = glob.glob('storage/pitch_model_*')\n",
    "\n",
    "# iterate through each file and load the results\n",
    "results = {}\n",
    "for file in model_result_files:\n",
    "    with open(file, 'rb') as f:\n",
    "        model_results = pickle.load(f)\n",
    "    \n",
    "    # get the day from the filename\n",
    "    day = int(file.split('_')[-2].split('d')[0])\n",
    "    results[day] = {}\n",
    "\n",
    "    # extract results by epoch and overall results\n",
    "    results_by_epoch, results_overall = extract_model_results(model_results, model_window=day)\n",
    "\n",
    "    # add other performance metrics to overall results\n",
    "        # .iloc[-6] since early stopping is set to 5 epochs before the end\n",
    "    results_overall['best_val_acc'] = results_by_epoch.iloc[-6]['val_acc']\n",
    "    results_overall['best_roc_auc'] = results_by_epoch.iloc[-6]['val_auc']\n",
    "    results_overall['best_f1_score'] = results_by_epoch.iloc[-6]['val_f1']\n",
    "    \n",
    "    # store the results in the dictionary\n",
    "    results[day]['by_epoch'] = results_by_epoch\n",
    "    results[day]['overall'] = results_overall"
   ]
  },
  {
   "cell_type": "code",
   "execution_count": 230,
   "id": "c49ed7e5",
   "metadata": {},
   "outputs": [],
   "source": [
    "# concatenate all results into a single DataFrame\n",
    "all_results_by_epoch = pd.concat([results[day]['by_epoch'] for day in sorted(results.keys())], ignore_index=True)\n",
    "all_results_overall = pd.concat([results[day]['overall'] for day in sorted(results.keys())], ignore_index=True)"
   ]
  },
  {
   "cell_type": "markdown",
   "id": "ceaabfeb",
   "metadata": {},
   "source": [
    "$\\textbf{Run Model Examples}$\n",
    "\n",
    "Use validation set to visualize model outputs, features."
   ]
  },
  {
   "cell_type": "code",
   "execution_count": 231,
   "id": "40ece498",
   "metadata": {},
   "outputs": [],
   "source": [
    "import torch\n",
    "from nnet import CNNbiLSTM\n",
    "from services.scalers import compute_masked_scalers, apply_scalers"
   ]
  },
  {
   "cell_type": "code",
   "execution_count": 232,
   "id": "7eb2b5a0",
   "metadata": {},
   "outputs": [],
   "source": [
    "# load model w/ path \n",
    "def load_model(\n",
    "        model_skeleton: any,\n",
    "        model_path: str\n",
    "        ) -> CNNbiLSTM:\n",
    "    \"\"\"\n",
    "    Loads a CNNbiLSTM model from a specified path.\n",
    "    \n",
    "    Args:\n",
    "        model_skeleton (any): An instance of the nnet model class to load.\n",
    "        model_path (str): Path to the model file.\n",
    "        \n",
    "    Returns:\n",
    "        CNNbiLSTM: Loaded model instance.\n",
    "    \"\"\"\n",
    "    # load the model state dictionary\n",
    "    state_dict = torch.load(model_path)\n",
    "    model_skeleton.load_state_dict(state_dict)\n",
    "    \n",
    "    # set the model to evaluation mode\n",
    "    model_skeleton.eval()\n",
    "\n",
    "    return model_skeleton\n"
   ]
  },
  {
   "cell_type": "code",
   "execution_count": 268,
   "id": "2f5e265a",
   "metadata": {},
   "outputs": [],
   "source": [
    "# load all model files\n",
    "models = {}\n",
    "for day in sorted(results.keys()):\n",
    "    model_path = f'models/inj/pitch_model_{day}d_state_dict.pt'\n",
    "    models[day] = load_model(CNNbiLSTM(k_in=9), model_path)"
   ]
  },
  {
   "cell_type": "code",
   "execution_count": 234,
   "id": "e34daadd",
   "metadata": {},
   "outputs": [],
   "source": [
    "# load pitch-level tensors for validation\n",
    "    # NOTE: these are preprocessed & scaled; scaler params not yet saved\n",
    "    # TODO: will need to load the unscaled tensors to visualize features\n",
    "model_val_data = {}\n",
    "for day in sorted(results.keys()):\n",
    "    with open(f'models/data/pitch_model_{day}d_val_data.pkl', 'rb') as f:\n",
    "        model_val_data[day] = pickle.load(f)"
   ]
  },
  {
   "cell_type": "code",
   "execution_count": 293,
   "id": "da547ff4",
   "metadata": {},
   "outputs": [
    {
     "data": {
      "text/plain": [
       "tensor([0.0000, 0.0000, 0.0000, 0.0000, 0.0000, 0.0000, 0.0000, 0.0000, 0.0000,\n",
       "        0.1466, 0.0000, 0.0316, 0.1437, 0.0776, 0.2241, 0.2011, 0.0747, 0.0000,\n",
       "        0.0000, 0.0000, 0.0000, 0.0000, 0.0000, 0.0000, 0.0920, 0.1638, 0.0000,\n",
       "        0.0833, 0.0690, 0.0603, 0.0460, 0.0000, 0.0000, 0.0000, 0.0000, 0.1293,\n",
       "        0.0000, 0.0747, 0.0489, 0.2011, 0.0805, 0.0000, 0.2787, 0.0345, 0.0891,\n",
       "        0.0517, 0.0603, 0.1092, 0.0833, 0.0000, 0.0000, 0.0000, 0.0000, 0.2500,\n",
       "        0.0661, 0.0000, 0.0000, 0.0000, 0.0000, 0.0000, 0.0000, 0.0057, 0.0776,\n",
       "        0.0517, 0.0920, 0.0661, 0.0000, 0.0718, 0.2471, 0.0000, 0.1523, 0.2385,\n",
       "        0.1149, 0.2270, 0.0402, 0.0690, 0.0661, 0.0431, 0.1034, 0.0316, 0.0000,\n",
       "        0.0000, 0.0000, 0.0000, 0.0000, 0.0000, 0.0000, 0.0000, 0.0000, 0.0000,\n",
       "        0.2672, 0.2414, 0.0000, 0.0690, 0.0374, 0.1063, 0.0575, 0.0000, 0.0000,\n",
       "        0.0000, 0.0000, 0.0718, 0.0575, 0.2701, 0.0000, 0.0517, 0.1724, 0.1523,\n",
       "        0.0000, 0.0000, 0.0000, 0.0000, 0.0000, 0.0546, 0.0144, 0.0000, 0.1379,\n",
       "        0.2328, 0.0201, 0.0517, 0.1293, 0.1724])"
      ]
     },
     "execution_count": 293,
     "metadata": {},
     "output_type": "execute_result"
    }
   ],
   "source": [
    "model_val_data[7]['y_binary'].mean(dim=1)"
   ]
  },
  {
   "cell_type": "code",
   "execution_count": 304,
   "id": "2f1cb7b8",
   "metadata": {},
   "outputs": [],
   "source": [
    "# get example tensor\n",
    "    # apply mask here\n",
    "IDX = 16\n",
    "example_input = model_val_data[7]['x'][IDX][model_val_data[7]['mask'][IDX]]\n",
    "example_outcome = model_val_data[7]['y_binary'][IDX][model_val_data[7]['mask'][IDX]]\n",
    "example_output = models[7](\n",
    "    example_input.unsqueeze(0), \n",
    "    model_val_data[7]['lengths'][IDX].unsqueeze(0) \n",
    ")\n",
    "example_probs = torch.sigmoid(example_output).detach().numpy()"
   ]
  },
  {
   "cell_type": "code",
   "execution_count": 305,
   "id": "a34b7acc",
   "metadata": {},
   "outputs": [
    {
     "data": {
      "text/plain": [
       "<Axes: >"
      ]
     },
     "execution_count": 305,
     "metadata": {},
     "output_type": "execute_result"
    },
    {
     "data": {
      "image/png": "[encoded data removed]",
      "text/plain": [
       "<Figure size 640x480 with 1 Axes>"
      ]
     },
     "metadata": {},
     "output_type": "display_data"
    }
   ],
   "source": [
    "import pandas as pd\n",
    "\n",
    "pd.DataFrame(torch.sigmoid(example_output).detach().numpy()).T.plot()"
   ]
  },
  {
   "cell_type": "code",
   "execution_count": 162,
   "id": "7279c46e",
   "metadata": {},
   "outputs": [
    {
     "data": {
      "text/plain": [
       "tensor([ 0.0000e+00,  6.0000e+00,  2.2000e+01,  8.7698e-02,  8.7698e-02,\n",
       "         9.3100e+01, -1.9200e+00,  6.3100e+00,  2.2460e+03])"
      ]
     },
     "execution_count": 162,
     "metadata": {},
     "output_type": "execute_result"
    }
   ],
   "source": [
    "pitch_level_tensors['val'][45]['seq'][0][0]"
   ]
  },
  {
   "cell_type": "code",
   "execution_count": null,
   "id": "d02b3ffe",
   "metadata": {},
   "outputs": [],
   "source": []
  }
 ],
 "metadata": {
  "kernelspec": {
   "display_name": "pitch_ml",
   "language": "python",
   "name": "python3"
  },
  "language_info": {
   "codemirror_mode": {
    "name": "ipython",
    "version": 3
   },
   "file_extension": ".py",
   "mimetype": "text/x-python",
   "name": "python",
   "nbconvert_exporter": "python",
   "pygments_lexer": "ipython3",
   "version": "3.11.10"
  }
 },
 "nbformat": 4,
 "nbformat_minor": 5
}
