{
 "cells": [
  {
   "cell_type": "code",
   "execution_count": 5,
   "id": "3a3055b4",
   "metadata": {},
   "outputs": [],
   "source": [
    "import ast\n",
    "import pandas as pd\n",
    "from connections import AWS\n",
    "from sklearn.model_selection import train_test_split"
   ]
  },
  {
   "cell_type": "markdown",
   "id": "7a5ef739",
   "metadata": {},
   "source": [
    "$\\textbf{Epidemiology: Clinical Train/Test Splits}$\n",
    "\n",
    "Separate cohort of matches into train and validation sets for model development. "
   ]
  },
  {
   "cell_type": "code",
   "execution_count": 3,
   "id": "c820417d",
   "metadata": {},
   "outputs": [
    {
     "name": "stdout",
     "output_type": "stream",
     "text": [
      "[AWS]: Port 5433 is free.\n",
      "[AWS]: Connected to RDS endpoint.\n"
     ]
    }
   ],
   "source": [
    "# setup AWS connection\n",
    "aws = AWS()\n",
    "aws.connect()"
   ]
  },
  {
   "cell_type": "code",
   "execution_count": 6,
   "id": "2e3d8139",
   "metadata": {},
   "outputs": [],
   "source": [
    "# load/collect all matches\n",
    "n_matches = 5\n",
    "cohort_matches = aws.load_s3_object(f'epidemiology/cohorts/injured/pitcher_info/matches_{n_matches}_per_pitcher.csv')\n",
    "\n",
    "# organize all IDs w/ season\n",
    "cohort_info = []\n",
    "for _, row in cohort_matches.iterrows():\n",
    "    cohort_info.append({\n",
    "        'pitcher': row['mlbamid_injured'],\n",
    "        'season': row['season'],\n",
    "        'injured': 1\n",
    "    })\n",
    "\n",
    "    # append all non-injured pitchers\n",
    "    for mlbamid in ast.literal_eval(row['mlbamid_noninjured']):\n",
    "        cohort_info.append({\n",
    "            'pitcher': mlbamid,\n",
    "            'season': row['season'],\n",
    "            'injured': 0\n",
    "        })\n",
    "\n",
    "# concatenate all pitcher info\n",
    "cohort_info = pd.DataFrame(cohort_info)"
   ]
  },
  {
   "cell_type": "code",
   "execution_count": 9,
   "id": "d7520346",
   "metadata": {},
   "outputs": [],
   "source": [
    "# get train/test split (test size: 25%)\n",
    "    # NOTE: this preserves matching pairs within the split\n",
    "train_ids, test_ids = train_test_split(\n",
    "    cohort_info, \n",
    "    test_size=0.25, \n",
    "    random_state=22, \n",
    "    stratify=cohort_info['injured']\n",
    ")\n"
   ]
  },
  {
   "cell_type": "code",
   "execution_count": 14,
   "id": "c061c538",
   "metadata": {},
   "outputs": [
    {
     "name": "stdout",
     "output_type": "stream",
     "text": [
      "[AWS]: Uploaded object to s3://pitch-ml/epidemiology/ml/datasets/full/cohort_train_ids.csv\n",
      "[AWS]: Uploaded object to s3://pitch-ml/epidemiology/ml/datasets/full/cohort_test_ids.csv\n"
     ]
    }
   ],
   "source": [
    "# upload to S3\n",
    "path_stem = 'epidemiology/ml/datasets/full'\n",
    "aws.upload_to_s3(train_ids, f'{path_stem}/cohort_train_ids.csv')\n",
    "aws.upload_to_s3(test_ids, f'{path_stem}/cohort_test_ids.csv')"
   ]
  },
  {
   "cell_type": "code",
   "execution_count": 15,
   "id": "6914e9f7",
   "metadata": {},
   "outputs": [
    {
     "name": "stdout",
     "output_type": "stream",
     "text": [
      "[AWS]: Database connection closed.\n",
      "[AWS]: SSH tunnel stopped.\n"
     ]
    }
   ],
   "source": [
    "# close AWS connection\n",
    "aws.close()"
   ]
  },
  {
   "cell_type": "code",
   "execution_count": null,
   "id": "ec8c3c48",
   "metadata": {},
   "outputs": [],
   "source": []
  }
 ],
 "metadata": {
  "kernelspec": {
   "display_name": "pitch_ml",
   "language": "python",
   "name": "python3"
  },
  "language_info": {
   "codemirror_mode": {
    "name": "ipython",
    "version": 3
   },
   "file_extension": ".py",
   "mimetype": "text/x-python",
   "name": "python",
   "nbconvert_exporter": "python",
   "pygments_lexer": "ipython3",
   "version": "3.11.10"
  }
 },
 "nbformat": 4,
 "nbformat_minor": 5
}
