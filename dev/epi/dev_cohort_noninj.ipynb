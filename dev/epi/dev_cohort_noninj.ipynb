{
 "cells": [
  {
   "cell_type": "code",
   "execution_count": 1,
   "id": "4e1572b9",
   "metadata": {},
   "outputs": [],
   "source": [
    "import pandas as pd\n",
    "import pybaseball as pyb\n",
    "from connections import AWS"
   ]
  },
  {
   "cell_type": "markdown",
   "id": "2415d283",
   "metadata": {},
   "source": [
    "$\\textbf{Non-Injured Cohort Design}$"
   ]
  },
  {
   "cell_type": "code",
   "execution_count": 2,
   "id": "d9bc38d1",
   "metadata": {},
   "outputs": [
    {
     "name": "stdout",
     "output_type": "stream",
     "text": [
      "[AWS]: Port 5433 is free.\n",
      "[AWS]: Connected to RDS endpoint.\n"
     ]
    }
   ],
   "source": [
    "# initialize AWS connection\n",
    "aws_connection = AWS()\n",
    "aws_connection.connect()"
   ]
  },
  {
   "cell_type": "code",
   "execution_count": 3,
   "id": "20b5e8c2",
   "metadata": {},
   "outputs": [],
   "source": [
    "# load cohort (to immediately exclude injured pitchers)\n",
    "cohort = aws_connection.load_s3_object('epidemiology/cohorts/injured/pitchers_0825.csv')\n",
    "cohort_pitchers = cohort['mlbamid'].unique()"
   ]
  },
  {
   "cell_type": "code",
   "execution_count": null,
   "id": "3236be01",
   "metadata": {},
   "outputs": [],
   "source": [
    "# initialize bulk statcast storage\n",
    "statcast_bulk = {}\n",
    "\n",
    "# create date strings for looping -- March to November\n",
    "date_strings = {}\n",
    "for year in range(2015, 2026):\n",
    "    date_strings[year] = []\n",
    "    for month in range(3, 12):\n",
    "        date_str = f\"{year}-{month:02d}-01\"\n",
    "        date_strings[year].append(date_str)"
   ]
  },
  {
   "cell_type": "code",
   "execution_count": null,
   "id": "1e204330",
   "metadata": {},
   "outputs": [],
   "source": [
    "# iterate through all years and dates\n",
    "for yr, dates in list(date_strings.items())[1:]:\n",
    "    statcast_bulk[yr] = []                                      # setup list for data storage within the year\n",
    "    print(f\"Processing monthly ranges for year: {yr}\")\n",
    "    \n",
    "    # iterate through pairs\n",
    "    for i in range(len(dates) - 1):\n",
    "        \n",
    "        try:\n",
    "            statcast_data = pyb.statcast(start_dt=dates[i], end_dt=dates[i + 1])\n",
    "            if not statcast_data.empty:\n",
    "                # filter out pitchers in the cohort\n",
    "                filtered_data = statcast_data[~statcast_data['pitcher'].isin(cohort_pitchers)]\n",
    "                if not filtered_data.empty:\n",
    "                    statcast_bulk[yr].append(filtered_data)\n",
    "        \n",
    "        except Exception as e:\n",
    "            print(f\"Error fetching data for {dates[i]} to {dates[i + 1]}: {e}\")\n",
    "\n",
    "    # concatenate all data for the year & upload to S3\n",
    "    full_year_data = pd.concat(statcast_bulk[yr], ignore_index=True) if statcast_bulk[yr] else pd.DataFrame()\n",
    "    aws_connection.upload_to_s3(\n",
    "        full_year_data, \n",
    "        f'epidemiology/cohorts/noninjured/bulk_statcast/{yr}.csv'\n",
    "    )"
   ]
  },
  {
   "cell_type": "markdown",
   "id": "ee4d6336",
   "metadata": {},
   "source": [
    "$\\textbf{Determine Non-injured Matches}$\n",
    "\n",
    "- __Matching criteria__: Height, mass, and pitches thrown prior to injury\n",
    "- Metadata scraped from each pitcher's webpage using `mlbamid` from Statcast data"
   ]
  },
  {
   "cell_type": "code",
   "execution_count": null,
   "id": "076eb4d7",
   "metadata": {},
   "outputs": [],
   "source": [
    "from services.scraping import *"
   ]
  },
  {
   "cell_type": "code",
   "execution_count": 42,
   "id": "30c5d6e1",
   "metadata": {},
   "outputs": [],
   "source": [
    "# load cohort metadata (mass, height, and pitches prior to injury)\n",
    "cohort_metadata = aws_connection.load_s3_object('epidemiology/cohorts/injured/pitchers_metadata.csv')\n",
    "cohort_injured = cohort_metadata.rename(columns={'mlbam_id': 'mlbamid'}).merge(cohort[['mlbamid', 'injury_date']], on='mlbamid', how='left')"
   ]
  },
  {
   "cell_type": "code",
   "execution_count": 55,
   "id": "5393d6bf",
   "metadata": {},
   "outputs": [
    {
     "name": "stdout",
     "output_type": "stream",
     "text": [
      "Acquiring pitcher metadata for year: 2016\n",
      "Completed metadata acquisition for year: 2016\n",
      "Acquiring pitcher metadata for year: 2017\n",
      "Completed metadata acquisition for year: 2017\n",
      "Acquiring pitcher metadata for year: 2018\n",
      "Completed metadata acquisition for year: 2018\n",
      "Acquiring pitcher metadata for year: 2019\n",
      "Completed metadata acquisition for year: 2019\n",
      "Acquiring pitcher metadata for year: 2020\n",
      "Completed metadata acquisition for year: 2020\n",
      "Acquiring pitcher metadata for year: 2021\n",
      "Completed metadata acquisition for year: 2021\n",
      "Acquiring pitcher metadata for year: 2022\n",
      "Completed metadata acquisition for year: 2022\n",
      "Acquiring pitcher metadata for year: 2023\n",
      "Completed metadata acquisition for year: 2023\n",
      "Acquiring pitcher metadata for year: 2024\n",
      "Completed metadata acquisition for year: 2024\n",
      "Acquiring pitcher metadata for year: 2025\n",
      "Completed metadata acquisition for year: 2025\n"
     ]
    }
   ],
   "source": [
    "\"\"\" SCRAPE NON-INJURED PITCHER METADATA \"\"\"\n",
    "# initialize list of non-injured player metadata\n",
    "player_metadata_list = []\n",
    "\n",
    "# iterate through bulk statcast data\n",
    "for year, data in list(statcast_bulk.items())[1:]:\n",
    "    \n",
    "    print(f\"Acquiring pitcher metadata for year: {year}\")\n",
    "    \n",
    "    if not data:\n",
    "        continue\n",
    "    \n",
    "    # concatenate all data for the year\n",
    "    full_year_data = pd.concat(data, ignore_index=True)\n",
    "    \n",
    "    # iterate through each pitcher in the year\n",
    "    for pitcher_id in full_year_data['pitcher'].unique():\n",
    "        pitcher_data = full_year_data[full_year_data['pitcher'] == pitcher_id]\n",
    "        \n",
    "        # check if the pitcher is in the cohort\n",
    "        if pitcher_id not in cohort_pitchers:\n",
    "            # scrape height and mass\n",
    "            player_metadata = get_player_metadata(pitcher_id)\n",
    "            total_pitches = full_year_data[full_year_data['pitcher'] == pitcher_id].shape[0]\n",
    "            \n",
    "            # save metadata if available\n",
    "            if player_metadata:\n",
    "                # add season, pitches thrown\n",
    "                player_metadata['pitches_thrown'] = total_pitches\n",
    "                player_metadata['season'] = year\n",
    "                \n",
    "                # append to full list\n",
    "                player_metadata_list.append(player_metadata)\n",
    "            else:\n",
    "                print(f\"No metadata found for pitcher ID: {pitcher_id}\")\n",
    "\n",
    "    print(f\"Completed metadata acquisition for year: {year}\")"
   ]
  },
  {
   "cell_type": "code",
   "execution_count": 56,
   "id": "f2fbf957",
   "metadata": {},
   "outputs": [
    {
     "name": "stdout",
     "output_type": "stream",
     "text": [
      "[AWS]: Uploaded object to s3://pitch-ml/epidemiology/cohorts/noninjured/pitchers_0825.csv\n"
     ]
    }
   ],
   "source": [
    "# convert to dataframe\n",
    "all_noninjured_pitchers = pd.DataFrame(player_metadata_list)\n",
    "\n",
    "# upload to S3\n",
    "aws_connection.upload_to_s3(\n",
    "    all_noninjured_pitchers, \n",
    "    'epidemiology/cohorts/noninjured/pitchers_0825.csv'\n",
    ")"
   ]
  },
  {
   "cell_type": "code",
   "execution_count": null,
   "id": "2e781882",
   "metadata": {},
   "outputs": [
    {
     "data": {
      "text/html": [
       "<div>\n",
       "<style scoped>\n",
       "    .dataframe tbody tr th:only-of-type {\n",
       "        vertical-align: middle;\n",
       "    }\n",
       "\n",
       "    .dataframe tbody tr th {\n",
       "        vertical-align: top;\n",
       "    }\n",
       "\n",
       "    .dataframe thead th {\n",
       "        text-align: right;\n",
       "    }\n",
       "</style>\n",
       "<table border=\"1\" class=\"dataframe\">\n",
       "  <thead>\n",
       "    <tr style=\"text-align: right;\">\n",
       "      <th></th>\n",
       "      <th>mlbamid</th>\n",
       "      <th>full_name</th>\n",
       "      <th>height</th>\n",
       "      <th>mass</th>\n",
       "      <th>pitches_prior_to_injury</th>\n",
       "      <th>injury_date</th>\n",
       "    </tr>\n",
       "  </thead>\n",
       "  <tbody>\n",
       "    <tr>\n",
       "      <th>0</th>\n",
       "      <td>525768</td>\n",
       "      <td>Tim Collins</td>\n",
       "      <td>1.702</td>\n",
       "      <td>75.296272</td>\n",
       "      <td>17</td>\n",
       "      <td>2015-03-11</td>\n",
       "    </tr>\n",
       "    <tr>\n",
       "      <th>1</th>\n",
       "      <td>525768</td>\n",
       "      <td>Tim Collins</td>\n",
       "      <td>1.702</td>\n",
       "      <td>75.296272</td>\n",
       "      <td>17</td>\n",
       "      <td>2016-04-15</td>\n",
       "    </tr>\n",
       "    <tr>\n",
       "      <th>2</th>\n",
       "      <td>572831</td>\n",
       "      <td>Josh Edgin</td>\n",
       "      <td>1.854</td>\n",
       "      <td>111.130040</td>\n",
       "      <td>12</td>\n",
       "      <td>2015-03-17</td>\n",
       "    </tr>\n",
       "    <tr>\n",
       "      <th>3</th>\n",
       "      <td>506433</td>\n",
       "      <td>Yu Darvish</td>\n",
       "      <td>1.956</td>\n",
       "      <td>99.790240</td>\n",
       "      <td>2341</td>\n",
       "      <td>2015-03-17</td>\n",
       "    </tr>\n",
       "    <tr>\n",
       "      <th>4</th>\n",
       "      <td>506433</td>\n",
       "      <td>Yu Darvish</td>\n",
       "      <td>1.956</td>\n",
       "      <td>99.790240</td>\n",
       "      <td>2341</td>\n",
       "      <td>2023-08-25</td>\n",
       "    </tr>\n",
       "    <tr>\n",
       "      <th>...</th>\n",
       "      <td>...</td>\n",
       "      <td>...</td>\n",
       "      <td>...</td>\n",
       "      <td>...</td>\n",
       "      <td>...</td>\n",
       "      <td>...</td>\n",
       "    </tr>\n",
       "    <tr>\n",
       "      <th>707</th>\n",
       "      <td>695549</td>\n",
       "      <td>Jackson Jobe</td>\n",
       "      <td>1.880</td>\n",
       "      <td>86.182480</td>\n",
       "      <td>2244</td>\n",
       "      <td>2025-06-16</td>\n",
       "    </tr>\n",
       "    <tr>\n",
       "      <th>708</th>\n",
       "      <td>669203</td>\n",
       "      <td>Corbin Burnes</td>\n",
       "      <td>1.905</td>\n",
       "      <td>111.130040</td>\n",
       "      <td>1297</td>\n",
       "      <td>2025-06-01</td>\n",
       "    </tr>\n",
       "    <tr>\n",
       "      <th>709</th>\n",
       "      <td>594902</td>\n",
       "      <td>Ben Lively</td>\n",
       "      <td>1.930</td>\n",
       "      <td>106.594120</td>\n",
       "      <td>1009</td>\n",
       "      <td>2025-06-04</td>\n",
       "    </tr>\n",
       "    <tr>\n",
       "      <th>710</th>\n",
       "      <td>669854</td>\n",
       "      <td>Ronel Blanco</td>\n",
       "      <td>1.905</td>\n",
       "      <td>120.201880</td>\n",
       "      <td>1009</td>\n",
       "      <td>2025-06-06</td>\n",
       "    </tr>\n",
       "    <tr>\n",
       "      <th>711</th>\n",
       "      <td>700363</td>\n",
       "      <td>AJ Smith-Shawver</td>\n",
       "      <td>1.905</td>\n",
       "      <td>92.986360</td>\n",
       "      <td>985</td>\n",
       "      <td>2025-06-09</td>\n",
       "    </tr>\n",
       "  </tbody>\n",
       "</table>\n",
       "<p>712 rows × 6 columns</p>\n",
       "</div>"
      ],
      "text/plain": [
       "     mlbamid         full_name  height        mass  pitches_prior_to_injury  \\\n",
       "0     525768       Tim Collins   1.702   75.296272                       17   \n",
       "1     525768       Tim Collins   1.702   75.296272                       17   \n",
       "2     572831        Josh Edgin   1.854  111.130040                       12   \n",
       "3     506433        Yu Darvish   1.956   99.790240                     2341   \n",
       "4     506433        Yu Darvish   1.956   99.790240                     2341   \n",
       "..       ...               ...     ...         ...                      ...   \n",
       "707   695549      Jackson Jobe   1.880   86.182480                     2244   \n",
       "708   669203     Corbin Burnes   1.905  111.130040                     1297   \n",
       "709   594902        Ben Lively   1.930  106.594120                     1009   \n",
       "710   669854      Ronel Blanco   1.905  120.201880                     1009   \n",
       "711   700363  AJ Smith-Shawver   1.905   92.986360                      985   \n",
       "\n",
       "    injury_date  \n",
       "0    2015-03-11  \n",
       "1    2016-04-15  \n",
       "2    2015-03-17  \n",
       "3    2015-03-17  \n",
       "4    2023-08-25  \n",
       "..          ...  \n",
       "707  2025-06-16  \n",
       "708  2025-06-01  \n",
       "709  2025-06-04  \n",
       "710  2025-06-06  \n",
       "711  2025-06-09  \n",
       "\n",
       "[712 rows x 6 columns]"
      ]
     },
     "execution_count": 43,
     "metadata": {},
     "output_type": "execute_result"
    }
   ],
   "source": [
    "# TODO: \n",
    "    # iterate through injured pitchers:\n",
    "        # grab pitcher height/mass/season --> find match candidates \n",
    "        # get injury date (last pitch before injury) --> search from start of season to injury date to match no. of pitches"
   ]
  },
  {
   "cell_type": "markdown",
   "id": "f4721d29",
   "metadata": {},
   "source": [
    "$\\textbf{Close AWS Connection}$"
   ]
  },
  {
   "cell_type": "code",
   "execution_count": null,
   "id": "2a4f338e",
   "metadata": {},
   "outputs": [],
   "source": []
  }
 ],
 "metadata": {
  "kernelspec": {
   "display_name": "pitch_ml",
   "language": "python",
   "name": "python3"
  },
  "language_info": {
   "codemirror_mode": {
    "name": "ipython",
    "version": 3
   },
   "file_extension": ".py",
   "mimetype": "text/x-python",
   "name": "python",
   "nbconvert_exporter": "python",
   "pygments_lexer": "ipython3",
   "version": "3.11.10"
  }
 },
 "nbformat": 4,
 "nbformat_minor": 5
}
