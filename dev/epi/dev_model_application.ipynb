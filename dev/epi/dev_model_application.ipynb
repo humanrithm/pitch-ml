{
 "cells": [
  {
   "cell_type": "code",
   "execution_count": null,
   "id": "ddd78dcc",
   "metadata": {},
   "outputs": [],
   "source": [
    "import pandas as pd\n",
    "from connections import AWS"
   ]
  },
  {
   "cell_type": "markdown",
   "id": "184a3516",
   "metadata": {},
   "source": [
    "$\\textbf{Epidemiology: Model Application (Development)}$\n",
    "\n",
    "__NOTE__ (8/11/25): Following some modifications to model development (i.e., retraining on all subjects) and data engineering (e.g., acquisition and storage), this notebook has been deprecated."
   ]
  },
  {
   "cell_type": "code",
   "execution_count": 80,
   "id": "beede5d6",
   "metadata": {},
   "outputs": [
    {
     "name": "stdout",
     "output_type": "stream",
     "text": [
      "[AWS]: Port 5433 is free.\n",
      "[AWS]: Connected to RDS endpoint.\n"
     ]
    }
   ],
   "source": [
    "\"\"\" INITIALIZE AWS CONNECTION \"\"\"\n",
    "aws_connection = AWS()\n",
    "aws_connection.connect()"
   ]
  },
  {
   "cell_type": "markdown",
   "id": "ed3a4d0d",
   "metadata": {},
   "source": [
    "$\\textbf{File Loading}$\n",
    "\n",
    "- Model files (results storage to find best model)\n",
    "- Data files (CSVs)"
   ]
  },
  {
   "cell_type": "code",
   "execution_count": null,
   "id": "265c5b91",
   "metadata": {},
   "outputs": [],
   "source": [
    "import pickle"
   ]
  },
  {
   "cell_type": "markdown",
   "id": "373e840c",
   "metadata": {},
   "source": [
    "$\\textbf{Model Data + Summary}$\n",
    "\n",
    "__Includes the following__: \n",
    "- All subject models & errors (best model is chosen as subject w/ min. RMSE and. > 15 pitches, ≥ 4 pitch types, and FB > 90 mph)\n",
    "- Model development data, which is used to summarize the training data"
   ]
  },
  {
   "cell_type": "code",
   "execution_count": 44,
   "id": "d48577e5",
   "metadata": {},
   "outputs": [],
   "source": [
    "# download model RMSE\n",
    "aws_connection.s3.download_file(\n",
    "    aws_connection.bucket_name, \n",
    "    'biomechanics/ml/modeling_summary/model_rmse.pkl', \n",
    "    'storage/all_subject_rmse.pkl'\n",
    "    )\n",
    "with open('storage/all_subject_rmse.pkl', 'rb') as f:\n",
    "    all_subject_errors = pickle.load(f)\n",
    "\n",
    "# download model dev data for reference\n",
    "model_dev_data = aws_connection.load_s3_object('biomechanics/ml/modeling_datasets/model_dev_raw.csv')\n",
    "model_summary_data = aws_connection.load_s3_object('biomechanics/ml/modeling_datasets/model_data_converted.csv')"
   ]
  },
  {
   "cell_type": "code",
   "execution_count": null,
   "id": "5c271967",
   "metadata": {},
   "outputs": [],
   "source": [
    "# TODO (instead of 2 cells below):  or retrain on all pitchers from D2, report RMSE"
   ]
  },
  {
   "cell_type": "code",
   "execution_count": null,
   "id": "e38a8a19",
   "metadata": {},
   "outputs": [],
   "source": [
    "# TODO: use best LOOCV model from D2?\n",
    "    # CRITERIA (must prove some generalizability):\n",
    "        # > 15 pitches\n",
    "        # ≥ 4 pitch types\n",
    "        # throws FB > 90 mph\n",
    "with open('storage/all_subject_models.pkl', 'rb') as f:\n",
    "    all_subject_models = pickle.load(f)\n",
    "\n",
    "# identify subjects meeting criteria --> 36 total\n",
    "valid_subjects = []\n",
    "for subject in all_subject_models.keys():\n",
    "    subject_data = model_dev_data[model_dev_data['subject_id'] == subject]\n",
    "    if len(subject_data) > 15 and len(subject_data['pitch_type'].unique()) >= 4:\n",
    "        if subject_data['rel_speed'].max() >= 90:\n",
    "            valid_subjects.append(subject)"
   ]
  },
  {
   "cell_type": "code",
   "execution_count": null,
   "id": "bedb1a8b",
   "metadata": {},
   "outputs": [
    {
     "name": "stdout",
     "output_type": "stream",
     "text": [
      "Best subject: 2636 with RMSE: 1.6280098603441266\n"
     ]
    }
   ],
   "source": [
    "# iterate through subjects to get best model based on RMSE\n",
    "    # NOTE: this is more complicated because of how errors were saved (no subject ID for reference)\n",
    "min_rmse = float('inf')\n",
    "best_subject = None\n",
    "for subject in valid_subjects:\n",
    "    subject_idx = list(all_subject_models.keys()).index(subject)            # identify index in list of all models\n",
    "    subject_rmse = all_subject_errors['baseline_rf'][subject_idx]           # get RMSE for subject\n",
    "    if subject_rmse < min_rmse:\n",
    "        min_rmse = subject_rmse\n",
    "        best_subject = subject\n",
    "\n",
    "# best subject details:\n",
    "    # subject ID: 2636 (RHP)\n",
    "    # RMSE: 1.63 Nm\n",
    "    # number of pitches: 28\n",
    "    # pitch types: FB (max: 91.2), CH, SL, CB\n",
    "    # TODO: dataset summary of non-2636 pitches\n",
    "print(f'Best subject: {best_subject} with RMSE: {min_rmse}')\n",
    "\n",
    "\"\"\" Store training set details \"\"\"\n",
    "    # NOTE: not in metric system; use model_summary_data for metric system\n",
    "training_data = model_dev_data[model_dev_data['subject_id'] != best_subject].copy()\n",
    "training_summary = training_data.agg({\n",
    "    'rel_speed': ['mean', 'std'],\n",
    "    'rel_side': ['mean', 'std'],\n",
    "    'rel_ht': ['mean', 'std'],\n",
    "    'spin_rate': ['mean', 'std'],\n",
    "    'spin_axis': ['mean', 'std'],\n",
    "    'ax0': ['mean', 'std'],\n",
    "    'ay0': ['mean', 'std'],\n",
    "    'az0': ['mean', 'std'],\n",
    "    'peak_value': ['mean', 'std'],\n",
    "    # 'peak_value_normalized': ['mean', 'std'],\n",
    "}).T\n",
    "\n",
    "# throwing hand counts\n",
    "throwing_hand_counts = training_data.groupby('subject_id')['pitcher_throws_rh'].unique().value_counts()\n",
    "\n",
    "# pitch type counts\n",
    "pitch_type_map = {\n",
    "    'Fastball': 'Fastball',\n",
    "    'Changeup': 'Changeup',\n",
    "    'Curveball': 'Curveball',\n",
    "    'Slider': 'Slider',\n",
    "    'Sinker': 'Fastball',\n",
    "    'Cutter': 'Other',\n",
    "    'Splitter': 'Changeup',\n",
    "    'FastBall': 'Fastball',\n",
    "    'CurveBall': 'Curveball',\n",
    "    'TwoSeamFastBall': 'Fastball',\n",
    "    'TwoSeamFastball': 'Fastball',\n",
    "    'Other': 'Other',\n",
    "    # 'Stretch' -- not a pitch type\n",
    "    # 'QuickPitch' -- not a pitch type\n",
    "    # 'Hesitation' -- not a pitch type\n",
    "    # 'Hitch' -- not a pitch type\n",
    "    '2020FB': 'Fastball',\n",
    "}\n",
    "training_data['pitch_type'] = training_data['pitch_type'].map(pitch_type_map)\n",
    "pitch_type_counts = training_data['pitch_type'].value_counts() / training_data['pitch_type'].count()"
   ]
  },
  {
   "cell_type": "markdown",
   "id": "80f7504a",
   "metadata": {},
   "source": [
    "$\\textbf{Cohort Data}$\n",
    "\n",
    "__Includes the following__:\n",
    "- Cohort details w/ injury date, type\n",
    "- Ball tracking data from Statcast (~260k  million pitches)\n",
    "- Additional injury metadata (e.g., tracked pitches prior to injury)\n",
    "- Bios scraped from Statcast (height, mass, mlbamid)\n",
    "\n",
    "There are __413__ injured pitchers with pitches tracked prior to injury. "
   ]
  },
  {
   "cell_type": "code",
   "execution_count": 82,
   "id": "1911c844",
   "metadata": {},
   "outputs": [],
   "source": [
    "# load all cohort CSVs\n",
    "cohort = aws_connection.load_s3_object('epidemiology/cohorts/injured/pitchers_0825.csv')\n",
    "cohort_ball_tracking = aws_connection.load_s3_object('epidemiology/cohorts/injured/statcast_data.csv')\n",
    "cohort_metadata = aws_connection.load_s3_object('epidemiology/cohorts/injured/statcast_metadata.csv')"
   ]
  },
  {
   "cell_type": "markdown",
   "id": "a5aa74fd",
   "metadata": {},
   "source": [
    "$\\textbf{Cohort Ball Tracking Summary}$\n",
    "\n",
    "Compares summary metrics to the model training set."
   ]
  },
  {
   "cell_type": "code",
   "execution_count": null,
   "id": "43e2ef47",
   "metadata": {},
   "outputs": [
    {
     "data": {
      "text/html": [
       "<div>\n",
       "<style scoped>\n",
       "    .dataframe tbody tr th:only-of-type {\n",
       "        vertical-align: middle;\n",
       "    }\n",
       "\n",
       "    .dataframe tbody tr th {\n",
       "        vertical-align: top;\n",
       "    }\n",
       "\n",
       "    .dataframe thead th {\n",
       "        text-align: right;\n",
       "    }\n",
       "</style>\n",
       "<table border=\"1\" class=\"dataframe\">\n",
       "  <thead>\n",
       "    <tr style=\"text-align: right;\">\n",
       "      <th></th>\n",
       "      <th>mean</th>\n",
       "      <th>std</th>\n",
       "    </tr>\n",
       "  </thead>\n",
       "  <tbody>\n",
       "    <tr>\n",
       "      <th>rel_speed</th>\n",
       "      <td>85.518971</td>\n",
       "      <td>6.242109</td>\n",
       "    </tr>\n",
       "    <tr>\n",
       "      <th>rel_side</th>\n",
       "      <td>0.771319</td>\n",
       "      <td>1.656260</td>\n",
       "    </tr>\n",
       "    <tr>\n",
       "      <th>rel_ht</th>\n",
       "      <td>5.689031</td>\n",
       "      <td>0.411926</td>\n",
       "    </tr>\n",
       "    <tr>\n",
       "      <th>spin_rate</th>\n",
       "      <td>2159.506519</td>\n",
       "      <td>338.047131</td>\n",
       "    </tr>\n",
       "    <tr>\n",
       "      <th>spin_axis</th>\n",
       "      <td>170.242415</td>\n",
       "      <td>74.714183</td>\n",
       "    </tr>\n",
       "    <tr>\n",
       "      <th>ax0</th>\n",
       "      <td>-2.547317</td>\n",
       "      <td>9.387685</td>\n",
       "    </tr>\n",
       "    <tr>\n",
       "      <th>ay0</th>\n",
       "      <td>26.073210</td>\n",
       "      <td>5.422035</td>\n",
       "    </tr>\n",
       "    <tr>\n",
       "      <th>az0</th>\n",
       "      <td>-22.104256</td>\n",
       "      <td>10.771334</td>\n",
       "    </tr>\n",
       "    <tr>\n",
       "      <th>peak_value</th>\n",
       "      <td>142.112568</td>\n",
       "      <td>24.832225</td>\n",
       "    </tr>\n",
       "  </tbody>\n",
       "</table>\n",
       "</div>"
      ],
      "text/plain": [
       "                   mean         std\n",
       "rel_speed     85.518971    6.242109\n",
       "rel_side       0.771319    1.656260\n",
       "rel_ht         5.689031    0.411926\n",
       "spin_rate   2159.506519  338.047131\n",
       "spin_axis    170.242415   74.714183\n",
       "ax0           -2.547317    9.387685\n",
       "ay0           26.073210    5.422035\n",
       "az0          -22.104256   10.771334\n",
       "peak_value   142.112568   24.832225"
      ]
     },
     "execution_count": 124,
     "metadata": {},
     "output_type": "execute_result"
    }
   ],
   "source": [
    "# view training summary\n",
    "    # NOTE: not in metric system, not hand-normalized\n",
    "training_summary"
   ]
  },
  {
   "cell_type": "code",
   "execution_count": 171,
   "id": "3d1e43c4",
   "metadata": {},
   "outputs": [
    {
     "data": {
      "text/html": [
       "<div>\n",
       "<style scoped>\n",
       "    .dataframe tbody tr th:only-of-type {\n",
       "        vertical-align: middle;\n",
       "    }\n",
       "\n",
       "    .dataframe tbody tr th {\n",
       "        vertical-align: top;\n",
       "    }\n",
       "\n",
       "    .dataframe thead th {\n",
       "        text-align: right;\n",
       "    }\n",
       "</style>\n",
       "<table border=\"1\" class=\"dataframe\">\n",
       "  <thead>\n",
       "    <tr style=\"text-align: right;\">\n",
       "      <th></th>\n",
       "      <th>mean</th>\n",
       "      <th>std</th>\n",
       "    </tr>\n",
       "  </thead>\n",
       "  <tbody>\n",
       "    <tr>\n",
       "      <th>rel_speed</th>\n",
       "      <td>89.160242</td>\n",
       "      <td>5.889090</td>\n",
       "    </tr>\n",
       "    <tr>\n",
       "      <th>rel_side</th>\n",
       "      <td>-0.864445</td>\n",
       "      <td>1.813908</td>\n",
       "    </tr>\n",
       "    <tr>\n",
       "      <th>rel_ht</th>\n",
       "      <td>5.870694</td>\n",
       "      <td>0.440371</td>\n",
       "    </tr>\n",
       "    <tr>\n",
       "      <th>spin_rate</th>\n",
       "      <td>2266.035551</td>\n",
       "      <td>351.676205</td>\n",
       "    </tr>\n",
       "    <tr>\n",
       "      <th>spin_axis</th>\n",
       "      <td>178.043714</td>\n",
       "      <td>70.537853</td>\n",
       "    </tr>\n",
       "    <tr>\n",
       "      <th>ax0</th>\n",
       "      <td>-2.704812</td>\n",
       "      <td>10.382072</td>\n",
       "    </tr>\n",
       "    <tr>\n",
       "      <th>ay0</th>\n",
       "      <td>27.049483</td>\n",
       "      <td>3.991918</td>\n",
       "    </tr>\n",
       "    <tr>\n",
       "      <th>az0</th>\n",
       "      <td>-23.486279</td>\n",
       "      <td>8.781136</td>\n",
       "    </tr>\n",
       "  </tbody>\n",
       "</table>\n",
       "</div>"
      ],
      "text/plain": [
       "                  mean         std\n",
       "rel_speed    89.160242    5.889090\n",
       "rel_side     -0.864445    1.813908\n",
       "rel_ht        5.870694    0.440371\n",
       "spin_rate  2266.035551  351.676205\n",
       "spin_axis   178.043714   70.537853\n",
       "ax0          -2.704812   10.382072\n",
       "ay0          27.049483    3.991918\n",
       "az0         -23.486279    8.781136"
      ]
     },
     "execution_count": 171,
     "metadata": {},
     "output_type": "execute_result"
    }
   ],
   "source": [
    "# update column names to match model training data\n",
    "cohort_ball_tracking = cohort_ball_tracking.rename(columns={\n",
    "    'release_speed': 'rel_speed',\n",
    "    'release_pos_x': 'rel_side',\n",
    "    'release_pos_z': 'rel_ht',\n",
    "    'release_spin_rate': 'spin_rate',\n",
    "    'spin_axis': 'spin_axis',\n",
    "    'ax': 'ax0',\n",
    "    'ay': 'ay0',\n",
    "    'az': 'az0',\n",
    "})\n",
    "model_fts = ['rel_speed', 'rel_side', 'rel_ht', 'spin_rate', 'spin_axis', 'ax0', 'ay0', 'az0']\n",
    "\n",
    "# setup model dataset for cohort\n",
    "    # keep days since prev game for later workload analysis\n",
    "    # drop rows with missing data (unusable by model)\n",
    "cohort_days_since_prev_game = cohort_ball_tracking[['pitcher', 'game_date', 'pitcher_days_since_prev_game']].dropna().copy().reset_index(names='pitch_id')\n",
    "cohort_model_data = cohort_ball_tracking[['pitcher'] + model_fts].copy().dropna().reset_index(names='pitch_id')\n",
    "\n",
    "# get & view summary of cohort data\n",
    "    # NOTE: not in metric system, not hand-normalized\n",
    "cohort_summary = cohort_model_data.agg({\n",
    "    'rel_speed': ['mean', 'std'],\n",
    "    'rel_side': ['mean', 'std'],\n",
    "    'rel_ht': ['mean', 'std'],\n",
    "    'spin_rate': ['mean', 'std'],\n",
    "    'spin_axis': ['mean', 'std'],\n",
    "    'ax0': ['mean', 'std'],\n",
    "    'ay0': ['mean', 'std'],\n",
    "    'az0': ['mean', 'std']\n",
    "}).T\n",
    "cohort_summary"
   ]
  },
  {
   "cell_type": "code",
   "execution_count": null,
   "id": "e0023973",
   "metadata": {},
   "outputs": [
    {
     "data": {
      "text/html": [
       "<div>\n",
       "<style scoped>\n",
       "    .dataframe tbody tr th:only-of-type {\n",
       "        vertical-align: middle;\n",
       "    }\n",
       "\n",
       "    .dataframe tbody tr th {\n",
       "        vertical-align: top;\n",
       "    }\n",
       "\n",
       "    .dataframe thead th {\n",
       "        text-align: right;\n",
       "    }\n",
       "</style>\n",
       "<table border=\"1\" class=\"dataframe\">\n",
       "  <thead>\n",
       "    <tr style=\"text-align: right;\">\n",
       "      <th></th>\n",
       "      <th>mean</th>\n",
       "      <th>std</th>\n",
       "    </tr>\n",
       "  </thead>\n",
       "  <tbody>\n",
       "    <tr>\n",
       "      <th>rel_speed</th>\n",
       "      <td>82.985714</td>\n",
       "      <td>5.499476</td>\n",
       "    </tr>\n",
       "    <tr>\n",
       "      <th>rel_side</th>\n",
       "      <td>1.061071</td>\n",
       "      <td>0.156828</td>\n",
       "    </tr>\n",
       "    <tr>\n",
       "      <th>rel_ht</th>\n",
       "      <td>6.178571</td>\n",
       "      <td>0.081227</td>\n",
       "    </tr>\n",
       "    <tr>\n",
       "      <th>spin_rate</th>\n",
       "      <td>2123.139286</td>\n",
       "      <td>279.416421</td>\n",
       "    </tr>\n",
       "    <tr>\n",
       "      <th>spin_axis</th>\n",
       "      <td>169.142857</td>\n",
       "      <td>53.030888</td>\n",
       "    </tr>\n",
       "    <tr>\n",
       "      <th>ax0</th>\n",
       "      <td>-3.968571</td>\n",
       "      <td>3.782671</td>\n",
       "    </tr>\n",
       "    <tr>\n",
       "      <th>ay0</th>\n",
       "      <td>24.246071</td>\n",
       "      <td>4.174302</td>\n",
       "    </tr>\n",
       "    <tr>\n",
       "      <th>az0</th>\n",
       "      <td>-19.943929</td>\n",
       "      <td>8.414144</td>\n",
       "    </tr>\n",
       "    <tr>\n",
       "      <th>peak_value</th>\n",
       "      <td>131.033491</td>\n",
       "      <td>7.752627</td>\n",
       "    </tr>\n",
       "  </tbody>\n",
       "</table>\n",
       "</div>"
      ],
      "text/plain": [
       "                   mean         std\n",
       "rel_speed     82.985714    5.499476\n",
       "rel_side       1.061071    0.156828\n",
       "rel_ht         6.178571    0.081227\n",
       "spin_rate   2123.139286  279.416421\n",
       "spin_axis    169.142857   53.030888\n",
       "ax0           -3.968571    3.782671\n",
       "ay0           24.246071    4.174302\n",
       "az0          -19.943929    8.414144\n",
       "peak_value   131.033491    7.752627"
      ]
     },
     "execution_count": 130,
     "metadata": {},
     "output_type": "execute_result"
    }
   ],
   "source": [
    "# compare to validation data (RMSE = 1.62 Nm)\n",
    "    # NOTE: should this more closely resemble the cohort data?\n",
    "val_data = model_dev_data[model_dev_data['subject_id'] == best_subject].copy()\n",
    "val_summary = val_data.agg({\n",
    "    'rel_speed': ['mean', 'std'],\n",
    "    'rel_side': ['mean', 'std'],\n",
    "    'rel_ht': ['mean', 'std'],\n",
    "    'spin_rate': ['mean', 'std'],\n",
    "    'spin_axis': ['mean', 'std'],\n",
    "    'ax0': ['mean', 'std'],\n",
    "    'ay0': ['mean', 'std'],\n",
    "    'az0': ['mean', 'std'],\n",
    "    'peak_value': ['mean', 'std'],\n",
    "    # 'peak_value_normalized': ['mean', 'std'],\n",
    "}).T\n",
    "val_summary"
   ]
  },
  {
   "cell_type": "markdown",
   "id": "41fe47bb",
   "metadata": {},
   "source": [
    "$\\textbf{Run Model}$"
   ]
  },
  {
   "cell_type": "code",
   "execution_count": null,
   "id": "6039a86b",
   "metadata": {},
   "outputs": [],
   "source": [
    "# extract model for cohort application\n",
    "cohort_evt_model = all_subject_models[best_subject]\n",
    "\n",
    "# generate preds for cohort\n",
    "    # INJURED MEAN: 0.083 ± 0.008 (normalized) --> slightly higher than full training set mean of 0.081 ± 0.013\n",
    "cohort_preds = cohort_evt_model.predict(cohort_model_data[model_fts])\n",
    "cohort_preds_df = pd.DataFrame(cohort_preds, columns=['pred_evt_normalized'], index=cohort_model_data['pitch_id']).reset_index()\n",
    "\n",
    "# add metadata to convert to Nm\n",
    "    # INJURED MEAN: 152.68 ± 22.7 Nm --> higher than full training set mean of 142.0 ± 24.8 Nm\n",
    "cohort_preds_df = cohort_model_data[['pitch_id', 'pitcher']].merge(cohort_preds_df, on='pitch_id', how='left')\n",
    "cohort_preds_metadata = cohort_metadata.rename(columns={'mlbam_id': 'pitcher'}).merge(cohort_preds_df, on='pitcher', how='inner')\n",
    "cohort_preds_metadata['pred_evt'] = cohort_preds_metadata['pred_evt_normalized'] * (cohort_preds_metadata['height'] * cohort_preds_metadata['mass'] * 9.81)\n",
    "\n",
    "# merge days since prev game, sort by date\n",
    "cohort_preds_metadata = cohort_preds_metadata.merge(cohort_days_since_prev_game, on=['pitcher', 'pitch_id'], how='inner')\n",
    "cohort_preds_final = cohort_preds_metadata.sort_values(['pitcher', 'game_date']).reset_index(drop=True)"
   ]
  },
  {
   "cell_type": "code",
   "execution_count": 205,
   "id": "76b4af9f",
   "metadata": {},
   "outputs": [
    {
     "name": "stdout",
     "output_type": "stream",
     "text": [
      "[AWS]: Uploaded object to s3://pitch-ml/epidemiology/cohorts/injured/preds_final.csv\n"
     ]
    }
   ],
   "source": [
    "# upload to S3\n",
    "aws_connection.upload_to_s3(\n",
    "    cohort_preds_final, \n",
    "    'epidemiology/cohorts/injured/preds_final.csv'\n",
    ")"
   ]
  },
  {
   "cell_type": "markdown",
   "id": "2c50ae8d",
   "metadata": {},
   "source": [
    "$\\textbf{Post-Model Analysis}$"
   ]
  },
  {
   "cell_type": "code",
   "execution_count": null,
   "id": "42ce48a9",
   "metadata": {},
   "outputs": [],
   "source": [
    "# TODO:\n",
    "    # separate starter/reliever?\n",
    "    # compute cumulative (normalized) torque by pitcher & game; save days btw outings?"
   ]
  },
  {
   "cell_type": "code",
   "execution_count": 196,
   "id": "b295275d",
   "metadata": {},
   "outputs": [],
   "source": [
    "# store days btw outings metadata (+ save rest counts for context)\n",
    "days_btw_outings = cohort_preds_final[['pitcher', 'game_date', 'pitcher_days_since_prev_game']].copy()\n",
    "rest_counts = pd.DataFrame(days_btw_outings['pitcher_days_since_prev_game'].value_counts()).reset_index()[0:10]"
   ]
  },
  {
   "cell_type": "code",
   "execution_count": null,
   "id": "2280ca03",
   "metadata": {},
   "outputs": [],
   "source": []
  },
  {
   "cell_type": "markdown",
   "id": "f2bfd3a5",
   "metadata": {},
   "source": [
    "$\\textbf{Close AWS Connection}$"
   ]
  },
  {
   "cell_type": "code",
   "execution_count": 210,
   "id": "cbdc84de",
   "metadata": {},
   "outputs": [
    {
     "name": "stdout",
     "output_type": "stream",
     "text": [
      "[AWS]: Database connection closed.\n",
      "[AWS]: SSH tunnel stopped.\n"
     ]
    }
   ],
   "source": [
    "aws_connection.close()"
   ]
  },
  {
   "cell_type": "code",
   "execution_count": null,
   "id": "94ce189c",
   "metadata": {},
   "outputs": [],
   "source": []
  }
 ],
 "metadata": {
  "kernelspec": {
   "display_name": "pitch_ml",
   "language": "python",
   "name": "python3"
  },
  "language_info": {
   "codemirror_mode": {
    "name": "ipython",
    "version": 3
   },
   "file_extension": ".py",
   "mimetype": "text/x-python",
   "name": "python",
   "nbconvert_exporter": "python",
   "pygments_lexer": "ipython3",
   "version": "3.11.10"
  }
 },
 "nbformat": 4,
 "nbformat_minor": 5
}
