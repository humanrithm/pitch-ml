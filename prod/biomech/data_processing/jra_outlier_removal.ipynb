{
 "cells": [
  {
   "cell_type": "code",
   "execution_count": 1,
   "id": "9fcb2b01",
   "metadata": {},
   "outputs": [],
   "source": [
    "import pandas as pd\n",
    "from connections import AWS"
   ]
  },
  {
   "cell_type": "markdown",
   "id": "150ed239",
   "metadata": {},
   "source": [
    "$\\textbf{JRA Postprocessing: Outlier Removal}$\n",
    "\n",
    "- __50 outliers__ in total, plus __2__ noisy subjects\n",
    "- ~8.7% of all trials were removed during outlier processing"
   ]
  },
  {
   "cell_type": "code",
   "execution_count": 2,
   "id": "7614d508",
   "metadata": {},
   "outputs": [
    {
     "name": "stdout",
     "output_type": "stream",
     "text": [
      "[AWS]: Port 5433 is free.\n",
      "[AWS]: Connected to RDS endpoint.\n"
     ]
    }
   ],
   "source": [
    "\"\"\" INITIALIZE AWS CONNECTION \"\"\"\n",
    "aws_connection = AWS()\n",
    "aws_connection.connect()"
   ]
  },
  {
   "cell_type": "code",
   "execution_count": 3,
   "id": "df8e4e9d",
   "metadata": {},
   "outputs": [],
   "source": [
    "# load peaks and trials (NOTE: returns as df; peaks provide outlier information)\n",
    "all_peaks = aws_connection.load_s3_object('biomechanics/subjects/summary/jra_peaks_all.csv')\n",
    "all_trials = aws_connection.load_s3_object('biomechanics/subjects/summary/jra_trials_all.csv')\n",
    "\n",
    "# add metadata for trials to filter outliers (± 1.96 SD from subject mean)\n",
    "num_outliers = all_peaks[all_peaks['outlier_flag'] == 1].shape[0]               # 229 outliers // 3650 trials\n",
    "all_trials_meta = all_trials.merge(\n",
    "    all_peaks,\n",
    "    on='study_id',\n",
    "    how='left'\n",
    ")\n",
    "all_trials_clean = all_trials_meta[all_trials_meta['outlier_flag'] == 0]"
   ]
  },
  {
   "cell_type": "code",
   "execution_count": 52,
   "id": "ac85c538",
   "metadata": {},
   "outputs": [],
   "source": [
    "\"\"\" OUTLIERS \"\"\"\n",
    "BAD_SUBJECTS = [2726, 3023]         # --> remove all pitches for these subjects\n",
    "BAD_TRIALS = []"
   ]
  },
  {
   "cell_type": "markdown",
   "id": "45acef6b",
   "metadata": {},
   "source": [
    "$\\textbf{Investigation}$\n",
    "\n",
    "Generate pitcher spaghetti plot, visually identify outlier threshold, append to list for removal."
   ]
  },
  {
   "cell_type": "code",
   "execution_count": 53,
   "id": "d5bb04ca",
   "metadata": {},
   "outputs": [],
   "source": [
    "import matplotlib.pyplot as plt"
   ]
  },
  {
   "cell_type": "code",
   "execution_count": 54,
   "id": "da381bdf",
   "metadata": {},
   "outputs": [],
   "source": [
    "# plot for pitcher-specific spaghetti plots\n",
    "def plot_subject_elbow_varus_torque(\n",
    "        subject_id: int, \n",
    "        df: pd.DataFrame\n",
    ") -> None:\n",
    "    \"\"\"    \n",
    "    Generates spaghetti plot of elbow varus torque for a specific subject over normalized time.\n",
    "\n",
    "    Args:\n",
    "        subject_id (int): The ID of the subject to plot.\n",
    "        df (pd.DataFrame): DataFrame containing the elbow varus torque data.\n",
    "    \"\"\"\n",
    "    subject_group = df[df['subject_id'] == subject_id]\n",
    "    if subject_group.empty:\n",
    "        print(f\"No data found for subject_id {subject_id}\")\n",
    "        return\n",
    "\n",
    "    plt.figure(figsize=(10, 6))\n",
    "    for _, group in subject_group.groupby('study_id'):\n",
    "        plt.plot(group['normalized_time'], group['elbow_varus_torque'], alpha=0.5)\n",
    "\n",
    "    if subject_group['peak_was_negative'].mean() == 1:\n",
    "        mean_peak = subject_group['peak_value'].mean() * -1\n",
    "    else:\n",
    "        mean_peak = subject_group['peak_value'].mean()\n",
    "    std_peak = subject_group['peak_value'].std()\n",
    "    plt.axhline(mean_peak, color='black', linestyle='--', label=f'Mean Peak: {mean_peak:.2f} Nm')\n",
    "    plt.axhline(mean_peak + 1.96 * std_peak, color='red', linestyle='--', alpha=0.7, label=f'±1.96 SD: {std_peak:.2f} Nm')\n",
    "    plt.axhline(mean_peak - 1.96 * std_peak, color='red', linestyle='--', alpha=0.7)\n",
    "\n",
    "    avg_peak_time = subject_group['peak_normalized_time'].mean()\n",
    "    plt.axvline(avg_peak_time, color='skyblue', linestyle='--', label=f'Avg Peak Normalized Time: {avg_peak_time:.2f}')\n",
    "\n",
    "    plt.xlabel('Normalized Time', fontdict={'fontsize': 14})\n",
    "    plt.ylabel('Elbow Varus Torque', fontdict={'fontsize': 14})\n",
    "    plt.title(f'Elbow Varus Torque vs Normalized Time\\nPitcher: {subject_id}')\n",
    "    plt.legend()\n",
    "    plt.tight_layout()\n",
    "    plt.show()\n",
    "\n",
    "# function to identify outliers based on threshold\n",
    "def identify_outliers(\n",
    "        df: pd.DataFrame, \n",
    "        subject_id: int,\n",
    "        threshold: float,\n",
    "        greater_than: bool = False\n",
    ") -> list:\n",
    "    \"\"\"\n",
    "    Identifies outliers in the DataFrame based on a specified threshold.\n",
    "\n",
    "    Args:\n",
    "        df (pd.DataFrame): DataFrame containing the elbow varus torque data.\n",
    "        subject_id (int): The ID of the subject to filter.\n",
    "        threshold (float): The threshold value to identify outliers.\n",
    "        greater_than (bool): If True, identifies values greater than the threshold; otherwise, identifies values less than the threshold.\n",
    "\n",
    "    Returns:\n",
    "        list: A list of study IDs that are considered outliers based on the specified threshold.\n",
    "    \"\"\"\n",
    "    if greater_than:\n",
    "        max_vals_pitcher = all_trials_clean[all_trials_clean['subject_id'] == subject_id].groupby('study_id')['elbow_varus_torque'].max()\n",
    "        outliers = max_vals_pitcher[max_vals_pitcher > threshold].index.tolist()\n",
    "    else:\n",
    "        min_vals_pitcher = all_trials_clean[all_trials_clean['subject_id'] == subject_id].groupby('study_id')['elbow_varus_torque'].min()\n",
    "        outliers  = min_vals_pitcher[min_vals_pitcher < threshold].index.tolist()\n",
    "\n",
    "    return outliers\n",
    "\n"
   ]
  },
  {
   "cell_type": "code",
   "execution_count": 55,
   "id": "a9b5c9dd",
   "metadata": {},
   "outputs": [],
   "source": [
    "# 2640 --> outliers: any pitches that get below -100 Nm\n",
    "# plot_subject_elbow_varus_torque(2640, all_trials_clean)\n",
    "\n",
    "# get list of outliers\n",
    "outliers_2640 = identify_outliers(all_trials_clean, 2640, -100, greater_than=False)\n",
    "BAD_TRIALS.extend(outliers_2640)"
   ]
  },
  {
   "cell_type": "code",
   "execution_count": 56,
   "id": "cb3c94e7",
   "metadata": {},
   "outputs": [],
   "source": [
    "# 2746 --> one pitch that gets below -100 Nm\n",
    "# plot_subject_elbow_varus_torque(2746, all_trials_clean)\n",
    "\n",
    "# get list of outliers\n",
    "outliers_2746 = identify_outliers(all_trials_clean, 2746, -100, greater_than=False)\n",
    "BAD_TRIALS.extend(outliers_2746)"
   ]
  },
  {
   "cell_type": "code",
   "execution_count": 57,
   "id": "4c67d72c",
   "metadata": {},
   "outputs": [],
   "source": [
    "# 2749 --> one pitch that gets above 185 Nm\n",
    "# plot_subject_elbow_varus_torque(2749, all_trials_clean)\n",
    "\n",
    "# get list of outliers\n",
    "outliers_2749 = identify_outliers(all_trials_clean, 2749, 185, greater_than=True)\n",
    "BAD_TRIALS.extend(outliers_2749)"
   ]
  },
  {
   "cell_type": "code",
   "execution_count": 58,
   "id": "ac66acec",
   "metadata": {},
   "outputs": [],
   "source": [
    "# 2951 --> bad pitches get below -150\n",
    "# plot_subject_elbow_varus_torque(2951, all_trials_clean)\n",
    "\n",
    "# get list of outliers\n",
    "outliers_2951 = identify_outliers(all_trials_clean, 2951, -150, greater_than=False)\n",
    "BAD_TRIALS.extend(outliers_2951)"
   ]
  },
  {
   "cell_type": "code",
   "execution_count": 59,
   "id": "435f174b",
   "metadata": {},
   "outputs": [],
   "source": [
    "# 2959 --> one pitch > 100\n",
    "# plot_subject_elbow_varus_torque(2959, all_trials_clean)\n",
    "\n",
    "# get list of outliers\n",
    "outliers_2959 = identify_outliers(all_trials_clean, 2959, 100, greater_than=True)\n",
    "BAD_TRIALS.extend(outliers_2959)"
   ]
  },
  {
   "cell_type": "code",
   "execution_count": null,
   "id": "04aff37b",
   "metadata": {},
   "outputs": [],
   "source": [
    "# 2976 --> bad pitches (~ 2) get below -130\n",
    "# plot_subject_elbow_varus_torque(2976, all_trials_clean)\n",
    "\n",
    "# get list of outliers\n",
    "outliers_2976 = identify_outliers(all_trials_clean, 2976, -130, greater_than=False)\n",
    "BAD_TRIALS.extend(outliers_2976)"
   ]
  },
  {
   "cell_type": "code",
   "execution_count": 70,
   "id": "4f91fc98",
   "metadata": {},
   "outputs": [],
   "source": [
    "# 2984 --> bad pitches seem to get above 190\n",
    "# plot_subject_elbow_varus_torque(2984, all_trials_clean)\n",
    "\n",
    "# get list of outliers\n",
    "outliers_2984 = identify_outliers(all_trials_clean, 2984, 190, greater_than=True)\n",
    "BAD_TRIALS.extend(outliers_2984)"
   ]
  },
  {
   "cell_type": "code",
   "execution_count": 74,
   "id": "87df6197",
   "metadata": {},
   "outputs": [],
   "source": [
    "# 2996 --> bad pitch gets below -131\n",
    "# plot_subject_elbow_varus_torque(2996, all_trials_clean)\n",
    "\n",
    "# get list of outliers\n",
    "outliers_2996 = identify_outliers(all_trials_clean, 2996, -131, greater_than=False)\n",
    "BAD_TRIALS.extend(outliers_2996)"
   ]
  },
  {
   "cell_type": "code",
   "execution_count": 76,
   "id": "dac2407f",
   "metadata": {},
   "outputs": [],
   "source": [
    "# 3050 --> bad pitches get above 110\n",
    "# plot_subject_elbow_varus_torque(3050, all_trials_clean)\n",
    "\n",
    "# get list of outliers\n",
    "outliers_3050 = identify_outliers(all_trials_clean, 3050, 110, greater_than=True)\n",
    "BAD_TRIALS.extend(outliers_3050)"
   ]
  },
  {
   "cell_type": "markdown",
   "id": "6494fa0b",
   "metadata": {},
   "source": [
    "$\\textbf{Outlier Removal}$"
   ]
  },
  {
   "cell_type": "code",
   "execution_count": 83,
   "id": "430732fa",
   "metadata": {},
   "outputs": [],
   "source": [
    "# create copy for postprocessed trials\n",
    "all_trials_postprocessed = all_trials_clean.copy()\n",
    "\n",
    "# remove bad trials and subjects from postprocessed dataframe\n",
    "all_trials_postprocessed = all_trials_postprocessed[~all_trials_postprocessed['study_id'].isin(BAD_TRIALS)]\n",
    "all_trials_postprocessed = all_trials_postprocessed[~all_trials_postprocessed['subject_id'].isin(BAD_SUBJECTS)]\n",
    "all_trials_postprocessed.reset_index(drop=True, inplace=True)\n",
    "\n",
    "# set outlier flag for bad trials\n",
    "all_peaks.loc[all_peaks['study_id'].isin(BAD_TRIALS), 'outlier_flag'] = 1\n",
    "all_peaks.loc[all_peaks['subject_id'].isin(BAD_SUBJECTS), 'outlier_flag'] = 1"
   ]
  },
  {
   "cell_type": "code",
   "execution_count": 88,
   "id": "60658c4b",
   "metadata": {},
   "outputs": [
    {
     "name": "stdout",
     "output_type": "stream",
     "text": [
      "[AWS]: Uploaded object to s3://pitch-ml/biomechanics/modeling_datasets/jra_trials_all.csv\n",
      "[AWS]: Uploaded object to s3://pitch-ml/biomechanics/postprocessed_datasets/modeling_datasets.csv\n"
     ]
    }
   ],
   "source": [
    "# re-upload to S3\n",
    "aws_connection.upload_to_s3(\n",
    "    all_trials_postprocessed, \n",
    "    'biomechanics/modeling_datasets/jra_trials_all.csv'\n",
    ")\n",
    "aws_connection.upload_to_s3(\n",
    "    all_peaks, \n",
    "    'biomechanics/postprocessed_datasets/modeling_datasets.csv'\n",
    ")"
   ]
  },
  {
   "cell_type": "markdown",
   "id": "482fe9ce",
   "metadata": {},
   "source": [
    "$\\textbf{Close AWS Connection}$"
   ]
  },
  {
   "cell_type": "code",
   "execution_count": 89,
   "id": "4da9ddf5",
   "metadata": {},
   "outputs": [
    {
     "name": "stdout",
     "output_type": "stream",
     "text": [
      "[AWS]: Database connection closed.\n",
      "[AWS]: SSH tunnel stopped.\n"
     ]
    }
   ],
   "source": [
    "aws_connection.close()"
   ]
  },
  {
   "cell_type": "code",
   "execution_count": null,
   "id": "bf09ce1b",
   "metadata": {},
   "outputs": [],
   "source": []
  }
 ],
 "metadata": {
  "kernelspec": {
   "display_name": "pitch_ml",
   "language": "python",
   "name": "python3"
  },
  "language_info": {
   "codemirror_mode": {
    "name": "ipython",
    "version": 3
   },
   "file_extension": ".py",
   "mimetype": "text/x-python",
   "name": "python",
   "nbconvert_exporter": "python",
   "pygments_lexer": "ipython3",
   "version": "3.11.10"
  }
 },
 "nbformat": 4,
 "nbformat_minor": 5
}
