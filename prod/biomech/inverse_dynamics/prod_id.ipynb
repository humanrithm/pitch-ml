{
 "cells": [
  {
   "cell_type": "code",
   "execution_count": 38,
   "id": "dbe4cacc",
   "metadata": {},
   "outputs": [],
   "source": [
    "import io\n",
    "import traceback\n",
    "import opensim as osim\n",
    "from connections import AWS\n",
    "import xml.etree.ElementTree as ET\n",
    "from biomech.processing.trc import *"
   ]
  },
  {
   "cell_type": "code",
   "execution_count": 91,
   "id": "1f75e25e",
   "metadata": {},
   "outputs": [
    {
     "name": "stdout",
     "output_type": "stream",
     "text": [
      "[AWS]: Port 5433 is free.\n",
      "[AWS]: Connected to RDS endpoint.\n"
     ]
    }
   ],
   "source": [
    "\"\"\" INITIALIZE AWS CONNECTION \"\"\"\n",
    "aws_connection = AWS()\n",
    "aws_connection.connect()"
   ]
  },
  {
   "cell_type": "markdown",
   "id": "9ba50628",
   "metadata": {},
   "source": [
    "$\\textbf{Inverse Kinematics: Pipeline}$\n",
    "\n",
    "- Conservative window: BR - 0.217 seconds; then add 0.25 seconds on either side for later trimming\n",
    "- Runs tool with updated template"
   ]
  },
  {
   "cell_type": "code",
   "execution_count": 40,
   "id": "c360b8ea",
   "metadata": {},
   "outputs": [],
   "source": [
    "from biomech.algorithms import diff_three_point"
   ]
  },
  {
   "cell_type": "code",
   "execution_count": 41,
   "id": "823c0b8a",
   "metadata": {},
   "outputs": [],
   "source": [
    "## OUTLINE\n",
    "\n",
    "# connect to AWS\n",
    "# load all subject info\n",
    "# iterate through subjects:\n",
    "    # load scaled model, IK template --> write to local dir\n",
    "    # load trial TRC file --> write to local dir\n",
    "    # setup & run IK tool \n",
    "\n",
    "\n",
    "# OTHER NEEDS\n",
    "\n",
    "# ball release identification function\n",
    "# trial .mot file to upload\n",
    "# trial errors"
   ]
  },
  {
   "cell_type": "code",
   "execution_count": 42,
   "id": "18521f31",
   "metadata": {},
   "outputs": [],
   "source": [
    "# load a .mot file (e.g., results from an IK run)\n",
    "def load_mot_file(path: str) -> pd.DataFrame:\n",
    "    return pd.read_csv(path, delim_whitespace=True, skiprows=10)"
   ]
  },
  {
   "cell_type": "code",
   "execution_count": 47,
   "id": "e5316a45",
   "metadata": {},
   "outputs": [],
   "source": [
    "# load all subject info\n",
    "subject_info = aws_connection.load_subject_info()\n",
    "\n",
    "# load all FILTERED mot files\n",
    "    # NOTE: this is a recent change to ensure clean joint angles make it to ID\n",
    "    # it's not entirely clear how to the OpenSim filtering process works, so this is a safety measure\n",
    "s3_objects = aws_connection.list_s3_objects(prefix='biomechanics/subjects/')\n",
    "mot_files = [obj for obj in s3_objects if obj.endswith('.mot') and '_ik_filtered' in obj]\n",
    "\n",
    "# set XML dir path \n",
    "XML_DIR = 'biomechanics/xml_templates'"
   ]
  },
  {
   "cell_type": "code",
   "execution_count": null,
   "id": "756947b0",
   "metadata": {},
   "outputs": [],
   "source": [
    "# initialize error log, ball release times\n",
    "error_log = []\n",
    "\n",
    "# iterate through subjects\n",
    "for subject in subject_info['subject_id'].unique():\n",
    "    \n",
    "    try:\n",
    "        # get subject info (ID -- string; throwing hand)\n",
    "        subject_id = str(subject)\n",
    "        throwing_hand = subject_info[subject_info['subject_id'] == subject]['throws'].values[0]\n",
    "\n",
    "        # list all subject trials (in trc_processed) & iterate through\n",
    "        subject_trials = [t for t in mot_files if f'{subject_id}' in t]\n",
    "        \n",
    "        if len(subject_trials) > 0:\n",
    "            print(f'Processing subject {subject_id} with {len(subject_trials)} trials...')\n",
    "\n",
    "            # load scaled model, save to local dir\n",
    "            scaled_model = aws_connection.load_xml_from_s3(f'biomechanics/subjects/{subject_id}/osim/{subject_id}_scaled_model.osim')\n",
    "            default_model_tree = ET.ElementTree(scaled_model)\n",
    "            default_model_tree.write(f'trial_model.osim')\n",
    "            \n",
    "            # update id template with scaled model, output motion file\n",
    "            id_tree_raw = ET.ElementTree('trial_template.xml')\n",
    "            id_root = id_tree_raw.getroot()\n",
    "\n",
    "            # iterate through trials\n",
    "            for trial in subject_trials:\n",
    "                # load trial IK results file (.mot) to local dir\n",
    "                aws_connection.s3.download_file(\n",
    "                    aws_connection.bucket_name, \n",
    "                    trial, \n",
    "                    'trial_motion.mot'\n",
    "                )\n",
    "                trial_mot_data = load_mot_file('trial_motion.mot')\n",
    "\n",
    "                \"\"\" ID SETUP \"\"\"\n",
    "                # set id window (subtract 0.217 seconds, then ± 0.25 seconds on either side)\n",
    "                id_start_time = trial_mot_data['time'].values[0]\n",
    "                id_end_time = trial_mot_data['time'].values[-1]\n",
    "\n",
    "                \"\"\" id RUNNING \"\"\"\n",
    "                # initialize id tool\n",
    "                id_tool = osim.InverseDynamicsTool(f'trial_template.xml')\n",
    "                \n",
    "                # update start/end time\n",
    "                id_tool.setStartTime(id_start_time)\n",
    "                id_tool.setEndTime(id_end_time)\n",
    "\n",
    "                # set ID cutoff frequency\n",
    "                id_tool.setLowpassCutoffFrequency(18)  # this is not BW; see https://pmc.ncbi.nlm.nih.gov/articles/PMC4340741/\n",
    "                \n",
    "                # run tool\n",
    "                id_tool.run()\n",
    "\n",
    "                \"\"\" UPLOADS TO S3 \"\"\"\n",
    "                # set trial ID from file\n",
    "                trial_id = trial.split('/')[-1].split('_ik')[0]\n",
    "\n",
    "                # upload to subject folder (non CSV)\n",
    "                aws_connection.s3.upload_file(\n",
    "                    'trial_moments.sto', \n",
    "                    aws_connection.bucket_name,\n",
    "                    f'biomechanics/subjects/{subject_id}/inverse_dynamics/{trial_id}_id.sto'\n",
    "                )\n",
    "                aws_connection.s3.upload_file(\n",
    "                    f'trial_template.xml', \n",
    "                    aws_connection.bucket_name,\n",
    "                    f'biomechanics/subjects/{subject_id}/inverse_dynamics/{trial_id}_id_template.xml'\n",
    "                )\n",
    "\n",
    "                # upload results to S3 (CSV)\n",
    "                trial_moments_df = pd.read_csv('trial_moments.sto', sep='\\s+', skiprows=6)\n",
    "                aws_connection.upload_to_s3(\n",
    "                    trial_moments_df, \n",
    "                    f'biomechanics/subjects/{subject_id}/inverse_dynamics/{trial_id}_id_results.csv'\n",
    "                )\n",
    "\n",
    "            print(f'Completed processing for subject {subject_id}.')\n",
    "\n",
    "    except Exception as e:\n",
    "        print(f\"Error processing subject {subject_id}: {e}\")\n",
    "\n",
    "        traceback.print_exc()\n",
    "\n",
    "        # log error\n",
    "        error_log.append({\n",
    "            'subject_id': subject_id,\n",
    "            'error': str(e)\n",
    "        })\n",
    "\n",
    "        continue"
   ]
  },
  {
   "cell_type": "code",
   "execution_count": 93,
   "id": "f472ccab",
   "metadata": {},
   "outputs": [
    {
     "name": "stdout",
     "output_type": "stream",
     "text": [
      "[AWS]: Uploaded object to s3://pitch-ml/biomechanics/subjects/summary/error_id_log.csv\n"
     ]
    }
   ],
   "source": [
    "# concatenate error log\n",
    "error_log_df = pd.DataFrame(error_log)\n",
    "\n",
    "# write error log to S3 bucket\n",
    "aws_connection.upload_to_s3(\n",
    "    error_log_df.to_csv(index=False),\n",
    "    'biomechanics/subjects/summary/error_id_log.csv'\n",
    ")"
   ]
  },
  {
   "cell_type": "code",
   "execution_count": 94,
   "id": "26fbe0c7",
   "metadata": {},
   "outputs": [
    {
     "name": "stdout",
     "output_type": "stream",
     "text": [
      "[AWS]: Database connection closed.\n",
      "[AWS]: SSH tunnel stopped.\n"
     ]
    }
   ],
   "source": [
    "# close AWS connection\n",
    "aws_connection.close()"
   ]
  },
  {
   "cell_type": "code",
   "execution_count": null,
   "id": "f479c49f",
   "metadata": {},
   "outputs": [],
   "source": []
  }
 ],
 "metadata": {
  "kernelspec": {
   "display_name": "pitch_ml",
   "language": "python",
   "name": "python3"
  },
  "language_info": {
   "codemirror_mode": {
    "name": "ipython",
    "version": 3
   },
   "file_extension": ".py",
   "mimetype": "text/x-python",
   "name": "python",
   "nbconvert_exporter": "python",
   "pygments_lexer": "ipython3",
   "version": "3.11.10"
  }
 },
 "nbformat": 4,
 "nbformat_minor": 5
}
