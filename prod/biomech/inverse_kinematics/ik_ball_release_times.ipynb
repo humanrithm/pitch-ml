{
 "cells": [
  {
   "cell_type": "code",
   "execution_count": 1,
   "id": "1b3cd5af",
   "metadata": {},
   "outputs": [],
   "source": [
    "import traceback\n",
    "import opensim as osim\n",
    "from connections import AWS\n",
    "import xml.etree.ElementTree as ET\n",
    "from biomech.processing.trc import *"
   ]
  },
  {
   "cell_type": "code",
   "execution_count": 2,
   "id": "1b048e97",
   "metadata": {},
   "outputs": [
    {
     "name": "stdout",
     "output_type": "stream",
     "text": [
      "[AWS]: Port 5433 is free.\n",
      "[AWS]: Connected to RDS endpoint.\n"
     ]
    }
   ],
   "source": [
    "\"\"\" INITIALIZE AWS CONNECTION \"\"\"\n",
    "aws_connection = AWS()\n",
    "aws_connection.connect()"
   ]
  },
  {
   "cell_type": "markdown",
   "id": "298cf37a",
   "metadata": {},
   "source": [
    "$\\textbf{Inverse Kinematics: Ball Release Times}$\n",
    "\n",
    "- Conservative window: BR - 0.217 seconds\n",
    "- When IK is run, add 0.25 seconds on either side for later trimming"
   ]
  },
  {
   "cell_type": "code",
   "execution_count": 3,
   "id": "9120fa59",
   "metadata": {},
   "outputs": [],
   "source": [
    "from biomech.algorithms import diff_three_point"
   ]
  },
  {
   "cell_type": "code",
   "execution_count": 4,
   "id": "edee64f8",
   "metadata": {},
   "outputs": [],
   "source": [
    "# load a .mot file (e.g., results from an IK run)\n",
    "def load_mot_file(path: str) -> pd.DataFrame:\n",
    "    return pd.read_csv(path, delim_whitespace=True, skiprows=10)"
   ]
  },
  {
   "cell_type": "code",
   "execution_count": null,
   "id": "ceb10728",
   "metadata": {},
   "outputs": [],
   "source": [
    "# load all subject info\n",
    "subject_info = aws_connection.load_subject_info()\n",
    "\n",
    "# load all (filtered) trc files\n",
    "s3_objects = aws_connection.list_s3_objects(prefix='biomechanics/subjects/')\n",
    "trc_files = [obj for obj in s3_objects if obj.endswith('.trc') and '_static' not in obj and '_filtered' in obj]"
   ]
  },
  {
   "cell_type": "code",
   "execution_count": null,
   "id": "5cfa633f",
   "metadata": {},
   "outputs": [],
   "source": [
    "# initialize error log, ball release times\n",
    "ball_release_times = []\n",
    "error_log = []\n",
    "\n",
    "# iterate through subjects\n",
    "for subject in subject_info['subject_id'].unique():\n",
    "    \n",
    "    try:\n",
    "        # get subject info (ID -- string; throwing hand)\n",
    "        subject_id = str(subject)\n",
    "        throwing_hand = subject_info[subject_info['subject_id'] == subject]['throws'].values[0]\n",
    "\n",
    "        # list all subject trials (in trc_processed) & iterate through\n",
    "        subject_trials = [t for t in trc_files if f'{subject_id}' in t]\n",
    "        \n",
    "        if len(subject_trials) > 0:\n",
    "            print(f'Processing subject {subject_id} with {len(subject_trials)} trials...')\n",
    "\n",
    "            # iterate through trials\n",
    "            for trial in subject_trials:\n",
    "                # load trial TRC file\n",
    "                trial_trc_bytes = aws_connection.load_s3_object(trial, return_info=False)\n",
    "                trial_trc_body = parse_trc_body(trial_trc_bytes, filter_markers=False, adjust_time=False)\n",
    "\n",
    "                # save TRC file to local dir\n",
    "                write_to_trc('trial.trc', trial_trc_body, throwing_hand, filter_markers=False)\n",
    "\n",
    "                \"\"\" BALL RELEASE IDENTIFICATION \"\"\"\n",
    "                # identify ball release (peak hand speed in x-direction + 5 frames)\n",
    "                hand_markers = ['X7', 'Y7', 'Z7']\n",
    "                trial_hand_speed = diff_three_point(trial_trc_body[hand_markers].values)\n",
    "                ball_release_index = trial_hand_speed[:, 0].argmax() + 5                            # peak speed (x-direction) + 5 frames\n",
    "                ball_release_time = trial_trc_body['Time'].iloc[ball_release_index]                  # time of ball release\n",
    "\n",
    "                # save ball release time\n",
    "                trial_id = trial.split('/')[-1].split('_filtered')[0]\n",
    "                ball_release_times.append({\n",
    "                    'trial_id': trial_id,\n",
    "                    'ball_release_time': ball_release_time\n",
    "                })\n",
    "\n",
    "            print(f'Completed processing for subject {subject_id}.')\n",
    "\n",
    "    except Exception as e:\n",
    "        print(f\"Error processing subject {subject_id}: {e}\")\n",
    "\n",
    "        traceback.print_exc()\n",
    "\n",
    "        # log error\n",
    "        error_log.append({\n",
    "            'subject_id': subject_id,\n",
    "            'error': str(e)\n",
    "        })\n",
    "\n",
    "        continue\n",
    "\n",
    "# save ball release times to S3\n",
    "ball_release_df = pd.DataFrame(ball_release_times)\n",
    "aws_connection.upload_to_s3(\n",
    "    ball_release_df,\n",
    "    s3_key='biomechanics/subjects/summary/ball_release_times.csv',\n",
    ")"
   ]
  },
  {
   "cell_type": "markdown",
   "id": "d09c3e36",
   "metadata": {},
   "source": [
    "$\\textbf{Close AWS Connection}$"
   ]
  },
  {
   "cell_type": "code",
   "execution_count": 12,
   "id": "a56237c3",
   "metadata": {},
   "outputs": [
    {
     "name": "stdout",
     "output_type": "stream",
     "text": [
      "[AWS]: Database connection closed.\n",
      "[AWS]: SSH tunnel stopped.\n"
     ]
    }
   ],
   "source": [
    "aws_connection.close()"
   ]
  },
  {
   "cell_type": "code",
   "execution_count": null,
   "id": "45e813dd",
   "metadata": {},
   "outputs": [],
   "source": []
  }
 ],
 "metadata": {
  "kernelspec": {
   "display_name": "pitch_ml",
   "language": "python",
   "name": "python3"
  },
  "language_info": {
   "codemirror_mode": {
    "name": "ipython",
    "version": 3
   },
   "file_extension": ".py",
   "mimetype": "text/x-python",
   "name": "python",
   "nbconvert_exporter": "python",
   "pygments_lexer": "ipython3",
   "version": "3.11.10"
  }
 },
 "nbformat": 4,
 "nbformat_minor": 5
}
