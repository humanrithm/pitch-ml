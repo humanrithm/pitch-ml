{
 "cells": [
  {
   "cell_type": "code",
   "execution_count": 17,
   "id": "4c19851b",
   "metadata": {},
   "outputs": [],
   "source": [
    "import io\n",
    "import pandas as pd\n",
    "from connections import AWS\n",
    "from biomech.processing import write_mot_file\n",
    "from biomech.algorithms import butter_lowpass_filter"
   ]
  },
  {
   "cell_type": "markdown",
   "id": "30ae0654",
   "metadata": {},
   "source": [
    "$\\textbf{Inverse Kinematics: Filtering}$\n",
    "\n",
    "- Applies fourth order, zero-lag, 18 Hz Butterworth filter to IK results files\n",
    "- Results re-saved as `.mot` files for OpenSim compatibility"
   ]
  },
  {
   "cell_type": "code",
   "execution_count": 3,
   "id": "fc73078f",
   "metadata": {},
   "outputs": [],
   "source": [
    "# load a .mot file (e.g., results from an IK run)\n",
    "def load_mot_file(path: str) -> pd.DataFrame:\n",
    "    return pd.read_csv(path, delim_whitespace=True, skiprows=10)"
   ]
  },
  {
   "cell_type": "code",
   "execution_count": 18,
   "id": "1760620f",
   "metadata": {},
   "outputs": [
    {
     "name": "stdout",
     "output_type": "stream",
     "text": [
      "[AWS]: Port 5433 is free.\n",
      "[AWS]: Connected to RDS endpoint.\n"
     ]
    }
   ],
   "source": [
    "\"\"\" INITIALIZE AWS CONNECTION \"\"\"\n",
    "aws_connection = AWS()\n",
    "aws_connection.connect()"
   ]
  },
  {
   "cell_type": "code",
   "execution_count": 13,
   "id": "c09cf910",
   "metadata": {},
   "outputs": [],
   "source": [
    "# load all IK results files\n",
    "s3_objects = aws_connection.list_s3_objects(prefix='biomechanics/subjects/')\n",
    "mot_files = [obj for obj in s3_objects if obj.endswith('.mot') and '_ik' in obj]"
   ]
  },
  {
   "cell_type": "code",
   "execution_count": null,
   "id": "36ac3336",
   "metadata": {},
   "outputs": [],
   "source": [
    "# iterate through all files\n",
    "for f in mot_files:\n",
    "    # load & convert to df\n",
    "    ik_bytes = aws_connection.load_s3_object(f)\n",
    "    ik_df = load_mot_file(io.BytesIO(ik_bytes))\n",
    "\n",
    "    # match angle columns based on throwing hand\n",
    "    if 'arm_flex_r' in ik_df.columns:\n",
    "        angle_cols = [\n",
    "            'arm_flex_r', 'arm_add_r', 'arm_rot_r', \n",
    "            'elbow_flex_r', 'pro_sup_r', 'wrist_flex_r', 'wrist_dev_r'\n",
    "        ]\n",
    "    else:\n",
    "        angle_cols = [\n",
    "            'arm_flex_l', 'arm_add_l', 'arm_rot_l', \n",
    "            'elbow_flex_l', 'pro_sup_l', 'wrist_flex_l', 'wrist_dev_l'\n",
    "        ]\n",
    "\n",
    "    # apply filter\n",
    "    ik_df_filt_18 = ik_df.copy()\n",
    "    ik_df_filt_18 = butter_lowpass_filter(\n",
    "        ik_df_filt_18,\n",
    "        columns=angle_cols,\n",
    "        cutoff=18,\n",
    "        order=4\n",
    "    )\n",
    "\n",
    "    # write to (local) .mot file\n",
    "    local_mot_path = 'trial_filtered.mot'\n",
    "    write_mot_file(\n",
    "        ik_df_filt_18,\n",
    "        local_mot_path\n",
    "    )\n",
    "\n",
    "    # upload to S3\n",
    "    subject_id = f.split('/')[-1].split('_ik')[0].split('_')[0]\n",
    "    trial_id = f.split('/')[-1].split('_ik')[0]\n",
    "    s3_dest = f'biomechanics/subjects/{subject_id}/mot_processed/{trial_id}_ik_filtered.mot'\n",
    "    aws_connection.s3.upload_file(local_mot_path, aws_connection.bucket_name, s3_dest)"
   ]
  },
  {
   "cell_type": "markdown",
   "id": "563b644a",
   "metadata": {},
   "source": [
    "$\\textbf{Close Connection}$"
   ]
  },
  {
   "cell_type": "code",
   "execution_count": 16,
   "id": "13dbfadd",
   "metadata": {},
   "outputs": [
    {
     "name": "stdout",
     "output_type": "stream",
     "text": [
      "[AWS]: Database connection closed.\n",
      "[AWS]: SSH tunnel stopped.\n"
     ]
    }
   ],
   "source": [
    "aws_connection.close()"
   ]
  },
  {
   "cell_type": "code",
   "execution_count": null,
   "id": "fccb2322",
   "metadata": {},
   "outputs": [],
   "source": []
  }
 ],
 "metadata": {
  "kernelspec": {
   "display_name": "pitch_ml",
   "language": "python",
   "name": "python3"
  },
  "language_info": {
   "codemirror_mode": {
    "name": "ipython",
    "version": 3
   },
   "file_extension": ".py",
   "mimetype": "text/x-python",
   "name": "python",
   "nbconvert_exporter": "python",
   "pygments_lexer": "ipython3",
   "version": "3.11.10"
  }
 },
 "nbformat": 4,
 "nbformat_minor": 5
}
