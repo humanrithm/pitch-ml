{
 "cells": [
  {
   "cell_type": "code",
   "execution_count": null,
   "id": "dbe4cacc",
   "metadata": {},
   "outputs": [],
   "source": [
    "import traceback\n",
    "import pandas as pd\n",
    "import opensim as osim\n",
    "from connections import AWS\n",
    "import xml.etree.ElementTree as ET\n",
    "from biomech.processing.trc import *"
   ]
  },
  {
   "cell_type": "code",
   "execution_count": 2,
   "id": "1f75e25e",
   "metadata": {},
   "outputs": [
    {
     "name": "stdout",
     "output_type": "stream",
     "text": [
      "[AWS]: Port 5433 is free.\n",
      "[AWS]: Connected to RDS endpoint.\n"
     ]
    }
   ],
   "source": [
    "\"\"\" INITIALIZE AWS CONNECTION \"\"\"\n",
    "aws_connection = AWS()\n",
    "aws_connection.connect()"
   ]
  },
  {
   "cell_type": "markdown",
   "id": "9ba50628",
   "metadata": {},
   "source": [
    "$\\textbf{Inverse Kinematics: Pipeline}$\n",
    "\n",
    "- Conservative window: BR - 0.217 seconds; then add 0.25 seconds on either side for later trimming\n",
    "- Runs tool with updated template"
   ]
  },
  {
   "cell_type": "code",
   "execution_count": 3,
   "id": "c360b8ea",
   "metadata": {},
   "outputs": [],
   "source": [
    "from biomech.algorithms import diff_three_point"
   ]
  },
  {
   "cell_type": "code",
   "execution_count": 4,
   "id": "823c0b8a",
   "metadata": {},
   "outputs": [],
   "source": [
    "## OUTLINE\n",
    "\n",
    "# connect to AWS\n",
    "# load all subject info\n",
    "# iterate through subjects:\n",
    "    # load scaled model, IK template --> write to local dir\n",
    "    # load trial TRC file --> write to local dir\n",
    "    # setup & run IK tool \n",
    "\n",
    "\n",
    "# OTHER NEEDS\n",
    "\n",
    "# ball release identification function\n",
    "# trial .mot file to upload\n",
    "# trial errors"
   ]
  },
  {
   "cell_type": "code",
   "execution_count": 5,
   "id": "18521f31",
   "metadata": {},
   "outputs": [],
   "source": [
    "# load a .mot file (e.g., results from an IK run)\n",
    "def load_mot_file(path: str) -> pd.DataFrame:\n",
    "    return pd.read_csv(path, delim_whitespace=True, skiprows=10)\n",
    "\n",
    "# create dataframe w/ IK errors\n",
    "def process_ik_errors(path: str = '_ik_marker_errors.sto',) -> tuple[pd.DataFrame, pd.DataFrame]:\n",
    "    return pd.read_csv(path, sep='\\t', skiprows=5, header=1)"
   ]
  },
  {
   "cell_type": "code",
   "execution_count": 6,
   "id": "e5316a45",
   "metadata": {},
   "outputs": [],
   "source": [
    "# load all subject info\n",
    "subject_info = aws_connection.load_subject_info()\n",
    "\n",
    "# load all (filtered) trc files\n",
    "s3_objects = aws_connection.list_s3_objects(prefix='biomechanics/subjects/')\n",
    "trc_files = [obj for obj in s3_objects if obj.endswith('.trc') and '_static' not in obj and '_filtered' in obj]\n",
    "\n",
    "# set XML dir path \n",
    "XML_DIR = 'biomechanics/xml_templates'"
   ]
  },
  {
   "cell_type": "code",
   "execution_count": null,
   "id": "756947b0",
   "metadata": {},
   "outputs": [],
   "source": [
    "# initialize error log, ball release times\n",
    "error_log = []\n",
    "ball_release_times = []\n",
    "\n",
    "# iterate through subjects\n",
    "for subject in subject_info['subject_id'].unique():\n",
    "    \n",
    "    try:\n",
    "        # get subject info (ID -- string; throwing hand)\n",
    "        subject_id = str(subject)\n",
    "        throwing_hand = subject_info[subject_info['subject_id'] == subject]['throws'].values[0]\n",
    "\n",
    "        # list all subject trials (in trc_processed) & iterate through\n",
    "        subject_trials = [t for t in trc_files if f'{subject_id}' in t]\n",
    "        \n",
    "        if len(subject_trials) > 0:\n",
    "            print(f'Processing subject {subject_id} with {len(subject_trials)} trials...')\n",
    "\n",
    "            # load IK template & scaled model\n",
    "            ik_template = aws_connection.load_xml_from_s3(f'{XML_DIR}/ik_{throwing_hand}.xml')\n",
    "            scaled_model = aws_connection.load_xml_from_s3(f'biomechanics/subjects/{subject_id}/osim/{subject_id}_scaled_model.osim')\n",
    "\n",
    "            # save model to local dir\n",
    "            default_model_tree = ET.ElementTree(scaled_model)\n",
    "            default_model_tree.write(f'trial_model.osim')\n",
    "            \n",
    "            # update IK template with scaled model, output motion file\n",
    "            ik_template.find(\".//model_file\").text = 'trial_model.osim'\n",
    "            ik_template.find(\".//output_motion_file\").text = f'trial.mot'\n",
    "\n",
    "            # iterate through trials\n",
    "            for trial in subject_trials:\n",
    "                # load trial TRC file\n",
    "                trial_trc_bytes = aws_connection.load_s3_object(trial, return_info=False)\n",
    "                trial_trc_body = parse_trc_body(trial_trc_bytes, filter_markers=False, adjust_time=False)\n",
    "\n",
    "                # save TRC file to local dir\n",
    "                write_to_trc('trial.trc', trial_trc_body, throwing_hand, filter_markers=False)\n",
    "\n",
    "                \"\"\" IK SETUP \"\"\"\n",
    "                # identify ball release (peak hand speed in x-direction + 5 frames)\n",
    "                hand_markers = ['X7', 'Y7', 'Z7']\n",
    "                trial_hand_speed = diff_three_point(trial_trc_body[hand_markers].values)\n",
    "                ball_release_index = trial_hand_speed[:, 0].argmax() + 5                            # peak speed (x-direction) + 5 frames\n",
    "                \n",
    "                # set IK window (subtract 0.217 seconds, then ± 0.25 seconds on either side)\n",
    "                ik_start_time = trial_trc_body['Time'].values[ball_release_index] - 0.217 - 0.25\n",
    "                ik_end_time = min(\n",
    "                    trial_trc_body['Time'].max(), \n",
    "                    trial_trc_body['Time'].values[ball_release_index] + 0.25\n",
    "                )\n",
    "                \n",
    "                # update xml template with trial file name, time range -- > then write to local dir\n",
    "                ik_template.find(\".//marker_file\").text = 'trial.trc'\n",
    "                ik_template.find(\".//time_range\").text = f'{ik_start_time} {ik_end_time}'\n",
    "\n",
    "                # write template to local dir\n",
    "                ik_template_tree = ET.ElementTree(ik_template)\n",
    "                ik_template_tree.write(f'trial_template_{throwing_hand}.xml')\n",
    "\n",
    "                \"\"\" IK RUNNING \"\"\"\n",
    "                # initialize IK tool\n",
    "                ik_tool = osim.InverseKinematicsTool(f'trial_template_{throwing_hand}.xml')\n",
    "                ik_tool.run()\n",
    "\n",
    "                # process results and errors (both as dataframes --> CSV)\n",
    "                ik_results = load_mot_file('trial.mot')\n",
    "                ik_errors = process_ik_errors('_ik_marker_errors.sto')\n",
    "\n",
    "                # \"\"\" UPLOADS TO S3 \"\"\"\n",
    "                # set trial ID from file\n",
    "                trial_id = trial.split('/')[-1].split('_filtered')[0]\n",
    "\n",
    "                # store ball release time\n",
    "                ball_release_times.append({\n",
    "                    'subject_id': subject_id,\n",
    "                    'study_id': trial_id,\n",
    "                    'window_start': ik_start_time,\n",
    "                    'ball_release_time': trial_trc_body['Time'].values[ball_release_index],\n",
    "                    'window_end': ik_end_time\n",
    "                })\n",
    "\n",
    "                # upload to subject folder (non CSV)\n",
    "                aws_connection.s3.upload_file(\n",
    "                    'trial.mot', \n",
    "                    aws_connection.bucket_name,\n",
    "                    f'biomechanics/subjects/{subject_id}/mot_processed/{trial_id}_ik.mot'\n",
    "                )\n",
    "                aws_connection.s3.upload_file(\n",
    "                    f'trial_template_{throwing_hand}.xml', \n",
    "                    aws_connection.bucket_name,\n",
    "                    f'biomechanics/subjects/{subject_id}/inverse_kinematics/{trial_id}_ik_template.xml'\n",
    "                )\n",
    "\n",
    "                # upload results to S3 (CSV)\n",
    "                aws_connection.upload_to_s3(ik_results, f'biomechanics/subjects/{subject_id}/inverse_kinematics/{trial_id}_ik_results.csv')\n",
    "                aws_connection.upload_to_s3(ik_errors, f'biomechanics/subjects/{subject_id}/inverse_kinematics/{trial_id}_ik_errors.csv')\n",
    "\n",
    "            print(f'Completed processing for subject {subject_id}.')\n",
    "\n",
    "    except Exception as e:\n",
    "        print(f\"Error processing subject {subject_id}: {e}\")\n",
    "\n",
    "        traceback.print_exc()\n",
    "\n",
    "        # log error\n",
    "        error_log.append({\n",
    "            'subject_id': subject_id,\n",
    "            'error': str(e)\n",
    "        })\n",
    "\n",
    "        continue"
   ]
  },
  {
   "cell_type": "code",
   "execution_count": 9,
   "id": "f472ccab",
   "metadata": {},
   "outputs": [
    {
     "name": "stdout",
     "output_type": "stream",
     "text": [
      "[AWS]: Uploaded object to s3://pitch-ml/biomechanics/subjects/summary/error_ik_log.csv\n"
     ]
    }
   ],
   "source": [
    "# concatenate error log\n",
    "error_log_df = pd.DataFrame(error_log)\n",
    "\n",
    "# write error log to S3 bucket\n",
    "aws_connection.upload_to_s3(\n",
    "    error_log_df.to_csv(index=False),\n",
    "    'biomechanics/subjects/summary/error_ik_log.csv'\n",
    ")"
   ]
  },
  {
   "cell_type": "code",
   "execution_count": 10,
   "id": "26fbe0c7",
   "metadata": {},
   "outputs": [
    {
     "name": "stdout",
     "output_type": "stream",
     "text": [
      "[AWS]: Database connection closed.\n",
      "[AWS]: SSH tunnel stopped.\n"
     ]
    }
   ],
   "source": [
    "# close AWS connection\n",
    "aws_connection.close()"
   ]
  },
  {
   "cell_type": "code",
   "execution_count": null,
   "id": "f479c49f",
   "metadata": {},
   "outputs": [],
   "source": []
  }
 ],
 "metadata": {
  "kernelspec": {
   "display_name": "pitch_ml",
   "language": "python",
   "name": "python3"
  },
  "language_info": {
   "codemirror_mode": {
    "name": "ipython",
    "version": 3
   },
   "file_extension": ".py",
   "mimetype": "text/x-python",
   "name": "python",
   "nbconvert_exporter": "python",
   "pygments_lexer": "ipython3",
   "version": "3.11.10"
  }
 },
 "nbformat": 4,
 "nbformat_minor": 5
}
