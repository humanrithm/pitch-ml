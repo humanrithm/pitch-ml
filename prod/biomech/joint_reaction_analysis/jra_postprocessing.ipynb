{
 "cells": [
  {
   "cell_type": "code",
   "execution_count": 18,
   "id": "a487ded9",
   "metadata": {},
   "outputs": [],
   "source": [
    "import io\n",
    "import traceback\n",
    "import pandas as pd\n",
    "from connections import AWS\n",
    "from biomech.algorithms import butter_lowpass_filter"
   ]
  },
  {
   "cell_type": "code",
   "execution_count": 2,
   "id": "02c07032",
   "metadata": {},
   "outputs": [
    {
     "name": "stdout",
     "output_type": "stream",
     "text": [
      "[AWS]: Port 5433 is free.\n",
      "[AWS]: Connected to RDS endpoint.\n"
     ]
    }
   ],
   "source": [
    "\"\"\" INITIALIZE AWS CONNECTION \"\"\"\n",
    "aws_connection = AWS()\n",
    "aws_connection.connect()"
   ]
  },
  {
   "cell_type": "markdown",
   "id": "8c09c526",
   "metadata": {},
   "source": [
    "$\\textbf{OpenSim Joint Reaction Analysis: Postprocessing}$\n",
    "\n",
    "- Aggregate all _elbow varus torque_ results files\n",
    "- Create spaghetti plots\n",
    "- Evaluate peaks for each trial & inspect for outliers"
   ]
  },
  {
   "cell_type": "code",
   "execution_count": null,
   "id": "e3ba5cec",
   "metadata": {},
   "outputs": [],
   "source": [
    "from jra_functions import get_trial_peaks, inspect_subject_results"
   ]
  },
  {
   "cell_type": "code",
   "execution_count": 42,
   "id": "5411675c",
   "metadata": {},
   "outputs": [],
   "source": [
    "# load all subject info\n",
    "subject_info = aws_connection.load_subject_info()\n",
    "\n",
    "# load all processed JRA files --> 3,650 total to start\n",
    "s3_objects = aws_connection.list_s3_objects(prefix='biomechanics/subjects/')\n",
    "jra_files = [obj for obj in s3_objects if obj.endswith('.sto') and 'jra_evt' in obj]"
   ]
  },
  {
   "cell_type": "code",
   "execution_count": 72,
   "id": "a28812eb",
   "metadata": {},
   "outputs": [
    {
     "name": "stdout",
     "output_type": "stream",
     "text": [
      "Processing subject 2609...\r"
     ]
    },
    {
     "name": "stdout",
     "output_type": "stream",
     "text": [
      "Processing subject 2611...\r"
     ]
    },
    {
     "name": "stderr",
     "output_type": "stream",
     "text": [
      "Traceback (most recent call last):\n",
      "  File \"/var/folders/tp/v0pnyp7d2v53cm631gtft6b80000gp/T/ipykernel_64017/763567618.py\", line 36, in <module>\n",
      "    trial_peaks = get_trial_peaks(trial_evt_data)\n",
      "                  ^^^^^^^^^^^^^^^^^^^^^^^^^^^^^^^\n",
      "  File \"/var/folders/tp/v0pnyp7d2v53cm631gtft6b80000gp/T/ipykernel_64017/1176745353.py\", line 20, in get_trial_peaks\n",
      "    'study_id': data['study_id'].unique()[0],\n",
      "                ~~~~~~~~~~~~~~~~~~~~~~~~~^^^\n",
      "IndexError: index 0 is out of bounds for axis 0 with size 0\n"
     ]
    },
    {
     "name": "stdout",
     "output_type": "stream",
     "text": [
      "Error processing biomechanics/subjects/2611/jra/2611_13_jra_evt.sto: index 0 is out of bounds for axis 0 with size 0\n",
      "No JRA files found for subject 2670. Skipping...\n",
      "Processing subject 3056...\r"
     ]
    }
   ],
   "source": [
    "# initialize JRA peak results\n",
    "error_log = []\n",
    "all_trials = []\n",
    "all_peaks = []\n",
    "\n",
    "# iterate through subjects\n",
    "    # NOTE: doing this to streamline outlier detection\n",
    "for subject_id in subject_info['subject_id'].unique():\n",
    "    print(f'Processing subject {subject_id}...', end='\\r', flush=True)\n",
    "    \n",
    "    # filter JRA files for this subject, initialize list of peaks\n",
    "    subject_jra_files = [f for f in jra_files if str(subject_id) in f]\n",
    "    subject_jra_peaks = []\n",
    "\n",
    "    if len(subject_jra_files) == 0:\n",
    "        print(f'No JRA files found for subject {subject_id}. Skipping...')\n",
    "        continue\n",
    "    \n",
    "    # iterate through subject files\n",
    "    for f in subject_jra_files:\n",
    "        try:\n",
    "            # extract subject ID, study ID, and throwing hand\n",
    "            study_id = f.split('/')[-1].split('_jra')[0]\n",
    "            subject_id = study_id.split('_')[0]\n",
    "            throwing_hand = subject_info.loc[subject_info['subject_id'] == int(subject_id), 'throws'].values[0]\n",
    "\n",
    "            # load JRA results file\n",
    "            trial_evt_bytes = aws_connection.load_s3_object(f)\n",
    "            trial_evt_data = pd.read_csv(io.BytesIO(trial_evt_bytes))\n",
    "\n",
    "            # append to all_trials w/ study_id inserted\n",
    "            trial_evt_data.insert(0, 'study_id', study_id)\n",
    "            all_trials.append(trial_evt_data)\n",
    "\n",
    "            # evaluate peaks for this trial\n",
    "            trial_peaks = get_trial_peaks(trial_evt_data)\n",
    "            subject_jra_peaks.append(trial_peaks)\n",
    "       \n",
    "        except Exception as e:\n",
    "            traceback.print_exc()\n",
    "            error_log.append({\n",
    "                'study_id': study_id,\n",
    "                'error': str(e)\n",
    "            })\n",
    "            print(f'Error processing {f}: {e}')\n",
    "            \n",
    "            continue\n",
    "    \n",
    "    try:\n",
    "        # evaluate subject results\n",
    "        subject_peaks_df = pd.DataFrame(subject_jra_peaks)\n",
    "        evaluated_subject_peaks = inspect_subject_results(subject_peaks_df)\n",
    "\n",
    "        # append to all_peaks\n",
    "        evaluated_subject_peaks.insert(0, 'subject_id', subject_id)\n",
    "        all_peaks.append(evaluated_subject_peaks)\n",
    "\n",
    "    except Exception as e:\n",
    "        traceback.print_exc()\n",
    "        error_log.append({\n",
    "            'subject_id': subject_id,\n",
    "            'error': str(e)\n",
    "        })\n",
    "        print(f'Error evaluating subject {subject_id}: {e}')\n",
    "        \n",
    "        continue\n",
    "\n",
    "# concatenate all trials and peaks\n",
    "all_trials = pd.concat(all_trials, ignore_index=True)\n",
    "all_peaks = pd.concat(all_peaks, ignore_index=True)"
   ]
  },
  {
   "cell_type": "markdown",
   "id": "6c0e9ed8",
   "metadata": {},
   "source": [
    "$\\textbf{Plotting}$\n",
    "\n",
    "- Spaghetti Plots (EVT vs. Normalized Time)"
   ]
  },
  {
   "cell_type": "code",
   "execution_count": null,
   "id": "e49c9040",
   "metadata": {},
   "outputs": [],
   "source": [
    "import matplotlib.pyplot as plt"
   ]
  },
  {
   "cell_type": "code",
   "execution_count": null,
   "id": "86ac4076",
   "metadata": {},
   "outputs": [],
   "source": [
    "# join trials with peaks on study_id\n",
    "trials_w_metadata = all_trials.merge(all_peaks, on=['study_id'], how='left')"
   ]
  },
  {
   "cell_type": "code",
   "execution_count": null,
   "id": "8985cc27",
   "metadata": {},
   "outputs": [],
   "source": [
    "# create figure\n",
    "plt.figure(figsize=(10, 6))\n",
    "\n",
    "# add traces to plot\n",
    "for study_id, group in trials_w_metadata[trials_w_metadata['outlier_flag'] == 0].groupby('study_id'):\n",
    "    plt.plot(group['normalized_time'], group['elbow_varus_torque'], alpha=0.5, label=study_id)\n",
    "\n",
    "# add details\n",
    "plt.xlabel('Normalized Time')\n",
    "plt.ylabel('Elbow Varus Torque')\n",
    "plt.title('Elbow Varus Torque vs Normalized Time')\n",
    "plt.legend([],[], frameon=False)\n",
    "plt.show()"
   ]
  },
  {
   "cell_type": "code",
   "execution_count": 41,
   "id": "ac5de325",
   "metadata": {},
   "outputs": [
    {
     "name": "stdout",
     "output_type": "stream",
     "text": [
      "[AWS]: Database connection closed.\n",
      "[AWS]: SSH tunnel stopped.\n"
     ]
    }
   ],
   "source": [
    "aws_connection.close()"
   ]
  },
  {
   "cell_type": "code",
   "execution_count": null,
   "id": "241484ac",
   "metadata": {},
   "outputs": [],
   "source": []
  }
 ],
 "metadata": {
  "kernelspec": {
   "display_name": "pitch_ml",
   "language": "python",
   "name": "python3"
  },
  "language_info": {
   "codemirror_mode": {
    "name": "ipython",
    "version": 3
   },
   "file_extension": ".py",
   "mimetype": "text/x-python",
   "name": "python",
   "nbconvert_exporter": "python",
   "pygments_lexer": "ipython3",
   "version": "3.11.10"
  }
 },
 "nbformat": 4,
 "nbformat_minor": 5
}
