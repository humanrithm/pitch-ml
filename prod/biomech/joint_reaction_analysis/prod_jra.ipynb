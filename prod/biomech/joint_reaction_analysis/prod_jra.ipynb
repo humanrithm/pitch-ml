{
 "cells": [
  {
   "cell_type": "code",
   "execution_count": 1,
   "id": "8f2bd500",
   "metadata": {},
   "outputs": [],
   "source": [
    "import opensim\n",
    "import traceback\n",
    "import pandas as pd\n",
    "from connections import AWS\n",
    "import xml.etree.ElementTree as ET\n",
    "from biomech.opensim import load_osim_model"
   ]
  },
  {
   "cell_type": "markdown",
   "id": "e0368137",
   "metadata": {},
   "source": [
    "$\\textbf{OpenSim: Joint Reaction Analysis}$\n",
    "\n",
    "- Dynamically load and update subject models/files to run tool\n",
    "- Store results using `AWS` connector"
   ]
  },
  {
   "cell_type": "code",
   "execution_count": 2,
   "id": "4045789e",
   "metadata": {},
   "outputs": [],
   "source": [
    "# load a .mot file (e.g., results from an IK run)\n",
    "def load_mot_file(path: str, skip_rows: int = 10) -> pd.DataFrame:\n",
    "    return pd.read_csv(path, sep='\\s+', skiprows=skip_rows)"
   ]
  },
  {
   "cell_type": "code",
   "execution_count": 68,
   "id": "73e7e1aa",
   "metadata": {},
   "outputs": [
    {
     "name": "stdout",
     "output_type": "stream",
     "text": [
      "[AWS]: Port 5433 is free.\n",
      "[AWS]: Connected to RDS endpoint.\n"
     ]
    }
   ],
   "source": [
    "\"\"\" INITIALIZE AWS CONNECTION \"\"\"\n",
    "aws_connection = AWS()\n",
    "aws_connection.connect()"
   ]
  },
  {
   "cell_type": "markdown",
   "id": "9eb8614e",
   "metadata": {},
   "source": [
    "$\\textit{JRA Setup}$\n",
    "\n",
    "- Pre-set file paths, constants, etc\n",
    "- Reference and load AWS objects/files"
   ]
  },
  {
   "cell_type": "code",
   "execution_count": 4,
   "id": "0042c70e",
   "metadata": {},
   "outputs": [],
   "source": [
    "from jra_functions import *"
   ]
  },
  {
   "cell_type": "code",
   "execution_count": 5,
   "id": "b4cebc5a",
   "metadata": {},
   "outputs": [],
   "source": [
    "\"\"\" OPENSIM SETUP \"\"\"\n",
    "# set paths\n",
    "JRA_PATH = 'setup_jra.xml'\n",
    "MODEL_PATH = 'trial_model.osim'\n",
    "IK_PATH = 'trial_motion.mot'\n",
    "ID_PATH = 'trial_moments.sto'\n",
    "\n",
    "# set constants\n",
    "STATES_IN_DEGREES = True            # default input file -- if not in header, uses this.\n",
    "REMOVE_SPHERES = True               # delete spheres as force elements (tbd if used)\n",
    "\n",
    "# set opensim settings\n",
    "opensim.Logger.setLevelString('error')\n",
    "\n",
    "# other parameters (TBD)\n",
    "Qds = []\n",
    "contact_spheres = {}                # should stay none <-- no GRFs"
   ]
  },
  {
   "cell_type": "code",
   "execution_count": null,
   "id": "703a0538",
   "metadata": {},
   "outputs": [],
   "source": [
    "\"\"\" AWS SETUP \"\"\"\n",
    "# load all subject info, ball release times\n",
    "subject_info = aws_connection.load_subject_info()\n",
    "ball_release_times = aws_connection.load_s3_object('biomechanics/subjects/summary/ball_release_times.csv')\n",
    "\n",
    "# load all (filtered) IK files\n",
    "s3_objects = aws_connection.list_s3_objects(prefix='biomechanics/subjects/')\n",
    "mot_files = [obj for obj in s3_objects if obj.endswith('.mot') and '_ik' in obj]\n",
    "id_files = [obj for obj in s3_objects if obj.endswith('.sto') and '_id' in obj]\n",
    "\n",
    "# set XML dir path \n",
    "XML_DIR = 'biomechanics/xml_templates'"
   ]
  },
  {
   "cell_type": "code",
   "execution_count": null,
   "id": "1a6dbbbe",
   "metadata": {},
   "outputs": [
    {
     "name": "stdout",
     "output_type": "stream",
     "text": [
      "[AWS]: Folder s3://pitch-ml/biomechanics/subjects/2609/jra/ already exists.\n",
      "Processing subject 2609 with 19 trials...\n",
      "[AWS]: Uploaded object to s3://pitch-ml/biomechanics/subjects/2609/jra/2609_01_jra_results.sto\n",
      "[AWS]: Uploaded object to s3://pitch-ml/biomechanics/subjects/2609/jra/2609_01_jra_evt.sto\n",
      "[AWS]: Uploaded object to s3://pitch-ml/biomechanics/subjects/2609/jra/2609_02_jra_results.sto\n",
      "[AWS]: Uploaded object to s3://pitch-ml/biomechanics/subjects/2609/jra/2609_02_jra_evt.sto\n",
      "[AWS]: Uploaded object to s3://pitch-ml/biomechanics/subjects/2609/jra/2609_03_jra_results.sto\n",
      "[AWS]: Uploaded object to s3://pitch-ml/biomechanics/subjects/2609/jra/2609_03_jra_evt.sto\n"
     ]
    }
   ],
   "source": [
    "# initialize error log\n",
    "error_log = []\n",
    "\n",
    "# iterate through subjects\n",
    "for subject in subject_info['subject_id'].unique():\n",
    "    \n",
    "    try:\n",
    "        # get subject info (ID -- string; throwing hand)\n",
    "        subject_id = str(subject)\n",
    "        throwing_hand = subject_info[subject_info['subject_id'] == subject]['throws'].values[0]\n",
    "\n",
    "        # list all subject trials (in trc_processed) & iterate through\n",
    "        subject_trials_ik = [t for t in mot_files if f'{subject_id}' in t]\n",
    "        subject_trials_id = [s for s in id_files if f'{subject_id}' in s]\n",
    "\n",
    "         # create jra folder if it doesn't exist\n",
    "        aws_connection.create_s3_folder(f'biomechanics/subjects/{subject_id}/jra/')\n",
    "        \n",
    "        # check if subject has trials\n",
    "        if len(subject_trials_ik) > 0:\n",
    "            print(f'Processing subject {subject_id} with {len(subject_trials_ik)} trials...')\n",
    "\n",
    "            \n",
    "            \"\"\" FILE LOADING & SETUP \"\"\"\n",
    "            # load subject caled model (w/ hand-ball segment updates) to use for trials\n",
    "                # NOTE: this model was used for ID\n",
    "            scaled_model_xml = aws_connection.load_xml_from_s3(\n",
    "                f'biomechanics/subjects/{subject_id}/osim/{subject_id}_scaled_model_hb.xml'\n",
    "            )\n",
    "            scaled_model_tree = ET.ElementTree(scaled_model_xml)\n",
    "            scaled_model_tree.write(f'trial_model.osim')                # write model locally\n",
    "\n",
    "            # load subject model for trials\n",
    "            scaled_model = opensim.Model(f'trial_model.osim')\n",
    "\n",
    "            # handle force set\n",
    "                # NOTE: force set is not used, but this matches steps from reference code\n",
    "            scaled_model, force_set = handle_force_set(scaled_model, REMOVE_SPHERES)\n",
    "            \n",
    "            # iterate through trials here for IK/ID relevant tasks\n",
    "            for trial in subject_trials_ik:\n",
    "                trial_id = trial.split('/')[-1].split('_ik.mot')[0]                     # get trial ID for saving/checking for ID\n",
    "\n",
    "                \"\"\" IK SETUP \"\"\"\n",
    "                # load IK trial from S3 --> trial_motion.mot\n",
    "                aws_connection.s3.download_file(\n",
    "                    aws_connection.bucket_name,\n",
    "                    trial,\n",
    "                    'trial_motion.mot'\n",
    "                )\n",
    "                trial_mot_data = pd.read_csv(IK_PATH, sep='\\s+', skiprows=10)           # for JRA prep below\n",
    "                \n",
    "                # handle coordinates & update kinematic states\n",
    "                coords, n_coords, coord_names, controller_set = handle_coordinates(scaled_model)\n",
    "                q, qd, state_time, in_degrees, state_names = update_kinematic_states(\n",
    "                    n_coords,\n",
    "                    coords,\n",
    "                    coord_names,\n",
    "                    ik_path=IK_PATH,\n",
    "                    preset_degree_state=STATES_IN_DEGREES,\n",
    "                )\n",
    "\n",
    "                \"\"\" ID SETUP \"\"\"\n",
    "                # load ID trial from S3\n",
    "                matching_id_file = next((item for item in subject_trials_id if trial_id in item), None)         # look for matching ID file\n",
    "                if matching_id_file:\n",
    "                    # download from S3 --> trial_moments.sto\n",
    "                    aws_connection.s3.download_file(\n",
    "                        aws_connection.bucket_name,\n",
    "                        matching_id_file,\n",
    "                        'trial_moments.sto'\n",
    "                    )\n",
    "\n",
    "                    # load into opensim format\n",
    "                    id_table = opensim.TimeSeriesTable(ID_PATH)\n",
    "                    id_time = id_table.getIndependentColumn()                           # get time column from ID results    \n",
    "                \n",
    "                else:\n",
    "                    print(f'No matching ID file found for trial {trial_id}. Skipping ID processing.')\n",
    "                    # log error\n",
    "                    error_log.append({\n",
    "                        'subject_id': subject_id,\n",
    "                        'error': f'No matching ID file found for trial {trial_id}. Skipping ID processing.'\n",
    "                    })\n",
    "                    \n",
    "                    continue\n",
    "\n",
    "                \"\"\" MODEL JRA PREP \"\"\"\n",
    "                jra_setup = setup_joint_reaction_analysis(\n",
    "                    model=scaled_model,\n",
    "                    coord_names=coord_names,\n",
    "                    mot_data=trial_mot_data,\n",
    "                    jra_path=JRA_PATH,\n",
    "                    print_to_xml=False\n",
    "                )\n",
    "                jointReaction_finished = run_joint_reaction_analysis(\n",
    "                    scaled_model,\n",
    "                    jra_setup['state'],\n",
    "                    jra_setup['jointReaction'],\n",
    "                    coords,\n",
    "                    n_coords,\n",
    "                    controller_set,\n",
    "                    id_table,\n",
    "                    id_time,\n",
    "                    state_time,\n",
    "                    q,\n",
    "                    qd,\n",
    "                    jra_setup['system_position_idxs'],\n",
    "                    jra_setup['system_velocity_idxs']\n",
    "                )\n",
    "                \n",
    "                \"\"\" POSTPROCESSING \"\"\"\n",
    "                # includes the following:\n",
    "                    # print to local dir\n",
    "                    # evt extraction\n",
    "                    # AWS upload\n",
    "                    # NOTE: need to extract ball release times for all subjects\n",
    "                jointReaction_finished.printResults('trial_results')\n",
    "                trial_jra_results = pd.read_csv('trial_results_JointReactionAnalysis_ReactionLoads.sto', sep='\\s+', skiprows=11)\n",
    "\n",
    "                # extract EVT data\n",
    "                evt_col = get_evt_col(throwing_hand)\n",
    "                evt_data = trial_jra_results[['time', evt_col]].rename(columns={evt_col: 'elbow_varus_torque'})\n",
    "\n",
    "                # postprocess EVT data (filter to FC->BR, normalize time)\n",
    "                br_time = ball_release_times[ball_release_times['study_id'] == trial_id]['ball_release_time'].values[0]\n",
    "                evt_data_clean = postprocess_evt_results(evt_data, ball_release_time=br_time)\n",
    "\n",
    "                # AWS upload (full results & EVT data)\n",
    "                aws_connection.upload_to_s3(\n",
    "                    trial_jra_results,\n",
    "                    f'biomechanics/subjects/{subject_id}/jra/{trial_id}_jra_results.sto',\n",
    "                )\n",
    "                aws_connection.upload_to_s3(\n",
    "                    evt_data_clean,\n",
    "                    f'biomechanics/subjects/{subject_id}/jra/{trial_id}_jra_evt.sto',\n",
    "                )\n",
    "\n",
    "    # error handling\n",
    "    except Exception as e:\n",
    "        print(f\"Error processing subject {subject_id}: {e}\")\n",
    "\n",
    "        traceback.print_exc()\n",
    "\n",
    "        # log error\n",
    "        error_log.append({\n",
    "            'subject_id': subject_id,\n",
    "            'error': str(e)\n",
    "        })\n",
    "\n",
    "        continue\n",
    "\n"
   ]
  },
  {
   "cell_type": "code",
   "execution_count": 8,
   "id": "d7d380c3",
   "metadata": {},
   "outputs": [
    {
     "name": "stdout",
     "output_type": "stream",
     "text": [
      "[AWS]: Uploaded object to s3://pitch-ml/subjects/summary/error_jra_log.csv\n"
     ]
    }
   ],
   "source": [
    "# concatenate error log\n",
    "error_log_df = pd.DataFrame(error_log)\n",
    "\n",
    "# write error log to S3 bucket\n",
    "aws_connection.upload_to_s3(\n",
    "    error_log_df.to_csv(index=False),\n",
    "    'subjects/summary/error_jra_log.csv'\n",
    ")"
   ]
  },
  {
   "cell_type": "markdown",
   "id": "4dbfa59c",
   "metadata": {},
   "source": [
    "$\\textbf{Close AWS Connection}$"
   ]
  },
  {
   "cell_type": "code",
   "execution_count": 67,
   "id": "3fe166d6",
   "metadata": {},
   "outputs": [
    {
     "name": "stdout",
     "output_type": "stream",
     "text": [
      "[AWS]: Database connection closed.\n",
      "[AWS]: SSH tunnel stopped.\n"
     ]
    }
   ],
   "source": [
    "aws_connection.close()"
   ]
  },
  {
   "cell_type": "code",
   "execution_count": null,
   "id": "6ad61314",
   "metadata": {},
   "outputs": [],
   "source": []
  }
 ],
 "metadata": {
  "kernelspec": {
   "display_name": "pitch_ml",
   "language": "python",
   "name": "python3"
  },
  "language_info": {
   "codemirror_mode": {
    "name": "ipython",
    "version": 3
   },
   "file_extension": ".py",
   "mimetype": "text/x-python",
   "name": "python",
   "nbconvert_exporter": "python",
   "pygments_lexer": "ipython3",
   "version": "3.11.10"
  }
 },
 "nbformat": 4,
 "nbformat_minor": 5
}
