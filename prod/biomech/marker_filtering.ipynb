{
 "cells": [
  {
   "cell_type": "code",
   "execution_count": 3,
   "id": "91cf1d56",
   "metadata": {},
   "outputs": [],
   "source": [
    "import pandas as pd\n",
    "from connections.aws import AWS"
   ]
  },
  {
   "cell_type": "code",
   "execution_count": 4,
   "id": "b6e65430",
   "metadata": {},
   "outputs": [
    {
     "name": "stdout",
     "output_type": "stream",
     "text": [
      "[AWS]: Port 5433 is free.\n",
      "[AWS]: Connected to RDS endpoint.\n"
     ]
    }
   ],
   "source": [
    "\"\"\" INITIALIZE AWS CONNECTION \"\"\"\n",
    "aws_connection = AWS()\n",
    "aws_connection.connect()"
   ]
  },
  {
   "cell_type": "markdown",
   "id": "3041f59f",
   "metadata": {},
   "source": [
    "$\\textbf{Butterworth Filtering}$\n",
    "\n",
    "See underlying details in `dev/biomech/dev_marker_filtering.ipynb`."
   ]
  },
  {
   "cell_type": "code",
   "execution_count": 5,
   "id": "2597a2a5",
   "metadata": {},
   "outputs": [],
   "source": [
    "from biomech.processing.trc import *\n",
    "from biomech.algorithms import butter_lowpass_filter"
   ]
  },
  {
   "cell_type": "code",
   "execution_count": 6,
   "id": "7d3dcf95",
   "metadata": {},
   "outputs": [],
   "source": [
    "# load subject info\n",
    "subject_info = aws_connection.load_subject_info()\n",
    "\n",
    "# load trc files\n",
    "s3_objects = aws_connection.list_s3_objects(prefix='subjects/')\n",
    "trc_files = [obj for obj in s3_objects if obj.endswith('.trc') and '_static' not in obj]        # filter for trc files"
   ]
  },
  {
   "cell_type": "code",
   "execution_count": null,
   "id": "e7f9456e",
   "metadata": {},
   "outputs": [
    {
     "name": "stdout",
     "output_type": "stream",
     "text": [
      "[AWS]: TRC file written to s3://pitch-ml/subjects/2609/trc_processed/2609_01_filtered.trc\n",
      "[AWS]: TRC file written to s3://pitch-ml/subjects/2609/trc_processed/2609_02_filtered.trc\n",
      "[AWS]: TRC file written to s3://pitch-ml/subjects/2609/trc_processed/2609_03_filtered.trc\n",
      "[AWS]: TRC file written to s3://pitch-ml/subjects/2609/trc_processed/2609_04_filtered.trc\n",
      "[AWS]: TRC file written to s3://pitch-ml/subjects/2609/trc_processed/2609_05_filtered.trc\n",
      "[AWS]: TRC file written to s3://pitch-ml/subjects/2609/trc_processed/2609_06_filtered.trc\n",
      "[AWS]: TRC file written to s3://pitch-ml/subjects/2609/trc_processed/2609_07_filtered.trc\n",
      "[AWS]: TRC file written to s3://pitch-ml/subjects/2609/trc_processed/2609_08_filtered.trc\n",
      "[AWS]: TRC file written to s3://pitch-ml/subjects/2609/trc_processed/2609_09_filtered.trc\n",
      "[AWS]: TRC file written to s3://pitch-ml/subjects/2609/trc_processed/2609_10_filtered.trc\n",
      "Error processing file subjects/2609/trc_raw/2609_11.trc: The length of the input vector x must be greater than padlen, which is 9.\n",
      "[AWS]: TRC file written to s3://pitch-ml/subjects/2609/trc_processed/2609_12_filtered.trc\n",
      "[AWS]: TRC file written to s3://pitch-ml/subjects/2609/trc_processed/2609_13_filtered.trc\n",
      "[AWS]: TRC file written to s3://pitch-ml/subjects/2609/trc_processed/2609_14_filtered.trc\n",
      "[AWS]: TRC file written to s3://pitch-ml/subjects/2609/trc_processed/2609_15_filtered.trc\n",
      "[AWS]: TRC file written to s3://pitch-ml/subjects/2609/trc_processed/2609_16_filtered.trc\n",
      "[AWS]: TRC file written to s3://pitch-ml/subjects/2609/trc_processed/2609_17_filtered.trc\n",
      "[AWS]: TRC file written to s3://pitch-ml/subjects/2609/trc_processed/2609_19_filtered.trc\n",
      "[AWS]: TRC file written to s3://pitch-ml/subjects/2609/trc_processed/2609_20_filtered.trc\n",
      "[AWS]: TRC file written to s3://pitch-ml/subjects/2609/trc_processed/2609_22_filtered.trc\n",
      "[AWS]: TRC file written to s3://pitch-ml/subjects/2610/trc_processed/2610_01_filtered.trc\n",
      "[AWS]: TRC file written to s3://pitch-ml/subjects/2610/trc_processed/2610_02_filtered.trc\n",
      "[AWS]: TRC file written to s3://pitch-ml/subjects/2610/trc_processed/2610_03_filtered.trc\n",
      "[AWS]: TRC file written to s3://pitch-ml/subjects/2610/trc_processed/2610_04_filtered.trc\n",
      "[AWS]: TRC file written to s3://pitch-ml/subjects/2610/trc_processed/2610_05_filtered.trc\n",
      "[AWS]: TRC file written to s3://pitch-ml/subjects/2610/trc_processed/2610_06_filtered.trc\n",
      "[AWS]: TRC file written to s3://pitch-ml/subjects/2610/trc_processed/2610_07_filtered.trc\n",
      "[AWS]: TRC file written to s3://pitch-ml/subjects/2610/trc_processed/2610_08_filtered.trc\n",
      "[AWS]: TRC file written to s3://pitch-ml/subjects/2610/trc_processed/2610_09_filtered.trc\n",
      "[AWS]: TRC file written to s3://pitch-ml/subjects/2610/trc_processed/2610_10_filtered.trc\n",
      "[AWS]: TRC file written to s3://pitch-ml/subjects/2610/trc_processed/2610_11_filtered.trc\n",
      "[AWS]: TRC file written to s3://pitch-ml/subjects/2610/trc_processed/2610_12_filtered.trc\n",
      "[AWS]: TRC file written to s3://pitch-ml/subjects/2610/trc_processed/2610_13_filtered.trc\n",
      "[AWS]: TRC file written to s3://pitch-ml/subjects/2610/trc_processed/2610_14_filtered.trc\n",
      "[AWS]: TRC file written to s3://pitch-ml/subjects/2610/trc_processed/2610_15_filtered.trc\n",
      "[AWS]: TRC file written to s3://pitch-ml/subjects/2610/trc_processed/2610_16_filtered.trc\n",
      "[AWS]: TRC file written to s3://pitch-ml/subjects/2610/trc_processed/2610_17_filtered.trc\n",
      "[AWS]: TRC file written to s3://pitch-ml/subjects/2610/trc_processed/2610_18_filtered.trc\n",
      "[AWS]: TRC file written to s3://pitch-ml/subjects/2610/trc_processed/2610_19_filtered.trc\n",
      "[AWS]: TRC file written to s3://pitch-ml/subjects/2610/trc_processed/2610_20_filtered.trc\n",
      "[AWS]: TRC file written to s3://pitch-ml/subjects/2610/trc_processed/2610_21_filtered.trc\n",
      "[AWS]: TRC file written to s3://pitch-ml/subjects/2610/trc_processed/2610_22_filtered.trc\n",
      "[AWS]: TRC file written to s3://pitch-ml/subjects/2610/trc_processed/2610_23_filtered.trc\n",
      "[AWS]: TRC file written to s3://pitch-ml/subjects/2610/trc_processed/2610_24_filtered.trc\n",
      "[AWS]: TRC file written to s3://pitch-ml/subjects/2610/trc_processed/2610_25_filtered.trc\n",
      "[AWS]: TRC file written to s3://pitch-ml/subjects/2610/trc_processed/2610_windup07_filtered.trc\n",
      "[AWS]: TRC file written to s3://pitch-ml/subjects/2611/trc_processed/2611_01_filtered.trc\n",
      "[AWS]: TRC file written to s3://pitch-ml/subjects/2611/trc_processed/2611_02_filtered.trc\n",
      "[AWS]: TRC file written to s3://pitch-ml/subjects/2611/trc_processed/2611_03_filtered.trc\n",
      "[AWS]: TRC file written to s3://pitch-ml/subjects/2611/trc_processed/2611_04_filtered.trc\n",
      "[AWS]: TRC file written to s3://pitch-ml/subjects/2611/trc_processed/2611_05_filtered.trc\n",
      "[AWS]: TRC file written to s3://pitch-ml/subjects/2611/trc_processed/2611_06_filtered.trc\n",
      "[AWS]: TRC file written to s3://pitch-ml/subjects/2611/trc_processed/2611_07_filtered.trc\n",
      "[AWS]: TRC file written to s3://pitch-ml/subjects/2611/trc_processed/2611_08_filtered.trc\n",
      "[AWS]: TRC file written to s3://pitch-ml/subjects/2611/trc_processed/2611_09_filtered.trc\n",
      "[AWS]: TRC file written to s3://pitch-ml/subjects/2611/trc_processed/2611_10_filtered.trc\n",
      "[AWS]: TRC file written to s3://pitch-ml/subjects/2611/trc_processed/2611_11_filtered.trc\n",
      "[AWS]: TRC file written to s3://pitch-ml/subjects/2611/trc_processed/2611_12_filtered.trc\n",
      "[AWS]: TRC file written to s3://pitch-ml/subjects/2611/trc_processed/2611_13-test_filtered.trc\n",
      "[AWS]: TRC file written to s3://pitch-ml/subjects/2611/trc_processed/2611_13_filtered.trc\n",
      "[AWS]: TRC file written to s3://pitch-ml/subjects/2611/trc_processed/2611_14_filtered.trc\n",
      "[AWS]: TRC file written to s3://pitch-ml/subjects/2611/trc_processed/2611_15_filtered.trc\n",
      "[AWS]: TRC file written to s3://pitch-ml/subjects/2611/trc_processed/2611_16_filtered.trc\n",
      "[AWS]: TRC file written to s3://pitch-ml/subjects/2611/trc_processed/2611_17_filtered.trc\n",
      "[AWS]: TRC file written to s3://pitch-ml/subjects/2611/trc_processed/2611_18_filtered.trc\n",
      "[AWS]: TRC file written to s3://pitch-ml/subjects/2611/trc_processed/2611_19_filtered.trc\n",
      "[AWS]: TRC file written to s3://pitch-ml/subjects/2611/trc_processed/2611_20_filtered.trc\n",
      "[AWS]: TRC file written to s3://pitch-ml/subjects/2611/trc_processed/2611_21_filtered.trc\n",
      "[AWS]: TRC file written to s3://pitch-ml/subjects/2611/trc_processed/2611_22_filtered.trc\n",
      "[AWS]: TRC file written to s3://pitch-ml/subjects/2611/trc_processed/2611_23_filtered.trc\n",
      "[AWS]: TRC file written to s3://pitch-ml/subjects/2611/trc_processed/2611_24_filtered.trc\n",
      "[AWS]: TRC file written to s3://pitch-ml/subjects/2611/trc_processed/2611_25_filtered.trc\n",
      "[AWS]: TRC file written to s3://pitch-ml/subjects/2611/trc_processed/2611_26_filtered.trc\n",
      "[AWS]: TRC file written to s3://pitch-ml/subjects/2611/trc_processed/2611_27_filtered.trc\n",
      "[AWS]: TRC file written to s3://pitch-ml/subjects/2611/trc_processed/2611_28_filtered.trc\n",
      "[AWS]: TRC file written to s3://pitch-ml/subjects/2611/trc_processed/2611_29_filtered.trc\n",
      "[AWS]: TRC file written to s3://pitch-ml/subjects/2611/trc_processed/2611_30_filtered.trc\n",
      "[AWS]: TRC file written to s3://pitch-ml/subjects/2611/trc_processed/2611_31_filtered.trc\n",
      "[AWS]: TRC file written to s3://pitch-ml/subjects/2611/trc_processed/2611_32_filtered.trc\n",
      "[AWS]: TRC file written to s3://pitch-ml/subjects/2611/trc_processed/2611_33_filtered.trc\n",
      "[AWS]: TRC file written to s3://pitch-ml/subjects/2611/trc_processed/2611_34_filtered.trc\n",
      "[AWS]: TRC file written to s3://pitch-ml/subjects/2611/trc_processed/2611_35_filtered.trc\n",
      "[AWS]: TRC file written to s3://pitch-ml/subjects/2611/trc_processed/2611_36_filtered.trc\n",
      "[AWS]: TRC file written to s3://pitch-ml/subjects/2612/trc_processed/2612_01_filtered.trc\n",
      "[AWS]: TRC file written to s3://pitch-ml/subjects/2612/trc_processed/2612_02_filtered.trc\n",
      "[AWS]: TRC file written to s3://pitch-ml/subjects/2612/trc_processed/2612_03_filtered.trc\n",
      "[AWS]: TRC file written to s3://pitch-ml/subjects/2612/trc_processed/2612_04_filtered.trc\n",
      "[AWS]: TRC file written to s3://pitch-ml/subjects/2612/trc_processed/2612_05_filtered.trc\n",
      "[AWS]: TRC file written to s3://pitch-ml/subjects/2612/trc_processed/2612_06_filtered.trc\n",
      "[AWS]: TRC file written to s3://pitch-ml/subjects/2612/trc_processed/2612_07_filtered.trc\n",
      "[AWS]: TRC file written to s3://pitch-ml/subjects/2612/trc_processed/2612_08_filtered.trc\n",
      "[AWS]: TRC file written to s3://pitch-ml/subjects/2612/trc_processed/2612_09_filtered.trc\n",
      "[AWS]: TRC file written to s3://pitch-ml/subjects/2612/trc_processed/2612_10_filtered.trc\n",
      "[AWS]: TRC file written to s3://pitch-ml/subjects/2613/trc_processed/2613_01_filtered.trc\n",
      "[AWS]: TRC file written to s3://pitch-ml/subjects/2613/trc_processed/2613_02_filtered.trc\n",
      "[AWS]: TRC file written to s3://pitch-ml/subjects/2613/trc_processed/2613_03_filtered.trc\n",
      "[AWS]: TRC file written to s3://pitch-ml/subjects/2613/trc_processed/2613_04_filtered.trc\n",
      "[AWS]: TRC file written to s3://pitch-ml/subjects/2613/trc_processed/2613_05_filtered.trc\n",
      "[AWS]: TRC file written to s3://pitch-ml/subjects/2613/trc_processed/2613_07_filtered.trc\n",
      "[AWS]: TRC file written to s3://pitch-ml/subjects/2613/trc_processed/2613_08_filtered.trc\n",
      "[AWS]: TRC file written to s3://pitch-ml/subjects/2613/trc_processed/2613_09_filtered.trc\n"
     ]
    }
   ],
   "source": [
    "# error storage\n",
    "errors = []\n",
    "\n",
    "# iterate through trc files, apply filter, and upload to S3\n",
    "for file in trc_files:\n",
    "    \n",
    "    # get subject info (ID, throws) if in subject_info; otherwise skip to next file\n",
    "    subject_id = file.split('/')[1]\n",
    "    if int(subject_id) in subject_info['subject_id'].values:\n",
    "        subject_throws = subject_info[subject_info['subject_id'] == int(subject_id)]['throws'].values[0]\n",
    "    else:\n",
    "        continue\n",
    "    \n",
    "    try:\n",
    "        # read trc file from S3\n",
    "        trc_bytes = aws_connection.load_s3_object(file, return_info=False)\n",
    "        trc_body = parse_trc_body(trc_bytes)\n",
    "        \n",
    "        # apply filter to trc body\n",
    "        trc_filt_body = butter_lowpass_filter(\n",
    "            data=trc_body, \n",
    "            columns=[col for col in trc_body.columns if col not in ['Frame#', 'Time']], \n",
    "            cutoff=18, \n",
    "            fs=480.0, \n",
    "            order=2\n",
    "        )\n",
    "\n",
    "        # create header (w/ _filtered file name)\n",
    "        file_name = f\"{file.split('/')[-1].split('.')[0]}_filtered.trc\"\n",
    "        trc_filt_header = create_trc_header(\n",
    "            file_name,\n",
    "            trc_filt_body,\n",
    "            throwing_hand=subject_throws,\n",
    "            frame_rate=480\n",
    "        )\n",
    "        \n",
    "        # upload to S3 (trc_processed)\n",
    "        upload_path = f'subjects/{subject_id}/trc_processed/{file_name}'\n",
    "        aws_connection.upload_trc_to_s3(\n",
    "        trc_filt_header,\n",
    "        trc_filt_body,\n",
    "        s3_key=upload_path\n",
    "    )\n",
    "\n",
    "    except Exception as e:\n",
    "        print(f\"Error processing file {file}: {e}\")\n",
    "        \n",
    "        # log error with file name and error message\n",
    "        errors.append({\n",
    "            'file': file,\n",
    "            'error': str(e)\n",
    "        })\n",
    "\n",
    "        continue\n"
   ]
  },
  {
   "cell_type": "code",
   "execution_count": null,
   "id": "15644070",
   "metadata": {},
   "outputs": [
    {
     "data": {
      "text/plain": [
       "'subjects/2609/trc_raw/2609_11.trc'"
      ]
     },
     "execution_count": 18,
     "metadata": {},
     "output_type": "execute_result"
    }
   ],
   "source": [
    "# write error trials to file for later investigation\n",
    "error_trials_summary = pd.DataFrame(errors)\n",
    "aws_connection.upload_to_s3(\n",
    "    error_trials_summary,\n",
    "    s3_key=f'subjects/summary/error_filtering_summary.csv'\n",
    ")"
   ]
  },
  {
   "cell_type": "code",
   "execution_count": null,
   "id": "2987def1",
   "metadata": {},
   "outputs": [],
   "source": []
  }
 ],
 "metadata": {
  "kernelspec": {
   "display_name": "pitch_ml",
   "language": "python",
   "name": "python3"
  },
  "language_info": {
   "codemirror_mode": {
    "name": "ipython",
    "version": 3
   },
   "file_extension": ".py",
   "mimetype": "text/x-python",
   "name": "python",
   "nbconvert_exporter": "python",
   "pygments_lexer": "ipython3",
   "version": "3.11.10"
  }
 },
 "nbformat": 4,
 "nbformat_minor": 5
}
