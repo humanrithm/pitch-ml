{
 "cells": [
  {
   "cell_type": "code",
   "execution_count": 1,
   "id": "8fc28558",
   "metadata": {},
   "outputs": [],
   "source": [
    "import pandas as pd\n",
    "from connections import AWS"
   ]
  },
  {
   "cell_type": "markdown",
   "id": "704a9c3e",
   "metadata": {},
   "source": [
    "$\\textbf{Epidemiology: Acute-to-Chronic Workload Ratio (ACWR)}$"
   ]
  },
  {
   "cell_type": "code",
   "execution_count": 2,
   "id": "ff8670cd",
   "metadata": {},
   "outputs": [
    {
     "name": "stdout",
     "output_type": "stream",
     "text": [
      "[AWS]: Port 5433 is free.\n",
      "[AWS]: Connected to RDS endpoint.\n"
     ]
    }
   ],
   "source": [
    "\"\"\" INITIALIZE AWS CONNECTION \"\"\"\n",
    "aws = AWS()\n",
    "aws.connect()"
   ]
  },
  {
   "cell_type": "code",
   "execution_count": 3,
   "id": "b69c9d5f",
   "metadata": {},
   "outputs": [],
   "source": [
    "# load datasets\n",
    "clinical_cohort = aws.load_s3_object('epidemiology/ml/datasets/full/cohort_matches_final.csv')          # cohort of TJ surgeries\n",
    "clinical_preds = aws.load_s3_object('epidemiology/ml/datasets/preds/model_cohort.csv')                  # pitch-level predictions\n",
    "clinical_outings = aws.load_s3_object('epidemiology/ml/datasets/full/cohort_outing_metrics.csv')        # outing aggregates from cohort"
   ]
  },
  {
   "cell_type": "markdown",
   "id": "d09560af",
   "metadata": {},
   "source": [
    "$\\textbf{ACWR Calculations}$\n",
    "\n",
    "From [Dowling et al. (2020)](https://ijspt.org/wp-content/uploads/2024/03/9-Reinold.pdf): \n",
    "- __Acute__: 7-day rolling average\n",
    "- __Chronic__: 28-day rolling average\n",
    "\n",
    "Other intervals are recommended to reflect the pitching cycle -- thus, we use a 6-to-30 day window as outlined in the proposal."
   ]
  },
  {
   "cell_type": "code",
   "execution_count": 4,
   "id": "39d43996",
   "metadata": {},
   "outputs": [],
   "source": [
    "import numpy as np\n",
    "from datetime import timedelta"
   ]
  },
  {
   "cell_type": "code",
   "execution_count": 24,
   "id": "af20873f",
   "metadata": {},
   "outputs": [],
   "source": [
    "# get actue & chronic workload for a pitcher\n",
    "def compute_workload(\n",
    "        data: pd.DataFrame,\n",
    "        game_date: str,\n",
    "        workload_col: str,\n",
    "        acute_length: int = 6,\n",
    "        chronic_length: int = 30,\n",
    "        chronic_halflife_days: int = 15\n",
    ") -> dict:\n",
    "        \"\"\" \n",
    "        Compute acute and chronic workload for a given pitcher based on game_date.\n",
    "\n",
    "        Args\n",
    "        - data: DataFrame containing outing metrics.\n",
    "        - game_date: The date of the game to compute workloads for.\n",
    "        - workload_col: The column name containing workload metrics.\n",
    "        - acute_length: Number of days for acute workload.\n",
    "        - chronic_length: Number of days for chronic workload.\n",
    "        - chronic_halflife_days: Halflife for the exponential weighted moving average (EWMA) for chronic workload.\n",
    "\n",
    "        Returns\n",
    "        - Acute and chronic workloads as a tuple (acute_workload, chronic_workload).\n",
    "        \"\"\"\n",
    "        # define acute/chronic windows as masks\n",
    "        acute_mask = (data['game_date'] <= game_date) & (data['game_date'] >= game_date - timedelta(days=acute_length))\n",
    "        chronic_mask = (data['game_date'] <= game_date) & (data['game_date'] >= game_date - timedelta(days=chronic_length))\n",
    "\n",
    "        # estimate workload using mask\n",
    "        acute_workload = data.loc[acute_mask, workload_col].mean()\n",
    "        \n",
    "        # chronic := EWMA over window, take the *last* EWMA value as the chronic load at this date\n",
    "        chronic_vals = data.loc[chronic_mask, ['game_date', workload_col ]].sort_values('game_date')\n",
    "        if chronic_vals.empty:\n",
    "                chronic_workload = np.nan\n",
    "        else:\n",
    "                chronic_series = chronic_vals[workload_col].ewm(halflife=chronic_halflife_days, adjust=False).mean()\n",
    "                chronic_workload = float(chronic_series.iloc[-1])\n",
    "\n",
    "        return {\n",
    "                'date': game_date,\n",
    "                'workload_col': workload_col,\n",
    "                'acute_workload': acute_workload,\n",
    "                'chronic_workload': chronic_workload,\n",
    "                'acwr': acute_workload / chronic_workload if chronic_workload > 0 else 0\n",
    "        }\n",
    "        "
   ]
  },
  {
   "cell_type": "code",
   "execution_count": 25,
   "id": "44d196fe",
   "metadata": {},
   "outputs": [],
   "source": [
    "# prepare df\n",
    "clinical_outings['game_date'] = pd.to_datetime(clinical_outings['game_date'])\n",
    "clinical_outings.sort_values(['pitcher', 'game_date'], inplace=True)\n",
    "\n",
    "# initialize storage for results, final data\n",
    "acwr_results = {}\n",
    "acwr_data = []\n",
    "\n",
    "# iterate through pitchers\n",
    "for pitcher_id, group in clinical_outings.groupby('pitcher'):\n",
    "    acwr_results[pitcher_id] = {\n",
    "        'outing_total_pitch_count': [],\n",
    "        'outing_total_evt_workload': [],\n",
    "        'outing_median_evt_workload': []\n",
    "    }\n",
    "\n",
    "    # iterate through the pitcher's season\n",
    "    for idx, row in group.iterrows():\n",
    "        # get the date of the outing\n",
    "        outing_date = row['game_date']\n",
    "\n",
    "        # calculate workload for each column\n",
    "        for col in ['outing_total_pitch_count', 'outing_total_evt_workload', 'outing_median_evt_workload']:\n",
    "            workload_data = compute_workload(\n",
    "                group,\n",
    "                outing_date,\n",
    "                workload_col=col,\n",
    "                acute_length=6,\n",
    "                chronic_length=30\n",
    "            )\n",
    "            \n",
    "            # store results\n",
    "            acwr_results[pitcher_id][col].append(workload_data)\n",
    "         \n",
    "    # concatenate all workloads, add pitcher ID\n",
    "    for col in acwr_results[pitcher_id]:\n",
    "        acwr_results_col = pd.DataFrame(acwr_results[pitcher_id][col])\n",
    "        \n",
    "        # add ID, season\n",
    "        acwr_results_col.insert(0, 'pitcher', pitcher_id)\n",
    "        acwr_results_col.insert(1, 'season', group['season'].iloc[0]) \n",
    "\n",
    "        # append to final data\n",
    "        acwr_data.append(acwr_results_col)"
   ]
  },
  {
   "cell_type": "code",
   "execution_count": 26,
   "id": "75bcc60d",
   "metadata": {},
   "outputs": [
    {
     "name": "stdout",
     "output_type": "stream",
     "text": [
      "[AWS]: Uploaded object to s3://pitch-ml/epidemiology/acwr/results_by_metric.csv\n"
     ]
    }
   ],
   "source": [
    "# concatenate all results into a single DataFrame\n",
    "acwr_data = pd.concat(acwr_data, ignore_index=True)\n",
    "\n",
    "# upload results to S3\n",
    "aws.upload_to_s3(\n",
    "    acwr_data,\n",
    "    'epidemiology/acwr/results_by_metric.csv',\n",
    ")"
   ]
  },
  {
   "cell_type": "markdown",
   "id": "b450e1ab",
   "metadata": {},
   "source": [
    "$\\textbf{Analysis}$\n",
    "\n",
    "Compare ACWRs by method at the following:\n",
    "- Last outing prior to injury\n",
    "- Second-to-last outing prior to injury\n",
    "- Third-to-last outing prior to injury"
   ]
  },
  {
   "cell_type": "code",
   "execution_count": null,
   "id": "e4c1c88e",
   "metadata": {},
   "outputs": [],
   "source": [
    "# join metadata to acwr\n",
    "metadata = clinical_outings[['pitcher', 'game_date', 'injured_cohort_pitcher', 'last_outing_before_injury']]\n",
    "acwr_with_metadata = acwr_data.merge(\n",
    "    metadata,\n",
    "    left_on=['pitcher', 'date'],\n",
    "    right_on=['pitcher', 'game_date'],\n",
    "    how='left'\n",
    ").drop(columns=['date'])\n",
    "\n",
    "# filter outings\n",
    "third_to_last = acwr_with_metadata.groupby(['pitcher', 'season', 'workload_col']).nth(-3)\n",
    "second_to_last = acwr_with_metadata.groupby(['pitcher', 'season', 'workload_col']).nth(-2)\n",
    "last = acwr_with_metadata.groupby(['pitcher', 'season', 'workload_col']).nth(-1)"
   ]
  },
  {
   "cell_type": "code",
   "execution_count": null,
   "id": "8b3d6194",
   "metadata": {},
   "outputs": [],
   "source": [
    "# aggregate by timing\n",
    "    # third to last shows an increase, others are actually decreased\n",
    "third_to_last_agg = third_to_last.groupby(['workload_col', 'injured_cohort_pitcher'])['acwr'].mean() \n",
    "second_to_last_agg = second_to_last.groupby(['workload_col', 'injured_cohort_pitcher'])['acwr'].mean()\n",
    "last_agg = last.groupby(['workload_col', 'injured_cohort_pitcher'])['acwr'].mean()"
   ]
  },
  {
   "cell_type": "markdown",
   "id": "ad6a46ac",
   "metadata": {},
   "source": [
    "$\\textbf{Plotting}$"
   ]
  },
  {
   "cell_type": "code",
   "execution_count": 28,
   "id": "65a85c98",
   "metadata": {},
   "outputs": [],
   "source": [
    "# example matches:\n",
    "    # 669203 (inj), 670102 (noninj)\n",
    "\n",
    "# create lists of pitcher IDs for analysis\n",
    "inj_pitchers = [669203]\n",
    "noninj_pitchers = [670102]\n",
    "\n",
    "# extract data\n",
    "inj_acwr = acwr_data[acwr_data['pitcher'].isin(inj_pitchers)]\n",
    "noninj_acwr = acwr_data[(acwr_data['pitcher'].isin(noninj_pitchers)) & (acwr_data['date'] <= inj_acwr['date'].max())]       # additionally trim to inj window"
   ]
  },
  {
   "cell_type": "code",
   "execution_count": null,
   "id": "296c15b8",
   "metadata": {},
   "outputs": [],
   "source": []
  }
 ],
 "metadata": {
  "kernelspec": {
   "display_name": "pitch_ml",
   "language": "python",
   "name": "python3"
  },
  "language_info": {
   "codemirror_mode": {
    "name": "ipython",
    "version": 3
   },
   "file_extension": ".py",
   "mimetype": "text/x-python",
   "name": "python",
   "nbconvert_exporter": "python",
   "pygments_lexer": "ipython3",
   "version": "3.11.10"
  }
 },
 "nbformat": 4,
 "nbformat_minor": 5
}
