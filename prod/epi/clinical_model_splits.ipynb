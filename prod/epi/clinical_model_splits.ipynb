{
 "cells": [
  {
   "cell_type": "code",
   "execution_count": 2,
   "id": "3a3055b4",
   "metadata": {},
   "outputs": [],
   "source": [
    "import pandas as pd\n",
    "from connections import AWS\n",
    "from sklearn.model_selection import train_test_split"
   ]
  },
  {
   "cell_type": "markdown",
   "id": "7a5ef739",
   "metadata": {},
   "source": [
    "$\\textbf{Epidemiology: Clinical Train/Test Splits}$\n",
    "\n",
    "Separate cohort of matches into train and validation sets for model development. "
   ]
  },
  {
   "cell_type": "code",
   "execution_count": 3,
   "id": "c820417d",
   "metadata": {},
   "outputs": [
    {
     "name": "stdout",
     "output_type": "stream",
     "text": [
      "[AWS]: Port 5433 is free.\n",
      "[AWS]: Connected to RDS endpoint.\n"
     ]
    }
   ],
   "source": [
    "# setup AWS connection\n",
    "aws = AWS()\n",
    "aws.connect()"
   ]
  },
  {
   "cell_type": "code",
   "execution_count": 5,
   "id": "2e3d8139",
   "metadata": {},
   "outputs": [],
   "source": [
    "# load model cohort\n",
    "model_cohort = aws.load_s3_object('epidemiology/ml/datasets/full/cohort_matches_final.csv')"
   ]
  },
  {
   "cell_type": "code",
   "execution_count": null,
   "id": "d7520346",
   "metadata": {},
   "outputs": [],
   "source": [
    "# get train/test split (test size: 25%)\n",
    "    # NOTE: this preserves matching pairs within the split\n",
    "train_ids, test_ids = train_test_split(\n",
    "    model_cohort[['mlbamid_injured', 'mlbamid_noninjured']].values, \n",
    "    test_size=0.25, \n",
    "    random_state=22\n",
    ")\n",
    "\n",
    "# restructure to dataframe\n",
    "train_df = pd.DataFrame(train_ids.reshape(-1, 1)).rename(columns={0: 'mlbamid'}).astype(int)\n",
    "test_df = pd.DataFrame(test_ids.reshape(-1, 1)).rename(columns={0: 'mlbamid'}).astype(int)"
   ]
  },
  {
   "cell_type": "code",
   "execution_count": 34,
   "id": "c061c538",
   "metadata": {},
   "outputs": [
    {
     "name": "stdout",
     "output_type": "stream",
     "text": [
      "[AWS]: Uploaded object to s3://pitch-ml/epidemiology/ml/datasets/full/cohort_train_ids.csv\n",
      "[AWS]: Uploaded object to s3://pitch-ml/epidemiology/ml/datasets/full/cohort_test_ids.csv\n"
     ]
    }
   ],
   "source": [
    "# upload to S3\n",
    "path_stem = 'epidemiology/ml/datasets/full'\n",
    "aws.upload_to_s3(train_df, f'{path_stem}/cohort_train_ids.csv')\n",
    "aws.upload_to_s3(test_df, f'{path_stem}/cohort_test_ids.csv')"
   ]
  },
  {
   "cell_type": "code",
   "execution_count": 35,
   "id": "6914e9f7",
   "metadata": {},
   "outputs": [
    {
     "name": "stdout",
     "output_type": "stream",
     "text": [
      "[AWS]: Database connection closed.\n",
      "[AWS]: SSH tunnel stopped.\n"
     ]
    }
   ],
   "source": [
    "# close AWS connection\n",
    "aws.close()"
   ]
  },
  {
   "cell_type": "code",
   "execution_count": null,
   "id": "ec8c3c48",
   "metadata": {},
   "outputs": [],
   "source": []
  }
 ],
 "metadata": {
  "kernelspec": {
   "display_name": "pitch_ml",
   "language": "python",
   "name": "python3"
  },
  "language_info": {
   "codemirror_mode": {
    "name": "ipython",
    "version": 3
   },
   "file_extension": ".py",
   "mimetype": "text/x-python",
   "name": "python",
   "nbconvert_exporter": "python",
   "pygments_lexer": "ipython3",
   "version": "3.11.10"
  }
 },
 "nbformat": 4,
 "nbformat_minor": 5
}
