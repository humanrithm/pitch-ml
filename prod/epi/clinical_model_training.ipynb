{
 "cells": [
  {
   "cell_type": "code",
   "execution_count": 15,
   "id": "4f63445a",
   "metadata": {},
   "outputs": [],
   "source": [
    "import pickle\n",
    "import pandas as pd\n",
    "from connections import AWS"
   ]
  },
  {
   "cell_type": "markdown",
   "id": "19f5062c",
   "metadata": {},
   "source": [
    "$\\textbf{Epidemiology: Clinical Model Training}$\n",
    "\n",
    "Injury risk estimation is possible from two perspectives: \n",
    "- __Season__ (i.e., post-outing injury probability; postgame)\n",
    "- __Pitch-Level__ (i.e., next-pitch injury probability; within game)\n",
    "\n",
    "This notebook uses the data structures and model architecture established in `clinical_model_setup.ipynb`. The architecture was shown to work with a manually crafted batched-training loop."
   ]
  },
  {
   "cell_type": "code",
   "execution_count": 2,
   "id": "221de76a",
   "metadata": {},
   "outputs": [
    {
     "name": "stdout",
     "output_type": "stream",
     "text": [
      "[AWS]: Port 5433 is free.\n",
      "[AWS]: Connected to RDS endpoint.\n"
     ]
    }
   ],
   "source": [
    "# setup AWS connection\n",
    "aws = AWS()\n",
    "aws.connect()"
   ]
  },
  {
   "cell_type": "code",
   "execution_count": null,
   "id": "18b3e8fc",
   "metadata": {},
   "outputs": [],
   "source": [
    "# download most up-to-date tensor dictionaries\n",
    "pitch_level_tensors = aws.s3.download_file(\n",
    "    aws.bucket_name, \n",
    "    'epidemiology/ml/datasets/pytorch/pitch_level_tensors.pkl', \n",
    "    'storage/pitch_level_tensors.pkl'\n",
    ")\n",
    "\n",
    "# load tensors into memory\n",
    "with open('storage/pitch_level_tensors.pkl', 'rb') as f:\n",
    "    pitch_level_tensors = pickle.load(f)"
   ]
  },
  {
   "cell_type": "markdown",
   "id": "693616b9",
   "metadata": {},
   "source": [
    "$\\textbf{Model Development}$"
   ]
  },
  {
   "cell_type": "code",
   "execution_count": 123,
   "id": "25794636",
   "metadata": {},
   "outputs": [],
   "source": [
    "import torch\n",
    "from tqdm import tqdm\n",
    "import torch.nn as nn\n",
    "from nnet import CNNbiLSTM\n",
    "import torch.nn.functional as F\n",
    "from nnet.loss_functions import pitch_level_loss\n",
    "from sklearn.metrics import roc_auc_score, f1_score\n",
    "from services.scalers import compute_masked_scalers, apply_scalers"
   ]
  },
  {
   "cell_type": "code",
   "execution_count": 124,
   "id": "2e9496e5",
   "metadata": {},
   "outputs": [],
   "source": [
    "# compile model for training --> model, optimizer, loss function, and data setup\n",
    "def compile_model(\n",
    "        train_data: dict,\n",
    "        val_data: dict,\n",
    "        model_config: dict = {\n",
    "            'stem': 64,\n",
    "            'c': 96,\n",
    "            'kernel': 7,\n",
    "            'lstm_hidden': 128,\n",
    "            'dropout': 0.1,\n",
    "            'bidir': True\n",
    "        },\n",
    "        device: str = 'cpu',\n",
    "        use_pos_weight: bool = False\n",
    ") -> dict:\n",
    "    \"\"\" \n",
    "    Compile a nnet architecture for training. Includes scaling, model instantiation, and loss function setup.\n",
    "    \n",
    "    Args:\n",
    "        train_data (dict): Training data containing tensors and masks.\n",
    "        val_data (dict): Validation data containing tensors and masks.\n",
    "        model_config (dict): Configuration for the CNNbiLSTM model. Defaults to basic setup.\n",
    "        device (str): Device to run the model on ('cpu' or 'cuda').\n",
    "        use_pos_weight (bool): Whether to use positive class weights in loss function.\n",
    "    \n",
    "    Returns:\n",
    "        model_setup (dict): Dictionary with all relevant information..\n",
    "    \"\"\"\n",
    "\n",
    "    # standardize example sequence --> example training tensor sequence (x)\n",
    "    mean, std = compute_masked_scalers(train_data['seq'], train_data['mask'])\n",
    "    x = apply_scalers(train_data['seq'], mean, std)\n",
    "    B, T, K = x.shape       # NOTE: B = batch size, T = time steps, K = features; K is used for model setup\n",
    "\n",
    "    # setup (device, shapes)\n",
    "        # --> move full tensors to device\n",
    "    device = \"cuda\" if torch.cuda.is_available() else \"cpu\"\n",
    "    x_trn, y_step_trn, y_binary_trn, mask_trn, lengths_trn = move_tensors_to_device(x, train_data, device)\n",
    "\n",
    "    # setup model, optimizer\n",
    "    model = CNNbiLSTM(\n",
    "        k_in=K, \n",
    "        stem=model_config.get('stem', 64),\n",
    "        c=model_config.get('c', 96),\n",
    "        kernel=model_config.get('kernel', 7),\n",
    "        lstm_hidden=model_config.get('lstm_hidden', 128),\n",
    "        dropout=model_config.get('dropout', 0.1),\n",
    "        bidir=model_config.get('bidir', True),\n",
    "    ).to(device)\n",
    "    optimizer = torch.optim.AdamW(model.parameters(), lr=1e-3, weight_decay=1e-4)\n",
    "\n",
    "    # optional: compute pos_weight over valid steps once\n",
    "        # NOTE: for probs this should be 1.0\n",
    "    if use_pos_weight:\n",
    "        with torch.no_grad():\n",
    "            pos = y_step_trn[mask_trn].sum()\n",
    "            tot = mask_trn.sum()\n",
    "            neg = tot - pos\n",
    "            pos_weight = (neg / pos.clamp(min=1)).float()\n",
    "    else:\n",
    "        pos_weight = torch.tensor(1.0, device=device)\n",
    "\n",
    "    # package all into dictionary\n",
    "    model_setup = {\n",
    "        'model': model.train(),\n",
    "        'optimizer': optimizer,\n",
    "        'loss_fn': pitch_level_loss,\n",
    "        'pos_weight': pos_weight,\n",
    "        'mean': mean,\n",
    "        'std': std,\n",
    "        'device': device,\n",
    "        'train_setup': {\n",
    "            'x': x_trn,\n",
    "            'y_step': y_step_trn,\n",
    "            'y_binary': y_binary_trn,\n",
    "            'mask': mask_trn,\n",
    "            'lengths': lengths_trn\n",
    "        },\n",
    "        'val_setup': {\n",
    "            'x': apply_scalers(val_data['seq'], mean, std).to(device),\n",
    "            'y_step': val_data['probs'].float().to(device),\n",
    "            'y_binary': val_data['binary'].float().to(device),\n",
    "            'mask': val_data['mask'].bool().to(device),\n",
    "            'lengths': val_data['lengths'].float().to(device)\n",
    "        }\n",
    "    }\n",
    "\n",
    "    return model_setup\n",
    "\n",
    "# move tensors to device\n",
    "    # mostly a helper function for training data \n",
    "def move_tensors_to_device(\n",
    "        x: torch.Tensor,\n",
    "        train_data: dict,\n",
    "        device: str\n",
    ") -> tuple[torch.Tensor, torch.Tensor, torch.Tensor, torch.Tensor]:\n",
    "    \"\"\"\n",
    "    Move tensors to the specified device.\n",
    "    \n",
    "    Args:\n",
    "        x (torch.Tensor): Input tensor.\n",
    "        train_data (dict): Dictionary containing training data tensors.\n",
    "        device (str): Device to move tensors to ('cpu' or 'cuda').\n",
    "    \n",
    "    Returns:\n",
    "        tuple: Tensors moved to the specified device.\n",
    "    \"\"\"\n",
    "    return x.float().to(device), train_data['probs'].float().to(device), train_data['binary'].float().to(device), train_data['mask'].bool().to(device), train_data['lengths'].long().to(device)\n",
    "    \n",
    "# early stopping check\n",
    "def check_early_stopping(\n",
    "        val_loss: float,\n",
    "        best_val_loss: float,\n",
    "        epochs_no_improve: int,\n",
    "        patience: int\n",
    ") -> tuple[bool, float, int]:\n",
    "    \"\"\"\n",
    "    Check if early stopping criteria are met.\n",
    "    \n",
    "    Args:\n",
    "        val_loss (float): Current validation loss.\n",
    "        best_val_loss (float): Best validation loss observed so far.\n",
    "        epochs_no_improve (int): Number of epochs since last improvement.\n",
    "        patience (int): Patience for early stopping.\n",
    "    \n",
    "    Returns:\n",
    "        tuple: (should_stop (bool), best_val_loss (float), epochs_no_improve (int))\n",
    "    \"\"\"\n",
    "    if val_loss < best_val_loss:\n",
    "        return False, val_loss, 0\n",
    "    else:\n",
    "        epochs_no_improve += 1\n",
    "        if epochs_no_improve >= patience:\n",
    "            return True, best_val_loss, epochs_no_improve\n",
    "        else:\n",
    "            return False, best_val_loss, epochs_no_improve\n",
    "\n",
    "# ROC/AUC calcs\n",
    "def compute_roc_auc( \n",
    "        probs: torch.Tensor,\n",
    "        y_true: torch.Tensor,\n",
    "        mask: torch.Tensor\n",
    ") -> tuple[float, float, float]:\n",
    "    \"\"\"\n",
    "    Compute ROC AUC score.\n",
    "    \n",
    "    Args:\n",
    "        probs (torch.Tensor): Predicted probabilities.\n",
    "        y_true (torch.Tensor): True labels.\n",
    "        mask (torch.Tensor): Mask indicating valid entries.\n",
    "    \n",
    "    Returns:\n",
    "        tuple: (batch_scores (torch.Tensor), batch_labels (torch.Tensor), roc_auc (float))\n",
    "    \"\"\"\n",
    "    # per-batch valid scores/labels for AUC (use binary labels)\n",
    "    batch_scores = probs.detach().float()\n",
    "    batch_labels = y_true[mask].detach().float()\n",
    "\n",
    "    # compute AUC\n",
    "    if batch_labels.sum() == 0 or batch_labels.sum() == len(batch_labels):\n",
    "        roc_auc = 0.5 \n",
    "    else:\n",
    "        roc_auc = roc_auc_score(batch_labels.cpu().numpy(), batch_scores.cpu().numpy())\n",
    "\n",
    "    return batch_scores, batch_labels, roc_auc\n",
    "\n",
    "# training loop for a model\n",
    "    # NOTE: sets up a dictionary for storing model loss history\n",
    "def train_model(\n",
    "        model_name: str,\n",
    "        model_setup: dict,\n",
    "        n_epochs: int = 100,\n",
    "        batch_size: int = 32,\n",
    "        patience: int = 10,\n",
    "        verbose: bool = True\n",
    ") -> dict:\n",
    "    \"\"\"\n",
    "    Train the model using the provided training and validation data. Manually handles batching and early stopping.\n",
    "    \n",
    "    Args:\n",
    "        model_setup (dict): Dictionary containing model, optimizer, loss function, and data setup.\n",
    "        n_epochs (int): Number of epochs to train. Defaults to 100.\n",
    "        batch_size (int): Batch size for training. Defaults to 32.\n",
    "        patience (int): Patience for early stopping. Defaults to 10.\n",
    "        verbose (bool): Whether to print training progress. Defaults to True.\n",
    "    \n",
    "    Returns:\n",
    "        dict: Dictionary containing training and validation loss history.\n",
    "    \"\"\"\n",
    "    # unpack model setup\n",
    "    model = model_setup['model']\n",
    "    optimizer = model_setup['optimizer']\n",
    "    loss_fn = model_setup['loss_fn']\n",
    "    pos_weight = model_setup['pos_weight']\n",
    "\n",
    "    # extract training data\n",
    "    x = model_setup['train_setup']['x']\n",
    "    y_step = model_setup['train_setup']['y_step']\n",
    "    y_step_binary = model_setup['train_setup']['y_binary']\n",
    "    mask = model_setup['train_setup']['mask']\n",
    "    lengths = model_setup['train_setup']['lengths']\n",
    "\n",
    "    # setup loss storage\n",
    "    history = {\n",
    "        'train_loss': [],\n",
    "        'train_acc': [],\n",
    "        'train_auc': [],\n",
    "        'train_f1': [],\n",
    "        'val_loss': [],\n",
    "        'val_acc': [],\n",
    "        'val_auc': [],\n",
    "        'val_f1': [],\n",
    "        'best_val_loss': None,\n",
    "        'stopped_epoch': None\n",
    "    }\n",
    "\n",
    "    # early stopping setup\n",
    "    best_val_loss = float('inf')\n",
    "    epochs_no_improve = 0\n",
    "\n",
    "    # AUC setup\n",
    "    epoch_y_true = []\n",
    "    epoch_y_score = []\n",
    "\n",
    "    # F1 setup\n",
    "    epoch_preds = []\n",
    "    epoch_labels = []\n",
    "\n",
    "    # MAIN LOOP: iterate through epochs\n",
    "    B = x.shape[0]\n",
    "    for epoch in range(1, n_epochs+1):\n",
    "        \n",
    "        \"\"\" TRAINING \"\"\"\n",
    "        # set model to train mode, shuffle indices, create batches\n",
    "        model.train()\n",
    "        idx = torch.randperm(B, device=model_setup['device'])  # shuffle indices each epoch\n",
    "\n",
    "        # loss counters\n",
    "        running_loss = 0.0\n",
    "        running_correct = 0\n",
    "        running_total = 0\n",
    "\n",
    "        # wrap range() with tqdm\n",
    "        pbar = tqdm(range(0, B, batch_size), desc=f\"Epoch {epoch}/{n_epochs}\", leave=False)\n",
    "        for start in pbar:\n",
    "            end = min(start + batch_size, B)\n",
    "            bidx = idx[start:end]\n",
    "\n",
    "            # forward pass\n",
    "            xb = x[bidx]\n",
    "            yb = y_step[bidx]\n",
    "            mb = mask[bidx]\n",
    "            Lb = lengths[bidx]\n",
    "\n",
    "            # update loss\n",
    "            logits = model(xb, Lb)\n",
    "            loss = F.binary_cross_entropy_with_logits(\n",
    "                logits[mb], yb[mb], pos_weight=pos_weight\n",
    "            )\n",
    "\n",
    "            # back propagation\n",
    "            optimizer.zero_grad(set_to_none=True)\n",
    "            loss.backward()\n",
    "            nn.utils.clip_grad_norm_(model.parameters(), 1.0)\n",
    "            optimizer.step()\n",
    "\n",
    "            # running loss\n",
    "            bs = xb.size(0)\n",
    "            running_loss += loss.item() * bs\n",
    "            \n",
    "            # running accuracy\n",
    "            probs  = torch.sigmoid(logits[mb])\n",
    "            preds  = (probs > 0.5).float()\n",
    "            correct = (preds == y_step_binary[bidx][mb]).sum().item()\n",
    "            total   = mb.sum().item()\n",
    "\n",
    "            # update epoch AUC\n",
    "            batch_scores, batch_labels, roc_auc = compute_roc_auc(probs, y_step_binary[bidx], mb)\n",
    "            epoch_y_true.extend(batch_labels.cpu().numpy())\n",
    "            epoch_y_score.extend(batch_scores.cpu().numpy())\n",
    "\n",
    "            # update total\n",
    "            running_correct += correct\n",
    "            running_total += total\n",
    "\n",
    "            # update accuracy\n",
    "            run_avg_loss = running_loss / ((start // batch_size + 1) * bs)\n",
    "            run_acc      = running_correct / running_total\n",
    "\n",
    "            # gather & store F1 data\n",
    "            batch_preds = preds.detach().cpu()\n",
    "            batch_labels = y_step_binary[bidx][mb].detach().cpu()\n",
    "            epoch_preds.append(batch_preds)\n",
    "            epoch_labels.append(batch_labels)\n",
    "\n",
    "            # show both current and running losses in the bar\n",
    "            pbar.set_postfix(loss=f\"{run_avg_loss:.4f}\", acc=f\"{run_acc:.4f}\", auc=f\"{roc_auc:.4f}\")\n",
    "\n",
    "        # update epoch loss\n",
    "        epoch_loss = running_loss / B\n",
    "        epoch_acc  = running_correct / running_total\n",
    "        epoch_auc = roc_auc_score(epoch_y_true, epoch_y_score)\n",
    "\n",
    "        # update F1 score\n",
    "        epoch_preds_cat = torch.cat(epoch_preds).numpy()\n",
    "        epoch_labels_cat = torch.cat(epoch_labels).numpy()\n",
    "        epoch_f1 = f1_score(epoch_labels_cat, epoch_preds_cat)\n",
    "        \n",
    "        # print epoch update\n",
    "        if verbose:\n",
    "            print(f\"Epoch {epoch:02d} | Training Loss: {epoch_loss:.3f} | Training Accuracy: {epoch_acc:.3f} | Training AUC: {epoch_auc:.3f} | Training F1: {epoch_f1:.3f}\")\n",
    "\n",
    "        # update history\n",
    "        history['train_loss'].append(epoch_loss)\n",
    "        history['train_acc'].append(epoch_acc)\n",
    "        history['train_auc'].append(epoch_auc)\n",
    "        history['train_f1'].append(epoch_f1)\n",
    "\n",
    "        \"\"\" VALIDATION \"\"\"\n",
    "        # set model to eval mode\n",
    "        model.eval()\n",
    "        with torch.no_grad():\n",
    "            logits = model(\n",
    "                model_setup['val_setup']['x'].float(), \n",
    "                model_setup['val_setup']['lengths'].float()\n",
    "            )\n",
    "            val_loss = loss_fn(\n",
    "                logits,\n",
    "                model_setup['val_setup']['y_step'],\n",
    "                model_setup['val_setup']['mask'],\n",
    "                pos_weight\n",
    "            ).item()\n",
    "\n",
    "            # compute accuracy\n",
    "            probs  = torch.sigmoid(logits[model_setup['val_setup']['mask']])\n",
    "            preds  = (probs > 0.5).float()\n",
    "            ground_truth = model_setup['val_setup']['y_binary'][model_setup['val_setup']['mask']]\n",
    "            correct = (preds == ground_truth).sum().item()\n",
    "            total   = model_setup['val_setup']['mask'].sum().item()\n",
    "            val_acc = correct / total\n",
    "\n",
    "            # compute AUC, F1\n",
    "            val_auc = roc_auc_score(ground_truth.numpy(), probs.numpy())\n",
    "            val_f1 = f1_score(ground_truth.numpy(), preds.numpy())\n",
    "\n",
    "            # print update\n",
    "            if verbose:\n",
    "                print(f\"Epoch {epoch:02d} | Validation Loss: {val_loss:.3f} | Validation Accuracy: {val_acc:.3f} | Validation AUC: {val_auc:.3f} | Validation F1: {val_f1:.3f}\")\n",
    "\n",
    "            # update history\n",
    "            history['val_loss'].append(val_loss)\n",
    "            history['val_acc'].append(val_acc)\n",
    "            history['val_auc'].append(val_auc)\n",
    "            history['val_f1'].append(val_f1)\n",
    "\n",
    "            # check for improvement\n",
    "            stop, best_val_loss, epochs_no_improve = check_early_stopping(\n",
    "                val_loss, best_val_loss, epochs_no_improve, patience\n",
    "            )\n",
    "            if stop:\n",
    "                print(f\"Early stopping triggered after {epoch} epochs.\")\n",
    "                \n",
    "                # update history\n",
    "                history['best_val_loss'] = best_val_loss\n",
    "                history['stopped_epoch'] = epoch\n",
    "\n",
    "                # save model (+ state dict)\n",
    "                    # ensure model is in eval mode before saving\n",
    "                model.eval()\n",
    "                torch.save(model, f\"models/inj/{model_name}.pt\")\n",
    "                torch.save(model.state_dict(), f\"models/inj/{model_name}_state_dict.pt\")\n",
    "                \n",
    "                return history  # exit training loop\n",
    "            \n",
    "            else:\n",
    "                # update best val loss in history\n",
    "                history['best_val_loss'] = best_val_loss\n",
    "\n",
    "    # if we reach here, training completed without early stopping\n",
    "    if verbose:\n",
    "        print(f\"Training completed after {epoch} epochs with best validation loss: {best_val_loss:.3f}\")\n",
    "\n",
    "    # save final model\n",
    "        # ensure model is in eval mode before saving\n",
    "    model.eval()\n",
    "    torch.save(model, f\"models/inj/{model_name}.pt\")\n",
    "    torch.save(model.state_dict(), f\"models/inj/{model_name}_state_dict.pt\")\n",
    "\n",
    "    return history\n"
   ]
  },
  {
   "cell_type": "code",
   "execution_count": 151,
   "id": "c2dd2b84",
   "metadata": {},
   "outputs": [],
   "source": [
    "# create model setups for outing- and pitch-level data by day windows\n",
    "model_setups = {}\n",
    "model_results = {}\n",
    "\n",
    "# compile models for each day window\n",
    "for day in [7, 15, 30, 45, 90]:\n",
    "    model_setups[day] = compile_model(\n",
    "        train_data=pitch_level_tensors['trn'][day],\n",
    "        val_data=pitch_level_tensors['val'][day]\n",
    "    )\n",
    "    "
   ]
  },
  {
   "cell_type": "code",
   "execution_count": 152,
   "metadata": {},
   "outputs": [
    {
     "name": "stdout",
     "output_type": "stream",
     "text": [
      "Training pitch-level model for preceding day window: 7 days\n"
     ]
    },
    {
     "name": "stderr",
     "output_type": "stream",
     "text": [
      "                                                                                                  \r"
     ]
    },
    {
     "name": "stdout",
     "output_type": "stream",
     "text": [
      "Epoch 01 | Training Loss: 0.804 | Training Accuracy: 0.522 | Training AUC: 0.545 | Training F1: 0.555\n",
      "Epoch 01 | Validation Loss: 0.677 | Validation Accuracy: 0.556 | Validation AUC: 0.662 | Validation F1: 0.225\n"
     ]
    },
    {
     "name": "stderr",
     "output_type": "stream",
     "text": [
      "                                                                                                  \r"
     ]
    },
    {
     "name": "stdout",
     "output_type": "stream",
     "text": [
      "Epoch 02 | Training Loss: 0.655 | Training Accuracy: 0.570 | Training AUC: 0.571 | Training F1: 0.558\n",
      "Epoch 02 | Validation Loss: 0.618 | Validation Accuracy: 0.601 | Validation AUC: 0.693 | Validation F1: 0.469\n"
     ]
    },
    {
     "name": "stderr",
     "output_type": "stream",
     "text": [
      "                                                                                                  \r"
     ]
    },
    {
     "name": "stdout",
     "output_type": "stream",
     "text": [
      "Epoch 03 | Training Loss: 0.623 | Training Accuracy: 0.635 | Training AUC: 0.617 | Training F1: 0.587\n",
      "Epoch 03 | Validation Loss: 0.486 | Validation Accuracy: 0.782 | Validation AUC: 0.855 | Validation F1: 0.737\n"
     ]
    },
    {
     "name": "stderr",
     "output_type": "stream",
     "text": [
      "                                                                                                  \r"
     ]
    },
    {
     "name": "stdout",
     "output_type": "stream",
     "text": [
      "Epoch 04 | Training Loss: 0.476 | Training Accuracy: 0.782 | Training AUC: 0.688 | Training F1: 0.628\n",
      "Epoch 04 | Validation Loss: 0.417 | Validation Accuracy: 0.836 | Validation AUC: 0.931 | Validation F1: 0.819\n"
     ]
    },
    {
     "name": "stderr",
     "output_type": "stream",
     "text": [
      "                                                                                                  \r"
     ]
    },
    {
     "name": "stdout",
     "output_type": "stream",
     "text": [
      "Epoch 05 | Training Loss: 0.393 | Training Accuracy: 0.875 | Training AUC: 0.761 | Training F1: 0.676\n",
      "Epoch 05 | Validation Loss: 0.359 | Validation Accuracy: 0.888 | Validation AUC: 0.958 | Validation F1: 0.886\n"
     ]
    },
    {
     "name": "stderr",
     "output_type": "stream",
     "text": [
      "                                                                                                 \r"
     ]
    },
    {
     "name": "stdout",
     "output_type": "stream",
     "text": [
      "Epoch 06 | Training Loss: 0.324 | Training Accuracy: 0.928 | Training AUC: 0.812 | Training F1: 0.717\n",
      "Epoch 06 | Validation Loss: 0.339 | Validation Accuracy: 0.905 | Validation AUC: 0.972 | Validation F1: 0.905\n"
     ]
    },
    {
     "name": "stderr",
     "output_type": "stream",
     "text": [
      "                                                                                                 \r"
     ]
    },
    {
     "name": "stdout",
     "output_type": "stream",
     "text": [
      "Epoch 07 | Training Loss: 0.301 | Training Accuracy: 0.944 | Training AUC: 0.848 | Training F1: 0.750\n",
      "Epoch 07 | Validation Loss: 0.316 | Validation Accuracy: 0.940 | Validation AUC: 0.987 | Validation F1: 0.940\n"
     ]
    },
    {
     "name": "stderr",
     "output_type": "stream",
     "text": [
      "                                                                                                 \r"
     ]
    },
    {
     "name": "stdout",
     "output_type": "stream",
     "text": [
      "Epoch 08 | Training Loss: 0.292 | Training Accuracy: 0.958 | Training AUC: 0.874 | Training F1: 0.776\n",
      "Epoch 08 | Validation Loss: 0.301 | Validation Accuracy: 0.932 | Validation AUC: 0.997 | Validation F1: 0.927\n"
     ]
    },
    {
     "name": "stderr",
     "output_type": "stream",
     "text": [
      "                                                                                                 \r"
     ]
    },
    {
     "name": "stdout",
     "output_type": "stream",
     "text": [
      "Epoch 09 | Training Loss: 0.289 | Training Accuracy: 0.955 | Training AUC: 0.893 | Training F1: 0.796\n",
      "Epoch 09 | Validation Loss: 0.300 | Validation Accuracy: 0.932 | Validation AUC: 0.991 | Validation F1: 0.934\n"
     ]
    },
    {
     "name": "stderr",
     "output_type": "stream",
     "text": [
      "                                                                                                  \r"
     ]
    },
    {
     "name": "stdout",
     "output_type": "stream",
     "text": [
      "Epoch 10 | Training Loss: 0.289 | Training Accuracy: 0.952 | Training AUC: 0.907 | Training F1: 0.811\n",
      "Epoch 10 | Validation Loss: 0.294 | Validation Accuracy: 0.950 | Validation AUC: 0.994 | Validation F1: 0.948\n"
     ]
    },
    {
     "name": "stderr",
     "output_type": "stream",
     "text": [
      "                                                                                                  \r"
     ]
    },
    {
     "name": "stdout",
     "output_type": "stream",
     "text": [
      "Epoch 11 | Training Loss: 0.286 | Training Accuracy: 0.958 | Training AUC: 0.918 | Training F1: 0.825\n",
      "Epoch 11 | Validation Loss: 0.292 | Validation Accuracy: 0.953 | Validation AUC: 0.996 | Validation F1: 0.951\n"
     ]
    },
    {
     "name": "stderr",
     "output_type": "stream",
     "text": [
      "                                                                                                  \r"
     ]
    },
    {
     "name": "stdout",
     "output_type": "stream",
     "text": [
      "Epoch 12 | Training Loss: 0.281 | Training Accuracy: 0.967 | Training AUC: 0.927 | Training F1: 0.836\n",
      "Epoch 12 | Validation Loss: 0.287 | Validation Accuracy: 0.959 | Validation AUC: 0.997 | Validation F1: 0.960\n"
     ]
    },
    {
     "name": "stderr",
     "output_type": "stream",
     "text": [
      "                                                                                                  \r"
     ]
    },
    {
     "name": "stdout",
     "output_type": "stream",
     "text": [
      "Epoch 13 | Training Loss: 0.278 | Training Accuracy: 0.977 | Training AUC: 0.935 | Training F1: 0.847\n",
      "Epoch 13 | Validation Loss: 0.282 | Validation Accuracy: 0.975 | Validation AUC: 0.998 | Validation F1: 0.975\n"
     ]
    },
    {
     "name": "stderr",
     "output_type": "stream",
     "text": [
      "                                                                                                  \r"
     ]
    },
    {
     "name": "stdout",
     "output_type": "stream",
     "text": [
      "Epoch 14 | Training Loss: 0.277 | Training Accuracy: 0.978 | Training AUC: 0.941 | Training F1: 0.857\n",
      "Epoch 14 | Validation Loss: 0.279 | Validation Accuracy: 0.982 | Validation AUC: 0.999 | Validation F1: 0.982\n"
     ]
    },
    {
     "name": "stderr",
     "output_type": "stream",
     "text": [
      "                                                                                                  \r"
     ]
    },
    {
     "name": "stdout",
     "output_type": "stream",
     "text": [
      "Epoch 15 | Training Loss: 0.281 | Training Accuracy: 0.966 | Training AUC: 0.947 | Training F1: 0.864\n",
      "Epoch 15 | Validation Loss: 0.283 | Validation Accuracy: 0.969 | Validation AUC: 0.997 | Validation F1: 0.969\n"
     ]
    },
    {
     "name": "stderr",
     "output_type": "stream",
     "text": [
      "                                                                                                  \r"
     ]
    },
    {
     "name": "stdout",
     "output_type": "stream",
     "text": [
      "Epoch 16 | Training Loss: 0.278 | Training Accuracy: 0.971 | Training AUC: 0.951 | Training F1: 0.871\n",
      "Epoch 16 | Validation Loss: 0.295 | Validation Accuracy: 0.943 | Validation AUC: 0.998 | Validation F1: 0.947\n"
     ]
    },
    {
     "name": "stderr",
     "output_type": "stream",
     "text": [
      "                                                                                                  \r"
     ]
    },
    {
     "name": "stdout",
     "output_type": "stream",
     "text": [
      "Epoch 17 | Training Loss: 0.283 | Training Accuracy: 0.964 | Training AUC: 0.954 | Training F1: 0.876\n",
      "Epoch 17 | Validation Loss: 0.281 | Validation Accuracy: 0.966 | Validation AUC: 0.998 | Validation F1: 0.966\n"
     ]
    },
    {
     "name": "stderr",
     "output_type": "stream",
     "text": [
      "                                                                                                  \r"
     ]
    },
    {
     "name": "stdout",
     "output_type": "stream",
     "text": [
      "Epoch 18 | Training Loss: 0.279 | Training Accuracy: 0.971 | Training AUC: 0.958 | Training F1: 0.882\n",
      "Epoch 18 | Validation Loss: 0.284 | Validation Accuracy: 0.958 | Validation AUC: 0.998 | Validation F1: 0.957\n"
     ]
    },
    {
     "name": "stderr",
     "output_type": "stream",
     "text": [
      "                                                                                                  \r"
     ]
    },
    {
     "name": "stdout",
     "output_type": "stream",
     "text": [
      "Epoch 19 | Training Loss: 0.280 | Training Accuracy: 0.969 | Training AUC: 0.960 | Training F1: 0.886\n",
      "Epoch 19 | Validation Loss: 0.282 | Validation Accuracy: 0.973 | Validation AUC: 0.999 | Validation F1: 0.972\n",
      "Early stopping triggered after 19 epochs.\n",
      "[AWS]: Uploaded object to s3://pitch-ml/epidemiology/ml/models/inj/pitch_model_7d_results.pkl\n",
      "Training pitch-level model for preceding day window: 15 days\n"
     ]
    },
    {
     "name": "stderr",
     "output_type": "stream",
     "text": [
      "                                                                                                  \r"
     ]
    },
    {
     "name": "stdout",
     "output_type": "stream",
     "text": [
      "Epoch 01 | Training Loss: 0.780 | Training Accuracy: 0.528 | Training AUC: 0.540 | Training F1: 0.550\n",
      "Epoch 01 | Validation Loss: 0.663 | Validation Accuracy: 0.609 | Validation AUC: 0.658 | Validation F1: 0.597\n"
     ]
    },
    {
     "name": "stderr",
     "output_type": "stream",
     "text": [
      "                                                                                                  \r"
     ]
    },
    {
     "name": "stdout",
     "output_type": "stream",
     "text": [
      "Epoch 02 | Training Loss: 0.656 | Training Accuracy: 0.589 | Training AUC: 0.580 | Training F1: 0.554\n",
      "Epoch 02 | Validation Loss: 0.647 | Validation Accuracy: 0.594 | Validation AUC: 0.678 | Validation F1: 0.445\n"
     ]
    },
    {
     "name": "stderr",
     "output_type": "stream",
     "text": [
      "                                                                                                  \r"
     ]
    },
    {
     "name": "stdout",
     "output_type": "stream",
     "text": [
      "Epoch 03 | Training Loss: 0.627 | Training Accuracy: 0.621 | Training AUC: 0.614 | Training F1: 0.568\n",
      "Epoch 03 | Validation Loss: 0.610 | Validation Accuracy: 0.630 | Validation AUC: 0.732 | Validation F1: 0.458\n"
     ]
    },
    {
     "name": "stderr",
     "output_type": "stream",
     "text": [
      "                                                                                                  \r"
     ]
    },
    {
     "name": "stdout",
     "output_type": "stream",
     "text": [
      "Epoch 04 | Training Loss: 0.528 | Training Accuracy: 0.753 | Training AUC: 0.684 | Training F1: 0.613\n",
      "Epoch 04 | Validation Loss: 0.616 | Validation Accuracy: 0.707 | Validation AUC: 0.855 | Validation F1: 0.595\n"
     ]
    },
    {
     "name": "stderr",
     "output_type": "stream",
     "text": [
      "                                                                                                  \r"
     ]
    },
    {
     "name": "stdout",
     "output_type": "stream",
     "text": [
      "Epoch 05 | Training Loss: 0.469 | Training Accuracy: 0.824 | Training AUC: 0.738 | Training F1: 0.649\n",
      "Epoch 05 | Validation Loss: 0.484 | Validation Accuracy: 0.815 | Validation AUC: 0.920 | Validation F1: 0.836\n"
     ]
    },
    {
     "name": "stderr",
     "output_type": "stream",
     "text": [
      "                                                                                                  \r"
     ]
    },
    {
     "name": "stdout",
     "output_type": "stream",
     "text": [
      "Epoch 06 | Training Loss: 0.611 | Training Accuracy: 0.721 | Training AUC: 0.749 | Training F1: 0.664\n",
      "Epoch 06 | Validation Loss: 0.533 | Validation Accuracy: 0.728 | Validation AUC: 0.928 | Validation F1: 0.782\n"
     ]
    },
    {
     "name": "stderr",
     "output_type": "stream",
     "text": [
      "                                                                                                  \r"
     ]
    },
    {
     "name": "stdout",
     "output_type": "stream",
     "text": [
      "Epoch 07 | Training Loss: 0.450 | Training Accuracy: 0.810 | Training AUC: 0.776 | Training F1: 0.684\n",
      "Epoch 07 | Validation Loss: 0.416 | Validation Accuracy: 0.862 | Validation AUC: 0.934 | Validation F1: 0.854\n"
     ]
    },
    {
     "name": "stderr",
     "output_type": "stream",
     "text": [
      "                                                                                                  \r"
     ]
    },
    {
     "name": "stdout",
     "output_type": "stream",
     "text": [
      "Epoch 08 | Training Loss: 0.387 | Training Accuracy: 0.873 | Training AUC: 0.804 | Training F1: 0.706\n",
      "Epoch 08 | Validation Loss: 0.387 | Validation Accuracy: 0.883 | Validation AUC: 0.946 | Validation F1: 0.881\n"
     ]
    },
    {
     "name": "stderr",
     "output_type": "stream",
     "text": [
      "                                                                                                  \r"
     ]
    },
    {
     "name": "stdout",
     "output_type": "stream",
     "text": [
      "Epoch 09 | Training Loss: 0.373 | Training Accuracy: 0.881 | Training AUC: 0.825 | Training F1: 0.727\n",
      "Epoch 09 | Validation Loss: 0.357 | Validation Accuracy: 0.896 | Validation AUC: 0.969 | Validation F1: 0.890\n"
     ]
    },
    {
     "name": "stderr",
     "output_type": "stream",
     "text": [
      "                                                                                                   \r"
     ]
    },
    {
     "name": "stdout",
     "output_type": "stream",
     "text": [
      "Epoch 10 | Training Loss: 0.366 | Training Accuracy: 0.893 | Training AUC: 0.843 | Training F1: 0.743\n",
      "Epoch 10 | Validation Loss: 0.420 | Validation Accuracy: 0.859 | Validation AUC: 0.948 | Validation F1: 0.869\n"
     ]
    },
    {
     "name": "stderr",
     "output_type": "stream",
     "text": [
      "                                                                                                   \r"
     ]
    },
    {
     "name": "stdout",
     "output_type": "stream",
     "text": [
      "Epoch 11 | Training Loss: 0.374 | Training Accuracy: 0.875 | Training AUC: 0.855 | Training F1: 0.755\n",
      "Epoch 11 | Validation Loss: 0.332 | Validation Accuracy: 0.912 | Validation AUC: 0.977 | Validation F1: 0.915\n"
     ]
    },
    {
     "name": "stderr",
     "output_type": "stream",
     "text": [
      "                                                                                                  \r"
     ]
    },
    {
     "name": "stdout",
     "output_type": "stream",
     "text": [
      "Epoch 12 | Training Loss: 0.322 | Training Accuracy: 0.920 | Training AUC: 0.870 | Training F1: 0.769\n",
      "Epoch 12 | Validation Loss: 0.388 | Validation Accuracy: 0.863 | Validation AUC: 0.973 | Validation F1: 0.842\n"
     ]
    },
    {
     "name": "stderr",
     "output_type": "stream",
     "text": [
      "                                                                                                   \r"
     ]
    },
    {
     "name": "stdout",
     "output_type": "stream",
     "text": [
      "Epoch 13 | Training Loss: 0.346 | Training Accuracy: 0.898 | Training AUC: 0.879 | Training F1: 0.778\n",
      "Epoch 13 | Validation Loss: 0.325 | Validation Accuracy: 0.914 | Validation AUC: 0.987 | Validation F1: 0.918\n"
     ]
    },
    {
     "name": "stderr",
     "output_type": "stream",
     "text": [
      "                                                                                                  \r"
     ]
    },
    {
     "name": "stdout",
     "output_type": "stream",
     "text": [
      "Epoch 14 | Training Loss: 0.302 | Training Accuracy: 0.938 | Training AUC: 0.890 | Training F1: 0.790\n",
      "Epoch 14 | Validation Loss: 0.302 | Validation Accuracy: 0.937 | Validation AUC: 0.990 | Validation F1: 0.939\n"
     ]
    },
    {
     "name": "stderr",
     "output_type": "stream",
     "text": [
      "                                                                                                  \r"
     ]
    },
    {
     "name": "stdout",
     "output_type": "stream",
     "text": [
      "Epoch 15 | Training Loss: 0.293 | Training Accuracy: 0.946 | Training AUC: 0.900 | Training F1: 0.800\n",
      "Epoch 15 | Validation Loss: 0.304 | Validation Accuracy: 0.932 | Validation AUC: 0.995 | Validation F1: 0.935\n"
     ]
    },
    {
     "name": "stderr",
     "output_type": "stream",
     "text": [
      "                                                                                                  \r"
     ]
    },
    {
     "name": "stdout",
     "output_type": "stream",
     "text": [
      "Epoch 16 | Training Loss: 0.296 | Training Accuracy: 0.941 | Training AUC: 0.907 | Training F1: 0.809\n",
      "Epoch 16 | Validation Loss: 0.297 | Validation Accuracy: 0.941 | Validation AUC: 0.995 | Validation F1: 0.943\n"
     ]
    },
    {
     "name": "stderr",
     "output_type": "stream",
     "text": [
      "                                                                                                  \r"
     ]
    },
    {
     "name": "stdout",
     "output_type": "stream",
     "text": [
      "Epoch 17 | Training Loss: 0.287 | Training Accuracy: 0.957 | Training AUC: 0.915 | Training F1: 0.818\n",
      "Epoch 17 | Validation Loss: 0.291 | Validation Accuracy: 0.947 | Validation AUC: 0.996 | Validation F1: 0.944\n"
     ]
    },
    {
     "name": "stderr",
     "output_type": "stream",
     "text": [
      "                                                                                                  \r"
     ]
    },
    {
     "name": "stdout",
     "output_type": "stream",
     "text": [
      "Epoch 18 | Training Loss: 0.284 | Training Accuracy: 0.960 | Training AUC: 0.921 | Training F1: 0.826\n",
      "Epoch 18 | Validation Loss: 0.284 | Validation Accuracy: 0.964 | Validation AUC: 0.997 | Validation F1: 0.965\n"
     ]
    },
    {
     "name": "stderr",
     "output_type": "stream",
     "text": [
      "                                                                                                  \r"
     ]
    },
    {
     "name": "stdout",
     "output_type": "stream",
     "text": [
      "Epoch 19 | Training Loss: 0.282 | Training Accuracy: 0.968 | Training AUC: 0.926 | Training F1: 0.834\n",
      "Epoch 19 | Validation Loss: 0.283 | Validation Accuracy: 0.964 | Validation AUC: 0.997 | Validation F1: 0.965\n"
     ]
    },
    {
     "name": "stderr",
     "output_type": "stream",
     "text": [
      "                                                                                                  \r"
     ]
    },
    {
     "name": "stdout",
     "output_type": "stream",
     "text": [
      "Epoch 20 | Training Loss: 0.278 | Training Accuracy: 0.975 | Training AUC: 0.931 | Training F1: 0.841\n",
      "Epoch 20 | Validation Loss: 0.288 | Validation Accuracy: 0.954 | Validation AUC: 0.999 | Validation F1: 0.951\n"
     ]
    },
    {
     "name": "stderr",
     "output_type": "stream",
     "text": [
      "                                                                                                  \r"
     ]
    },
    {
     "name": "stdout",
     "output_type": "stream",
     "text": [
      "Epoch 21 | Training Loss: 0.282 | Training Accuracy: 0.964 | Training AUC: 0.936 | Training F1: 0.847\n",
      "Epoch 21 | Validation Loss: 0.300 | Validation Accuracy: 0.929 | Validation AUC: 0.998 | Validation F1: 0.934\n"
     ]
    },
    {
     "name": "stderr",
     "output_type": "stream",
     "text": [
      "                                                                                                  \r"
     ]
    },
    {
     "name": "stdout",
     "output_type": "stream",
     "text": [
      "Epoch 22 | Training Loss: 0.286 | Training Accuracy: 0.955 | Training AUC: 0.939 | Training F1: 0.852\n",
      "Epoch 22 | Validation Loss: 0.311 | Validation Accuracy: 0.910 | Validation AUC: 0.998 | Validation F1: 0.902\n"
     ]
    },
    {
     "name": "stderr",
     "output_type": "stream",
     "text": [
      "                                                                                                  \r"
     ]
    },
    {
     "name": "stdout",
     "output_type": "stream",
     "text": [
      "Epoch 23 | Training Loss: 0.305 | Training Accuracy: 0.929 | Training AUC: 0.942 | Training F1: 0.855\n",
      "Epoch 23 | Validation Loss: 0.287 | Validation Accuracy: 0.965 | Validation AUC: 0.995 | Validation F1: 0.964\n"
     ]
    },
    {
     "name": "stderr",
     "output_type": "stream",
     "text": [
      "                                                                                                  \r"
     ]
    },
    {
     "name": "stdout",
     "output_type": "stream",
     "text": [
      "Epoch 24 | Training Loss: 0.283 | Training Accuracy: 0.961 | Training AUC: 0.945 | Training F1: 0.860\n",
      "Epoch 24 | Validation Loss: 0.283 | Validation Accuracy: 0.965 | Validation AUC: 0.997 | Validation F1: 0.966\n",
      "Early stopping triggered after 24 epochs.\n",
      "[AWS]: Uploaded object to s3://pitch-ml/epidemiology/ml/models/inj/pitch_model_15d_results.pkl\n",
      "Training pitch-level model for preceding day window: 30 days\n"
     ]
    },
    {
     "name": "stderr",
     "output_type": "stream",
     "text": [
      "                                                                                                  \r"
     ]
    },
    {
     "name": "stdout",
     "output_type": "stream",
     "text": [
      "Epoch 01 | Training Loss: 0.809 | Training Accuracy: 0.517 | Training AUC: 0.522 | Training F1: 0.545\n",
      "Epoch 01 | Validation Loss: 0.676 | Validation Accuracy: 0.570 | Validation AUC: 0.604 | Validation F1: 0.560\n"
     ]
    },
    {
     "name": "stderr",
     "output_type": "stream",
     "text": [
      "                                                                                                  \r"
     ]
    },
    {
     "name": "stdout",
     "output_type": "stream",
     "text": [
      "Epoch 02 | Training Loss: 0.669 | Training Accuracy: 0.563 | Training AUC: 0.553 | Training F1: 0.543\n",
      "Epoch 02 | Validation Loss: 0.662 | Validation Accuracy: 0.565 | Validation AUC: 0.631 | Validation F1: 0.379\n"
     ]
    },
    {
     "name": "stderr",
     "output_type": "stream",
     "text": [
      "                                                                                                  \r"
     ]
    },
    {
     "name": "stdout",
     "output_type": "stream",
     "text": [
      "Epoch 03 | Training Loss: 0.630 | Training Accuracy: 0.614 | Training AUC: 0.595 | Training F1: 0.556\n",
      "Epoch 03 | Validation Loss: 0.609 | Validation Accuracy: 0.652 | Validation AUC: 0.756 | Validation F1: 0.496\n"
     ]
    },
    {
     "name": "stderr",
     "output_type": "stream",
     "text": [
      "                                                                                                  \r"
     ]
    },
    {
     "name": "stdout",
     "output_type": "stream",
     "text": [
      "Epoch 04 | Training Loss: 0.588 | Training Accuracy: 0.688 | Training AUC: 0.641 | Training F1: 0.587\n",
      "Epoch 04 | Validation Loss: 0.557 | Validation Accuracy: 0.695 | Validation AUC: 0.793 | Validation F1: 0.586\n"
     ]
    },
    {
     "name": "stderr",
     "output_type": "stream",
     "text": [
      "                                                                                                  \r"
     ]
    },
    {
     "name": "stdout",
     "output_type": "stream",
     "text": [
      "Epoch 05 | Training Loss: 0.548 | Training Accuracy: 0.743 | Training AUC: 0.684 | Training F1: 0.620\n",
      "Epoch 05 | Validation Loss: 0.537 | Validation Accuracy: 0.737 | Validation AUC: 0.906 | Validation F1: 0.655\n"
     ]
    },
    {
     "name": "stderr",
     "output_type": "stream",
     "text": [
      "                                                                                                  \r"
     ]
    },
    {
     "name": "stdout",
     "output_type": "stream",
     "text": [
      "Epoch 06 | Training Loss: 0.614 | Training Accuracy: 0.683 | Training AUC: 0.697 | Training F1: 0.637\n",
      "Epoch 06 | Validation Loss: 0.598 | Validation Accuracy: 0.680 | Validation AUC: 0.838 | Validation F1: 0.544\n"
     ]
    },
    {
     "name": "stderr",
     "output_type": "stream",
     "text": [
      "                                                                                                  \r"
     ]
    },
    {
     "name": "stdout",
     "output_type": "stream",
     "text": [
      "Epoch 07 | Training Loss: 0.518 | Training Accuracy: 0.766 | Training AUC: 0.722 | Training F1: 0.649\n",
      "Epoch 07 | Validation Loss: 0.462 | Validation Accuracy: 0.832 | Validation AUC: 0.918 | Validation F1: 0.846\n"
     ]
    },
    {
     "name": "stderr",
     "output_type": "stream",
     "text": [
      "                                                                                                  \r"
     ]
    },
    {
     "name": "stdout",
     "output_type": "stream",
     "text": [
      "Epoch 08 | Training Loss: 0.491 | Training Accuracy: 0.791 | Training AUC: 0.746 | Training F1: 0.671\n",
      "Epoch 08 | Validation Loss: 0.615 | Validation Accuracy: 0.677 | Validation AUC: 0.913 | Validation F1: 0.532\n"
     ]
    },
    {
     "name": "stderr",
     "output_type": "stream",
     "text": [
      "                                                                                                  \r"
     ]
    },
    {
     "name": "stdout",
     "output_type": "stream",
     "text": [
      "Epoch 09 | Training Loss: 0.482 | Training Accuracy: 0.798 | Training AUC: 0.765 | Training F1: 0.683\n",
      "Epoch 09 | Validation Loss: 0.478 | Validation Accuracy: 0.793 | Validation AUC: 0.914 | Validation F1: 0.756\n"
     ]
    },
    {
     "name": "stderr",
     "output_type": "stream",
     "text": [
      "                                                                                                   \r"
     ]
    },
    {
     "name": "stdout",
     "output_type": "stream",
     "text": [
      "Epoch 10 | Training Loss: 0.457 | Training Accuracy: 0.815 | Training AUC: 0.782 | Training F1: 0.695\n",
      "Epoch 10 | Validation Loss: 0.493 | Validation Accuracy: 0.767 | Validation AUC: 0.929 | Validation F1: 0.805\n"
     ]
    },
    {
     "name": "stderr",
     "output_type": "stream",
     "text": [
      "                                                                                                   \r"
     ]
    },
    {
     "name": "stdout",
     "output_type": "stream",
     "text": [
      "Epoch 11 | Training Loss: 0.499 | Training Accuracy: 0.770 | Training AUC: 0.791 | Training F1: 0.705\n",
      "Epoch 11 | Validation Loss: 0.432 | Validation Accuracy: 0.853 | Validation AUC: 0.925 | Validation F1: 0.858\n"
     ]
    },
    {
     "name": "stderr",
     "output_type": "stream",
     "text": [
      "                                                                                                   \r"
     ]
    },
    {
     "name": "stdout",
     "output_type": "stream",
     "text": [
      "Epoch 12 | Training Loss: 0.432 | Training Accuracy: 0.836 | Training AUC: 0.804 | Training F1: 0.716\n",
      "Epoch 12 | Validation Loss: 0.411 | Validation Accuracy: 0.856 | Validation AUC: 0.936 | Validation F1: 0.851\n"
     ]
    },
    {
     "name": "stderr",
     "output_type": "stream",
     "text": [
      "                                                                                                   \r"
     ]
    },
    {
     "name": "stdout",
     "output_type": "stream",
     "text": [
      "Epoch 13 | Training Loss: 0.371 | Training Accuracy: 0.884 | Training AUC: 0.819 | Training F1: 0.728\n",
      "Epoch 13 | Validation Loss: 0.359 | Validation Accuracy: 0.892 | Validation AUC: 0.974 | Validation F1: 0.883\n"
     ]
    },
    {
     "name": "stderr",
     "output_type": "stream",
     "text": [
      "                                                                                                   \r"
     ]
    },
    {
     "name": "stdout",
     "output_type": "stream",
     "text": [
      "Epoch 14 | Training Loss: 0.372 | Training Accuracy: 0.884 | Training AUC: 0.832 | Training F1: 0.738\n",
      "Epoch 14 | Validation Loss: 0.449 | Validation Accuracy: 0.840 | Validation AUC: 0.946 | Validation F1: 0.851\n"
     ]
    },
    {
     "name": "stderr",
     "output_type": "stream",
     "text": [
      "                                                                                                   \r"
     ]
    },
    {
     "name": "stdout",
     "output_type": "stream",
     "text": [
      "Epoch 15 | Training Loss: 0.409 | Training Accuracy: 0.839 | Training AUC: 0.840 | Training F1: 0.746\n",
      "Epoch 15 | Validation Loss: 0.350 | Validation Accuracy: 0.902 | Validation AUC: 0.967 | Validation F1: 0.905\n"
     ]
    },
    {
     "name": "stderr",
     "output_type": "stream",
     "text": [
      "                                                                                                   \r"
     ]
    },
    {
     "name": "stdout",
     "output_type": "stream",
     "text": [
      "Epoch 16 | Training Loss: 0.354 | Training Accuracy: 0.888 | Training AUC: 0.849 | Training F1: 0.754\n",
      "Epoch 16 | Validation Loss: 0.337 | Validation Accuracy: 0.912 | Validation AUC: 0.983 | Validation F1: 0.906\n"
     ]
    },
    {
     "name": "stderr",
     "output_type": "stream",
     "text": [
      "                                                                                                  \r"
     ]
    },
    {
     "name": "stdout",
     "output_type": "stream",
     "text": [
      "Epoch 17 | Training Loss: 0.311 | Training Accuracy: 0.931 | Training AUC: 0.861 | Training F1: 0.764\n",
      "Epoch 17 | Validation Loss: 0.323 | Validation Accuracy: 0.921 | Validation AUC: 0.985 | Validation F1: 0.917\n"
     ]
    },
    {
     "name": "stderr",
     "output_type": "stream",
     "text": [
      "                                                                                                  \r"
     ]
    },
    {
     "name": "stdout",
     "output_type": "stream",
     "text": [
      "Epoch 18 | Training Loss: 0.307 | Training Accuracy: 0.936 | Training AUC: 0.871 | Training F1: 0.774\n",
      "Epoch 18 | Validation Loss: 0.323 | Validation Accuracy: 0.913 | Validation AUC: 0.993 | Validation F1: 0.920\n"
     ]
    },
    {
     "name": "stderr",
     "output_type": "stream",
     "text": [
      "                                                                                                  \r"
     ]
    },
    {
     "name": "stdout",
     "output_type": "stream",
     "text": [
      "Epoch 19 | Training Loss: 0.314 | Training Accuracy: 0.923 | Training AUC: 0.879 | Training F1: 0.782\n",
      "Epoch 19 | Validation Loss: 0.306 | Validation Accuracy: 0.932 | Validation AUC: 0.991 | Validation F1: 0.935\n"
     ]
    },
    {
     "name": "stderr",
     "output_type": "stream",
     "text": [
      "                                                                                                  \r"
     ]
    },
    {
     "name": "stdout",
     "output_type": "stream",
     "text": [
      "Epoch 20 | Training Loss: 0.297 | Training Accuracy: 0.946 | Training AUC: 0.887 | Training F1: 0.790\n",
      "Epoch 20 | Validation Loss: 0.327 | Validation Accuracy: 0.891 | Validation AUC: 0.994 | Validation F1: 0.878\n"
     ]
    },
    {
     "name": "stderr",
     "output_type": "stream",
     "text": [
      "                                                                                                  \r"
     ]
    },
    {
     "name": "stdout",
     "output_type": "stream",
     "text": [
      "Epoch 21 | Training Loss: 0.312 | Training Accuracy: 0.917 | Training AUC: 0.893 | Training F1: 0.796\n",
      "Epoch 21 | Validation Loss: 0.292 | Validation Accuracy: 0.961 | Validation AUC: 0.996 | Validation F1: 0.962\n"
     ]
    },
    {
     "name": "stderr",
     "output_type": "stream",
     "text": [
      "                                                                                                  \r"
     ]
    },
    {
     "name": "stdout",
     "output_type": "stream",
     "text": [
      "Epoch 22 | Training Loss: 0.305 | Training Accuracy: 0.929 | Training AUC: 0.899 | Training F1: 0.802\n",
      "Epoch 22 | Validation Loss: 0.294 | Validation Accuracy: 0.950 | Validation AUC: 0.992 | Validation F1: 0.949\n"
     ]
    },
    {
     "name": "stderr",
     "output_type": "stream",
     "text": [
      "                                                                                                  \r"
     ]
    },
    {
     "name": "stdout",
     "output_type": "stream",
     "text": [
      "Epoch 23 | Training Loss: 0.294 | Training Accuracy: 0.951 | Training AUC: 0.904 | Training F1: 0.809\n",
      "Epoch 23 | Validation Loss: 0.296 | Validation Accuracy: 0.949 | Validation AUC: 0.991 | Validation F1: 0.950\n"
     ]
    },
    {
     "name": "stderr",
     "output_type": "stream",
     "text": [
      "                                                                                                  \r"
     ]
    },
    {
     "name": "stdout",
     "output_type": "stream",
     "text": [
      "Epoch 24 | Training Loss: 0.289 | Training Accuracy: 0.958 | Training AUC: 0.909 | Training F1: 0.815\n",
      "Epoch 24 | Validation Loss: 0.292 | Validation Accuracy: 0.944 | Validation AUC: 0.994 | Validation F1: 0.945\n"
     ]
    },
    {
     "name": "stderr",
     "output_type": "stream",
     "text": [
      "                                                                                                  \r"
     ]
    },
    {
     "name": "stdout",
     "output_type": "stream",
     "text": [
      "Epoch 25 | Training Loss: 0.286 | Training Accuracy: 0.958 | Training AUC: 0.914 | Training F1: 0.821\n",
      "Epoch 25 | Validation Loss: 0.285 | Validation Accuracy: 0.965 | Validation AUC: 0.998 | Validation F1: 0.964\n"
     ]
    },
    {
     "name": "stderr",
     "output_type": "stream",
     "text": [
      "                                                                                                  \r"
     ]
    },
    {
     "name": "stdout",
     "output_type": "stream",
     "text": [
      "Epoch 26 | Training Loss: 0.287 | Training Accuracy: 0.962 | Training AUC: 0.918 | Training F1: 0.826\n",
      "Epoch 26 | Validation Loss: 0.287 | Validation Accuracy: 0.964 | Validation AUC: 0.997 | Validation F1: 0.966\n"
     ]
    },
    {
     "name": "stderr",
     "output_type": "stream",
     "text": [
      "                                                                                                  \r"
     ]
    },
    {
     "name": "stdout",
     "output_type": "stream",
     "text": [
      "Epoch 27 | Training Loss: 0.285 | Training Accuracy: 0.964 | Training AUC: 0.922 | Training F1: 0.831\n",
      "Epoch 27 | Validation Loss: 0.312 | Validation Accuracy: 0.913 | Validation AUC: 0.984 | Validation F1: 0.915\n"
     ]
    },
    {
     "name": "stderr",
     "output_type": "stream",
     "text": [
      "                                                                                                  \r"
     ]
    },
    {
     "name": "stdout",
     "output_type": "stream",
     "text": [
      "Epoch 28 | Training Loss: 0.296 | Training Accuracy: 0.935 | Training AUC: 0.926 | Training F1: 0.835\n",
      "Epoch 28 | Validation Loss: 0.289 | Validation Accuracy: 0.950 | Validation AUC: 0.995 | Validation F1: 0.949\n"
     ]
    },
    {
     "name": "stderr",
     "output_type": "stream",
     "text": [
      "                                                                                                  \r"
     ]
    },
    {
     "name": "stdout",
     "output_type": "stream",
     "text": [
      "Epoch 29 | Training Loss: 0.290 | Training Accuracy: 0.956 | Training AUC: 0.929 | Training F1: 0.839\n",
      "Epoch 29 | Validation Loss: 0.286 | Validation Accuracy: 0.969 | Validation AUC: 0.997 | Validation F1: 0.969\n"
     ]
    },
    {
     "name": "stderr",
     "output_type": "stream",
     "text": [
      "                                                                                                  \r"
     ]
    },
    {
     "name": "stdout",
     "output_type": "stream",
     "text": [
      "Epoch 30 | Training Loss: 0.285 | Training Accuracy: 0.958 | Training AUC: 0.932 | Training F1: 0.843\n",
      "Epoch 30 | Validation Loss: 0.302 | Validation Accuracy: 0.934 | Validation AUC: 0.995 | Validation F1: 0.930\n",
      "Early stopping triggered after 30 epochs.\n",
      "[AWS]: Uploaded object to s3://pitch-ml/epidemiology/ml/models/inj/pitch_model_30d_results.pkl\n",
      "Training pitch-level model for preceding day window: 45 days\n"
     ]
    },
    {
     "name": "stderr",
     "output_type": "stream",
     "text": [
      "                                                                                                  \r"
     ]
    },
    {
     "name": "stdout",
     "output_type": "stream",
     "text": [
      "Epoch 01 | Training Loss: 0.814 | Training Accuracy: 0.509 | Training AUC: 0.520 | Training F1: 0.469\n",
      "Epoch 01 | Validation Loss: 0.701 | Validation Accuracy: 0.522 | Validation AUC: 0.614 | Validation F1: 0.674\n"
     ]
    },
    {
     "name": "stderr",
     "output_type": "stream",
     "text": [
      "                                                                                                  \r"
     ]
    },
    {
     "name": "stdout",
     "output_type": "stream",
     "text": [
      "Epoch 02 | Training Loss: 0.682 | Training Accuracy: 0.553 | Training AUC: 0.541 | Training F1: 0.529\n",
      "Epoch 02 | Validation Loss: 0.678 | Validation Accuracy: 0.573 | Validation AUC: 0.636 | Validation F1: 0.676\n"
     ]
    },
    {
     "name": "stderr",
     "output_type": "stream",
     "text": [
      "                                                                                                  \r"
     ]
    },
    {
     "name": "stdout",
     "output_type": "stream",
     "text": [
      "Epoch 03 | Training Loss: 0.663 | Training Accuracy: 0.592 | Training AUC: 0.571 | Training F1: 0.543\n",
      "Epoch 03 | Validation Loss: 0.654 | Validation Accuracy: 0.592 | Validation AUC: 0.655 | Validation F1: 0.552\n"
     ]
    },
    {
     "name": "stderr",
     "output_type": "stream",
     "text": [
      "                                                                                                  \r"
     ]
    },
    {
     "name": "stdout",
     "output_type": "stream",
     "text": [
      "Epoch 04 | Training Loss: 0.639 | Training Accuracy: 0.626 | Training AUC: 0.598 | Training F1: 0.568\n",
      "Epoch 04 | Validation Loss: 0.624 | Validation Accuracy: 0.635 | Validation AUC: 0.718 | Validation F1: 0.529\n"
     ]
    },
    {
     "name": "stderr",
     "output_type": "stream",
     "text": [
      "                                                                                                  \r"
     ]
    },
    {
     "name": "stdout",
     "output_type": "stream",
     "text": [
      "Epoch 05 | Training Loss: 0.614 | Training Accuracy: 0.662 | Training AUC: 0.628 | Training F1: 0.588\n",
      "Epoch 05 | Validation Loss: 0.586 | Validation Accuracy: 0.680 | Validation AUC: 0.754 | Validation F1: 0.586\n"
     ]
    },
    {
     "name": "stderr",
     "output_type": "stream",
     "text": [
      "                                                                                                  \r"
     ]
    },
    {
     "name": "stdout",
     "output_type": "stream",
     "text": [
      "Epoch 06 | Training Loss: 0.550 | Training Accuracy: 0.736 | Training AUC: 0.665 | Training F1: 0.608\n",
      "Epoch 06 | Validation Loss: 0.507 | Validation Accuracy: 0.763 | Validation AUC: 0.869 | Validation F1: 0.726\n"
     ]
    },
    {
     "name": "stderr",
     "output_type": "stream",
     "text": [
      "                                                                                                  \r"
     ]
    },
    {
     "name": "stdout",
     "output_type": "stream",
     "text": [
      "Epoch 07 | Training Loss: 0.524 | Training Accuracy: 0.761 | Training AUC: 0.697 | Training F1: 0.631\n",
      "Epoch 07 | Validation Loss: 0.475 | Validation Accuracy: 0.819 | Validation AUC: 0.889 | Validation F1: 0.795\n"
     ]
    },
    {
     "name": "stderr",
     "output_type": "stream",
     "text": [
      "                                                                                                  \r"
     ]
    },
    {
     "name": "stdout",
     "output_type": "stream",
     "text": [
      "Epoch 08 | Training Loss: 0.560 | Training Accuracy: 0.752 | Training AUC: 0.717 | Training F1: 0.646\n",
      "Epoch 08 | Validation Loss: 0.776 | Validation Accuracy: 0.610 | Validation AUC: 0.875 | Validation F1: 0.713\n"
     ]
    },
    {
     "name": "stderr",
     "output_type": "stream",
     "text": [
      "                                                                                                  \r"
     ]
    },
    {
     "name": "stdout",
     "output_type": "stream",
     "text": [
      "Epoch 09 | Training Loss: 0.544 | Training Accuracy: 0.752 | Training AUC: 0.732 | Training F1: 0.658\n",
      "Epoch 09 | Validation Loss: 0.438 | Validation Accuracy: 0.849 | Validation AUC: 0.920 | Validation F1: 0.851\n"
     ]
    },
    {
     "name": "stderr",
     "output_type": "stream",
     "text": [
      "                                                                                                   \r"
     ]
    },
    {
     "name": "stdout",
     "output_type": "stream",
     "text": [
      "Epoch 10 | Training Loss: 0.506 | Training Accuracy: 0.797 | Training AUC: 0.750 | Training F1: 0.672\n",
      "Epoch 10 | Validation Loss: 0.431 | Validation Accuracy: 0.859 | Validation AUC: 0.924 | Validation F1: 0.852\n"
     ]
    },
    {
     "name": "stderr",
     "output_type": "stream",
     "text": [
      "                                                                                                   \r"
     ]
    },
    {
     "name": "stdout",
     "output_type": "stream",
     "text": [
      "Epoch 11 | Training Loss: 0.424 | Training Accuracy: 0.853 | Training AUC: 0.771 | Training F1: 0.687\n",
      "Epoch 11 | Validation Loss: 0.431 | Validation Accuracy: 0.843 | Validation AUC: 0.927 | Validation F1: 0.828\n"
     ]
    },
    {
     "name": "stderr",
     "output_type": "stream",
     "text": [
      "                                                                                                   \r"
     ]
    },
    {
     "name": "stdout",
     "output_type": "stream",
     "text": [
      "Epoch 12 | Training Loss: 0.495 | Training Accuracy: 0.808 | Training AUC: 0.783 | Training F1: 0.696\n",
      "Epoch 12 | Validation Loss: 0.420 | Validation Accuracy: 0.861 | Validation AUC: 0.927 | Validation F1: 0.853\n"
     ]
    },
    {
     "name": "stderr",
     "output_type": "stream",
     "text": [
      "                                                                                                   \r"
     ]
    },
    {
     "name": "stdout",
     "output_type": "stream",
     "text": [
      "Epoch 13 | Training Loss: 0.443 | Training Accuracy: 0.836 | Training AUC: 0.794 | Training F1: 0.707\n",
      "Epoch 13 | Validation Loss: 0.471 | Validation Accuracy: 0.821 | Validation AUC: 0.933 | Validation F1: 0.841\n"
     ]
    },
    {
     "name": "stderr",
     "output_type": "stream",
     "text": [
      "                                                                                                   \r"
     ]
    },
    {
     "name": "stdout",
     "output_type": "stream",
     "text": [
      "Epoch 14 | Training Loss: 0.425 | Training Accuracy: 0.846 | Training AUC: 0.807 | Training F1: 0.716\n",
      "Epoch 14 | Validation Loss: 0.419 | Validation Accuracy: 0.866 | Validation AUC: 0.931 | Validation F1: 0.870\n"
     ]
    },
    {
     "name": "stderr",
     "output_type": "stream",
     "text": [
      "                                                                                                   \r"
     ]
    },
    {
     "name": "stdout",
     "output_type": "stream",
     "text": [
      "Epoch 15 | Training Loss: 0.413 | Training Accuracy: 0.862 | Training AUC: 0.818 | Training F1: 0.726\n",
      "Epoch 15 | Validation Loss: 0.475 | Validation Accuracy: 0.800 | Validation AUC: 0.934 | Validation F1: 0.760\n"
     ]
    },
    {
     "name": "stderr",
     "output_type": "stream",
     "text": [
      "                                                                                                   \r"
     ]
    },
    {
     "name": "stdout",
     "output_type": "stream",
     "text": [
      "Epoch 16 | Training Loss: 0.464 | Training Accuracy: 0.817 | Training AUC: 0.824 | Training F1: 0.731\n",
      "Epoch 16 | Validation Loss: 0.423 | Validation Accuracy: 0.851 | Validation AUC: 0.930 | Validation F1: 0.838\n"
     ]
    },
    {
     "name": "stderr",
     "output_type": "stream",
     "text": [
      "                                                                                                   \r"
     ]
    },
    {
     "name": "stdout",
     "output_type": "stream",
     "text": [
      "Epoch 17 | Training Loss: 0.394 | Training Accuracy: 0.873 | Training AUC: 0.833 | Training F1: 0.739\n",
      "Epoch 17 | Validation Loss: 0.416 | Validation Accuracy: 0.860 | Validation AUC: 0.937 | Validation F1: 0.849\n"
     ]
    },
    {
     "name": "stderr",
     "output_type": "stream",
     "text": [
      "                                                                                                   \r"
     ]
    },
    {
     "name": "stdout",
     "output_type": "stream",
     "text": [
      "Epoch 18 | Training Loss: 0.421 | Training Accuracy: 0.848 | Training AUC: 0.839 | Training F1: 0.745\n",
      "Epoch 18 | Validation Loss: 0.389 | Validation Accuracy: 0.888 | Validation AUC: 0.946 | Validation F1: 0.888\n"
     ]
    },
    {
     "name": "stderr",
     "output_type": "stream",
     "text": [
      "                                                                                                   \r"
     ]
    },
    {
     "name": "stdout",
     "output_type": "stream",
     "text": [
      "Epoch 19 | Training Loss: 0.380 | Training Accuracy: 0.885 | Training AUC: 0.847 | Training F1: 0.752\n",
      "Epoch 19 | Validation Loss: 0.390 | Validation Accuracy: 0.885 | Validation AUC: 0.948 | Validation F1: 0.887\n"
     ]
    },
    {
     "name": "stderr",
     "output_type": "stream",
     "text": [
      "                                                                                                   \r"
     ]
    },
    {
     "name": "stdout",
     "output_type": "stream",
     "text": [
      "Epoch 20 | Training Loss: 0.387 | Training Accuracy: 0.874 | Training AUC: 0.853 | Training F1: 0.758\n",
      "Epoch 20 | Validation Loss: 0.397 | Validation Accuracy: 0.873 | Validation AUC: 0.949 | Validation F1: 0.881\n"
     ]
    },
    {
     "name": "stderr",
     "output_type": "stream",
     "text": [
      "                                                                                                   \r"
     ]
    },
    {
     "name": "stdout",
     "output_type": "stream",
     "text": [
      "Epoch 21 | Training Loss: 0.373 | Training Accuracy: 0.885 | Training AUC: 0.859 | Training F1: 0.764\n",
      "Epoch 21 | Validation Loss: 0.393 | Validation Accuracy: 0.864 | Validation AUC: 0.956 | Validation F1: 0.852\n"
     ]
    },
    {
     "name": "stderr",
     "output_type": "stream",
     "text": [
      "                                                                                                   \r"
     ]
    },
    {
     "name": "stdout",
     "output_type": "stream",
     "text": [
      "Epoch 22 | Training Loss: 0.359 | Training Accuracy: 0.898 | Training AUC: 0.866 | Training F1: 0.770\n",
      "Epoch 22 | Validation Loss: 0.391 | Validation Accuracy: 0.853 | Validation AUC: 0.971 | Validation F1: 0.833\n"
     ]
    },
    {
     "name": "stderr",
     "output_type": "stream",
     "text": [
      "                                                                                                   \r"
     ]
    },
    {
     "name": "stdout",
     "output_type": "stream",
     "text": [
      "Epoch 23 | Training Loss: 0.379 | Training Accuracy: 0.876 | Training AUC: 0.870 | Training F1: 0.774\n",
      "Epoch 23 | Validation Loss: 0.370 | Validation Accuracy: 0.883 | Validation AUC: 0.962 | Validation F1: 0.874\n"
     ]
    },
    {
     "name": "stderr",
     "output_type": "stream",
     "text": [
      "                                                                                                   \r"
     ]
    },
    {
     "name": "stdout",
     "output_type": "stream",
     "text": [
      "Epoch 24 | Training Loss: 0.361 | Training Accuracy: 0.894 | Training AUC: 0.875 | Training F1: 0.779\n",
      "Epoch 24 | Validation Loss: 0.415 | Validation Accuracy: 0.845 | Validation AUC: 0.966 | Validation F1: 0.823\n"
     ]
    },
    {
     "name": "stderr",
     "output_type": "stream",
     "text": [
      "                                                                                                   \r"
     ]
    },
    {
     "name": "stdout",
     "output_type": "stream",
     "text": [
      "Epoch 25 | Training Loss: 0.474 | Training Accuracy: 0.806 | Training AUC: 0.876 | Training F1: 0.780\n",
      "Epoch 25 | Validation Loss: 0.365 | Validation Accuracy: 0.904 | Validation AUC: 0.960 | Validation F1: 0.906\n"
     ]
    },
    {
     "name": "stderr",
     "output_type": "stream",
     "text": [
      "                                                                                                   \r"
     ]
    },
    {
     "name": "stdout",
     "output_type": "stream",
     "text": [
      "Epoch 26 | Training Loss: 0.392 | Training Accuracy: 0.861 | Training AUC: 0.879 | Training F1: 0.783\n",
      "Epoch 26 | Validation Loss: 0.349 | Validation Accuracy: 0.902 | Validation AUC: 0.967 | Validation F1: 0.900\n"
     ]
    },
    {
     "name": "stderr",
     "output_type": "stream",
     "text": [
      "                                                                                                  \r"
     ]
    },
    {
     "name": "stdout",
     "output_type": "stream",
     "text": [
      "Epoch 27 | Training Loss: 0.337 | Training Accuracy: 0.914 | Training AUC: 0.883 | Training F1: 0.787\n",
      "Epoch 27 | Validation Loss: 0.331 | Validation Accuracy: 0.916 | Validation AUC: 0.977 | Validation F1: 0.915\n"
     ]
    },
    {
     "name": "stderr",
     "output_type": "stream",
     "text": [
      "                                                                                                  \r"
     ]
    },
    {
     "name": "stdout",
     "output_type": "stream",
     "text": [
      "Epoch 28 | Training Loss: 0.319 | Training Accuracy: 0.923 | Training AUC: 0.888 | Training F1: 0.792\n",
      "Epoch 28 | Validation Loss: 0.331 | Validation Accuracy: 0.917 | Validation AUC: 0.977 | Validation F1: 0.918\n"
     ]
    },
    {
     "name": "stderr",
     "output_type": "stream",
     "text": [
      "                                                                                                  \r"
     ]
    },
    {
     "name": "stdout",
     "output_type": "stream",
     "text": [
      "Epoch 29 | Training Loss: 0.322 | Training Accuracy: 0.921 | Training AUC: 0.892 | Training F1: 0.797\n",
      "Epoch 29 | Validation Loss: 0.396 | Validation Accuracy: 0.825 | Validation AUC: 0.978 | Validation F1: 0.847\n"
     ]
    },
    {
     "name": "stderr",
     "output_type": "stream",
     "text": [
      "                                                                                                   \r"
     ]
    },
    {
     "name": "stdout",
     "output_type": "stream",
     "text": [
      "Epoch 30 | Training Loss: 0.354 | Training Accuracy: 0.884 | Training AUC: 0.895 | Training F1: 0.800\n",
      "Epoch 30 | Validation Loss: 0.321 | Validation Accuracy: 0.925 | Validation AUC: 0.981 | Validation F1: 0.926\n"
     ]
    },
    {
     "name": "stderr",
     "output_type": "stream",
     "text": [
      "                                                                                                  \r"
     ]
    },
    {
     "name": "stdout",
     "output_type": "stream",
     "text": [
      "Epoch 31 | Training Loss: 0.304 | Training Accuracy: 0.939 | Training AUC: 0.899 | Training F1: 0.804\n",
      "Epoch 31 | Validation Loss: 0.304 | Validation Accuracy: 0.943 | Validation AUC: 0.988 | Validation F1: 0.943\n"
     ]
    },
    {
     "name": "stderr",
     "output_type": "stream",
     "text": [
      "                                                                                                  \r"
     ]
    },
    {
     "name": "stdout",
     "output_type": "stream",
     "text": [
      "Epoch 32 | Training Loss: 0.298 | Training Accuracy: 0.941 | Training AUC: 0.903 | Training F1: 0.809\n",
      "Epoch 32 | Validation Loss: 0.301 | Validation Accuracy: 0.944 | Validation AUC: 0.990 | Validation F1: 0.943\n"
     ]
    },
    {
     "name": "stderr",
     "output_type": "stream",
     "text": [
      "                                                                                                  \r"
     ]
    },
    {
     "name": "stdout",
     "output_type": "stream",
     "text": [
      "Epoch 33 | Training Loss: 0.297 | Training Accuracy: 0.944 | Training AUC: 0.906 | Training F1: 0.813\n",
      "Epoch 33 | Validation Loss: 0.294 | Validation Accuracy: 0.953 | Validation AUC: 0.992 | Validation F1: 0.952\n"
     ]
    },
    {
     "name": "stderr",
     "output_type": "stream",
     "text": [
      "                                                                                                  \r"
     ]
    },
    {
     "name": "stdout",
     "output_type": "stream",
     "text": [
      "Epoch 34 | Training Loss: 0.292 | Training Accuracy: 0.952 | Training AUC: 0.910 | Training F1: 0.817\n",
      "Epoch 34 | Validation Loss: 0.300 | Validation Accuracy: 0.937 | Validation AUC: 0.995 | Validation F1: 0.933\n"
     ]
    },
    {
     "name": "stderr",
     "output_type": "stream",
     "text": [
      "                                                                                                  \r"
     ]
    },
    {
     "name": "stdout",
     "output_type": "stream",
     "text": [
      "Epoch 35 | Training Loss: 0.291 | Training Accuracy: 0.946 | Training AUC: 0.913 | Training F1: 0.821\n",
      "Epoch 35 | Validation Loss: 0.289 | Validation Accuracy: 0.955 | Validation AUC: 0.995 | Validation F1: 0.955\n"
     ]
    },
    {
     "name": "stderr",
     "output_type": "stream",
     "text": [
      "                                                                                                  \r"
     ]
    },
    {
     "name": "stdout",
     "output_type": "stream",
     "text": [
      "Epoch 36 | Training Loss: 0.285 | Training Accuracy: 0.962 | Training AUC: 0.916 | Training F1: 0.825\n",
      "Epoch 36 | Validation Loss: 0.288 | Validation Accuracy: 0.957 | Validation AUC: 0.995 | Validation F1: 0.957\n"
     ]
    },
    {
     "name": "stderr",
     "output_type": "stream",
     "text": [
      "                                                                                                  \r"
     ]
    },
    {
     "name": "stdout",
     "output_type": "stream",
     "text": [
      "Epoch 37 | Training Loss: 0.284 | Training Accuracy: 0.962 | Training AUC: 0.919 | Training F1: 0.828\n",
      "Epoch 37 | Validation Loss: 0.283 | Validation Accuracy: 0.974 | Validation AUC: 0.998 | Validation F1: 0.974\n"
     ]
    },
    {
     "name": "stderr",
     "output_type": "stream",
     "text": [
      "                                                                                                  \r"
     ]
    },
    {
     "name": "stdout",
     "output_type": "stream",
     "text": [
      "Epoch 38 | Training Loss: 0.281 | Training Accuracy: 0.973 | Training AUC: 0.922 | Training F1: 0.832\n",
      "Epoch 38 | Validation Loss: 0.285 | Validation Accuracy: 0.973 | Validation AUC: 0.997 | Validation F1: 0.974\n"
     ]
    },
    {
     "name": "stderr",
     "output_type": "stream",
     "text": [
      "                                                                                                  \r"
     ]
    },
    {
     "name": "stdout",
     "output_type": "stream",
     "text": [
      "Epoch 39 | Training Loss: 0.282 | Training Accuracy: 0.970 | Training AUC: 0.925 | Training F1: 0.836\n",
      "Epoch 39 | Validation Loss: 0.310 | Validation Accuracy: 0.918 | Validation AUC: 0.998 | Validation F1: 0.925\n"
     ]
    },
    {
     "name": "stderr",
     "output_type": "stream",
     "text": [
      "                                                                                                  \r"
     ]
    },
    {
     "name": "stdout",
     "output_type": "stream",
     "text": [
      "Epoch 40 | Training Loss: 0.291 | Training Accuracy: 0.949 | Training AUC: 0.927 | Training F1: 0.839\n",
      "Epoch 40 | Validation Loss: 0.293 | Validation Accuracy: 0.945 | Validation AUC: 0.998 | Validation F1: 0.942\n"
     ]
    },
    {
     "name": "stderr",
     "output_type": "stream",
     "text": [
      "                                                                                                  \r"
     ]
    },
    {
     "name": "stdout",
     "output_type": "stream",
     "text": [
      "Epoch 41 | Training Loss: 0.285 | Training Accuracy: 0.959 | Training AUC: 0.929 | Training F1: 0.842\n",
      "Epoch 41 | Validation Loss: 0.284 | Validation Accuracy: 0.965 | Validation AUC: 0.996 | Validation F1: 0.965\n"
     ]
    },
    {
     "name": "stderr",
     "output_type": "stream",
     "text": [
      "                                                                                                  \r"
     ]
    },
    {
     "name": "stdout",
     "output_type": "stream",
     "text": [
      "Epoch 42 | Training Loss: 0.283 | Training Accuracy: 0.965 | Training AUC: 0.931 | Training F1: 0.845\n",
      "Epoch 42 | Validation Loss: 0.281 | Validation Accuracy: 0.974 | Validation AUC: 0.998 | Validation F1: 0.974\n"
     ]
    },
    {
     "name": "stderr",
     "output_type": "stream",
     "text": [
      "                                                                                                  \r"
     ]
    },
    {
     "name": "stdout",
     "output_type": "stream",
     "text": [
      "Epoch 43 | Training Loss: 0.280 | Training Accuracy: 0.971 | Training AUC: 0.934 | Training F1: 0.848\n",
      "Epoch 43 | Validation Loss: 0.286 | Validation Accuracy: 0.959 | Validation AUC: 0.998 | Validation F1: 0.958\n"
     ]
    },
    {
     "name": "stderr",
     "output_type": "stream",
     "text": [
      "                                                                                                  \r"
     ]
    },
    {
     "name": "stdout",
     "output_type": "stream",
     "text": [
      "Epoch 44 | Training Loss: 0.282 | Training Accuracy: 0.964 | Training AUC: 0.936 | Training F1: 0.850\n",
      "Epoch 44 | Validation Loss: 0.285 | Validation Accuracy: 0.960 | Validation AUC: 0.998 | Validation F1: 0.961\n"
     ]
    },
    {
     "name": "stderr",
     "output_type": "stream",
     "text": [
      "                                                                                                  \r"
     ]
    },
    {
     "name": "stdout",
     "output_type": "stream",
     "text": [
      "Epoch 45 | Training Loss: 0.282 | Training Accuracy: 0.968 | Training AUC: 0.937 | Training F1: 0.853\n",
      "Epoch 45 | Validation Loss: 0.283 | Validation Accuracy: 0.967 | Validation AUC: 0.997 | Validation F1: 0.966\n"
     ]
    },
    {
     "name": "stderr",
     "output_type": "stream",
     "text": [
      "                                                                                                  \r"
     ]
    },
    {
     "name": "stdout",
     "output_type": "stream",
     "text": [
      "Epoch 46 | Training Loss: 0.280 | Training Accuracy: 0.971 | Training AUC: 0.939 | Training F1: 0.856\n",
      "Epoch 46 | Validation Loss: 0.279 | Validation Accuracy: 0.981 | Validation AUC: 0.999 | Validation F1: 0.981\n"
     ]
    },
    {
     "name": "stderr",
     "output_type": "stream",
     "text": [
      "                                                                                                  \r"
     ]
    },
    {
     "name": "stdout",
     "output_type": "stream",
     "text": [
      "Epoch 47 | Training Loss: 0.276 | Training Accuracy: 0.982 | Training AUC: 0.941 | Training F1: 0.858\n",
      "Epoch 47 | Validation Loss: 0.278 | Validation Accuracy: 0.983 | Validation AUC: 0.999 | Validation F1: 0.984\n"
     ]
    },
    {
     "name": "stderr",
     "output_type": "stream",
     "text": [
      "                                                                                                  \r"
     ]
    },
    {
     "name": "stdout",
     "output_type": "stream",
     "text": [
      "Epoch 48 | Training Loss: 0.276 | Training Accuracy: 0.982 | Training AUC: 0.943 | Training F1: 0.861\n",
      "Epoch 48 | Validation Loss: 0.281 | Validation Accuracy: 0.971 | Validation AUC: 0.998 | Validation F1: 0.971\n"
     ]
    },
    {
     "name": "stderr",
     "output_type": "stream",
     "text": [
      "                                                                                                  \r"
     ]
    },
    {
     "name": "stdout",
     "output_type": "stream",
     "text": [
      "Epoch 49 | Training Loss: 0.280 | Training Accuracy: 0.971 | Training AUC: 0.944 | Training F1: 0.863\n",
      "Epoch 49 | Validation Loss: 0.286 | Validation Accuracy: 0.962 | Validation AUC: 0.999 | Validation F1: 0.963\n"
     ]
    },
    {
     "name": "stderr",
     "output_type": "stream",
     "text": [
      "                                                                                                  \r"
     ]
    },
    {
     "name": "stdout",
     "output_type": "stream",
     "text": [
      "Epoch 50 | Training Loss: 0.283 | Training Accuracy: 0.961 | Training AUC: 0.945 | Training F1: 0.865\n",
      "Epoch 50 | Validation Loss: 0.286 | Validation Accuracy: 0.963 | Validation AUC: 0.997 | Validation F1: 0.963\n"
     ]
    },
    {
     "name": "stderr",
     "output_type": "stream",
     "text": [
      "                                                                                                  \r"
     ]
    },
    {
     "name": "stdout",
     "output_type": "stream",
     "text": [
      "Epoch 51 | Training Loss: 0.282 | Training Accuracy: 0.964 | Training AUC: 0.947 | Training F1: 0.867\n",
      "Epoch 51 | Validation Loss: 0.282 | Validation Accuracy: 0.968 | Validation AUC: 0.999 | Validation F1: 0.969\n"
     ]
    },
    {
     "name": "stderr",
     "output_type": "stream",
     "text": [
      "                                                                                                  \r"
     ]
    },
    {
     "name": "stdout",
     "output_type": "stream",
     "text": [
      "Epoch 52 | Training Loss: 0.279 | Training Accuracy: 0.973 | Training AUC: 0.948 | Training F1: 0.869\n",
      "Epoch 52 | Validation Loss: 0.281 | Validation Accuracy: 0.968 | Validation AUC: 0.998 | Validation F1: 0.968\n",
      "Early stopping triggered after 52 epochs.\n",
      "[AWS]: Uploaded object to s3://pitch-ml/epidemiology/ml/models/inj/pitch_model_45d_results.pkl\n",
      "Training pitch-level model for preceding day window: 90 days\n"
     ]
    },
    {
     "name": "stderr",
     "output_type": "stream",
     "text": [
      "                                                                                                  \r"
     ]
    },
    {
     "name": "stdout",
     "output_type": "stream",
     "text": [
      "Epoch 01 | Training Loss: 0.803 | Training Accuracy: 0.509 | Training AUC: 0.530 | Training F1: 0.544\n",
      "Epoch 01 | Validation Loss: 0.669 | Validation Accuracy: 0.602 | Validation AUC: 0.650 | Validation F1: 0.621\n"
     ]
    },
    {
     "name": "stderr",
     "output_type": "stream",
     "text": [
      "                                                                                                  \r"
     ]
    },
    {
     "name": "stdout",
     "output_type": "stream",
     "text": [
      "Epoch 02 | Training Loss: 0.687 | Training Accuracy: 0.571 | Training AUC: 0.560 | Training F1: 0.534\n",
      "Epoch 02 | Validation Loss: 0.657 | Validation Accuracy: 0.611 | Validation AUC: 0.668 | Validation F1: 0.583\n"
     ]
    },
    {
     "name": "stderr",
     "output_type": "stream",
     "text": [
      "                                                                                                  \r"
     ]
    },
    {
     "name": "stdout",
     "output_type": "stream",
     "text": [
      "Epoch 03 | Training Loss: 0.654 | Training Accuracy: 0.625 | Training AUC: 0.595 | Training F1: 0.562\n",
      "Epoch 03 | Validation Loss: 0.646 | Validation Accuracy: 0.618 | Validation AUC: 0.687 | Validation F1: 0.590\n"
     ]
    },
    {
     "name": "stderr",
     "output_type": "stream",
     "text": [
      "                                                                                                  \r"
     ]
    },
    {
     "name": "stdout",
     "output_type": "stream",
     "text": [
      "Epoch 04 | Training Loss: 0.645 | Training Accuracy: 0.647 | Training AUC: 0.620 | Training F1: 0.582\n",
      "Epoch 04 | Validation Loss: 0.638 | Validation Accuracy: 0.623 | Validation AUC: 0.702 | Validation F1: 0.629\n"
     ]
    },
    {
     "name": "stderr",
     "output_type": "stream",
     "text": [
      "                                                                                                  \r"
     ]
    },
    {
     "name": "stdout",
     "output_type": "stream",
     "text": [
      "Epoch 05 | Training Loss: 0.641 | Training Accuracy: 0.643 | Training AUC: 0.636 | Training F1: 0.595\n",
      "Epoch 05 | Validation Loss: 0.635 | Validation Accuracy: 0.615 | Validation AUC: 0.703 | Validation F1: 0.628\n"
     ]
    },
    {
     "name": "stderr",
     "output_type": "stream",
     "text": [
      "                                                                                                  \r"
     ]
    },
    {
     "name": "stdout",
     "output_type": "stream",
     "text": [
      "Epoch 06 | Training Loss: 0.631 | Training Accuracy: 0.646 | Training AUC: 0.649 | Training F1: 0.605\n",
      "Epoch 06 | Validation Loss: 0.611 | Validation Accuracy: 0.653 | Validation AUC: 0.742 | Validation F1: 0.643\n"
     ]
    },
    {
     "name": "stderr",
     "output_type": "stream",
     "text": [
      "                                                                                                  \r"
     ]
    },
    {
     "name": "stdout",
     "output_type": "stream",
     "text": [
      "Epoch 07 | Training Loss: 0.579 | Training Accuracy: 0.709 | Training AUC: 0.671 | Training F1: 0.624\n",
      "Epoch 07 | Validation Loss: 0.559 | Validation Accuracy: 0.708 | Validation AUC: 0.870 | Validation F1: 0.614\n"
     ]
    },
    {
     "name": "stderr",
     "output_type": "stream",
     "text": [
      "                                                                                                  \r"
     ]
    },
    {
     "name": "stdout",
     "output_type": "stream",
     "text": [
      "Epoch 08 | Training Loss: 0.573 | Training Accuracy: 0.726 | Training AUC: 0.688 | Training F1: 0.631\n",
      "Epoch 08 | Validation Loss: 0.550 | Validation Accuracy: 0.721 | Validation AUC: 0.919 | Validation F1: 0.779\n"
     ]
    },
    {
     "name": "stderr",
     "output_type": "stream",
     "text": [
      "                                                                                                  \r"
     ]
    },
    {
     "name": "stdout",
     "output_type": "stream",
     "text": [
      "Epoch 09 | Training Loss: 0.533 | Training Accuracy: 0.771 | Training AUC: 0.709 | Training F1: 0.649\n",
      "Epoch 09 | Validation Loss: 0.497 | Validation Accuracy: 0.769 | Validation AUC: 0.878 | Validation F1: 0.773\n"
     ]
    },
    {
     "name": "stderr",
     "output_type": "stream",
     "text": [
      "                                                                                                   \r"
     ]
    },
    {
     "name": "stdout",
     "output_type": "stream",
     "text": [
      "Epoch 10 | Training Loss: 0.479 | Training Accuracy: 0.801 | Training AUC: 0.731 | Training F1: 0.661\n",
      "Epoch 10 | Validation Loss: 0.429 | Validation Accuracy: 0.865 | Validation AUC: 0.939 | Validation F1: 0.866\n"
     ]
    },
    {
     "name": "stderr",
     "output_type": "stream",
     "text": [
      "                                                                                                   \r"
     ]
    },
    {
     "name": "stdout",
     "output_type": "stream",
     "text": [
      "Epoch 11 | Training Loss: 0.452 | Training Accuracy: 0.828 | Training AUC: 0.753 | Training F1: 0.674\n",
      "Epoch 11 | Validation Loss: 0.478 | Validation Accuracy: 0.829 | Validation AUC: 0.913 | Validation F1: 0.836\n"
     ]
    },
    {
     "name": "stderr",
     "output_type": "stream",
     "text": [
      "                                                                                                   \r"
     ]
    },
    {
     "name": "stdout",
     "output_type": "stream",
     "text": [
      "Epoch 12 | Training Loss: 0.505 | Training Accuracy: 0.792 | Training AUC: 0.763 | Training F1: 0.682\n",
      "Epoch 12 | Validation Loss: 0.550 | Validation Accuracy: 0.753 | Validation AUC: 0.922 | Validation F1: 0.800\n"
     ]
    },
    {
     "name": "stderr",
     "output_type": "stream",
     "text": [
      "                                                                                                   \r"
     ]
    },
    {
     "name": "stdout",
     "output_type": "stream",
     "text": [
      "Epoch 13 | Training Loss: 0.584 | Training Accuracy: 0.731 | Training AUC: 0.767 | Training F1: 0.688\n",
      "Epoch 13 | Validation Loss: 0.426 | Validation Accuracy: 0.871 | Validation AUC: 0.952 | Validation F1: 0.873\n"
     ]
    },
    {
     "name": "stderr",
     "output_type": "stream",
     "text": [
      "                                                                                                   \r"
     ]
    },
    {
     "name": "stdout",
     "output_type": "stream",
     "text": [
      "Epoch 14 | Training Loss: 0.440 | Training Accuracy: 0.830 | Training AUC: 0.780 | Training F1: 0.697\n",
      "Epoch 14 | Validation Loss: 0.381 | Validation Accuracy: 0.885 | Validation AUC: 0.957 | Validation F1: 0.881\n"
     ]
    },
    {
     "name": "stderr",
     "output_type": "stream",
     "text": [
      "                                                                                                   \r"
     ]
    },
    {
     "name": "stdout",
     "output_type": "stream",
     "text": [
      "Epoch 15 | Training Loss: 0.416 | Training Accuracy: 0.849 | Training AUC: 0.793 | Training F1: 0.706\n",
      "Epoch 15 | Validation Loss: 0.381 | Validation Accuracy: 0.879 | Validation AUC: 0.957 | Validation F1: 0.875\n"
     ]
    },
    {
     "name": "stderr",
     "output_type": "stream",
     "text": [
      "                                                                                                   \r"
     ]
    },
    {
     "name": "stdout",
     "output_type": "stream",
     "text": [
      "Epoch 16 | Training Loss: 0.422 | Training Accuracy: 0.842 | Training AUC: 0.804 | Training F1: 0.714\n",
      "Epoch 16 | Validation Loss: 0.382 | Validation Accuracy: 0.877 | Validation AUC: 0.958 | Validation F1: 0.868\n"
     ]
    },
    {
     "name": "stderr",
     "output_type": "stream",
     "text": [
      "                                                                                                   \r"
     ]
    },
    {
     "name": "stdout",
     "output_type": "stream",
     "text": [
      "Epoch 17 | Training Loss: 0.417 | Training Accuracy: 0.840 | Training AUC: 0.813 | Training F1: 0.722\n",
      "Epoch 17 | Validation Loss: 0.411 | Validation Accuracy: 0.870 | Validation AUC: 0.953 | Validation F1: 0.880\n"
     ]
    },
    {
     "name": "stderr",
     "output_type": "stream",
     "text": [
      "                                                                                                   \r"
     ]
    },
    {
     "name": "stdout",
     "output_type": "stream",
     "text": [
      "Epoch 18 | Training Loss: 0.446 | Training Accuracy: 0.837 | Training AUC: 0.820 | Training F1: 0.728\n",
      "Epoch 18 | Validation Loss: 0.379 | Validation Accuracy: 0.887 | Validation AUC: 0.961 | Validation F1: 0.890\n"
     ]
    },
    {
     "name": "stderr",
     "output_type": "stream",
     "text": [
      "                                                                                                   \r"
     ]
    },
    {
     "name": "stdout",
     "output_type": "stream",
     "text": [
      "Epoch 19 | Training Loss: 0.376 | Training Accuracy: 0.887 | Training AUC: 0.829 | Training F1: 0.737\n",
      "Epoch 19 | Validation Loss: 0.380 | Validation Accuracy: 0.872 | Validation AUC: 0.958 | Validation F1: 0.875\n"
     ]
    },
    {
     "name": "stderr",
     "output_type": "stream",
     "text": [
      "                                                                                                   \r"
     ]
    },
    {
     "name": "stdout",
     "output_type": "stream",
     "text": [
      "Epoch 20 | Training Loss: 0.379 | Training Accuracy: 0.878 | Training AUC: 0.838 | Training F1: 0.744\n",
      "Epoch 20 | Validation Loss: 0.405 | Validation Accuracy: 0.836 | Validation AUC: 0.965 | Validation F1: 0.810\n"
     ]
    },
    {
     "name": "stderr",
     "output_type": "stream",
     "text": [
      "                                                                                                   \r"
     ]
    },
    {
     "name": "stdout",
     "output_type": "stream",
     "text": [
      "Epoch 21 | Training Loss: 0.400 | Training Accuracy: 0.851 | Training AUC: 0.843 | Training F1: 0.748\n",
      "Epoch 21 | Validation Loss: 0.353 | Validation Accuracy: 0.896 | Validation AUC: 0.968 | Validation F1: 0.892\n"
     ]
    },
    {
     "name": "stderr",
     "output_type": "stream",
     "text": [
      "                                                                                                   \r"
     ]
    },
    {
     "name": "stdout",
     "output_type": "stream",
     "text": [
      "Epoch 22 | Training Loss: 0.365 | Training Accuracy: 0.888 | Training AUC: 0.850 | Training F1: 0.754\n",
      "Epoch 22 | Validation Loss: 0.347 | Validation Accuracy: 0.905 | Validation AUC: 0.971 | Validation F1: 0.902\n"
     ]
    },
    {
     "name": "stderr",
     "output_type": "stream",
     "text": [
      "                                                                                                   \r"
     ]
    },
    {
     "name": "stdout",
     "output_type": "stream",
     "text": [
      "Epoch 23 | Training Loss: 0.356 | Training Accuracy: 0.891 | Training AUC: 0.857 | Training F1: 0.760\n",
      "Epoch 23 | Validation Loss: 0.354 | Validation Accuracy: 0.899 | Validation AUC: 0.972 | Validation F1: 0.903\n"
     ]
    },
    {
     "name": "stderr",
     "output_type": "stream",
     "text": [
      "                                                                                                   \r"
     ]
    },
    {
     "name": "stdout",
     "output_type": "stream",
     "text": [
      "Epoch 24 | Training Loss: 0.345 | Training Accuracy: 0.907 | Training AUC: 0.863 | Training F1: 0.766\n",
      "Epoch 24 | Validation Loss: 0.330 | Validation Accuracy: 0.917 | Validation AUC: 0.978 | Validation F1: 0.915\n"
     ]
    },
    {
     "name": "stderr",
     "output_type": "stream",
     "text": [
      "                                                                                                  \r"
     ]
    },
    {
     "name": "stdout",
     "output_type": "stream",
     "text": [
      "Epoch 25 | Training Loss: 0.329 | Training Accuracy: 0.919 | Training AUC: 0.869 | Training F1: 0.772\n",
      "Epoch 25 | Validation Loss: 0.407 | Validation Accuracy: 0.847 | Validation AUC: 0.972 | Validation F1: 0.822\n"
     ]
    },
    {
     "name": "stderr",
     "output_type": "stream",
     "text": [
      "                                                                                                   \r"
     ]
    },
    {
     "name": "stdout",
     "output_type": "stream",
     "text": [
      "Epoch 26 | Training Loss: 0.395 | Training Accuracy: 0.851 | Training AUC: 0.873 | Training F1: 0.775\n",
      "Epoch 26 | Validation Loss: 0.336 | Validation Accuracy: 0.900 | Validation AUC: 0.983 | Validation F1: 0.891\n"
     ]
    },
    {
     "name": "stderr",
     "output_type": "stream",
     "text": [
      "                                                                                                  \r"
     ]
    },
    {
     "name": "stdout",
     "output_type": "stream",
     "text": [
      "Epoch 27 | Training Loss: 0.336 | Training Accuracy: 0.912 | Training AUC: 0.877 | Training F1: 0.780\n",
      "Epoch 27 | Validation Loss: 0.355 | Validation Accuracy: 0.881 | Validation AUC: 0.983 | Validation F1: 0.891\n"
     ]
    },
    {
     "name": "stderr",
     "output_type": "stream",
     "text": [
      "                                                                                                  \r"
     ]
    },
    {
     "name": "stdout",
     "output_type": "stream",
     "text": [
      "Epoch 28 | Training Loss: 0.317 | Training Accuracy: 0.922 | Training AUC: 0.883 | Training F1: 0.786\n",
      "Epoch 28 | Validation Loss: 0.337 | Validation Accuracy: 0.895 | Validation AUC: 0.984 | Validation F1: 0.902\n"
     ]
    },
    {
     "name": "stderr",
     "output_type": "stream",
     "text": [
      "                                                                                                  \r"
     ]
    },
    {
     "name": "stdout",
     "output_type": "stream",
     "text": [
      "Epoch 29 | Training Loss: 0.325 | Training Accuracy: 0.920 | Training AUC: 0.887 | Training F1: 0.790\n",
      "Epoch 29 | Validation Loss: 0.312 | Validation Accuracy: 0.921 | Validation AUC: 0.990 | Validation F1: 0.916\n"
     ]
    },
    {
     "name": "stderr",
     "output_type": "stream",
     "text": [
      "                                                                                                  \r"
     ]
    },
    {
     "name": "stdout",
     "output_type": "stream",
     "text": [
      "Epoch 30 | Training Loss: 0.321 | Training Accuracy: 0.922 | Training AUC: 0.891 | Training F1: 0.795\n",
      "Epoch 30 | Validation Loss: 0.305 | Validation Accuracy: 0.934 | Validation AUC: 0.990 | Validation F1: 0.932\n"
     ]
    },
    {
     "name": "stderr",
     "output_type": "stream",
     "text": [
      "                                                                                                  \r"
     ]
    },
    {
     "name": "stdout",
     "output_type": "stream",
     "text": [
      "Epoch 31 | Training Loss: 0.314 | Training Accuracy: 0.930 | Training AUC: 0.895 | Training F1: 0.799\n",
      "Epoch 31 | Validation Loss: 0.307 | Validation Accuracy: 0.933 | Validation AUC: 0.988 | Validation F1: 0.934\n"
     ]
    },
    {
     "name": "stderr",
     "output_type": "stream",
     "text": [
      "                                                                                                  \r"
     ]
    },
    {
     "name": "stdout",
     "output_type": "stream",
     "text": [
      "Epoch 32 | Training Loss: 0.301 | Training Accuracy: 0.943 | Training AUC: 0.900 | Training F1: 0.803\n",
      "Epoch 32 | Validation Loss: 0.309 | Validation Accuracy: 0.928 | Validation AUC: 0.990 | Validation F1: 0.931\n"
     ]
    },
    {
     "name": "stderr",
     "output_type": "stream",
     "text": [
      "                                                                                                  \r"
     ]
    },
    {
     "name": "stdout",
     "output_type": "stream",
     "text": [
      "Epoch 33 | Training Loss: 0.296 | Training Accuracy: 0.947 | Training AUC: 0.903 | Training F1: 0.808\n",
      "Epoch 33 | Validation Loss: 0.343 | Validation Accuracy: 0.884 | Validation AUC: 0.992 | Validation F1: 0.895\n"
     ]
    },
    {
     "name": "stderr",
     "output_type": "stream",
     "text": [
      "                                                                                                  \r"
     ]
    },
    {
     "name": "stdout",
     "output_type": "stream",
     "text": [
      "Epoch 34 | Training Loss: 0.317 | Training Accuracy: 0.921 | Training AUC: 0.906 | Training F1: 0.811\n",
      "Epoch 34 | Validation Loss: 0.351 | Validation Accuracy: 0.877 | Validation AUC: 0.995 | Validation F1: 0.860\n"
     ]
    },
    {
     "name": "stderr",
     "output_type": "stream",
     "text": [
      "                                                                                                  \r"
     ]
    },
    {
     "name": "stdout",
     "output_type": "stream",
     "text": [
      "Epoch 35 | Training Loss: 0.323 | Training Accuracy: 0.906 | Training AUC: 0.909 | Training F1: 0.814\n",
      "Epoch 35 | Validation Loss: 0.303 | Validation Accuracy: 0.938 | Validation AUC: 0.988 | Validation F1: 0.936\n"
     ]
    },
    {
     "name": "stderr",
     "output_type": "stream",
     "text": [
      "                                                                                                  \r"
     ]
    },
    {
     "name": "stdout",
     "output_type": "stream",
     "text": [
      "Epoch 36 | Training Loss: 0.294 | Training Accuracy: 0.950 | Training AUC: 0.912 | Training F1: 0.818\n",
      "Epoch 36 | Validation Loss: 0.307 | Validation Accuracy: 0.927 | Validation AUC: 0.994 | Validation F1: 0.922\n"
     ]
    },
    {
     "name": "stderr",
     "output_type": "stream",
     "text": [
      "                                                                                                  \r"
     ]
    },
    {
     "name": "stdout",
     "output_type": "stream",
     "text": [
      "Epoch 37 | Training Loss: 0.298 | Training Accuracy: 0.943 | Training AUC: 0.915 | Training F1: 0.821\n",
      "Epoch 37 | Validation Loss: 0.291 | Validation Accuracy: 0.955 | Validation AUC: 0.993 | Validation F1: 0.954\n"
     ]
    },
    {
     "name": "stderr",
     "output_type": "stream",
     "text": [
      "                                                                                                  \r"
     ]
    },
    {
     "name": "stdout",
     "output_type": "stream",
     "text": [
      "Epoch 38 | Training Loss: 0.295 | Training Accuracy: 0.950 | Training AUC: 0.918 | Training F1: 0.825\n",
      "Epoch 38 | Validation Loss: 0.319 | Validation Accuracy: 0.912 | Validation AUC: 0.991 | Validation F1: 0.918\n"
     ]
    },
    {
     "name": "stderr",
     "output_type": "stream",
     "text": [
      "                                                                                                  \r"
     ]
    },
    {
     "name": "stdout",
     "output_type": "stream",
     "text": [
      "Epoch 39 | Training Loss: 0.313 | Training Accuracy: 0.927 | Training AUC: 0.920 | Training F1: 0.827\n",
      "Epoch 39 | Validation Loss: 0.326 | Validation Accuracy: 0.897 | Validation AUC: 0.992 | Validation F1: 0.886\n"
     ]
    },
    {
     "name": "stderr",
     "output_type": "stream",
     "text": [
      "                                                                                                  \r"
     ]
    },
    {
     "name": "stdout",
     "output_type": "stream",
     "text": [
      "Epoch 40 | Training Loss: 0.300 | Training Accuracy: 0.938 | Training AUC: 0.922 | Training F1: 0.830\n",
      "Epoch 40 | Validation Loss: 0.302 | Validation Accuracy: 0.927 | Validation AUC: 0.995 | Validation F1: 0.932\n"
     ]
    },
    {
     "name": "stderr",
     "output_type": "stream",
     "text": [
      "                                                                                                  \r"
     ]
    },
    {
     "name": "stdout",
     "output_type": "stream",
     "text": [
      "Epoch 41 | Training Loss: 0.311 | Training Accuracy: 0.923 | Training AUC: 0.924 | Training F1: 0.832\n",
      "Epoch 41 | Validation Loss: 0.299 | Validation Accuracy: 0.938 | Validation AUC: 0.993 | Validation F1: 0.935\n"
     ]
    },
    {
     "name": "stderr",
     "output_type": "stream",
     "text": [
      "                                                                                                  \r"
     ]
    },
    {
     "name": "stdout",
     "output_type": "stream",
     "text": [
      "Epoch 42 | Training Loss: 0.297 | Training Accuracy: 0.946 | Training AUC: 0.927 | Training F1: 0.835\n",
      "Epoch 42 | Validation Loss: 0.291 | Validation Accuracy: 0.953 | Validation AUC: 0.993 | Validation F1: 0.954\n"
     ]
    },
    {
     "name": "stderr",
     "output_type": "stream",
     "text": [
      "                                                                                                  \r"
     ]
    },
    {
     "name": "stdout",
     "output_type": "stream",
     "text": [
      "Epoch 43 | Training Loss: 0.296 | Training Accuracy: 0.948 | Training AUC: 0.929 | Training F1: 0.838\n",
      "Epoch 43 | Validation Loss: 0.298 | Validation Accuracy: 0.949 | Validation AUC: 0.990 | Validation F1: 0.949\n"
     ]
    },
    {
     "name": "stderr",
     "output_type": "stream",
     "text": [
      "                                                                                                  \r"
     ]
    },
    {
     "name": "stdout",
     "output_type": "stream",
     "text": [
      "Epoch 44 | Training Loss: 0.285 | Training Accuracy: 0.961 | Training AUC: 0.931 | Training F1: 0.841\n",
      "Epoch 44 | Validation Loss: 0.282 | Validation Accuracy: 0.971 | Validation AUC: 0.997 | Validation F1: 0.971\n"
     ]
    },
    {
     "name": "stderr",
     "output_type": "stream",
     "text": [
      "                                                                                                  \r"
     ]
    },
    {
     "name": "stdout",
     "output_type": "stream",
     "text": [
      "Epoch 45 | Training Loss: 0.283 | Training Accuracy: 0.965 | Training AUC: 0.933 | Training F1: 0.843\n",
      "Epoch 45 | Validation Loss: 0.282 | Validation Accuracy: 0.969 | Validation AUC: 0.996 | Validation F1: 0.969\n"
     ]
    },
    {
     "name": "stderr",
     "output_type": "stream",
     "text": [
      "                                                                                                  \r"
     ]
    },
    {
     "name": "stdout",
     "output_type": "stream",
     "text": [
      "Epoch 46 | Training Loss: 0.283 | Training Accuracy: 0.964 | Training AUC: 0.935 | Training F1: 0.846\n",
      "Epoch 46 | Validation Loss: 0.284 | Validation Accuracy: 0.962 | Validation AUC: 0.998 | Validation F1: 0.963\n"
     ]
    },
    {
     "name": "stderr",
     "output_type": "stream",
     "text": [
      "                                                                                                  \r"
     ]
    },
    {
     "name": "stdout",
     "output_type": "stream",
     "text": [
      "Epoch 47 | Training Loss: 0.285 | Training Accuracy: 0.961 | Training AUC: 0.936 | Training F1: 0.849\n",
      "Epoch 47 | Validation Loss: 0.286 | Validation Accuracy: 0.960 | Validation AUC: 0.995 | Validation F1: 0.960\n"
     ]
    },
    {
     "name": "stderr",
     "output_type": "stream",
     "text": [
      "                                                                                                  \r"
     ]
    },
    {
     "name": "stdout",
     "output_type": "stream",
     "text": [
      "Epoch 48 | Training Loss: 0.283 | Training Accuracy: 0.968 | Training AUC: 0.938 | Training F1: 0.851\n",
      "Epoch 48 | Validation Loss: 0.282 | Validation Accuracy: 0.970 | Validation AUC: 0.997 | Validation F1: 0.970\n"
     ]
    },
    {
     "name": "stderr",
     "output_type": "stream",
     "text": [
      "                                                                                                  \r"
     ]
    },
    {
     "name": "stdout",
     "output_type": "stream",
     "text": [
      "Epoch 49 | Training Loss: 0.280 | Training Accuracy: 0.972 | Training AUC: 0.940 | Training F1: 0.854\n",
      "Epoch 49 | Validation Loss: 0.290 | Validation Accuracy: 0.961 | Validation AUC: 0.993 | Validation F1: 0.960\n"
     ]
    },
    {
     "name": "stderr",
     "output_type": "stream",
     "text": [
      "                                                                                                  \r"
     ]
    },
    {
     "name": "stdout",
     "output_type": "stream",
     "text": [
      "Epoch 50 | Training Loss: 0.285 | Training Accuracy: 0.961 | Training AUC: 0.941 | Training F1: 0.856\n",
      "Epoch 50 | Validation Loss: 0.287 | Validation Accuracy: 0.954 | Validation AUC: 0.996 | Validation F1: 0.955\n",
      "Early stopping triggered after 50 epochs.\n",
      "[AWS]: Uploaded object to s3://pitch-ml/epidemiology/ml/models/inj/pitch_model_90d_results.pkl\n"
     ]
    }
   ],
   "source": [
    "\"\"\" PITCH-LEVEL MODELS \"\"\"\n",
    "for day in [7, 15, 30, 45, 90]:\n",
    "    \n",
    "    print(f'Training pitch-level model for preceding day window: {day} days')\n",
    "    \n",
    "    # pitch-level model loop\n",
    "    pitch_model_results = train_model(\n",
    "        model_name=f'pitch_model_{day}d',\n",
    "        model_setup=model_setups[day],\n",
    "        n_epochs=100,\n",
    "        batch_size=32,\n",
    "        patience=5,\n",
    "        verbose=True\n",
    "    )\n",
    "\n",
    "    # save to disk, upload to S3\n",
    "    with open(f'storage/pitch_model_{day}d_results.pkl', 'wb') as f:\n",
    "        pickle.dump(pitch_model_results, f)\n",
    "    with open(f'storage/pitch_model_{day}d_results.pkl', 'rb') as f:\n",
    "        content = f.read()\n",
    "        aws.upload_to_s3(content, f'epidemiology/ml/models/inj/pitch_model_{day}d_results.pkl')"
   ]
  },
  {
   "cell_type": "code",
   "execution_count": null,
   "id": "7a8fdeaa",
   "metadata": {},
   "outputs": [],
   "source": []
  },
  {
   "cell_type": "markdown",
   "id": "71c2a183",
   "metadata": {},
   "source": [
    "$\\textbf{Results Aggregation}$\n",
    "\n",
    "Organize model results into a table:\n",
    "\n",
    "- __Window__ (i.e., max. number of days to use)\n",
    "- __Epochs Trained__ (prior to stopping)\n",
    "- __Validation Scores__ (Accuracy, F1, ROC AUC)"
   ]
  },
  {
   "cell_type": "code",
   "execution_count": 134,
   "id": "4919c7c9",
   "metadata": {},
   "outputs": [],
   "source": [
    "with open('storage/pitch_model_results.pkl', 'rb') as f:\n",
    "    model_results_loaded = pickle.load(f)"
   ]
  },
  {
   "cell_type": "code",
   "execution_count": 135,
   "id": "b89607f4",
   "metadata": {},
   "outputs": [
    {
     "data": {
      "text/plain": [
       "{}"
      ]
     },
     "execution_count": 135,
     "metadata": {},
     "output_type": "execute_result"
    }
   ],
   "source": [
    "model_results_loaded"
   ]
  },
  {
   "cell_type": "markdown",
   "id": "f99a2671",
   "metadata": {},
   "source": [
    "$\\textbf{Close AWS Connection}$"
   ]
  },
  {
   "cell_type": "code",
   "execution_count": 88,
   "id": "a21578d8",
   "metadata": {},
   "outputs": [
    {
     "name": "stdout",
     "output_type": "stream",
     "text": [
      "[AWS]: Database connection closed.\n",
      "[AWS]: SSH tunnel stopped.\n"
     ]
    }
   ],
   "source": [
    "# close connection\n",
    "aws.close()"
   ]
  },
  {
   "cell_type": "code",
   "execution_count": null,
   "id": "4bc1e350",
   "metadata": {},
   "outputs": [],
   "source": []
  }
 ],
 "metadata": {
  "kernelspec": {
   "display_name": "pitch_ml",
   "language": "python",
   "name": "python3"
  },
  "language_info": {
   "codemirror_mode": {
    "name": "ipython",
    "version": 3
   },
   "file_extension": ".py",
   "mimetype": "text/x-python",
   "name": "python",
   "nbconvert_exporter": "python",
   "pygments_lexer": "ipython3",
   "version": "3.11.10"
  }
 },
 "nbformat": 4,
 "nbformat_minor": 5
}
