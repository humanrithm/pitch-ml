{
 "cells": [
  {
   "cell_type": "code",
   "execution_count": null,
   "metadata": {},
   "outputs": [],
   "source": [
    "import os\n",
    "import pandas as pd\n",
    "from connections import AWS"
   ]
  },
  {
   "cell_type": "markdown",
   "metadata": {},
   "source": [
    "$\\textbf{Cohort Design}$\n",
    "\n",
    "- Includes injury data from __two sources__:\n",
    "    - [Tommy John Surgery List](https://docs.google.com/spreadsheets/d/1gQujXQQGOVNaiuwSN680Hq-FDVsCwvN-3AazykOBON0/edit?gid=0#gid=0)\n",
    "    - [FanGraphs Injury Database](https://www.fangraphs.com/roster-resource/injury-report?groupby=all&timeframe=all&season=2020&injury=) as of 6/7/25\n",
    "- CSVs were compiled and saved in an S3 bucket in AWS. \n",
    "\n",
    "__Non-injured players__ are queried as a random sample of pitchers from the Statcast API based on matching age, mass, and height criteria.\n"
   ]
  },
  {
   "cell_type": "code",
   "execution_count": null,
   "metadata": {},
   "outputs": [],
   "source": []
  },
  {
   "cell_type": "markdown",
   "metadata": {},
   "source": [
    "$\\textbf{Injured Cohort}$"
   ]
  },
  {
   "cell_type": "code",
   "execution_count": null,
   "metadata": {},
   "outputs": [],
   "source": [
    "\"\"\" Tommy John Surgery List \"\"\"\n",
    "\n",
    "# Filters: \n",
    "    # Injuries from ball tracking era (2015 - 2025, since spin was added in 2015)\n",
    "    # Injuries during the season (February - November, inclusive) with preceding ball tracking data\n",
    "\n",
    "\"\"\" FanGraphs Injury Report \"\"\"\n",
    "\n",
    "# Spans from 2020 - 2025\n",
    "# __Note__: Last update for 2025 was 6/7/25\n",
    "# Filters:\n",
    "    # Injuries to pitchers (`RP` or `SP`)\n",
    "    # Elbow injuries (`injury_type` contains `elbow` or `Tommy John`)"
   ]
  },
  {
   "cell_type": "code",
   "execution_count": null,
   "metadata": {},
   "outputs": [],
   "source": [
    "\"\"\" TJ Surgery List Cohort \"\"\"\n",
    "# load initial cohort (drop player names) --> 2,006 injuries\n",
    "tj_cohort = pd.read_csv('data/tj_initial_cohort.csv').drop(\n",
    "    columns=[\n",
    "        'Player', \n",
    "        'Team', \n",
    "        'Country', \n",
    "        'High School', \n",
    "        'College(s)',\n",
    "        'Return Date (same level)',\n",
    "        'Recovery Time (months)',\n",
    "        'Surgeon(s)',\n",
    "        'Post-TJ MLB G',\n",
    "        'Post-TJ MLB IP/PA'\n",
    "        ]\n",
    "    )\n",
    "\n",
    "# rename columns\n",
    "tj_cohort.rename(columns={'TJ Surgery Date': 'injury_date'}, inplace=True)\n",
    "tj_cohort['injury_date'] = pd.to_datetime(tj_cohort['injury_date'], format='%m/%d/%y').dt.date\n",
    "\n",
    "# clean mlbamid\n",
    "tj_cohort.dropna(subset=['mlbamid'], inplace=True)                         # 35 missing, mostly new draftees or signees\n",
    "tj_cohort['mlbamid'] = tj_cohort['mlbamid'].astype(int).astype('str')\n",
    "\n",
    "# filters --> 1,052 injuries before ball tracking merge\n",
    "tj_cohort_filtered = tj_cohort[(tj_cohort['Year'] >= 2015) & (tj_cohort['Year'] <= 2024)]                               # years: 2015-2024 (start of ball tracking w/ spin)\n",
    "tj_cohort_filtered = tj_cohort_filtered[(tj_cohort_filtered['Month'] >= 2) & (tj_cohort_filtered['Month'] <= 11)]       # months: May-Oct (in-season)"
   ]
  },
  {
   "cell_type": "code",
   "execution_count": null,
   "metadata": {},
   "outputs": [],
   "source": [
    "\"\"\" FanGraphs Injury Report \"\"\"\n",
    "\n",
    "# load fangraphs data files\n",
    "fg_files = [f for f in os.listdir('data') if f.startswith('fg_')]\n",
    "\n",
    "# iterate through files\n",
    "fg_data = []\n",
    "for f in fg_files:\n",
    "    fg_data.append(pd.read_csv(f'data/{f}'))\n",
    "\n",
    "# concatenate data --> 4,531 injuries\n",
    "fg_data = pd.concat(fg_data).reset_index(drop=True)\n",
    "fg_data.drop(columns=['Status'], inplace=True)\n",
    "fg_data.drop_duplicates(subset=['player_name', 'injury_type', 'injury_date'], inplace=True)"
   ]
  },
  {
   "cell_type": "code",
   "execution_count": 38,
   "metadata": {},
   "outputs": [],
   "source": [
    "# filter to only pitchers\n",
    "fg_data_filtered = fg_data[fg_data['position'].isin(['SP', 'RP'])]                                          # only pitchers\n",
    "\n",
    "# elbow-related injuries (including TJ to cross-reference w/ TJ list)\n",
    "    # leaves 323 injuries\n",
    "fg_data_filtered['injury_type'] = fg_data_filtered['injury_type'].str.lower().str.replace(' ', '_')\n",
    "fg_data_filtered = fg_data_filtered[\n",
    "    (fg_data_filtered['injury_type'].str.contains('elbow', case=False) | fg_data_filtered['injury_type'].str.contains('tommy', case=False)) & \n",
    "    (~fg_data_filtered['injury_type'].str.contains('fractured', case=False))\n",
    "]  \n",
    "\n",
    "# date filtering\n",
    "fg_data_filtered.loc[:, 'injury_date'] = pd.to_datetime(\n",
    "    fg_data_filtered['injury_date'], \n",
    "    format='%m/%d/%y', \n",
    "    errors='coerce'\n",
    ").dt.date\n",
    "fg_data_filtered['month'] = fg_data_filtered.loc[:, 'injury_date'].apply(lambda x: x.month)\n",
    "fg_data_filtered = fg_data_filtered[(fg_data_filtered['month'] >= 2) & (fg_data_filtered['month'] <= 11)]"
   ]
  },
  {
   "cell_type": "markdown",
   "metadata": {},
   "source": [
    "$\\textit{FanGraphs Player ID Lookup}$\n",
    "\n",
    "- Uses the Statcast API function to lookup ID given name\n",
    "- Then filters based on team\n",
    "- Will take a few moments upon first call, but then runs quickly (caches table)\n",
    "- __Note__: If players don't return an ID, it's manually looked up"
   ]
  },
  {
   "cell_type": "code",
   "execution_count": 40,
   "metadata": {},
   "outputs": [],
   "source": [
    "from pybaseball import playerid_lookup      # need the `key_mlbam` value"
   ]
  },
  {
   "cell_type": "code",
   "execution_count": 41,
   "metadata": {},
   "outputs": [
    {
     "name": "stdout",
     "output_type": "stream",
     "text": [
      "Adding Matt Bowman to manual lookup dictionary.\n",
      "Adding Ricardo Sánchez to manual lookup dictionary.\n",
      "Adding Nestor Cortes to manual lookup dictionary.\n",
      "Adding Kwang Hyun Kim to manual lookup dictionary.\n",
      "Adding Jimmie Sherfy to manual lookup dictionary.\n",
      "Adding Matthew Boyd to manual lookup dictionary.\n",
      "Adding J.B. Bukauskas to manual lookup dictionary.\n",
      "Adding Adrian Morejon to manual lookup dictionary.\n",
      "Adding Sam Delaplane to manual lookup dictionary.\n",
      "Adding Michel Baez to manual lookup dictionary.\n",
      "Adding Dylan File to manual lookup dictionary.\n",
      "Adding Daniel Tillo to manual lookup dictionary.\n",
      "Adding Sandy Alcantara to manual lookup dictionary.\n",
      "Adding Angel Perdomo to manual lookup dictionary.\n",
      "Adding José De León to manual lookup dictionary.\n",
      "Adding Freddy Pacheco to manual lookup dictionary.\n",
      "Adding A.J. Puk to manual lookup dictionary.\n",
      "Adding Adrián Martínez to manual lookup dictionary.\n",
      "Adding Bryce Montes de Oca to manual lookup dictionary.\n",
      "Adding Jose Alvarez to manual lookup dictionary.\n",
      "Adding Jorge Alcala to manual lookup dictionary.\n",
      "Adding Michael King to manual lookup dictionary.\n",
      "Adding Vladimir Gutierrez to manual lookup dictionary.\n",
      "Adding Hyun Jin Ryu to manual lookup dictionary.\n",
      "Adding José Fermin to manual lookup dictionary.\n",
      "Adding J.T. Ginn to manual lookup dictionary.\n",
      "Adding Luis F. Ortiz to manual lookup dictionary.\n",
      "Adding Josh Simpson to manual lookup dictionary.\n"
     ]
    }
   ],
   "source": [
    "# iterate through FG names\n",
    "manual_lookup = {}\n",
    "for name in fg_data_filtered['player_name'].unique():\n",
    "    first, last = name.split(' ')[0], name.split(' ')[1]                                                    # split first and last name\n",
    "    try:\n",
    "        bam_id = playerid_lookup(last, first)['key_mlbam'].values[0].astype(int).astype(str)                # get mlbamid\n",
    "        fg_data_filtered.loc[fg_data_filtered['player_name'] == name, 'mlbamid'] = bam_id                   # assign mlbamid to df\n",
    "\n",
    "    except Exception as e:\n",
    "        print(f'Adding {name} to manual lookup dictionary.')\n",
    "        manual_lookup[name] = None"
   ]
  },
  {
   "cell_type": "code",
   "execution_count": 44,
   "metadata": {},
   "outputs": [],
   "source": [
    "# update manual lookups\n",
    "manual_lookup['Matt Bowman'] = '621199'\n",
    "manual_lookup['Ricardo Sánchez'] = '645307'\n",
    "manual_lookup['Nestor Cortes'] = '641482'\n",
    "manual_lookup['Kwang Hyun Kim'] = '547942'\n",
    "manual_lookup['Jimmie Sherfy'] = '642073'\n",
    "manual_lookup['Matthew Boyd'] = '571510'\n",
    "manual_lookup['J.B. Bukauskas'] = '656266'\n",
    "manual_lookup['Adrian Morejon'] = '670970'\n",
    "manual_lookup['Sam Delaplane'] = '676845'\n",
    "manual_lookup['Michel Baez'] = '673258'\n",
    "manual_lookup['Dylan File'] = '668766'\n",
    "manual_lookup['Daniel Tillo'] = '664700'\n",
    "manual_lookup['Sandy Alcantara'] = '645261'\n",
    "manual_lookup['Angel Perdomo'] = '622780'\n",
    "manual_lookup['José De León'] = '592254'\n",
    "manual_lookup['Freddy Pacheco'] = '681643'\n",
    "manual_lookup['A.J. Puk'] = '640462'\n",
    "manual_lookup['Adrián Martínez'] = '661309'\n",
    "manual_lookup['Bryce Montes de Oca'] = '656755'\n",
    "manual_lookup['Jose Alvarez'] = '501625'\n",
    "manual_lookup['Jorge Alcala'] = '660896'\n",
    "manual_lookup['Michael King'] = '650633'\n",
    "manual_lookup['Vladimir Gutierrez'] = '661269'\n",
    "manual_lookup['Hyun Jin Ryu'] = '547943'\n",
    "manual_lookup['José Fermin'] = '820862'\n",
    "manual_lookup['J.T. Ginn'] = '669372'\n",
    "manual_lookup['Luis F. Ortiz'] = '656814'\n",
    "manual_lookup['Josh Simpson'] = '681006'\n",
    "\n",
    "# iterate through and set in dataframe\n",
    "for name, mlbamid in manual_lookup.items():\n",
    "    fg_data_filtered.loc[fg_data_filtered['player_name'] == name, 'mlbamid'] = mlbamid\n"
   ]
  },
  {
   "cell_type": "markdown",
   "metadata": {},
   "source": [
    "$\\textit{Cross Reference Data Sources}$ \n",
    "\n",
    "- Check if any FanGraphs TJ's are not in other data source (4 total)\n",
    "- Determine how many additional injuries are added by FG (216)"
   ]
  },
  {
   "cell_type": "code",
   "execution_count": 45,
   "metadata": {},
   "outputs": [],
   "source": [
    "# fangraphs\n",
    "fg_tommy_johns = list(fg_data_filtered[fg_data_filtered['injury_type'].str.contains('tommy', case=False)]['mlbamid'])       # TJ surgeries\n",
    "fg_other_elbow = list(fg_data_filtered[fg_data_filtered['injury_type'].str.contains('elbow', case=False)]['mlbamid'])       # other elbow injuries\n",
    "\n",
    "# tj_cohort\n",
    "tj_list = list(tj_cohort_filtered['mlbamid'].astype(str))                                                                   # TJ surgeries\n",
    "\n",
    "# check for TJ surgeries from FG that are missing from TJ list\n",
    "missing_tj = [x for x in fg_tommy_johns if x not in tj_list]"
   ]
  },
  {
   "cell_type": "markdown",
   "metadata": {},
   "source": [
    "$\\textit{Get Unique Injuries and Dates}$\n",
    "\n",
    "- __1,360__ total injuries w/ date and injury type\n",
    "- Will have to be filtered to those who have ball tracking data (necessarily smaller given minor league players in dataset)"
   ]
  },
  {
   "cell_type": "code",
   "execution_count": 47,
   "metadata": {},
   "outputs": [],
   "source": [
    "# TJ list\n",
    "tj_cohort_filtered['injury_type'] = 'tommy_john_surgery'\n",
    "tj_list_injuries = tj_cohort_filtered[['mlbamid', 'injury_date', 'injury_type']]\n",
    "\n",
    "# FG list\n",
    "fg_list_injuries = fg_data_filtered[['mlbamid', 'injury_date', 'injury_type']]\n",
    "\n",
    "# combine lists, drop duplicates --> 1,282 total injuries\n",
    "combined_list = pd.concat([tj_list_injuries, fg_list_injuries])\n",
    "combined_list.drop_duplicates(subset=['mlbamid', 'injury_date'], inplace=True)\n",
    "combined_list.sort_values(by='injury_date', inplace=True)"
   ]
  },
  {
   "cell_type": "code",
   "execution_count": 49,
   "metadata": {},
   "outputs": [],
   "source": [
    "# save final cohort\n",
    "combined_list.to_csv('data/d3_final_cohort.csv', index=False)"
   ]
  },
  {
   "cell_type": "code",
   "execution_count": 56,
   "metadata": {},
   "outputs": [
    {
     "data": {
      "text/html": [
       "<div>\n",
       "<style scoped>\n",
       "    .dataframe tbody tr th:only-of-type {\n",
       "        vertical-align: middle;\n",
       "    }\n",
       "\n",
       "    .dataframe tbody tr th {\n",
       "        vertical-align: top;\n",
       "    }\n",
       "\n",
       "    .dataframe thead th {\n",
       "        text-align: right;\n",
       "    }\n",
       "</style>\n",
       "<table border=\"1\" class=\"dataframe\">\n",
       "  <thead>\n",
       "    <tr style=\"text-align: right;\">\n",
       "      <th></th>\n",
       "      <th>mlbamid</th>\n",
       "      <th>injury_date</th>\n",
       "      <th>injury_type</th>\n",
       "    </tr>\n",
       "  </thead>\n",
       "  <tbody>\n",
       "    <tr>\n",
       "      <th>1309</th>\n",
       "      <td>657097</td>\n",
       "      <td>2015-04-02</td>\n",
       "      <td>tommy_john_surgery</td>\n",
       "    </tr>\n",
       "    <tr>\n",
       "      <th>1308</th>\n",
       "      <td>641445</td>\n",
       "      <td>2015-04-06</td>\n",
       "      <td>tommy_john_surgery</td>\n",
       "    </tr>\n",
       "    <tr>\n",
       "      <th>1307</th>\n",
       "      <td>572143</td>\n",
       "      <td>2015-04-07</td>\n",
       "      <td>tommy_john_surgery</td>\n",
       "    </tr>\n",
       "    <tr>\n",
       "      <th>1306</th>\n",
       "      <td>571786</td>\n",
       "      <td>2015-04-08</td>\n",
       "      <td>tommy_john_surgery</td>\n",
       "    </tr>\n",
       "    <tr>\n",
       "      <th>1305</th>\n",
       "      <td>543297</td>\n",
       "      <td>2015-04-08</td>\n",
       "      <td>tommy_john_surgery</td>\n",
       "    </tr>\n",
       "    <tr>\n",
       "      <th>1304</th>\n",
       "      <td>543070</td>\n",
       "      <td>2015-04-08</td>\n",
       "      <td>tommy_john_surgery</td>\n",
       "    </tr>\n",
       "    <tr>\n",
       "      <th>1303</th>\n",
       "      <td>542918</td>\n",
       "      <td>2015-04-08</td>\n",
       "      <td>tommy_john_surgery</td>\n",
       "    </tr>\n",
       "    <tr>\n",
       "      <th>1302</th>\n",
       "      <td>576968</td>\n",
       "      <td>2015-04-09</td>\n",
       "      <td>tommy_john_surgery</td>\n",
       "    </tr>\n",
       "    <tr>\n",
       "      <th>1301</th>\n",
       "      <td>626929</td>\n",
       "      <td>2015-04-10</td>\n",
       "      <td>tommy_john_surgery</td>\n",
       "    </tr>\n",
       "    <tr>\n",
       "      <th>1300</th>\n",
       "      <td>664055</td>\n",
       "      <td>2015-04-14</td>\n",
       "      <td>tommy_john_surgery</td>\n",
       "    </tr>\n",
       "    <tr>\n",
       "      <th>1299</th>\n",
       "      <td>621258</td>\n",
       "      <td>2015-04-14</td>\n",
       "      <td>tommy_john_surgery</td>\n",
       "    </tr>\n",
       "    <tr>\n",
       "      <th>1297</th>\n",
       "      <td>642125</td>\n",
       "      <td>2015-04-15</td>\n",
       "      <td>tommy_john_surgery</td>\n",
       "    </tr>\n",
       "    <tr>\n",
       "      <th>1298</th>\n",
       "      <td>570810</td>\n",
       "      <td>2015-04-15</td>\n",
       "      <td>tommy_john_surgery</td>\n",
       "    </tr>\n",
       "    <tr>\n",
       "      <th>1296</th>\n",
       "      <td>621399</td>\n",
       "      <td>2015-04-21</td>\n",
       "      <td>tommy_john_surgery</td>\n",
       "    </tr>\n",
       "    <tr>\n",
       "      <th>1295</th>\n",
       "      <td>623437</td>\n",
       "      <td>2015-04-29</td>\n",
       "      <td>tommy_john_surgery</td>\n",
       "    </tr>\n",
       "  </tbody>\n",
       "</table>\n",
       "</div>"
      ],
      "text/plain": [
       "     mlbamid injury_date         injury_type\n",
       "1309  657097  2015-04-02  tommy_john_surgery\n",
       "1308  641445  2015-04-06  tommy_john_surgery\n",
       "1307  572143  2015-04-07  tommy_john_surgery\n",
       "1306  571786  2015-04-08  tommy_john_surgery\n",
       "1305  543297  2015-04-08  tommy_john_surgery\n",
       "1304  543070  2015-04-08  tommy_john_surgery\n",
       "1303  542918  2015-04-08  tommy_john_surgery\n",
       "1302  576968  2015-04-09  tommy_john_surgery\n",
       "1301  626929  2015-04-10  tommy_john_surgery\n",
       "1300  664055  2015-04-14  tommy_john_surgery\n",
       "1299  621258  2015-04-14  tommy_john_surgery\n",
       "1297  642125  2015-04-15  tommy_john_surgery\n",
       "1298  570810  2015-04-15  tommy_john_surgery\n",
       "1296  621399  2015-04-21  tommy_john_surgery\n",
       "1295  623437  2015-04-29  tommy_john_surgery"
      ]
     },
     "execution_count": 56,
     "metadata": {},
     "output_type": "execute_result"
    }
   ],
   "source": [
    "combined_list[30:45]"
   ]
  },
  {
   "cell_type": "markdown",
   "metadata": {},
   "source": [
    "$\\textbf{Non-Injured Cohort}$"
   ]
  },
  {
   "cell_type": "code",
   "execution_count": null,
   "metadata": {},
   "outputs": [],
   "source": [
    "# TODO: load pitcher info for injured pitchers"
   ]
  },
  {
   "cell_type": "markdown",
   "metadata": {},
   "source": [
    "$\\textbf{Ball Tracking Data}$"
   ]
  },
  {
   "cell_type": "code",
   "execution_count": 22,
   "metadata": {},
   "outputs": [],
   "source": [
    "# columns present in 2008-2014 data:\n",
    "    # release_speed\n",
    "    # release_pos_x, release_pos_z\n",
    "    # pfx_x, pfx_z\n",
    "    # vx0, vy0, vz0\n",
    "    # ax, ay, az\n",
    "    # api_break_x_arm, api_break_z_with_gravity"
   ]
  },
  {
   "cell_type": "code",
   "execution_count": 23,
   "metadata": {},
   "outputs": [],
   "source": [
    "from pybaseball import statcast_pitcher"
   ]
  },
  {
   "cell_type": "code",
   "execution_count": 57,
   "metadata": {},
   "outputs": [
    {
     "name": "stdout",
     "output_type": "stream",
     "text": [
      "Gathering Player Data\n"
     ]
    }
   ],
   "source": [
    "# date format: YYYY-MM-DD\n",
    "test = statcast_pitcher(player_id='623437', start_dt='2024-01-01', end_dt='2024-05-01')"
   ]
  },
  {
   "cell_type": "markdown",
   "metadata": {},
   "source": [
    "$\\textbf{Sandbox: Examples}$"
   ]
  },
  {
   "cell_type": "code",
   "execution_count": null,
   "metadata": {},
   "outputs": [
    {
     "name": "stdout",
     "output_type": "stream",
     "text": [
      "Gathering Player Data\n"
     ]
    }
   ],
   "source": [
    "# 2008 MLB pitcher\n",
    "test = statcast_pitcher(start_dt='2008-04-01', end_dt='2008-11-01', player_id=150414)"
   ]
  },
  {
   "cell_type": "code",
   "execution_count": null,
   "metadata": {},
   "outputs": [],
   "source": []
  }
 ],
 "metadata": {
  "kernelspec": {
   "display_name": "pitch_ml",
   "language": "python",
   "name": "python3"
  },
  "language_info": {
   "codemirror_mode": {
    "name": "ipython",
    "version": 3
   },
   "file_extension": ".py",
   "mimetype": "text/x-python",
   "name": "python",
   "nbconvert_exporter": "python",
   "pygments_lexer": "ipython3",
   "version": "3.11.10"
  }
 },
 "nbformat": 4,
 "nbformat_minor": 2
}
