{
 "cells": [
  {
   "cell_type": "code",
   "execution_count": 1,
   "id": "bb917364",
   "metadata": {},
   "outputs": [],
   "source": [
    "import pandas as pd\n",
    "from connections import AWS"
   ]
  },
  {
   "cell_type": "markdown",
   "id": "2fd0de54",
   "metadata": {},
   "source": [
    "$\\textbf{Epidemiology: Pitcher Matching}$\n",
    "\n",
    "Attempts to find the best possible non-injured match for each pitcher based on: \n",
    "- `height`\n",
    "- `mass`\n",
    "- `number of pitches thrown`\n",
    "- `time interval`\n",
    "\n",
    "The last is the most difficult because it requires re-computing the number of pitches thrown between dates based on each injured pitcher. A manual distance-based algorithm is used to identify matching pitchers, and the closest match is chosen."
   ]
  },
  {
   "cell_type": "code",
   "execution_count": 2,
   "id": "c7cd1a64",
   "metadata": {},
   "outputs": [
    {
     "name": "stdout",
     "output_type": "stream",
     "text": [
      "[AWS]: Port 5433 is free.\n",
      "[AWS]: Connected to RDS endpoint.\n"
     ]
    }
   ],
   "source": [
    "# set up AWS connection\n",
    "aws = AWS()\n",
    "aws.connect()"
   ]
  },
  {
   "cell_type": "markdown",
   "id": "ad5a7f6f",
   "metadata": {},
   "source": [
    "$\\textbf{Data Loading}$\n",
    "\n",
    "- Cohorts\n",
    "- Ball Tracking Data"
   ]
  },
  {
   "cell_type": "code",
   "execution_count": 3,
   "id": "f5d18b60",
   "metadata": {},
   "outputs": [],
   "source": [
    "def clean_ball_tracking_data(\n",
    "        data: pd.DataFrame,\n",
    "        model_fts: list = ['rel_speed', 'rel_side', 'rel_ht', 'spin_rate', 'spin_axis', 'ax0', 'ay0', 'az0']\n",
    ") -> pd.DataFrame:\n",
    "    \"\"\"\n",
    "    Cleans the ball tracking data by trimming to necessary columns, removing outliers, etc.\n",
    "    \"\"\"\n",
    "    data.rename(columns={\n",
    "        'release_speed': 'rel_speed',\n",
    "        'release_pos_x': 'rel_side',\n",
    "        'release_pos_z': 'rel_ht',\n",
    "        'release_spin_rate': 'spin_rate',\n",
    "        'spin_axis': 'spin_axis',\n",
    "        'ax': 'ax0',\n",
    "        'ay': 'ay0',\n",
    "        'az': 'az0',\n",
    "    }, inplace=True)\n",
    "\n",
    "    # setup model dataset for cohort\n",
    "    clean_data = data[['pitcher', 'p_throws', 'game_date', 'pitcher_days_since_prev_game'] + model_fts].copy().reset_index(names='pitch_id')\n",
    "    \n",
    "    return clean_data\n",
    "\n",
    "# get list of seasons from a date column (e.g., game_date)\n",
    "    # used to determine season(s) from which a pitcher has pitched\n",
    "def get_season_from_date(date: pd.Series) -> list:\n",
    "    \"\"\"\n",
    "    Extracts the list of season(s) from a date column.\n",
    "    \"\"\"\n",
    "    date_dt = pd.to_datetime(date, errors='coerce')\n",
    "    seasons = date_dt.apply(lambda x: x.year if pd.notnull(x) else None)\n",
    "\n",
    "    return list(seasons.dropna().unique())"
   ]
  },
  {
   "cell_type": "code",
   "execution_count": 4,
   "id": "d5aac507",
   "metadata": {},
   "outputs": [],
   "source": [
    "\"\"\" Injured Cohort \"\"\"\n",
    "# load cohort metadata (mass, height, and pitches prior to injury)\n",
    "cohort = aws.load_s3_object('epidemiology/cohorts/injured/pitcher_info/pitchers_0825.csv')\n",
    "cohort_metadata = aws.load_s3_object('epidemiology/cohorts/injured/pitcher_info/pitchers_metadata.csv')\n",
    "cohort_injured = cohort_metadata.rename(columns={'mlbam_id': 'mlbamid'}).merge(cohort[['mlbamid', 'injury_date']], on='mlbamid', how='left')\n",
    "\n",
    "# add season to injured pitchers\n",
    "cohort_injured['injury_date'] = pd.to_datetime(cohort_injured['injury_date'], errors='coerce')\n",
    "cohort_injured['season'] = cohort_injured['injury_date'].apply(lambda x: x.year if pd.notnull(x) else None)\n",
    "\n",
    "# created injured flag (:= 1)\n",
    "cohort_injured['injured'] = 1\n",
    "\n",
    "# update pitches thrown column\n",
    "cohort_injured.rename(columns={'pitches_prior_to_injury': 'pitches_thrown'}, inplace=True)\n",
    "\n",
    "\"\"\" Non-injured Cohort \"\"\"\n",
    "cohort_noninjured = aws.load_s3_object('epidemiology/cohorts/noninjured/pitcher_info/pitchers_0825.csv')"
   ]
  },
  {
   "cell_type": "code",
   "execution_count": null,
   "id": "232b187e",
   "metadata": {},
   "outputs": [],
   "source": [
    "\"\"\" Ball Tracking Data \"\"\"\n",
    "# all ball tracking data w/ model predictions\n",
    "ball_tracking_data = aws.load_s3_object('epidemiology/ml/datasets/preds/model_application.csv')\n",
    "\n",
    "# add season to model predictions\n",
    "ball_tracking_data['season'] = ball_tracking_data['game_date'].str[:4].astype(int)"
   ]
  },
  {
   "cell_type": "markdown",
   "id": "12ee65c3",
   "metadata": {},
   "source": [
    "$\\textbf{Matching}$\n",
    "\n",
    "Scales based on matching criteria: __height, mass, pitches thrown__.\n",
    "- __Note__: Pitches thrown is based on the number of pitches w/ model predictions v. the number of counted pitches\n",
    "    - Sometimes there is a slight discrepancy... this does seem to preseve more matches, though, likely because of Spring Training data\n",
    "- Pitches thrown are counted between the injured pitcher's first and last pitch\n",
    "- Only pitchers throwing ±10% of the injured pitcher's total pitches are considered\n",
    "\n",
    "Euclidean distance is used to compute the matching criteria, selecting the minimum for each pitcher."
   ]
  },
  {
   "cell_type": "code",
   "execution_count": 6,
   "id": "178683d9",
   "metadata": {},
   "outputs": [],
   "source": [
    "import pickle\n",
    "from sklearn.preprocessing import StandardScaler\n",
    "from services.matching import compute_matching_info"
   ]
  },
  {
   "cell_type": "code",
   "execution_count": 47,
   "id": "7ba83e6e",
   "metadata": {},
   "outputs": [],
   "source": [
    "# compute scaler for matching criteria\n",
    "matching_cols = ['mlbamid', 'season', 'height', 'mass', 'pitches_thrown']\n",
    "cohort_matching_data = pd.concat([cohort_injured, cohort_noninjured])\n",
    "\n",
    "# create scalers for each year\n",
    "matching_scalers = {}\n",
    "for s in [i for i in range(2015, 2026)]:\n",
    "    # filter data for the current season, fit scaler\n",
    "    season_data = cohort_matching_data[cohort_matching_data['season'] == s][matching_cols]\n",
    "    scaler = StandardScaler().fit(season_data[['height', 'mass', 'pitches_thrown']])\n",
    "    \n",
    "    # save to dictionary\n",
    "    matching_scalers[s] = scaler\n",
    "\n",
    "# save to disc\n",
    "with open('models/matching_scalers.pkl', 'wb') as f:\n",
    "    pickle.dump(matching_scalers, f)"
   ]
  },
  {
   "cell_type": "code",
   "execution_count": 65,
   "id": "7178206e",
   "metadata": {},
   "outputs": [],
   "source": [
    "# iterate through injured pitchers\n",
    "    # check if pitcher has pitches from season of injury (if not --> pass) \n",
    "    # get all pitches in date range, check for non-injured pitchers with pitches in date range --> compute matching info\n",
    "matches = []\n",
    "for idx, row in cohort_injured.iterrows():\n",
    "    \n",
    "    # extract pitcher, season\n",
    "    pitcher = row['mlbamid']\n",
    "    season = row['season']\n",
    "    \n",
    "    # get injured pitcher's ball tracking data, season(s) w/ pitches\n",
    "    inj_data_season = ball_tracking_data[\n",
    "        (ball_tracking_data['pitcher'].isin(list(cohort_injured['mlbamid']))) & \n",
    "        (ball_tracking_data['season'] == season)\n",
    "    ].copy()\n",
    "    pitcher_bt = inj_data_season[(inj_data_season['pitcher'] == pitcher) & (inj_data_season['season'] == season)].sort_values('game_date')\n",
    "    seasons_pitched = get_season_from_date(pitcher_bt['game_date'])\n",
    "\n",
    "    # skip if pitcher has no pitches in season of injury\n",
    "    if season not in seasons_pitched or pitcher_bt.empty:\n",
    "        continue\n",
    "\n",
    "    else:\n",
    "        # get all pitcher metadata\n",
    "        inj_ht = row['height']\n",
    "        inj_mass = row['mass']\n",
    "        inj_pitches = pitcher_bt.shape[0]\n",
    "        inj_first_pitch_date = pitcher_bt['game_date'].min()\n",
    "        inj_last_pitch_date = pitcher_bt['game_date'].max()\n",
    "\n",
    "        # get non-injured pitcher ball tracking data from season of injury\n",
    "        noninj_data_season = ball_tracking_data[\n",
    "            (ball_tracking_data['pitcher'].isin(list(cohort_noninjured['mlbamid']))) & \n",
    "            (ball_tracking_data['season'] == season)\n",
    "        ].copy()\n",
    "\n",
    "        # get all pitches btw inj_first_pitch_date & inj_last_pitch_date\n",
    "            # then get pitch counts for each non-injured pitcher\n",
    "        noninj_data_season = noninj_data_season[\n",
    "            (noninj_data_season['game_date'] >= inj_first_pitch_date) & \n",
    "            (noninj_data_season['game_date'] <= inj_last_pitch_date)\n",
    "        ]\n",
    "\n",
    "        # skip if no non-injured pitchers have pitches in date range (e.g., spring training injury)\n",
    "        non_inj_pitch_counts = noninj_data_season.groupby(['pitcher', 'season']).size().reset_index(name='pitches_thrown_interval')\n",
    "        if non_inj_pitch_counts.empty:\n",
    "            continue\n",
    "        else:\n",
    "            # get eligible non-injured pitchers w/ pitches thrown during interval\n",
    "                # trim to matching columns, rename to match scaler\n",
    "                # NOTE: only pitchers within 20% of injured pitcher's pitches thrown are considered eligible\n",
    "            eligible_noninj = cohort_noninjured.merge(non_inj_pitch_counts, left_on=['mlbamid', 'season'], right_on=['pitcher', 'season'], how='inner')\n",
    "            eligible_noninj = eligible_noninj[['mlbamid', 'height', 'mass', 'pitches_thrown_interval']].rename(columns={'pitches_thrown_interval': 'pitches_thrown'})\n",
    "\n",
    "            # NOTE (above): filter eligible non-injured pitchers to those within 10% of injured pitcher's pitches thrown\n",
    "            eligible_noninj = eligible_noninj[\n",
    "                (eligible_noninj['pitches_thrown'] >= 0.9 * inj_pitches) &\n",
    "                (eligible_noninj['pitches_thrown'] <= 1.1 * inj_pitches)\n",
    "            ].reset_index(drop=True)\n",
    "\n",
    "            # skip if no eligible non-injured pitchers\n",
    "            if eligible_noninj.empty:\n",
    "                continue\n",
    "\n",
    "            # compute matching criteria\n",
    "            inj_pitcher_info = pd.DataFrame([{\n",
    "                'mlbamid': pitcher,\n",
    "                'height': inj_ht,\n",
    "                'mass': inj_mass,\n",
    "                'pitches_thrown': inj_pitches\n",
    "            }])\n",
    "            matching_cols = ['height', 'mass', 'pitches_thrown']\n",
    "\n",
    "            # scale matching criteria\n",
    "            season_scaler = matching_scalers[season]            # load scaler\n",
    "            inj_scaled = inj_pitcher_info.copy()\n",
    "            noninj_scaled = eligible_noninj.copy()\n",
    "            inj_scaled[matching_cols] = season_scaler.transform(inj_pitcher_info[matching_cols])\n",
    "            noninj_scaled[matching_cols] = season_scaler.transform(eligible_noninj[matching_cols])\n",
    "            \n",
    "            # get matching info\n",
    "            match_info = compute_matching_info(inj_scaled, noninj_scaled, matching_cols, metric='euclidean')\n",
    "\n",
    "            # store differences btw matched pitchers (inj - noninj)\n",
    "            match_info['ht_diff'] = inj_ht - eligible_noninj[eligible_noninj['mlbamid'] == match_info['mlbamid_noninjured']]['height'].values[0]\n",
    "            match_info['mass_diff'] = inj_mass - eligible_noninj[eligible_noninj['mlbamid'] == match_info['mlbamid_noninjured']]['mass'].values[0]\n",
    "            match_info['pitches_thrown_diff'] = inj_pitches - eligible_noninj[eligible_noninj['mlbamid'] == match_info['mlbamid_noninjured']]['pitches_thrown'].values[0]\n",
    "            \n",
    "            # update metadata & store\n",
    "            match_info['season'] = season\n",
    "            matches.append(match_info)\n"
   ]
  },
  {
   "cell_type": "code",
   "execution_count": 66,
   "id": "d899d4e6",
   "metadata": {},
   "outputs": [
    {
     "data": {
      "text/plain": [
       "{'mlbamid_injured': 700363,\n",
       " 'mlbamid_noninjured': 682990.0,\n",
       " 'min_distance': 0.2233738913261837,\n",
       " 'ht_diff': 0.0,\n",
       " 'mass_diff': -2.267960000000002,\n",
       " 'pitches_thrown_diff': -31,\n",
       " 'season': 2025}"
      ]
     },
     "execution_count": 66,
     "metadata": {},
     "output_type": "execute_result"
    }
   ],
   "source": [
    "match_info"
   ]
  },
  {
   "cell_type": "code",
   "execution_count": 72,
   "id": "a6ac4986",
   "metadata": {},
   "outputs": [
    {
     "name": "stdout",
     "output_type": "stream",
     "text": [
      "[AWS]: Uploaded object to s3://pitch-ml/epidemiology/cohorts/injured/pitcher_info/matches_0825.csv\n"
     ]
    }
   ],
   "source": [
    "# create dataframe of matches, upload to S3\n",
    "    # avg diffs: \n",
    "    #   ht: 0.013 m \n",
    "    #   mass: 3.01 kg\n",
    "    #   pitches thrown = 22.72 (mean), 12 (median)\n",
    "matches_full = pd.DataFrame(matches).drop_duplicates()\n",
    "aws.upload_to_s3(matches_full, 'epidemiology/cohorts/injured/pitcher_info/matches_0825.csv')"
   ]
  },
  {
   "cell_type": "markdown",
   "id": "a9fb28bf",
   "metadata": {},
   "source": [
    "$\\textbf{Close AWS Connection}$"
   ]
  },
  {
   "cell_type": "code",
   "execution_count": 73,
   "id": "3f5e20a9",
   "metadata": {},
   "outputs": [
    {
     "name": "stdout",
     "output_type": "stream",
     "text": [
      "[AWS]: No active connection to close.\n"
     ]
    }
   ],
   "source": [
    "aws.close()"
   ]
  },
  {
   "cell_type": "code",
   "execution_count": null,
   "id": "cb6be348",
   "metadata": {},
   "outputs": [],
   "source": []
  }
 ],
 "metadata": {
  "kernelspec": {
   "display_name": "pitch_ml",
   "language": "python",
   "name": "python3"
  },
  "language_info": {
   "codemirror_mode": {
    "name": "ipython",
    "version": 3
   },
   "file_extension": ".py",
   "mimetype": "text/x-python",
   "name": "python",
   "nbconvert_exporter": "python",
   "pygments_lexer": "ipython3",
   "version": "3.11.10"
  }
 },
 "nbformat": 4,
 "nbformat_minor": 5
}
