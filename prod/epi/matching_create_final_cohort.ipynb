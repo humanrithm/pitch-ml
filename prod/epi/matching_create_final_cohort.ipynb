{
 "cells": [
  {
   "cell_type": "code",
   "execution_count": null,
   "id": "4ae4c02f",
   "metadata": {},
   "outputs": [],
   "source": [
    "import pandas as pd\n",
    "from connections import AWS"
   ]
  },
  {
   "cell_type": "markdown",
   "id": "20e5abed",
   "metadata": {},
   "source": [
    "$\\textbf{Epidemiology: Create Final Cohort with Matches}$"
   ]
  },
  {
   "cell_type": "code",
   "execution_count": null,
   "id": "44eca5c0",
   "metadata": {},
   "outputs": [],
   "source": [
    "\"\"\" INITIALIZE AWS CONNECTION \"\"\"\n",
    "aws = AWS()\n",
    "aws.connect()"
   ]
  },
  {
   "cell_type": "code",
   "execution_count": null,
   "id": "884373d6",
   "metadata": {},
   "outputs": [],
   "source": [
    "# load cohort of matches\n",
    "cohort_matches = aws.load_s3_object('epidemiology/cohorts/injured/pitcher_info/matches_0825.csv')\n",
    "\n",
    "# join injury metadata to filter out non-tissue injuries\n",
    "cohort_metadata = aws.load_s3_object('epidemiology/cohorts/injured/pitcher_info/pitchers_0825.csv')\n",
    "cohort_metadata['season'] = cohort_metadata['injury_date'].str[0:4].astype(int)\n",
    "injury_info = cohort_metadata.merge(cohort_matches, right_on=['mlbamid_injured', 'season'], left_on=['mlbamid', 'season'], how='inner')[['mlbamid', 'injury_type']]\n",
    "\n",
    "# filter out non-tissue injuries\n",
    "    # --> 209 injuries remaining\n",
    "valid_injuries = [\n",
    "    'tommy_john_surgery', \n",
    "    'elbow_surgery_(internal_brace)', \n",
    "    'elbow_surgery', \n",
    "    'arthroscopic_elbow_surgery', \n",
    "    'elbow_surgery_(ucl)', \n",
    "    'tommy_john_surgery_(internal_brace)'\n",
    "]\n",
    "valid_injury_info = injury_info[injury_info['injury_type'].isin(valid_injuries)].reset_index(drop=True)\n",
    "cohort_matches_final = cohort_matches[cohort_matches['mlbamid_injured'].isin(valid_injury_info['mlbamid'])].reset_index(drop=True)\n",
    "\n",
    "# upload final cohort matches to S3\n",
    "aws.upload_to_s3(cohort_matches_final, 'epidemiology/ml/datasets/full/cohort_matches_final.csv')"
   ]
  },
  {
   "cell_type": "code",
   "execution_count": null,
   "id": "c1692b22",
   "metadata": {},
   "outputs": [],
   "source": [
    "# close AWS connection\n",
    "aws.close()"
   ]
  }
 ],
 "metadata": {
  "kernelspec": {
   "display_name": "pitch_ml",
   "language": "python",
   "name": "python3"
  },
  "language_info": {
   "codemirror_mode": {
    "name": "ipython",
    "version": 3
   },
   "file_extension": ".py",
   "mimetype": "text/x-python",
   "name": "python",
   "nbconvert_exporter": "python",
   "pygments_lexer": "ipython3",
   "version": "3.11.10"
  }
 },
 "nbformat": 4,
 "nbformat_minor": 5
}
