{
 "cells": [
  {
   "cell_type": "code",
   "execution_count": 1,
   "id": "96bf1d96",
   "metadata": {},
   "outputs": [],
   "source": [
    "import pandas as pd\n",
    "from connections import AWS"
   ]
  },
  {
   "cell_type": "markdown",
   "id": "21718f80",
   "metadata": {},
   "source": [
    "$\\textbf{Epidemiology: Missing Value Imputation}$\n",
    "\n",
    "Done to maximize the number of available pitches. Imputers are created separately to account for YTY changes in ball tracking systems."
   ]
  },
  {
   "cell_type": "code",
   "execution_count": 2,
   "id": "eec7d8ca",
   "metadata": {},
   "outputs": [
    {
     "name": "stdout",
     "output_type": "stream",
     "text": [
      "[AWS]: Port 5433 is in use by process python3.11 (PID 70678). Killing it.\n",
      "[AWS]: Connected to RDS endpoint.\n"
     ]
    }
   ],
   "source": [
    "# set up AWS connection\n",
    "aws = AWS()\n",
    "aws.connect()"
   ]
  },
  {
   "cell_type": "markdown",
   "id": "236dea37",
   "metadata": {},
   "source": [
    "$\\textbf{Data Loading}$"
   ]
  },
  {
   "cell_type": "code",
   "execution_count": null,
   "id": "4ac593ed",
   "metadata": {},
   "outputs": [],
   "source": [
    "from services.ball_tracking import clean_ball_tracking_data"
   ]
  },
  {
   "cell_type": "code",
   "execution_count": null,
   "id": "c80158d9",
   "metadata": {},
   "outputs": [],
   "source": [
    "\"\"\" Ball Tracking Data \"\"\"\n",
    "# injured pitcher ball tracking data (to get date of first pitch thrown)\n",
    "inj_ball_tracking = aws.load_s3_object('epidemiology/cohorts/injured/statcast_data.csv')\n",
    "inj_bt_clean = clean_ball_tracking_data(inj_ball_tracking)\n",
    "\n",
    "# all ball tracking data by season\n",
    "season_range = [i for i in range(2015, 2026)]\n",
    "noninj_bt = {}\n",
    "for s in season_range:\n",
    "    # load, clean, & store ball tracking data for non-injured pitchers\n",
    "    raw_bt = aws.load_s3_object(f'epidemiology/cohorts/noninjured/bulk_statcast/{s}.csv')\n",
    "    noninj_bt[s] = clean_ball_tracking_data(raw_bt)"
   ]
  },
  {
   "cell_type": "markdown",
   "id": "ef183412",
   "metadata": {},
   "source": [
    "$\\textbf{Imputer Development}$\n",
    "\n",
    "Imputers fit separately for each season (non-injured data), then applied to injured pitcher data."
   ]
  },
  {
   "cell_type": "code",
   "execution_count": 16,
   "id": "259163aa",
   "metadata": {},
   "outputs": [],
   "source": [
    "import pickle\n",
    "from sklearn.impute import KNNImputer"
   ]
  },
  {
   "cell_type": "code",
   "execution_count": 9,
   "id": "24b27de4",
   "metadata": {},
   "outputs": [],
   "source": [
    "def update_throws_col(col: pd.Series) -> pd.Series:\n",
    "    \"\"\" Update the `p_throws` column to be 1 (R) or 0 (L) \"\"\"\n",
    "    return col.apply(lambda x: 1 if x == 'R' else 0)\n"
   ]
  },
  {
   "cell_type": "code",
   "execution_count": null,
   "id": "dff62b79",
   "metadata": {},
   "outputs": [],
   "source": [
    "# specify cols for imputer\n",
    "imputer_cols = [\n",
    "    'p_throws', 'rel_speed', 'rel_side', 'rel_ht',\n",
    "    'spin_rate', 'spin_axis', 'ax0', 'ay0', 'az0'\n",
    "]\n",
    "\n",
    "# get missing counts\n",
    "missing_counts = {\n",
    "    'injured': inj_bt_clean[imputer_cols].isna().sum(),\n",
    "    'noninjured': {s: noninj_bt[s][imputer_cols].isna().sum() for s in season_range}\n",
    "}\n",
    "\n",
    "# update p_throws column for each df\n",
    "inj_bt_clean['p_throws'] = update_throws_col(inj_bt_clean['p_throws'])\n",
    "for s in season_range:\n",
    "    noninj_bt[s]['p_throws'] = update_throws_col(noninj_bt[s]['p_throws'])"
   ]
  },
  {
   "cell_type": "code",
   "execution_count": null,
   "id": "5d0be126",
   "metadata": {},
   "outputs": [],
   "source": [
    "# fit imputers to non-injured data for each season\n",
    "missing_pitches = {}\n",
    "imputers = {}\n",
    "for s in season_range:\n",
    "    # add missing pitch IDs to list in dictionary\n",
    "    missing_pitches[s] = noninj_bt[s][noninj_bt[s][imputer_cols].isna().any(axis=1)]['pitch_id'].tolist()\n",
    "    \n",
    "    # fit imputer to non-injured data using nearest neighbors\n",
    "    imputer = KNNImputer(n_neighbors=10, weights='distance')\n",
    "    imputers[s] = imputer.fit(noninj_bt[s][imputer_cols])\n",
    "\n",
    "# write imputers to disk\n",
    "with open(f'models/imputers.pkl', 'wb') as f:\n",
    "    pickle.dump(imputers, f)\n",
    "\n",
    "# upload imputers to S3\n",
    "with open(f'models/imputers.pkl', 'rb') as f:\n",
    "    imputer_content = f.read()\n",
    "aws.upload_to_s3(\n",
    "    imputer_content,\n",
    "    f'epidemiology/ml/imputers/models_by_year.pkl', \n",
    ")"
   ]
  },
  {
   "cell_type": "markdown",
   "id": "414fe1ad",
   "metadata": {},
   "source": [
    "$\\textbf{Imputer Evaluation}$"
   ]
  },
  {
   "cell_type": "code",
   "execution_count": 49,
   "id": "b75e7ce4",
   "metadata": {},
   "outputs": [
    {
     "name": "stdout",
     "output_type": "stream",
     "text": [
      "Finished imputing missing values for 2015 data.\n",
      "Finished imputing missing values for 2016 data.\n",
      "Finished imputing missing values for 2017 data.\n",
      "Finished imputing missing values for 2018 data.\n",
      "Finished imputing missing values for 2019 data.\n",
      "Finished imputing missing values for 2020 data.\n",
      "Finished imputing missing values for 2021 data.\n",
      "Finished imputing missing values for 2022 data.\n",
      "Finished imputing missing values for 2023 data.\n",
      "Finished imputing missing values for 2024 data.\n",
      "Finished imputing missing values for 2025 data.\n"
     ]
    }
   ],
   "source": [
    "# run imputers on non-injured data\n",
    "    # NOTE: 2015 model must be re-trained without spin axis; other columns will be imputed\n",
    "imputed_noninj_bt = {}\n",
    "for s in season_range:\n",
    "    print(f'Imputing missing values for {s} data...', end='\\r', flush=True)\n",
    "    imputed_noninj_bt[s] = pd.DataFrame(imputers[s].transform(noninj_bt[s][imputer_cols]))\n",
    "\n",
    "    # update column names\n",
    "    if s == 2015:\n",
    "        imputed_noninj_bt[s].columns = ['p_throws', 'rel_speed', 'rel_side', 'rel_ht', 'spin_rate', 'ax0', 'ay0', 'az0']\n",
    "    else:\n",
    "        imputed_noninj_bt[s].columns = imputer_cols\n",
    "\n",
    "    print(f'Finished imputing missing values for {s} data.')"
   ]
  },
  {
   "cell_type": "code",
   "execution_count": 50,
   "id": "59f7792a",
   "metadata": {},
   "outputs": [],
   "source": [
    "# compare imputed/non-imputed means\n",
    "imputed_means = {s: imputed_noninj_bt[s].mean() for s in season_range}\n",
    "nonimputed_means = {s: noninj_bt[s][imputer_cols].mean() for s in season_range}"
   ]
  },
  {
   "cell_type": "code",
   "execution_count": 64,
   "id": "a91c14f4",
   "metadata": {},
   "outputs": [
    {
     "name": "stdout",
     "output_type": "stream",
     "text": [
      "Finished imputing missing values for injured data from 2015.\n",
      "Finished imputing missing values for injured data from 2016.\n",
      "Finished imputing missing values for injured data from 2017.\n",
      "Finished imputing missing values for injured data from 2018.\n",
      "Finished imputing missing values for injured data from 2019.\n",
      "Finished imputing missing values for injured data from 2020.\n",
      "Finished imputing missing values for injured data from 2021.\n",
      "Finished imputing missing values for injured data from 2022.\n",
      "Finished imputing missing values for injured data from 2023.\n",
      "Finished imputing missing values for injured data from 2024.\n",
      "Finished imputing missing values for injured data from 2025.\n"
     ]
    }
   ],
   "source": [
    "# apply imputer to injured data\n",
    "imputed_inj_bt = {}\n",
    "for s in season_range:\n",
    "    print(f'Imputing missing values for injured data from {s}...', end='\\r', flush=True)\n",
    "    \n",
    "    # extract season data & imputer\n",
    "    season_data = inj_bt_clean[pd.to_datetime(inj_bt_clean['game_date']).dt.year == s].copy()\n",
    "    season_imputer = imputers[s]\n",
    "\n",
    "    # setup imputer\n",
    "        # note that 2015 was trained w/ spin axis but doesn't actually use it\n",
    "    impute_cols = season_imputer.feature_names_in_\n",
    "    if s == 2015:\n",
    "        output_cols = ['p_throws', 'rel_speed', 'rel_side', 'rel_ht', 'spin_rate', 'ax0', 'ay0', 'az0']\n",
    "    else:\n",
    "        output_cols = impute_cols\n",
    "    \n",
    "    # apply imputer, update columns\n",
    "    season_data[output_cols] = season_imputer.transform(season_data[impute_cols])\n",
    "\n",
    "    # store imputed data\n",
    "    imputed_inj_bt[s] = season_data\n",
    "\n",
    "    print(f'Finished imputing missing values for injured data from {s}.')"
   ]
  },
  {
   "cell_type": "markdown",
   "id": "ac21c473",
   "metadata": {},
   "source": [
    "$\\textbf{S3 Uploads}$"
   ]
  },
  {
   "cell_type": "code",
   "execution_count": 53,
   "id": "f95dfaa9",
   "metadata": {},
   "outputs": [
    {
     "name": "stdout",
     "output_type": "stream",
     "text": [
      "[AWS]: Uploaded object to s3://pitch-ml/epidemiology/ml/imputers/imputer_summary.pkl\n"
     ]
    }
   ],
   "source": [
    "# upload means to S3\n",
    "imputer_summary = {\n",
    "    'imputed_means': imputed_means,\n",
    "    'nonimputed_means': nonimputed_means\n",
    "}\n",
    "with open('storage/imputer_summary.pkl', 'wb') as f:\n",
    "    pickle.dump(imputer_summary, f)\n",
    "with open('storage/imputer_summary.pkl', 'rb') as f:\n",
    "    imputer_summary_content = f.read()\n",
    "aws.upload_to_s3(\n",
    "    imputer_summary_content,\n",
    "    'epidemiology/ml/imputers/imputer_summary.pkl',\n",
    ")\n"
   ]
  },
  {
   "cell_type": "code",
   "execution_count": 80,
   "id": "85f38fc9",
   "metadata": {},
   "outputs": [
    {
     "name": "stdout",
     "output_type": "stream",
     "text": [
      "[AWS]: Uploaded object to s3://pitch-ml/epidemiology/ml/datasets/2015/noninjured_ball_tracking.csv\n",
      "[AWS]: Uploaded object to s3://pitch-ml/epidemiology/ml/datasets/2015/injured_ball_tracking.csv\n",
      "Finished uploading imputed data for 2015.\n",
      "[AWS]: Uploaded object to s3://pitch-ml/epidemiology/ml/datasets/2016/noninjured_ball_tracking.csv\n",
      "[AWS]: Uploaded object to s3://pitch-ml/epidemiology/ml/datasets/2016/injured_ball_tracking.csv\n",
      "Finished uploading imputed data for 2016.\n",
      "[AWS]: Uploaded object to s3://pitch-ml/epidemiology/ml/datasets/2017/noninjured_ball_tracking.csv\n",
      "[AWS]: Uploaded object to s3://pitch-ml/epidemiology/ml/datasets/2017/injured_ball_tracking.csv\n",
      "Finished uploading imputed data for 2017.\n",
      "[AWS]: Uploaded object to s3://pitch-ml/epidemiology/ml/datasets/2018/noninjured_ball_tracking.csv\n",
      "[AWS]: Uploaded object to s3://pitch-ml/epidemiology/ml/datasets/2018/injured_ball_tracking.csv\n",
      "Finished uploading imputed data for 2018.\n",
      "[AWS]: Uploaded object to s3://pitch-ml/epidemiology/ml/datasets/2019/noninjured_ball_tracking.csv\n",
      "[AWS]: Uploaded object to s3://pitch-ml/epidemiology/ml/datasets/2019/injured_ball_tracking.csv\n",
      "Finished uploading imputed data for 2019.\n",
      "[AWS]: Uploaded object to s3://pitch-ml/epidemiology/ml/datasets/2020/noninjured_ball_tracking.csv\n",
      "[AWS]: Uploaded object to s3://pitch-ml/epidemiology/ml/datasets/2020/injured_ball_tracking.csv\n",
      "Finished uploading imputed data for 2020.\n",
      "[AWS]: Uploaded object to s3://pitch-ml/epidemiology/ml/datasets/2021/noninjured_ball_tracking.csv\n",
      "[AWS]: Uploaded object to s3://pitch-ml/epidemiology/ml/datasets/2021/injured_ball_tracking.csv\n",
      "Finished uploading imputed data for 2021.\n",
      "[AWS]: Uploaded object to s3://pitch-ml/epidemiology/ml/datasets/2022/noninjured_ball_tracking.csv\n",
      "[AWS]: Uploaded object to s3://pitch-ml/epidemiology/ml/datasets/2022/injured_ball_tracking.csv\n",
      "Finished uploading imputed data for 2022.\n",
      "[AWS]: Uploaded object to s3://pitch-ml/epidemiology/ml/datasets/2023/noninjured_ball_tracking.csv\n",
      "[AWS]: Uploaded object to s3://pitch-ml/epidemiology/ml/datasets/2023/injured_ball_tracking.csv\n",
      "Finished uploading imputed data for 2023.\n",
      "[AWS]: Uploaded object to s3://pitch-ml/epidemiology/ml/datasets/2024/noninjured_ball_tracking.csv\n",
      "[AWS]: Uploaded object to s3://pitch-ml/epidemiology/ml/datasets/2024/injured_ball_tracking.csv\n",
      "Finished uploading imputed data for 2024.\n",
      "[AWS]: Uploaded object to s3://pitch-ml/epidemiology/ml/datasets/2025/noninjured_ball_tracking.csv\n",
      "[AWS]: Uploaded object to s3://pitch-ml/epidemiology/ml/datasets/2025/injured_ball_tracking.csv\n",
      "Finished uploading imputed data for 2025.\n"
     ]
    }
   ],
   "source": [
    "# upload bulk data to S3\n",
    "for s in season_range:\n",
    "    print(f'Uploading imputed data for {s}...', end='\\r', flush=True)\n",
    "    \n",
    "    \"\"\" non-injured pitcher data \"\"\"\n",
    "    # NOTE: these were not preprocessed correctly, so it's handled here\n",
    "    season_data_noninj = noninj_bt[s].copy()\n",
    "    season_data_noninj_imp = imputed_noninj_bt[s].copy()\n",
    "    season_data_noninj[season_data_noninj_imp.columns] = season_data_noninj_imp\n",
    "    \n",
    "    # upload correctly formatted data to S3, dropping NaNs in `pitcher_days_since_prev_game`\n",
    "    aws.upload_to_s3(\n",
    "        season_data_noninj.dropna(subset='pitcher_days_since_prev_game'),\n",
    "        f'epidemiology/ml/datasets/{s}/noninjured_ball_tracking.csv'\n",
    "    )\n",
    "\n",
    "    # data upload (injured)\n",
    "        # NOTE: these are already preprocessed correctly\n",
    "    aws.upload_to_s3(\n",
    "        imputed_inj_bt[s].dropna(subset='pitcher_days_since_prev_game'),\n",
    "        f'epidemiology/ml/datasets/{s}/injured_ball_tracking.csv'\n",
    "    )\n",
    "\n",
    "    print(f'Finished uploading imputed data for {s}.')"
   ]
  },
  {
   "cell_type": "markdown",
   "id": "d3aac845",
   "metadata": {},
   "source": [
    "$\\textbf{Close AWS Connection}$"
   ]
  },
  {
   "cell_type": "code",
   "execution_count": 81,
   "id": "21e44ba2",
   "metadata": {},
   "outputs": [
    {
     "name": "stdout",
     "output_type": "stream",
     "text": [
      "[AWS]: No active connection to close.\n"
     ]
    }
   ],
   "source": [
    "aws.close()"
   ]
  },
  {
   "cell_type": "code",
   "execution_count": null,
   "id": "242d4fd5",
   "metadata": {},
   "outputs": [],
   "source": []
  }
 ],
 "metadata": {
  "kernelspec": {
   "display_name": "pitch_ml",
   "language": "python",
   "name": "python3"
  },
  "language_info": {
   "codemirror_mode": {
    "name": "ipython",
    "version": 3
   },
   "file_extension": ".py",
   "mimetype": "text/x-python",
   "name": "python",
   "nbconvert_exporter": "python",
   "pygments_lexer": "ipython3",
   "version": "3.11.10"
  }
 },
 "nbformat": 4,
 "nbformat_minor": 5
}
