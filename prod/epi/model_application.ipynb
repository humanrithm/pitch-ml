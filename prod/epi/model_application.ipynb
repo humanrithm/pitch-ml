{
 "cells": [
  {
   "cell_type": "code",
   "execution_count": 3,
   "id": "d0f6874a",
   "metadata": {},
   "outputs": [],
   "source": [
    "import pickle\n",
    "import pandas as pd\n",
    "from connections import AWS"
   ]
  },
  {
   "cell_type": "markdown",
   "id": "14bc15aa",
   "metadata": {},
   "source": [
    "$\\textbf{Epidemiology: Model Application}$\n",
    "\n",
    "Loads and applies re-trained peak EVT model to new data (2015 - present)."
   ]
  },
  {
   "cell_type": "code",
   "execution_count": 2,
   "id": "2063c132",
   "metadata": {},
   "outputs": [
    {
     "name": "stdout",
     "output_type": "stream",
     "text": [
      "[AWS]: Port 5433 is in use by process python3.11 (PID 48052). Killing it.\n",
      "[AWS]: Connected to RDS endpoint.\n"
     ]
    }
   ],
   "source": [
    "\"\"\" INITIALIZE AWS CONNECTION \"\"\"\n",
    "aws_connection = AWS()\n",
    "aws_connection.connect()"
   ]
  },
  {
   "cell_type": "markdown",
   "id": "00ba93d6",
   "metadata": {},
   "source": [
    "$\\textbf{Model \\& Data Loading}$"
   ]
  },
  {
   "cell_type": "code",
   "execution_count": null,
   "id": "8d4ee0c5",
   "metadata": {},
   "outputs": [],
   "source": [
    "# load pitcher metadata (e.g., height & mass to postprocess model outputs)\n",
    "    # NOTE: a little off here that these file names don't match\n",
    "inj_pitcher_info = aws_connection.load_s3_object('epidemiology/cohorts/injured/pitcher_info/pitchers_metadata.csv')\n",
    "noninj_pitcher_info = aws_connection.load_s3_object('epidemiology/cohorts/noninjured/pitcher_info/pitchers_0825.csv')\n",
    "\n",
    "# consolidate into model metadata\n",
    "    # drop duplicates for merging (metadata is consistent from YTY)\n",
    "metadata_cols = ['mlbamid', 'height', 'mass']\n",
    "inj_pitcher_info.rename(columns={'mlbam_id': 'mlbamid'}, inplace=True)\n",
    "model_metadata = pd.concat([inj_pitcher_info[metadata_cols], noninj_pitcher_info[metadata_cols]], axis=0).reset_index(drop=True).drop_duplicates()"
   ]
  },
  {
   "cell_type": "code",
   "execution_count": 25,
   "id": "909d3a80",
   "metadata": {},
   "outputs": [],
   "source": [
    "# load models (2015 & \"modern\" ball tracking -- ie., 2016-present)\n",
    "with open(f'models/evt_2015.pkl', 'rb') as f:\n",
    "    evt_model_2015 = pickle.load(f)['model']\n",
    "with open(f'models/evt_modern.pkl', 'rb') as f:\n",
    "    evt_model = pickle.load(f)['model']\n"
   ]
  },
  {
   "cell_type": "code",
   "execution_count": 10,
   "id": "d08afede",
   "metadata": {},
   "outputs": [
    {
     "name": "stdout",
     "output_type": "stream",
     "text": [
      "Loaded 2015 data: 6406 injured, 556391 non-injured\n",
      "Loaded 2016 data: 7562 injured, 558757 non-injured\n",
      "Loaded 2017 data: 7056 injured, 520539 non-injured\n",
      "Loaded 2018 data: 11860 injured, 502517 non-injured\n",
      "Loaded 2019 data: 4626 injured, 460887 non-injured\n",
      "Loaded 2020 data: 7363 injured, 149505 non-injured\n",
      "Loaded 2021 data: 32054 injured, 391833 non-injured\n",
      "Loaded 2022 data: 25765 injured, 371984 non-injured\n",
      "Loaded 2023 data: 43642 injured, 364405 non-injured\n",
      "Loaded 2024 data: 44174 injured, 395168 non-injured\n",
      "Loaded 2025 data: 8081 injured, 277705 non-injured\n"
     ]
    }
   ],
   "source": [
    "# load ball tracking data\n",
    "ball_tracking_data = {}\n",
    "season_range = [i for i in range(2015, 2026)]\n",
    "for s in season_range:\n",
    "    # load injured & non-injured bt data\n",
    "    inj_data = aws_connection.load_s3_object(f'epidemiology/ml/datasets/{s}/injured_ball_tracking.csv')\n",
    "    noninj_data = aws_connection.load_s3_object(f'epidemiology/ml/datasets/{s}/noninjured_ball_tracking.csv')\n",
    "\n",
    "    # add injured/non-injured label for downstream check\n",
    "    inj_data['injured_cohort_pitcher'] = 1\n",
    "    noninj_data['injured_cohort_pitcher'] = 0\n",
    "    \n",
    "    # combine & store\n",
    "    ball_tracking_data[s] = pd.concat([inj_data, noninj_data], axis=0).reset_index(drop=True)\n",
    "    print(f'Loaded {s} data: {inj_data.shape[0]} injured, {noninj_data.shape[0]} non-injured')"
   ]
  },
  {
   "cell_type": "code",
   "execution_count": 83,
   "id": "55b799c2",
   "metadata": {},
   "outputs": [
    {
     "name": "stdout",
     "output_type": "stream",
     "text": [
      "[AWS]: Uploaded object to s3://pitch-ml/epidemiology/ml/datasets/full/model_application_data.csv\n"
     ]
    }
   ],
   "source": [
    "# concatenate ball tracking data & upload to S3\n",
    "ball_tracking_data_all = pd.concat([ball_tracking_data[s] for s in season_range], axis=0).reset_index(drop=True)\n",
    "aws_connection.upload_to_s3(\n",
    "    ball_tracking_data_all,\n",
    "    'epidemiology/ml/datasets/full/model_application_data.csv'\n",
    ")"
   ]
  },
  {
   "cell_type": "markdown",
   "id": "502407c6",
   "metadata": {},
   "source": [
    "$\\textbf{Apply Models to Data}$"
   ]
  },
  {
   "cell_type": "code",
   "execution_count": 58,
   "id": "9af0ded4",
   "metadata": {},
   "outputs": [
    {
     "name": "stdout",
     "output_type": "stream",
     "text": [
      "Models successfully applied to 2015 data.\n",
      "Models successfully applied to 2016 data.\n",
      "Models successfully applied to 2017 data.\n",
      "Models successfully applied to 2018 data.\n",
      "Models successfully applied to 2019 data.\n",
      "Models successfully applied to 2020 data.\n",
      "Models successfully applied to 2021 data.\n",
      "Models successfully applied to 2022 data.\n",
      "Models successfully applied to 2023 data.\n",
      "Models successfully applied to 2024 data.\n",
      "Models successfully applied to 2025 data.\n"
     ]
    }
   ],
   "source": [
    "# initialize model preds \n",
    "model_preds = {}\n",
    "for s in season_range:\n",
    "    print(f'Applying models to {s} data...', end='\\r', flush=True)\n",
    "    \n",
    "    # extract copy of season's ball tracking data\n",
    "    data = ball_tracking_data[s].copy()\n",
    "\n",
    "    # apply model based on year\n",
    "    if s == 2015:\n",
    "        model_fts = evt_model_2015.feature_names_in_\n",
    "        data['pred_peak_evt_normalized'] = evt_model_2015.predict(data[model_fts])\n",
    "    else:\n",
    "        model_fts = evt_model.feature_names_in_\n",
    "        data['pred_peak_evt_normalized'] = evt_model.predict(data[model_fts])\n",
    "\n",
    "    # post-process model outputs to get predicted peak elbow varus torque (in Nm)\n",
    "    data_postprocessed = data.merge(model_metadata, left_on='pitcher', right_on='mlbamid', how='left')\n",
    "    data_postprocessed['pred_peak_evt'] = data_postprocessed['pred_peak_evt_normalized'] * (data_postprocessed['mass'] * 9.81) * (data_postprocessed['height'])\n",
    "    \n",
    "    # store preds\n",
    "    sto_cols = ['pitch_id', 'pitcher', 'game_date', 'pitcher_days_since_prev_game', 'pred_peak_evt_normalized', 'pred_peak_evt', 'injured_cohort_pitcher']\n",
    "    model_preds[s] = data_postprocessed[sto_cols]\n",
    "\n",
    "    print(f'Models successfully applied to {s} data.')"
   ]
  },
  {
   "cell_type": "code",
   "execution_count": null,
   "id": "f99044ed",
   "metadata": {},
   "outputs": [
    {
     "name": "stdout",
     "output_type": "stream",
     "text": [
      "[AWS]: Uploaded object to s3://pitch-ml/epidemiology/ml/datasets/preds/all_ball_tracking_preds.csv\n"
     ]
    }
   ],
   "source": [
    "# concatenate all model predictions\n",
    "    # NOTE: separation btw injured and non-injured isn't large here\n",
    "    # however, pitchers haven't been matched\n",
    "model_preds_all = pd.concat([model_preds[s] for s in season_range], axis=0).reset_index(drop=True)\n",
    "\n",
    "# save model predictions to S3\n",
    "aws_connection.upload_to_s3(\n",
    "    model_preds_all,\n",
    "    'epidemiology/ml/datasets/preds/model_application.csv'\n",
    ")"
   ]
  },
  {
   "cell_type": "markdown",
   "id": "5e110b89",
   "metadata": {},
   "source": [
    "$\\textbf{Close AWS Connection}$"
   ]
  },
  {
   "cell_type": "code",
   "execution_count": 84,
   "id": "62bcfde9",
   "metadata": {},
   "outputs": [
    {
     "name": "stdout",
     "output_type": "stream",
     "text": [
      "[AWS]: Database connection closed.\n",
      "[AWS]: SSH tunnel stopped.\n"
     ]
    }
   ],
   "source": [
    "aws_connection.close()"
   ]
  },
  {
   "cell_type": "code",
   "execution_count": null,
   "id": "9298deec",
   "metadata": {},
   "outputs": [],
   "source": []
  }
 ],
 "metadata": {
  "kernelspec": {
   "display_name": "pitch_ml",
   "language": "python",
   "name": "python3"
  },
  "language_info": {
   "codemirror_mode": {
    "name": "ipython",
    "version": 3
   },
   "file_extension": ".py",
   "mimetype": "text/x-python",
   "name": "python",
   "nbconvert_exporter": "python",
   "pygments_lexer": "ipython3",
   "version": "3.11.10"
  }
 },
 "nbformat": 4,
 "nbformat_minor": 5
}
