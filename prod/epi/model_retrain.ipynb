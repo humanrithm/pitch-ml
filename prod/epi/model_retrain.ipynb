{
 "cells": [
  {
   "cell_type": "code",
   "execution_count": 17,
   "id": "0eb2782a",
   "metadata": {},
   "outputs": [],
   "source": [
    "import pandas as pd\n",
    "from connections import AWS"
   ]
  },
  {
   "cell_type": "markdown",
   "id": "784f8335",
   "metadata": {},
   "source": [
    "$\\textbf{Epidemiology: Model Retraining}$\n",
    "\n",
    "Model from Aim 2 is retrained on the entire dataset. RMSE is noted with a reference to the estimated out of sample error (~ 4.61 Nm) from previous study."
   ]
  },
  {
   "cell_type": "code",
   "execution_count": 18,
   "id": "86ef0d8f",
   "metadata": {},
   "outputs": [
    {
     "name": "stdout",
     "output_type": "stream",
     "text": [
      "[AWS]: Port 5433 is free.\n",
      "[AWS]: Connected to RDS endpoint.\n"
     ]
    }
   ],
   "source": [
    "\"\"\" INITIALIZE AWS CONNECTION \"\"\"\n",
    "aws_connection = AWS()\n",
    "aws_connection.connect()"
   ]
  },
  {
   "cell_type": "code",
   "execution_count": null,
   "id": "bb4d54c9",
   "metadata": {},
   "outputs": [],
   "source": [
    "# download model dev data\n",
    "model_dev_data = pd.read_csv('storage/model_dev_raw.csv')\n",
    "\n",
    "# remove outlier subject (event detection issue)\n",
    "model_dev_data = model_dev_data[model_dev_data['subject_id'] != 2676]\n",
    "\n",
    "# load subject info and merge; normalize torque values\n",
    "subject_info = aws_connection.load_subject_info()\n",
    "model_data = model_dev_data.merge(\n",
    "    subject_info,\n",
    "    on='subject_id',\n",
    "    how='left'\n",
    ")\n",
    "model_data.insert(\n",
    "    4,\n",
    "    'peak_value_normalized', \n",
    "    model_data['peak_value'] / (model_data['height'] * model_data['mass'] * 9.81)\n",
    ")\n"
   ]
  },
  {
   "cell_type": "markdown",
   "id": "f9450a99",
   "metadata": {},
   "source": [
    "$\\textbf{Model Training}$\n",
    "\n",
    "Note the need to separate by year:\n",
    "- __2015__: Trained w/out spin axis\n",
    "- __> 2016__: Trained w/ spin axis\n",
    "\n",
    "The number of estimators was held consistent with the LOOCV version from D2. Both models slightly outperformed this model, showing improvements by 0.20 Nm and 0.28 Nm, respectively. "
   ]
  },
  {
   "cell_type": "code",
   "execution_count": 21,
   "id": "a223ecde",
   "metadata": {},
   "outputs": [],
   "source": [
    "from services.training import train_rf_model"
   ]
  },
  {
   "cell_type": "code",
   "execution_count": null,
   "id": "17b08759",
   "metadata": {},
   "outputs": [],
   "source": [
    "# 2015 model (no spin axis)\n",
    "    # RMSE: 4.41\n",
    "retrained_model_2015 = train_rf_model(\n",
    "    train_data=model_data,\n",
    "    features=[\n",
    "        'rel_speed',\n",
    "        'rel_side',\n",
    "        'rel_ht',\n",
    "        'spin_rate',\n",
    "        'ax0',\n",
    "        'ay0',\n",
    "        'az0'\n",
    "    ],\n",
    "    target='peak_value_normalized',\n",
    "    params={'n_estimators': 250, 'random_state': 22}\n",
    ")\n",
    "\n",
    "# all other years (with spin axis)\n",
    "    # RMSE: 4.33 Nm\n",
    "retrained_model = train_rf_model(\n",
    "    train_data=model_data,\n",
    "    features=[\n",
    "        'rel_speed',\n",
    "        'rel_side',\n",
    "        'rel_ht',\n",
    "        'spin_rate',\n",
    "        'spin_axis',\n",
    "        'ax0',\n",
    "        'ay0',\n",
    "        'az0'\n",
    "    ],\n",
    "    target='peak_value_normalized',\n",
    "    params={'n_estimators': 250,'random_state': 22}\n",
    ")"
   ]
  },
  {
   "cell_type": "markdown",
   "id": "a70d3103",
   "metadata": {},
   "source": [
    "$\\textbf{Uploads}$"
   ]
  },
  {
   "cell_type": "code",
   "execution_count": 42,
   "id": "4e4e47ce",
   "metadata": {},
   "outputs": [],
   "source": [
    "import pickle"
   ]
  },
  {
   "cell_type": "code",
   "execution_count": 43,
   "id": "47392bf6",
   "metadata": {},
   "outputs": [],
   "source": [
    "# save models to disc\n",
    "with open(f'models/evt_2015.pkl', 'wb') as f:\n",
    "    pickle.dump(retrained_model_2015, f)\n",
    "with open(f'models/evt_modern.pkl', 'wb') as f:\n",
    "    pickle.dump(retrained_model, f)\n",
    "\n",
    "# upload to S3\n",
    "aws_connection.s3.upload_file(\n",
    "    'models/evt_2015.pkl',\n",
    "    aws_connection.bucket_name, \n",
    "    'epidemiology/models/evt_2015.pkl'\n",
    ")\n",
    "aws_connection.s3.upload_file(\n",
    "    'models/evt_modern.pkl',\n",
    "    aws_connection.bucket_name, \n",
    "    'epidemiology/models/evt_modern.pkl'\n",
    ")\n"
   ]
  },
  {
   "cell_type": "code",
   "execution_count": null,
   "id": "6ab3b01c",
   "metadata": {},
   "outputs": [],
   "source": []
  }
 ],
 "metadata": {
  "kernelspec": {
   "display_name": "pitch_ml",
   "language": "python",
   "name": "python3"
  },
  "language_info": {
   "codemirror_mode": {
    "name": "ipython",
    "version": 3
   },
   "file_extension": ".py",
   "mimetype": "text/x-python",
   "name": "python",
   "nbconvert_exporter": "python",
   "pygments_lexer": "ipython3",
   "version": "3.11.10"
  }
 },
 "nbformat": 4,
 "nbformat_minor": 5
}
