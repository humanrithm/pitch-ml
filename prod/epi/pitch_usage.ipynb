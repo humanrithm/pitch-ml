{
 "cells": [
  {
   "cell_type": "code",
   "execution_count": 3,
   "id": "754aa1da",
   "metadata": {},
   "outputs": [],
   "source": [
    "import pandas as pd\n",
    "from connections import AWS\n",
    "from services.ball_tracking import clean_ball_tracking_data"
   ]
  },
  {
   "cell_type": "markdown",
   "id": "aa8f8219",
   "metadata": {},
   "source": [
    "$\\textbf{Epidemiology: Pitch Usage Aggregates}$\n",
    "\n",
    "Used as additional matching criteria. All pitch type labels are taken from statcast and saved under `epidemiology/ml/datasets/full/<injury_status>_pitch_labels.csv` in S3."
   ]
  },
  {
   "cell_type": "code",
   "execution_count": 2,
   "id": "d500dfdc",
   "metadata": {},
   "outputs": [
    {
     "name": "stdout",
     "output_type": "stream",
     "text": [
      "[AWS]: Port 5433 is free.\n",
      "[AWS]: Connected to RDS endpoint.\n"
     ]
    }
   ],
   "source": [
    "\"\"\" INITIALIZE AWS CONNECTION \"\"\"\n",
    "aws = AWS()\n",
    "aws.connect()"
   ]
  },
  {
   "cell_type": "code",
   "execution_count": 13,
   "id": "1912b7a0",
   "metadata": {},
   "outputs": [],
   "source": [
    "# load all raw statcast data (inj. and non-inj.)\n",
    "\"\"\" Ball Tracking Data \"\"\"\n",
    "# injured pitcher ball tracking data (to get date of first pitch thrown)\n",
    "inj_ball_tracking = aws.load_s3_object('epidemiology/cohorts/injured/statcast/data_0825.csv')\n",
    "inj_bt_clean = clean_ball_tracking_data(inj_ball_tracking)\n",
    "inj_bt_labels = inj_bt_clean[['pitch_id', 'pitcher', 'game_date', 'pitch_type']].dropna().reset_index(drop=True)\n",
    "\n",
    "# all ball tracking data by season\n",
    "season_range = [i for i in range(2015, 2026)]\n",
    "noninj_bt = {}\n",
    "for s in season_range:\n",
    "    # load, clean, & store ball tracking data for non-injured pitchers\n",
    "    raw_bt = aws.load_s3_object(f'epidemiology/cohorts/noninjured/bulk_statcast/{s}.csv')\n",
    "    clean_bt = clean_ball_tracking_data(raw_bt)\n",
    "    noninj_bt[s] = clean_bt[['pitch_id', 'pitcher', 'game_date', 'pitch_type']].dropna().reset_index(drop=True)"
   ]
  },
  {
   "cell_type": "code",
   "execution_count": 18,
   "id": "5484207d",
   "metadata": {},
   "outputs": [],
   "source": [
    "# aggregate all non-injured ball tracking data\n",
    "noninj_full = []\n",
    "for s in season_range:\n",
    "    # add season column\n",
    "    noninj_bt[s]['season'] = s\n",
    "    noninj_full.append(noninj_bt[s])\n",
    "\n",
    "# concatenate into df\n",
    "noninj_bt_labels = pd.concat(noninj_full).reset_index(drop=True)\n",
    "\n",
    "# add season to injured pitcher data\n",
    "inj_bt_labels['season'] = inj_bt_labels['game_date'].str[:4].astype(int)"
   ]
  },
  {
   "cell_type": "code",
   "execution_count": 19,
   "id": "159e7669",
   "metadata": {},
   "outputs": [
    {
     "name": "stdout",
     "output_type": "stream",
     "text": [
      "[AWS]: Uploaded object to s3://pitch-ml/epidemiology/ml/datasets/full/noninjured_pitch_labels.csv\n"
     ]
    }
   ],
   "source": [
    "# upload both datasets to S3\n",
    "aws.upload_to_s3(inj_bt_labels, 'epidemiology/ml/datasets/full/injured_pitch_labels.csv')\n",
    "aws.upload_to_s3(noninj_bt_labels, 'epidemiology/ml/datasets/full/noninjured_pitch_labels.csv')"
   ]
  },
  {
   "cell_type": "code",
   "execution_count": null,
   "id": "0f68615f",
   "metadata": {},
   "outputs": [],
   "source": []
  }
 ],
 "metadata": {
  "kernelspec": {
   "display_name": "pitch_ml",
   "language": "python",
   "name": "python3"
  },
  "language_info": {
   "codemirror_mode": {
    "name": "ipython",
    "version": 3
   },
   "file_extension": ".py",
   "mimetype": "text/x-python",
   "name": "python",
   "nbconvert_exporter": "python",
   "pygments_lexer": "ipython3",
   "version": "3.11.10"
  }
 },
 "nbformat": 4,
 "nbformat_minor": 5
}
